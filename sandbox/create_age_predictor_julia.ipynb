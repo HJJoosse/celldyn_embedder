{
 "cells": [
  {
   "cell_type": "code",
   "execution_count": 1,
   "metadata": {},
   "outputs": [],
   "source": [
    "using DataFrames, Arrow, UMAP, StatsBase, MLJ"
   ]
  },
  {
   "cell_type": "markdown",
   "metadata": {},
   "source": [
    "### data loading"
   ]
  },
  {
   "cell_type": "code",
   "execution_count": 2,
   "metadata": {},
   "outputs": [],
   "source": [
    "celldyn = DataFrame(Arrow.Table(\"L:/laupodteam/AIOS/Bram/data/CellDyn/celldyn_FULL_transformed_df.feather\"));"
   ]
  },
  {
   "cell_type": "code",
   "execution_count": 4,
   "metadata": {},
   "outputs": [],
   "source": [
    "meas_cols = names(celldyn)[contains.(names(celldyn),r\"c_b_|COMBO\")];\n",
    "suspect_cols = names(celldyn)[contains.(names(celldyn),r\"^(c_)?s_\")];\n",
    "mode_cols = names(celldyn)[contains.(names(celldyn),\"mode\")];\n",
    "alrt_cols = names(celldyn)[contains.(names(celldyn),\"Alrt\")];\n",
    "other_c_cols = names(celldyn)[contains.(names(celldyn),r\"^c_\")];\n",
    "usual_cols = unique(vcat(meas_cols,suspect_cols,mode_cols,alrt_cols,other_c_cols));"
   ]
  },
  {
   "cell_type": "markdown",
   "metadata": {},
   "source": [
    "### select independent variables and age"
   ]
  },
  {
   "cell_type": "code",
   "execution_count": 5,
   "metadata": {},
   "outputs": [],
   "source": [
    "X = celldyn[:,meas_cols]\n",
    "y = celldyn.age;"
   ]
  },
  {
   "cell_type": "markdown",
   "metadata": {},
   "source": [
    "### Transform independent variables to normality"
   ]
  },
  {
   "cell_type": "code",
   "execution_count": 6,
   "metadata": {},
   "outputs": [
    {
     "name": "stdout",
     "output_type": "stream",
     "text": [
      "import MLJModels ✔"
     ]
    },
    {
     "name": "stderr",
     "output_type": "stream",
     "text": [
      "┌ Info: For silent loading, specify `verbosity=0`. \n",
      "└ @ Main C:\\Users\\hjoosse3\\.julia\\packages\\MLJModels\\K5pPR\\src\\loading.jl:159\n"
     ]
    },
    {
     "name": "stdout",
     "output_type": "stream",
     "text": [
      "\n"
     ]
    }
   ],
   "source": [
    "Standardizer = @load Standardizer pkg=MLJModels\n",
    "LR = (@load LassoRegressor pkg=MLJLinearModels verbosity=0)\n",
    "lr = LR()\n",
    "XGB = (@load XGBoostRegressor pkg=XGBoost verbosity = 0)\n",
    "xgb = XGB();\n"
   ]
  },
  {
   "cell_type": "code",
   "execution_count": 7,
   "metadata": {},
   "outputs": [],
   "source": [
    "X = dropmissing(X)\n",
    "y = coerce(collect(skipmissing(y)),autotype(y));"
   ]
  },
  {
   "cell_type": "code",
   "execution_count": 8,
   "metadata": {},
   "outputs": [
    {
     "data": {
      "text/plain": [
       "DeterministicPipeline(\n",
       "  f = var\"#1#2\"(), \n",
       "  standardizer = Standardizer(\n",
       "        features = Symbol[], \n",
       "        ignore = false, \n",
       "        ordered_factor = false, \n",
       "        count = false), \n",
       "  lasso_regressor = LassoRegressor(\n",
       "        lambda = 1.0, \n",
       "        fit_intercept = true, \n",
       "        penalize_intercept = false, \n",
       "        scale_penalty_with_samples = true, \n",
       "        solver = nothing), \n",
       "  cache = true)"
      ]
     },
     "execution_count": 8,
     "metadata": {},
     "output_type": "execute_result"
    }
   ],
   "source": [
    "pipe = (X -> coerce(X, autotype(X))) |> Standardizer() |> lr"
   ]
  },
  {
   "cell_type": "code",
   "execution_count": 10,
   "metadata": {},
   "outputs": [
    {
     "data": {
      "text/plain": [
       "Machine trained 0 times; does not cache data\n",
       "  model: DeterministicTunedModel(model = DeterministicPipeline(f = #1, …), …)\n",
       "  args: \n",
       "    1:\tSource @778 ⏎ `Table{AbstractVector{Continuous}}`\n",
       "    2:\tSource @998 ⏎ `AbstractVector{Count}`\n"
      ]
     },
     "execution_count": 10,
     "metadata": {},
     "output_type": "execute_result"
    }
   ],
   "source": [
    "range_lr = range(pipe,:(lasso_regressor.lambda);lower =0.001, upper = 10, scale = :log10)\n",
    "tm_lr = TunedModel(\n",
    "    model = pipe,\n",
    "    range = range_lr,\n",
    "    resampling = CV(nfolds = 10),\n",
    "    measures=[RootMeanSquaredError(),RSquared()]\n",
    ")\n",
    "m = machine(tm_lr,X,y)"
   ]
  },
  {
   "cell_type": "code",
   "execution_count": 12,
   "metadata": {},
   "outputs": [],
   "source": [
    "e = evaluate!(m,resampling = CV(nfolds = 5),measures = [rsquared,rmse])"
   ]
  }
 ],
 "metadata": {
  "kernelspec": {
   "display_name": "Julia 1.8.0",
   "language": "julia",
   "name": "julia-1.8"
  },
  "language_info": {
   "file_extension": ".jl",
   "mimetype": "application/julia",
   "name": "julia",
   "version": "1.8.0"
  },
  "orig_nbformat": 4
 },
 "nbformat": 4,
 "nbformat_minor": 2
}
