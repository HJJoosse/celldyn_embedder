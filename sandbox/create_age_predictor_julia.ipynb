{
 "cells": [
  {
   "cell_type": "code",
   "execution_count": 7,
   "metadata": {},
   "outputs": [],
   "source": [
    "using DataFrames, Arrow, UMAP, StatsBase, MLJ"
   ]
  },
  {
   "cell_type": "markdown",
   "metadata": {},
   "source": [
    "### data loading"
   ]
  },
  {
   "cell_type": "code",
   "execution_count": 2,
   "metadata": {},
   "outputs": [],
   "source": [
    "celldyn = DataFrame(Arrow.Table(\"L:/laupodteam/AIOS/Bram/data/CellDyn/celldyn_FULL_transformed_df.feather\"));"
   ]
  },
  {
   "cell_type": "code",
   "execution_count": 3,
   "metadata": {},
   "outputs": [],
   "source": [
    "meas_cols = names(celldyn)[contains.(names(celldyn),r\"c_b_|COMBO\")];\n",
    "suspect_cols = names(celldyn)[contains.(names(celldyn),r\"^(c_)?s_\")];\n",
    "mode_cols = names(celldyn)[contains.(names(celldyn),\"mode\")];\n",
    "alrt_cols = names(celldyn)[contains.(names(celldyn),\"Alrt\")];\n",
    "other_c_cols = names(celldyn)[contains.(names(celldyn),r\"^c_\")];\n",
    "usual_cols = unique(vcat(meas_cols,suspect_cols,mode_cols,alrt_cols,other_c_cols));"
   ]
  },
  {
   "cell_type": "markdown",
   "metadata": {},
   "source": [
    "### select independent variables and age"
   ]
  },
  {
   "cell_type": "code",
   "execution_count": 9,
   "metadata": {},
   "outputs": [],
   "source": [
    "X = celldyn[:,meas_cols]\n",
    "y = celldyn.age;\n",
    "\n",
    "X = dropmissing(X)\n",
    "y = coerce(collect(skipmissing(y)),autotype(y));\n"
   ]
  },
  {
   "cell_type": "code",
   "execution_count": 6,
   "metadata": {},
   "outputs": [],
   "source": [
    "using Random"
   ]
  },
  {
   "cell_type": "code",
   "execution_count": 10,
   "metadata": {},
   "outputs": [],
   "source": [
    "idx = rand(1:size(X)[1],20000);\n",
    "X_sample = X[idx,:];\n"
   ]
  },
  {
   "cell_type": "code",
   "execution_count": 11,
   "metadata": {},
   "outputs": [
    {
     "name": "stderr",
     "output_type": "stream",
     "text": [
      "┌ Info: Training machine(UnsupervisedPipeline(f = #1, …), …).\n",
      "└ @ MLJBase C:\\Users\\hjoosse3\\.julia\\packages\\MLJBase\\6ooqv\\src\\machines.jl:496\n",
      "┌ Info: Training machine(Standardizer(features = Symbol[], …), …).\n",
      "└ @ MLJBase C:\\Users\\hjoosse3\\.julia\\packages\\MLJBase\\6ooqv\\src\\machines.jl:496\n"
     ]
    },
    {
     "data": {
      "text/plain": [
       "trained Machine; caches model-specific representations of data\n",
       "  model: UnsupervisedPipeline(f = #1, …)\n",
       "  args: \n",
       "    1:\tSource @848 ⏎ Table{AbstractVector{Continuous}}\n"
      ]
     },
     "execution_count": 11,
     "metadata": {},
     "output_type": "execute_result"
    }
   ],
   "source": [
    "pipe = (X -> coerce(X, autotype(X))) |> Standardizer()\n",
    "pipe_mach = machine(pipe,X_sample)\n",
    "fit!(pipe_mach)"
   ]
  },
  {
   "cell_type": "code",
   "execution_count": 12,
   "metadata": {},
   "outputs": [
    {
     "name": "stderr",
     "output_type": "stream",
     "text": [
      "┌ Info: For silent loading, specify `verbosity=0`. \n",
      "└ @ Main C:\\Users\\hjoosse3\\.julia\\packages\\MLJModels\\K5pPR\\src\\loading.jl:159\n"
     ]
    },
    {
     "name": "stdout",
     "output_type": "stream",
     "text": [
      "import MLJMultivariateStatsInterface ✔\n"
     ]
    },
    {
     "name": "stderr",
     "output_type": "stream",
     "text": [
      "┌ Info: Training machine(PCA(maxoutdim = 2, …), …).\n",
      "└ @ MLJBase C:\\Users\\hjoosse3\\.julia\\packages\\MLJBase\\6ooqv\\src\\machines.jl:496\n"
     ]
    }
   ],
   "source": [
    "X_scaled = MLJ.transform(pipe_mach, X_sample);\n",
    "\n",
    "\n",
    "PCA = @load PCA pkg=\"MultivariateStats\"\n",
    "pca = machine(PCA(maxoutdim = 2),X_scaled)\n",
    "\n",
    "fit!(pca)\n",
    "\n",
    "X_emb = MLJ.transform(pca,X_scaled);"
   ]
  },
  {
   "cell_type": "code",
   "execution_count": 13,
   "metadata": {},
   "outputs": [],
   "source": [
    "using Distances"
   ]
  },
  {
   "cell_type": "code",
   "execution_count": 14,
   "metadata": {},
   "outputs": [],
   "source": [
    "Dx = pairwise(Cityblock(),Matrix(X_sample),dims = 1);\n",
    "Dy = pairwise(Cityblock(),Matrix(X_emb),dims = 1);"
   ]
  },
  {
   "cell_type": "code",
   "execution_count": 23,
   "metadata": {},
   "outputs": [
    {
     "data": {
      "text/plain": [
       "0.13068142863309362"
      ]
     },
     "execution_count": 23,
     "metadata": {},
     "output_type": "execute_result"
    }
   ],
   "source": [
    "corr_dist(Dx,Dy)"
   ]
  },
  {
   "cell_type": "code",
   "execution_count": 17,
   "metadata": {},
   "outputs": [
    {
     "data": {
      "text/plain": [
       "RObject{RealSxp}\n",
       "[1] 0.8969251\n"
      ]
     },
     "execution_count": 17,
     "metadata": {},
     "output_type": "execute_result"
    }
   ],
   "source": [
    "using RCall\n",
    "\n",
    "R\"library(energy)\"; rcall(:dcor, X_emb,X_scaled)"
   ]
  },
  {
   "cell_type": "markdown",
   "metadata": {},
   "source": [
    "### Transform independent variables to normality"
   ]
  },
  {
   "cell_type": "code",
   "execution_count": 6,
   "metadata": {},
   "outputs": [
    {
     "name": "stdout",
     "output_type": "stream",
     "text": [
      "import MLJModels ✔"
     ]
    },
    {
     "name": "stderr",
     "output_type": "stream",
     "text": [
      "┌ Info: For silent loading, specify `verbosity=0`. \n",
      "└ @ Main C:\\Users\\hjoosse3\\.julia\\packages\\MLJModels\\K5pPR\\src\\loading.jl:159\n"
     ]
    },
    {
     "name": "stdout",
     "output_type": "stream",
     "text": [
      "\n"
     ]
    }
   ],
   "source": [
    "Standardizer = @load Standardizer pkg=MLJModels\n",
    "LR = (@load LassoRegressor pkg=MLJLinearModels verbosity=0)\n",
    "lr = LR()\n",
    "XGB = (@load XGBoostRegressor pkg=XGBoost verbosity = 0)\n",
    "xgb = XGB();\n"
   ]
  },
  {
   "cell_type": "code",
   "execution_count": 27,
   "metadata": {},
   "outputs": [],
   "source": [
    "X = dropmissing(X)\n",
    "y = coerce(collect(skipmissing(y)),autotype(y));"
   ]
  },
  {
   "cell_type": "code",
   "execution_count": 8,
   "metadata": {},
   "outputs": [
    {
     "data": {
      "text/plain": [
       "DeterministicPipeline(\n",
       "  f = var\"#1#2\"(), \n",
       "  standardizer = Standardizer(\n",
       "        features = Symbol[], \n",
       "        ignore = false, \n",
       "        ordered_factor = false, \n",
       "        count = false), \n",
       "  lasso_regressor = LassoRegressor(\n",
       "        lambda = 1.0, \n",
       "        fit_intercept = true, \n",
       "        penalize_intercept = false, \n",
       "        scale_penalty_with_samples = true, \n",
       "        solver = nothing), \n",
       "  cache = true)"
      ]
     },
     "execution_count": 8,
     "metadata": {},
     "output_type": "execute_result"
    }
   ],
   "source": [
    "pipe = (X -> coerce(X, autotype(X))) |> Standardizer() |> lr"
   ]
  },
  {
   "cell_type": "code",
   "execution_count": 10,
   "metadata": {},
   "outputs": [
    {
     "data": {
      "text/plain": [
       "Machine trained 0 times; does not cache data\n",
       "  model: DeterministicTunedModel(model = DeterministicPipeline(f = #1, …), …)\n",
       "  args: \n",
       "    1:\tSource @778 ⏎ `Table{AbstractVector{Continuous}}`\n",
       "    2:\tSource @998 ⏎ `AbstractVector{Count}`\n"
      ]
     },
     "execution_count": 10,
     "metadata": {},
     "output_type": "execute_result"
    }
   ],
   "source": [
    "range_lr = range(pipe,:(lasso_regressor.lambda);lower =0.001, upper = 10, scale = :log10)\n",
    "tm_lr = TunedModel(\n",
    "    model = pipe,\n",
    "    range = range_lr,\n",
    "    resampling = CV(nfolds = 10),\n",
    "    measures=[RootMeanSquaredError(),RSquared()]\n",
    ")\n",
    "m = machine(tm_lr,X,y)"
   ]
  },
  {
   "cell_type": "code",
   "execution_count": 12,
   "metadata": {},
   "outputs": [
    {
     "name": "stderr",
     "output_type": "stream",
     "text": [
      "\u001b[33mEvaluating over 5 folds: 100%[=========================] Time: 15:38:07\u001b[39m\n"
     ]
    },
    {
     "data": {
      "text/plain": [
       "PerformanceEvaluation object with these fields:\n",
       "  measure, operation, measurement, per_fold,\n",
       "  per_observation, fitted_params_per_fold,\n",
       "  report_per_fold, train_test_rows\n",
       "Extract:\n",
       "┌────────────────────────┬───────────┬─────────────┬─────────┬──────────────────\n",
       "│\u001b[22m measure                \u001b[0m│\u001b[22m operation \u001b[0m│\u001b[22m measurement \u001b[0m│\u001b[22m 1.96*SE \u001b[0m│\u001b[22m per_fold       \u001b[0m ⋯\n",
       "├────────────────────────┼───────────┼─────────────┼─────────┼──────────────────\n",
       "│ RSquared()             │ predict   │ 0.218       │ 0.0956  │ [0.248, 0.0569, ⋯\n",
       "│ RootMeanSquaredError() │ predict   │ 21.2        │ 1.8     │ [24.3, 20.1, 19 ⋯\n",
       "└────────────────────────┴───────────┴─────────────┴─────────┴──────────────────\n",
       "\u001b[36m                                                                1 column omitted\u001b[0m\n"
      ]
     },
     "execution_count": 12,
     "metadata": {},
     "output_type": "execute_result"
    }
   ],
   "source": [
    "e = evaluate!(m,resampling = CV(nfolds = 5),measures = [rsquared,rmse])"
   ]
  }
 ],
 "metadata": {
  "kernelspec": {
   "display_name": "Julia 1.8.0",
   "language": "julia",
   "name": "julia-1.8"
  },
  "language_info": {
   "file_extension": ".jl",
   "mimetype": "application/julia",
   "name": "julia",
   "version": "1.8.0"
  },
  "orig_nbformat": 4
 },
 "nbformat": 4,
 "nbformat_minor": 2
}
