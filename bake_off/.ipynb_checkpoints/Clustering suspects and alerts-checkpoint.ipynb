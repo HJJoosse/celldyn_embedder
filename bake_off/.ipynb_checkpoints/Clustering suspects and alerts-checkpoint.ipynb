{
 "cells": [
  {
   "cell_type": "code",
   "execution_count": null,
   "id": "456fef02",
   "metadata": {},
   "outputs": [],
   "source": [
    "import sys\n",
    "import os\n",
    "import pandas as pd\n",
    "import numpy as np\n",
    "\n",
    "import matplotlib.pyplot as plt\n",
    "import seaborn as sns\n",
    "\n",
    "from sklearn.pipeline import Pipeline\n",
    "from sklearn.decomposition import PCA\n",
    "from sklearn.cluster import KMeans, AgglomerativeClustering, dbscan\n",
    "\n",
    "import hdbscan\n",
    "\n",
    "%matplotlib inline"
   ]
  },
  {
   "cell_type": "code",
   "execution_count": null,
   "id": "103ed6f8",
   "metadata": {},
   "outputs": [],
   "source": [
    "\n",
    "def sigmoid(x):\n",
    "    #return np.tanh(x)\n",
    "    return 1/(1+np.exp(-x))\n",
    "\n",
    "def sigmoid_log(x):\n",
    "    return sigmoid(np.log(x))"
   ]
  },
  {
   "cell_type": "code",
   "execution_count": null,
   "id": "b84ab335",
   "metadata": {
    "scrolled": true
   },
   "outputs": [],
   "source": [
    "os.chdir(\"L:/lab_research/RES-Folder-UPOD/Celldynclustering\")\n",
    "celldyn = pd.read_sas(\"E_ResearchData/2_ResearchData/celldyn.sas7bdat\")"
   ]
  },
  {
   "cell_type": "code",
   "execution_count": null,
   "id": "18d45074",
   "metadata": {
    "scrolled": true
   },
   "outputs": [],
   "source": [
    "celldyn['afnamejaar']  = pd.to_datetime(celldyn.afname_dt).dt.year"
   ]
  },
  {
   "cell_type": "code",
   "execution_count": 78,
   "id": "4c55148c",
   "metadata": {},
   "outputs": [],
   "source": [
    "meas_columns = [c for c in celldyn.columns if 'c_b' in c]\n",
    "mode_columns = [c for c in celldyn.columns if 'c_m' in c]\n",
    "alrt_columns = [c for c in celldyn.columns if 'alrt' in c.lower()]\n",
    "c_s_columns = [c for c in celldyn if 'c_s_' in c.lower()]"
   ]
  },
  {
   "cell_type": "code",
   "execution_count": 79,
   "id": "63bca595",
   "metadata": {},
   "outputs": [
    {
     "data": {
      "text/plain": [
       "0           True\n",
       "1           True\n",
       "2           True\n",
       "3           True\n",
       "4          False\n",
       "           ...  \n",
       "3107031    False\n",
       "3107032    False\n",
       "3107033    False\n",
       "3107034     True\n",
       "3107035     True\n",
       "Length: 3099542, dtype: bool"
      ]
     },
     "execution_count": 79,
     "metadata": {},
     "output_type": "execute_result"
    }
   ],
   "source": [
    "np.any(celldyn[c_s_columns] == 0,axis = 1)"
   ]
  },
  {
   "cell_type": "code",
   "execution_count": 80,
   "id": "6cef3124",
   "metadata": {},
   "outputs": [
    {
     "data": {
      "text/plain": [
       "['c_s_retc', 'c_s_pretc', 'c_s_irf']"
      ]
     },
     "execution_count": 80,
     "metadata": {},
     "output_type": "execute_result"
    }
   ],
   "source": [
    "c_s_columns[-3:]"
   ]
  },
  {
   "cell_type": "code",
   "execution_count": 87,
   "id": "d94f03e3",
   "metadata": {},
   "outputs": [
    {
     "name": "stdout",
     "output_type": "stream",
     "text": [
      "c_s_wbc 152\n",
      "c_s_wvf 152\n",
      "c_s_neu 152\n",
      "c_s_seg 152\n",
      "c_s_bnd 152\n",
      "c_s_ig 152\n",
      "c_s_lym 152\n",
      "c_s_lyme 152\n",
      "c_s_vlym 152\n",
      "c_s_mon 152\n",
      "c_s_mone 152\n",
      "c_s_blst 152\n",
      "c_s_eos 152\n",
      "c_s_bas 152\n",
      "c_s_nrbc 152\n",
      "c_s_pneu 152\n",
      "c_s_pseg 152\n",
      "c_s_pbnd 152\n",
      "c_s_pig 152\n",
      "c_s_plym 152\n",
      "c_s_plyme 152\n",
      "c_s_pvlym 152\n",
      "c_s_pmon 152\n",
      "c_s_pmone 152\n",
      "c_s_pblst 152\n",
      "c_s_peos 152\n",
      "c_s_pbas 152\n",
      "c_s_pnrbc 152\n",
      "c_s_rbci 152\n",
      "c_s_rbco 152\n",
      "c_s_hb 152\n",
      "c_s_mcv 152\n",
      "c_s_rdw 152\n",
      "c_s_mch 152\n",
      "c_s_mchc 152\n",
      "c_s_ht 152\n",
      "c_s_plt 155\n",
      "c_s_plto 152\n",
      "c_s_plti 152\n",
      "c_s_mpv 152\n",
      "c_s_pct 152\n",
      "c_s_pdw 152\n",
      "c_s_retc 613135\n",
      "c_s_pretc 613135\n",
      "c_s_irf 613135\n"
     ]
    }
   ],
   "source": [
    "for c in c_s_columns:\n",
    "    print(c,len(celldyn.loc[celldyn[c] == 0]))"
   ]
  },
  {
   "cell_type": "code",
   "execution_count": 82,
   "id": "6a9240f0",
   "metadata": {},
   "outputs": [
    {
     "data": {
      "text/plain": [
       "0.0"
      ]
     },
     "execution_count": 82,
     "metadata": {},
     "output_type": "execute_result"
    }
   ],
   "source": [
    "celldyn.loc[celldyn.c_s_rdw == 0][c_s_columns].sum(axis = 1).sum()"
   ]
  },
  {
   "cell_type": "code",
   "execution_count": 234,
   "id": "58669f78",
   "metadata": {},
   "outputs": [
    {
     "data": {
      "text/html": [
       "<div>\n",
       "<style scoped>\n",
       "    .dataframe tbody tr th:only-of-type {\n",
       "        vertical-align: middle;\n",
       "    }\n",
       "\n",
       "    .dataframe tbody tr th {\n",
       "        vertical-align: top;\n",
       "    }\n",
       "\n",
       "    .dataframe thead th {\n",
       "        text-align: right;\n",
       "    }\n",
       "</style>\n",
       "<table border=\"1\" class=\"dataframe\">\n",
       "  <thead>\n",
       "    <tr style=\"text-align: right;\">\n",
       "      <th></th>\n",
       "      <th>c_s_wbc</th>\n",
       "      <th>c_s_wvf</th>\n",
       "      <th>c_s_neu</th>\n",
       "      <th>c_s_seg</th>\n",
       "      <th>c_s_bnd</th>\n",
       "      <th>c_s_ig</th>\n",
       "      <th>c_s_lym</th>\n",
       "      <th>c_s_lyme</th>\n",
       "      <th>c_s_vlym</th>\n",
       "      <th>c_s_mon</th>\n",
       "      <th>...</th>\n",
       "      <th>c_s_ht</th>\n",
       "      <th>c_s_plt</th>\n",
       "      <th>c_s_plto</th>\n",
       "      <th>c_s_plti</th>\n",
       "      <th>c_s_mpv</th>\n",
       "      <th>c_s_pct</th>\n",
       "      <th>c_s_pdw</th>\n",
       "      <th>c_s_retc</th>\n",
       "      <th>c_s_pretc</th>\n",
       "      <th>c_s_irf</th>\n",
       "    </tr>\n",
       "  </thead>\n",
       "  <tbody>\n",
       "  </tbody>\n",
       "</table>\n",
       "<p>0 rows × 45 columns</p>\n",
       "</div>"
      ],
      "text/plain": [
       "Empty DataFrame\n",
       "Columns: [c_s_wbc, c_s_wvf, c_s_neu, c_s_seg, c_s_bnd, c_s_ig, c_s_lym, c_s_lyme, c_s_vlym, c_s_mon, c_s_mone, c_s_blst, c_s_eos, c_s_bas, c_s_nrbc, c_s_pneu, c_s_pseg, c_s_pbnd, c_s_pig, c_s_plym, c_s_plyme, c_s_pvlym, c_s_pmon, c_s_pmone, c_s_pblst, c_s_peos, c_s_pbas, c_s_pnrbc, c_s_rbci, c_s_rbco, c_s_hb, c_s_mcv, c_s_rdw, c_s_mch, c_s_mchc, c_s_ht, c_s_plt, c_s_plto, c_s_plti, c_s_mpv, c_s_pct, c_s_pdw, c_s_retc, c_s_pretc, c_s_irf]\n",
       "Index: []\n",
       "\n",
       "[0 rows x 45 columns]"
      ]
     },
     "execution_count": 234,
     "metadata": {},
     "output_type": "execute_result"
    }
   ],
   "source": [
    "celldyn.loc[np.any(celldyn[c_s_columns] == -1,axis = 1)][c_s_columns]"
   ]
  },
  {
   "cell_type": "code",
   "execution_count": 84,
   "id": "d3ec9071",
   "metadata": {
    "scrolled": true
   },
   "outputs": [],
   "source": [
    "cluster_columns = c_s_columns+alrt_columns\n",
    "celldyn = celldyn[cluster_columns].dropna()\n",
    "clust_data = celldyn.sample(250000)"
   ]
  },
  {
   "cell_type": "markdown",
   "id": "cccec623",
   "metadata": {},
   "source": [
    "### try ARM"
   ]
  },
  {
   "cell_type": "code",
   "execution_count": 86,
   "id": "b9dacc3f",
   "metadata": {},
   "outputs": [],
   "source": [
    "fin_c_s_cols = ['c_s_wbc', 'c_s_wvf', 'c_s_neu', 'c_s_seg', 'c_s_lym','c_s_vlym', 'c_s_mon', 'c_s_mone', 'c_s_blst',\n",
    "       'c_s_eos', 'c_s_bas', 'c_s_nrbc', 'c_s_rbci', 'c_s_rbco', 'c_s_hb', 'c_s_mcv', 'c_s_rdw', 'c_s_mch',\n",
    "       'c_s_mchc', 'c_s_ht', 'c_s_plt', 'c_s_plto', 'c_s_plti', 'c_s_mpv',\n",
    "       'c_s_pct', 'c_s_pdw', 'c_s_retc', 'c_s_pretc', 'c_s_irf']"
   ]
  },
  {
   "cell_type": "code",
   "execution_count": 165,
   "id": "f0c1bc65",
   "metadata": {},
   "outputs": [],
   "source": [
    "with open(\"E_ResearchData/2_ResearchData/arm_index_to_take.txt\",'r') as f:\n",
    "    index_to_take = [int(x) for x in f.read().split(\"\\n\")[:-1]]"
   ]
  },
  {
   "cell_type": "markdown",
   "id": "9607a7db",
   "metadata": {},
   "source": [
    "### c_s_ != 1\n",
    "\n",
    "\n",
    "Bekijk associaties tussen alert en suspect vlaggen als ze niet OK zijn (c_s_ != 1, alrt == 1)"
   ]
  },
  {
   "cell_type": "code",
   "execution_count": 224,
   "id": "7a81c444",
   "metadata": {},
   "outputs": [
    {
     "data": {
      "text/plain": [
       "{('c_s_pneu',): ('c_s_neu',),\n",
       " ('c_Alrt_bnd',): ('c_s_neu', 'c_s_pneu'),\n",
       " ('c_Alrt_ig',): ('c_s_neu', 'c_s_pneu'),\n",
       " ('c_s_plym',): ('c_s_lym',),\n",
       " ('c_Alrt_vlym',): ('c_s_lym', 'c_s_plym'),\n",
       " ('c_s_pmon',): ('c_s_mon',),\n",
       " ('c_Alrt_blst',): ('c_s_mon', 'c_s_pmon'),\n",
       " ('c_s_pnrbc',): ('c_s_nrbc',),\n",
       " ('c_s_rbci',): ('c_s_retc',),\n",
       " ('c_s_irf',): ('c_s_pretc',),\n",
       " ('c_s_mon', 'c_s_pneu'): ('c_s_neu', 'c_s_pmon'),\n",
       " ('c_s_neu', 'c_s_pmon'): ('c_s_mon', 'c_s_pneu'),\n",
       " ('c_s_pneu', 'c_s_pmon'): ('c_s_mon', 'c_s_neu'),\n",
       " ('c_s_retc', 'c_s_pneu'): ('c_s_neu',),\n",
       " ('c_s_pretc', 'c_s_pneu'): ('c_s_neu',),\n",
       " ('c_s_pneu', 'c_s_irf'): ('c_s_neu', 'c_s_pretc'),\n",
       " ('c_s_neu', 'c_Alrt_bnd'): ('c_s_pneu',),\n",
       " ('c_Alrt_bnd', 'c_s_pneu'): ('c_s_neu',),\n",
       " ('c_s_neu', 'c_Alrt_ig'): ('c_s_pneu',),\n",
       " ('c_Alrt_ig', 'c_s_pneu'): ('c_s_neu',),\n",
       " ('c_s_neu', 'c_s_irf'): ('c_s_pretc',),\n",
       " ('c_Alrt_bnd', 'c_Alrt_ig'): ('c_s_neu', 'c_s_pneu'),\n",
       " ('c_s_mon', 'c_s_plym'): ('c_s_lym', 'c_s_pmon'),\n",
       " ('c_s_lym', 'c_s_pmon'): ('c_s_mon', 'c_s_plym'),\n",
       " ('c_s_pmon', 'c_s_plym'): ('c_s_mon', 'c_s_lym'),\n",
       " ('c_s_lym', 'c_Alrt_vlym'): ('c_s_plym',),\n",
       " ('c_Alrt_vlym', 'c_s_plym'): ('c_s_lym',),\n",
       " ('c_s_mon', 'c_Alrt_blst'): ('c_s_pmon',),\n",
       " ('c_Alrt_blst', 'c_s_pmon'): ('c_s_mon',),\n",
       " ('c_s_mpv', 'c_s_pdw'): ('c_s_pct',),\n",
       " ('c_s_pdw', 'c_s_pct'): ('c_s_mpv',),\n",
       " ('c_s_retc', 'c_s_irf'): ('c_s_pretc',),\n",
       " ('c_s_mon', 'c_s_neu', 'c_s_pneu'): ('c_s_pmon',),\n",
       " ('c_s_mon', 'c_s_neu', 'c_s_pmon'): ('c_s_pneu',),\n",
       " ('c_s_neu', 'c_s_pneu', 'c_s_pmon'): ('c_s_mon',),\n",
       " ('c_s_mon', 'c_s_pneu', 'c_s_pmon'): ('c_s_neu',),\n",
       " ('c_s_retc', 'c_s_pretc', 'c_s_pneu'): ('c_s_neu',),\n",
       " ('c_s_retc', 'c_s_pneu', 'c_s_irf'): ('c_s_neu', 'c_s_pretc'),\n",
       " ('c_s_neu', 'c_s_pneu', 'c_s_irf'): ('c_s_pretc',),\n",
       " ('c_s_pretc', 'c_s_pneu', 'c_s_irf'): ('c_s_neu',),\n",
       " ('c_s_neu', 'c_Alrt_bnd', 'c_Alrt_ig'): ('c_s_pneu',),\n",
       " ('c_Alrt_bnd', 'c_Alrt_ig', 'c_s_pneu'): ('c_s_neu',),\n",
       " ('c_s_retc', 'c_s_neu', 'c_s_irf'): ('c_s_pretc',),\n",
       " ('c_s_mon', 'c_s_lym', 'c_s_pmon'): ('c_s_plym',),\n",
       " ('c_s_mon', 'c_s_lym', 'c_s_plym'): ('c_s_pmon',),\n",
       " ('c_s_mon', 'c_s_pmon', 'c_s_plym'): ('c_s_lym',),\n",
       " ('c_s_lym', 'c_s_pmon', 'c_s_plym'): ('c_s_mon',),\n",
       " ('c_s_retc', 'c_s_neu', 'c_s_pneu', 'c_s_irf'): ('c_s_pretc',),\n",
       " ('c_s_retc', 'c_s_pretc', 'c_s_pneu', 'c_s_irf'): ('c_s_neu',)}"
      ]
     },
     "execution_count": 224,
     "metadata": {},
     "output_type": "execute_result"
    }
   ],
   "source": [
    "arm_data = celldyn.loc[index_to_take]\n",
    "arm_data[alrt_columns] = np.where(arm_data[alrt_columns] == 1,True,False)\n",
    "arm_data[c_s_columns] = np.where(arm_data[c_s_columns] != 1,True,False)\n",
    "frequent_candidates = apriori(arm_data[c_s_columns+alrt_columns], min_support=0.05, use_colnames=True,low_memory=True)\n",
    "\n",
    "rules = association_rules(frequent_candidates, metric=\"lift\", min_threshold=1)\n",
    "interesting_rules = rules[ (rules['confidence'] == 1) ]\n",
    "c_s_isno1 = {tuple(k):tuple(v) for k,v in zip(interesting_rules.antecedents,interesting_rules.consequents)}\n",
    "c_s_isno1"
   ]
  },
  {
   "cell_type": "markdown",
   "id": "6bfea7f3",
   "metadata": {},
   "source": [
    "### c_s_ = 2\n",
    "\n",
    "Check als c_s_ kolommen 2 geven, dit ook gelijk 2 is bij andere c_s_ kolommen"
   ]
  },
  {
   "cell_type": "code",
   "execution_count": 219,
   "id": "fb054516",
   "metadata": {},
   "outputs": [
    {
     "data": {
      "text/plain": [
       "{}"
      ]
     },
     "execution_count": 219,
     "metadata": {},
     "output_type": "execute_result"
    }
   ],
   "source": [
    "arm_data = celldyn.loc[index_to_take]\n",
    "arm_data[alrt_columns] = np.where(arm_data[alrt_columns] == 1,True,False)\n",
    "arm_data[c_s_columns] = np.where(arm_data[c_s_columns] == 2,True,False)\n",
    "frequent_candidates = apriori(arm_data[c_s_columns+alrt_columns], min_support=0.05, use_colnames=True,low_memory=True)\n",
    "\n",
    "rules = association_rules(frequent_candidates, metric=\"lift\", min_threshold=1)\n",
    "interesting_rules = rules[ (rules['confidence'] == 1) ]\n",
    "c_s_is2 = {tuple(k):tuple(v) for k,v in zip(interesting_rules.antecedents,interesting_rules.consequents)}\n",
    "c_s_is2"
   ]
  },
  {
   "cell_type": "markdown",
   "id": "2a93e94f",
   "metadata": {},
   "source": [
    "### c_s = 4\n",
    "\n",
    "Check als c_s_ kolommen 4 geven, dit ook gelijk 4 is bij andere c_s_ kolommen"
   ]
  },
  {
   "cell_type": "code",
   "execution_count": 222,
   "id": "fde6f82f",
   "metadata": {},
   "outputs": [
    {
     "data": {
      "text/plain": [
       "{}"
      ]
     },
     "execution_count": 222,
     "metadata": {},
     "output_type": "execute_result"
    }
   ],
   "source": [
    "arm_data = celldyn.loc[index_to_take]\n",
    "arm_data[alrt_columns] = np.where(arm_data[alrt_columns] == 1,True,False)\n",
    "arm_data[c_s_columns] = np.where(arm_data[c_s_columns] == 4,True,False)\n",
    "frequent_candidates = apriori(arm_data[c_s_columns+alrt_columns], min_support=0.05, use_colnames=True,low_memory=True)\n",
    "\n",
    "rules = association_rules(frequent_candidates, metric=\"lift\", min_threshold=1)\n",
    "interesting_rules = rules[ (rules['confidence'] == 1) ]\n",
    "c_s_is4 = {tuple(k):tuple(v) for k,v in zip(interesting_rules.antecedents,interesting_rules.consequents)}\n",
    "c_s_is4"
   ]
  },
  {
   "cell_type": "markdown",
   "id": "7ad6ff38",
   "metadata": {},
   "source": [
    "### c_s = 5\n",
    "\n",
    "Check als c_s_ kolommen 5 geven, dit ook gelijk 5 is bij andere c_s_ kolommen"
   ]
  },
  {
   "cell_type": "code",
   "execution_count": 223,
   "id": "9ddc4b69",
   "metadata": {
    "scrolled": false
   },
   "outputs": [
    {
     "data": {
      "text/plain": [
       "{('c_s_neu',): ('c_s_pneu',),\n",
       " ('c_s_pneu',): ('c_s_neu',),\n",
       " ('c_s_mon',): ('c_Alrt_blst', 'c_s_pmon'),\n",
       " ('c_s_pmon',): ('c_s_mon', 'c_Alrt_blst'),\n",
       " ('c_s_neu', 'c_Alrt_bnd'): ('c_s_pneu',),\n",
       " ('c_Alrt_bnd', 'c_s_pneu'): ('c_s_neu',),\n",
       " ('c_s_neu', 'c_Alrt_ig'): ('c_s_pneu',),\n",
       " ('c_Alrt_ig', 'c_s_pneu'): ('c_s_neu',),\n",
       " ('c_s_mon', 'c_Alrt_blst'): ('c_s_pmon',),\n",
       " ('c_s_mon', 'c_s_pmon'): ('c_Alrt_blst',),\n",
       " ('c_Alrt_blst', 'c_s_pmon'): ('c_s_mon',),\n",
       " ('c_s_neu', 'c_Alrt_bnd', 'c_Alrt_ig'): ('c_s_pneu',),\n",
       " ('c_Alrt_bnd', 'c_Alrt_ig', 'c_s_pneu'): ('c_s_neu',)}"
      ]
     },
     "execution_count": 223,
     "metadata": {},
     "output_type": "execute_result"
    }
   ],
   "source": [
    "arm_data = celldyn.loc[index_to_take]\n",
    "arm_data[alrt_columns] = np.where(arm_data[alrt_columns] == 1,True,False)\n",
    "arm_data[c_s_columns] = np.where(arm_data[c_s_columns] == 5,True,False)\n",
    "frequent_candidates = apriori(arm_data[c_s_columns+alrt_columns], min_support=0.05, use_colnames=True,low_memory=True)\n",
    "\n",
    "rules = association_rules(frequent_candidates, metric=\"lift\", min_threshold=1)\n",
    "interesting_rules = rules[ (rules['confidence'] == 1) ]\n",
    "c_s_is5 = {tuple(k):tuple(v) for k,v in zip(interesting_rules.antecedents,interesting_rules.consequents)}\n",
    "c_s_is5"
   ]
  },
  {
   "cell_type": "markdown",
   "id": "68f28dec",
   "metadata": {},
   "source": [
    "### try permutations of c_s_ = {2,4,5}.\n",
    "Set 1 on 2,4 or 5, and see if other columns not on that number combine\n",
    "SO see if you put 1 column on 2, other columns are always 4 or 5, and do this the other way around as well"
   ]
  },
  {
   "cell_type": "code",
   "execution_count": 230,
   "id": "e66aa1ea",
   "metadata": {
    "scrolled": false
   },
   "outputs": [
    {
     "name": "stdout",
     "output_type": "stream",
     "text": [
      "c_s_wbc {}\n",
      "c_s_wvf {}\n",
      "c_s_neu {}\n",
      "c_s_seg {}\n",
      "c_s_bnd {}\n",
      "c_s_ig {}\n",
      "c_s_lym {}\n",
      "c_s_lyme {}\n",
      "c_s_vlym {}\n",
      "c_s_mon {}\n",
      "c_s_mone {}\n",
      "c_s_blst {}\n",
      "c_s_eos {}\n",
      "c_s_bas {}\n",
      "c_s_nrbc {}\n",
      "c_s_pneu {}\n",
      "c_s_pseg {}\n",
      "c_s_pbnd {}\n",
      "c_s_pig {}\n",
      "c_s_plym {}\n",
      "c_s_plyme {}\n",
      "c_s_pvlym {}\n",
      "c_s_pmon {}\n",
      "c_s_pmone {}\n",
      "c_s_pblst {}\n",
      "c_s_peos {}\n",
      "c_s_pbas {}\n",
      "c_s_pnrbc {}\n",
      "c_s_rbci {}\n",
      "c_s_rbco {}\n",
      "c_s_hb {}\n",
      "c_s_mcv {}\n",
      "c_s_rdw {}\n",
      "c_s_mch {}\n",
      "c_s_mchc {}\n",
      "c_s_ht {}\n",
      "c_s_plt {}\n",
      "c_s_plto {}\n",
      "c_s_plti {}\n",
      "c_s_mpv {}\n",
      "c_s_pct {}\n",
      "c_s_pdw {}\n",
      "c_s_retc {}\n",
      "c_s_pretc {}\n",
      "c_s_irf {}\n"
     ]
    }
   ],
   "source": [
    "for col in c_s_columns:\n",
    "    arm_data = celldyn.loc[index_to_take]\n",
    "    arm_data[alrt_columns] = np.where(arm_data[alrt_columns] == 1,True,False)\n",
    "    arm_data[col] = np.where(arm_data[col] == 5,True,False)\n",
    "    other_cols = [c for c in c_s_columns if c != col]\n",
    "    arm_data[other_cols] = np.where(arm_data[other_cols] == 4,True,False)\n",
    "    frequent_candidates = apriori(arm_data[c_s_columns+alrt_columns], min_support=0.05, use_colnames=True,low_memory=True)\n",
    "    rules = association_rules(frequent_candidates, metric=\"lift\", min_threshold=1)\n",
    "    interesting_rules = rules[ (rules['confidence'] == 1) ]\n",
    "    print(col,{tuple(k):tuple(v) for k,v in zip(interesting_rules.antecedents,interesting_rules.consequents) if tuple(k) not in c_s_is4.keys() and tuple(k) not in c_s_is5.keys()})"
   ]
  },
  {
   "cell_type": "markdown",
   "id": "d1f69807",
   "metadata": {},
   "source": [
    "### try PCA"
   ]
  },
  {
   "cell_type": "code",
   "execution_count": null,
   "id": "635eee86",
   "metadata": {
    "scrolled": false
   },
   "outputs": [],
   "source": [
    "var_ex = []\n",
    "for i in range(2,20):\n",
    "    pca = PCA(n_components=i)\n",
    "    pca.fit(celldyn[cluster_columns].dropna())\n",
    "    var_ex.append(pca.explained_variance_)\n",
    "    \n",
    "    \n"
   ]
  },
  {
   "cell_type": "code",
   "execution_count": null,
   "id": "98b193c7",
   "metadata": {},
   "outputs": [],
   "source": [
    "pca = PCA(n_components = 8)\n",
    "transformed_data = pca.fit_transform(clust_data.dropna())"
   ]
  },
  {
   "cell_type": "code",
   "execution_count": null,
   "id": "29ed063d",
   "metadata": {},
   "outputs": [],
   "source": [
    "km = KMeans(n_clusters=3).fit(transformed_data)"
   ]
  },
  {
   "cell_type": "code",
   "execution_count": null,
   "id": "42a71f5d",
   "metadata": {},
   "outputs": [],
   "source": [
    "celldyn = celldyn.dropna()\n",
    "celldyn['km_labels']  = km.labels_"
   ]
  },
  {
   "cell_type": "markdown",
   "id": "025a8c48",
   "metadata": {},
   "source": [
    "### check clusters after pca"
   ]
  },
  {
   "cell_type": "code",
   "execution_count": null,
   "id": "1f4913cd",
   "metadata": {},
   "outputs": [],
   "source": [
    "plot_df = pd.DataFrame(data=transformed_data, columns=[f'd_{i}' for i in range(8)], index=clust_data.index)\n",
    "plot_df['labels'] = hdb_cl.labels_\n",
    "#reduce_dim = min([6, reduce_dim])\n"
   ]
  },
  {
   "cell_type": "code",
   "execution_count": null,
   "id": "12b16901",
   "metadata": {},
   "outputs": [],
   "source": [
    "cols_to_plot = ['c_s_wbc', 'c_s_wvf', 'c_s_neu', 'c_s_seg', 'c_s_lym','c_s_vlym', 'c_s_mon', 'c_s_mone', 'c_s_blst',\n",
    "       'c_s_eos', 'c_s_bas', 'c_s_nrbc','c_s_rbci', 'c_s_rbco', 'c_s_hb', 'c_s_mcv', 'c_s_rdw', 'c_s_mch','c_s_mchc', 'c_s_ht',\n",
    "        'c_s_plt', 'c_s_plto', 'c_s_plti', 'c_s_mpv','c_s_pct', 'c_s_pdw', 'c_s_retc', 'c_s_pretc', 'c_s_irf']"
   ]
  },
  {
   "cell_type": "code",
   "execution_count": null,
   "id": "2607e488",
   "metadata": {},
   "outputs": [],
   "source": [
    "pd.set_option(\"display.max_columns\",50)\n",
    "clust_data[c_s_columns].corr()"
   ]
  },
  {
   "cell_type": "code",
   "execution_count": null,
   "id": "f03cea0f",
   "metadata": {},
   "outputs": [],
   "source": [
    "len(cols_to_plot)"
   ]
  },
  {
   "cell_type": "code",
   "execution_count": null,
   "id": "da4ccb31",
   "metadata": {
    "scrolled": false
   },
   "outputs": [],
   "source": [
    "num_rows = int(np.ceil(len(cols_to_plot)*len(cols_to_plot)/3))\n",
    "fig, ax = plt.subplots(ncols=3, nrows=num_rows, figsize=(18, 3*num_rows))\n",
    "k = 0\n",
    "rest_cols = cols_to_plot[1:]\n",
    "\n",
    "for ki in range(len(cols_to_plot)):\n",
    "    rest_cols = rest_cols[1:]\n",
    "    for kj in range(len(rest_cols)): \n",
    "        i = int(k/3)\n",
    "        j = k%3\n",
    "        if num_rows > 1:\n",
    "            sns.scatterplot(data=clust_data.sample(20000), x=cols_to_plot[ki], y=rest_cols[kj],\n",
    "                            ax=ax[i,j], \n",
    "                            hue = 'labels',alpha=0.5)\n",
    "        else:\n",
    "            sns.scatterplot(data=clust_data.sample(20000),x=cols_to_plot[ki], y=rest_cols[kj],\n",
    "                            ax=ax[k], \n",
    "                             hue = 'labels',alpha=0.5)\n",
    "        k += 1\n",
    "        "
   ]
  }
 ],
 "metadata": {
  "kernelspec": {
   "display_name": "base",
   "language": "python",
   "name": "base"
  },
  "language_info": {
   "codemirror_mode": {
    "name": "ipython",
    "version": 3
   },
   "file_extension": ".py",
   "mimetype": "text/x-python",
   "name": "python",
   "nbconvert_exporter": "python",
   "pygments_lexer": "ipython3",
   "version": "3.8.10"
  }
 },
 "nbformat": 4,
 "nbformat_minor": 5
}
