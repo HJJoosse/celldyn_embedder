{
 "cells": [
  {
   "cell_type": "code",
   "execution_count": 28,
   "metadata": {},
   "outputs": [
    {
     "name": "stdout",
     "output_type": "stream",
     "text": [
      "The autoreload extension is already loaded. To reload it, use:\n",
      "  %reload_ext autoreload\n"
     ]
    }
   ],
   "source": [
    "%load_ext autoreload\n",
    "\n",
    "%autoreload 2\n",
    "\n",
    "import os\n",
    "\n",
    "os.chdir('C:/Users/Huibert-Jan/Documents/Werk/UMCU/celldyn_embedder')\n",
    "\n",
    "from utils import poincarre_dist\n",
    "import quality_metrics\n",
    "import numpy as np\n",
    "import numpy.linalg as la\n",
    "import torch \n",
    "import dcor\n",
    "\n",
    "from scipy.spatial import distance\n",
    "from numba import njit"
   ]
  },
  {
   "cell_type": "code",
   "execution_count": 22,
   "metadata": {},
   "outputs": [],
   "source": [
    "poincarre_dist_np = lambda x,y: np.arccosh(\\\n",
    "    1 + 2*(\\\n",
    "        la.norm(x-y, ord=1)/((1-la.norm(x, ord=1))*(1-la.norm(y, ord=1)))\n",
    "        )\n",
    "    )\n",
    "\n",
    "@njit(parallel = True)\n",
    "def poincarre_dist_nb(x,y):\n",
    "    return np.arccosh(\\\n",
    "    1 + 2*(\\\n",
    "        la.norm(x-y, ord=1)/((1-la.norm(x, ord=1))*(1-la.norm(y, ord=1)))\n",
    "        )\n",
    "    )"
   ]
  },
  {
   "cell_type": "code",
   "execution_count": 41,
   "metadata": {},
   "outputs": [],
   "source": [
    "X = np.random.normal(0,10,(1000,10))\n"
   ]
  },
  {
   "cell_type": "code",
   "execution_count": 47,
   "metadata": {},
   "outputs": [],
   "source": [
    "from sklearn.metrics.pairwise import pairwise_kernels\n",
    "from sklearn.metrics import pairwise_distances"
   ]
  },
  {
   "cell_type": "code",
   "execution_count": null,
   "metadata": {},
   "outputs": [],
   "source": [
    "pairwise_distances(X,metric=poincarre_dist_np,n_jobs = -1)"
   ]
  },
  {
   "cell_type": "code",
   "execution_count": null,
   "metadata": {},
   "outputs": [],
   "source": [
    "pairwise_distances(X,metric=poincarre_dist_nb,n_jobs = -1)"
   ]
  },
  {
   "cell_type": "code",
   "execution_count": 49,
   "metadata": {},
   "outputs": [],
   "source": [
    "pairwise_distances(X,metric=poincarre_dist,n_jobs = -1)"
   ]
  }
 ],
 "metadata": {
  "kernelspec": {
   "display_name": "Python 3.10.4 ('embcelldyn')",
   "language": "python",
   "name": "python3"
  },
  "language_info": {
   "codemirror_mode": {
    "name": "ipython",
    "version": 3
   },
   "file_extension": ".py",
   "mimetype": "text/x-python",
   "name": "python",
   "nbconvert_exporter": "python",
   "pygments_lexer": "ipython3",
   "version": "3.10.5"
  },
  "orig_nbformat": 4,
  "vscode": {
   "interpreter": {
    "hash": "7eeb94e6cc4ae2034769a0fa33591530c03ac3106a5a3283ef3ff050c49d9e24"
   }
  }
 },
 "nbformat": 4,
 "nbformat_minor": 2
}
