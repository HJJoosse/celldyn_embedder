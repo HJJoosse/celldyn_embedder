{
 "cells": [
  {
   "cell_type": "markdown",
   "metadata": {},
   "source": [
    "Testing cluster hallucination along the axes:\n",
    "* number of input features **InDIM**\n",
    "* number of samples **N**\n",
    "* number of output features **OutDIM**\n",
    "* number of real clusters **rClust**\n",
    "* number of hallucinated clusters **hClust**, based on a density-based clustering algorithm \n",
    "\n",
    "For the following default suite of dimension reduction algorithms:\n",
    "* PCA\n",
    "* UMAP\n",
    "* denseMap\n",
    "* MDS with anchors\n",
    "* [LDLE](https://github.com/chiggum/pyLDLE2)\n",
    "* [MDE](https://pymde.org/): e.g. using standardized embeddings\n",
    "* LTSA\n",
    "* PacMAP\n",
    "* TriMap\n",
    "\n",
    "Mitigation strategies:\n",
    "* **Ranker**: Rank-based dimensionality reduction: transform into ranks before dimensionality reduction\n",
    "* **preCl**: Sample-based pre-clustering for semi-supervised dimensionality reduction\n",
    "* **CloseFar**: continuous combination of dimension reducers for short and long distances \n"
   ]
  },
  {
   "cell_type": "code",
   "execution_count": 2,
   "metadata": {},
   "outputs": [],
   "source": [
    "from sklearn.base import BaseEstimator, TransformerMixin, ClassifierMixin\n",
    "from sklearn.preprocessing import FunctionTransformer\n",
    "\n",
    "import numpy as np"
   ]
  },
  {
   "cell_type": "code",
   "execution_count": 6,
   "metadata": {},
   "outputs": [
    {
     "data": {
      "text/plain": [
       "array([[0, 4],\n",
       "       [1, 1],\n",
       "       [2, 2],\n",
       "       [3, 3],\n",
       "       [4, 0]], dtype=int64)"
      ]
     },
     "execution_count": 6,
     "metadata": {},
     "output_type": "execute_result"
    }
   ],
   "source": [
    "# simple ranker for pandas DataFrame\n",
    "RankerDF = FunctionTransformer(lambda x: np.argsort(np.argsort(x, axis=0), axis=0))\n",
    "# simple ranker for numpy array\n",
    "RankerNP = lambda x: np.argsort(np.argsort(x, axis=0), axis=0)\n",
    "\n",
    "class preCL(BaseEstimator, TransformerMixin):\n",
    "    '''preCL\n",
    "    Preprocessing for mitigation of cluster hallucination.\n",
    "\n",
    "    Actions:\n",
    "    * draw samples\n",
    "    * rank features\n",
    "    * perform k-Means\n",
    "    '''\n"
   ]
  }
 ],
 "metadata": {
  "kernelspec": {
   "display_name": "hema_embedder",
   "language": "python",
   "name": "python3"
  },
  "language_info": {
   "codemirror_mode": {
    "name": "ipython",
    "version": 3
   },
   "file_extension": ".py",
   "mimetype": "text/x-python",
   "name": "python",
   "nbconvert_exporter": "python",
   "pygments_lexer": "ipython3",
   "version": "3.8.10"
  },
  "orig_nbformat": 4
 },
 "nbformat": 4,
 "nbformat_minor": 2
}
