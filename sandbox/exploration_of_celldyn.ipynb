{
 "cells": [
  {
   "cell_type": "code",
   "execution_count": null,
   "metadata": {},
   "outputs": [],
   "source": [
    "%reload_ext autoreload\n",
    "#%load_ext autoreload\n",
    "%autoreload 1\n",
    "%matplotlib inline\n",
    "\n",
    "import datetime\n",
    "import pandas as pd\n",
    "#import modin.pandas as pd\n",
    "import numpy as np\n",
    "import scipy as sc\n",
    "import matplotlib.pyplot as plt\n",
    "import seaborn as sns\n",
    "from tqdm import tqdm\n",
    "\n",
    "\n",
    "#from sklearnex import patch_sklearn\n",
    "#patch_sklearn()\n",
    "\n",
    "from sklearn.preprocessing import FunctionTransformer, StandardScaler, QuantileTransformer,MinMaxScaler\n",
    "from sklearn.compose import ColumnTransformer\n",
    "from sklearn.pipeline import Pipeline\n",
    "from sklearn.base import BaseEstimator, TransformerMixin\n",
    "from sklearn.ensemble import IsolationForest\n",
    "from sklearn.decomposition import PCA\n",
    "from sklearn.neighbors import LocalOutlierFactor\n",
    "from sklearn.svm import OneClassSVM\n",
    "from sklearn.covariance import EllipticEnvelope, EmpiricalCovariance, MinCovDet\n",
    "from sklearn.impute import KNNImputer, SimpleImputer\n",
    "from sklearn.pipeline import Pipeline\n",
    "from sklearn.cluster import AgglomerativeClustering\n",
    "\n",
    "from umap import UMAP\n",
    "from sklearn.decomposition import PCA, FactorAnalysis, NMF, SparseCoder, SparsePCA\n",
    "from sklearn.pipeline import Pipeline\n",
    "\n",
    "from scipy.stats import chi2\n",
    "\n",
    "import os\n",
    "import sys\n",
    "import gc\n",
    "import joblib\n",
    "\n",
    "os.chdir(\"T:\\\\laupodteam\\\\AIOS\\\\Bram\\\\notebooks\\\\code_dev\\\\celldyn_embedder\\\\sandbox\")\n",
    "#os.chdir(\"/media/UMCU/notebooks/code_dev/celldyn_embedder/sandbox\")\n",
    "sns.set_style(\"whitegrid\")\n",
    "\n",
    "write_to_disk = False\n",
    "read_from_disk = True\n",
    "\n",
    "from numba import jit, njit, float32\n",
    "from functools import lru_cache, cached_property\n",
    "from numpy import linalg as la\n",
    "from collections import defaultdict\n",
    "#import ray\n",
    "#ray.init()\n",
    "\n",
    "from hembedder.utils.distance import poincarre_dist, fractional_distance, hyperboloid_dist, Distance\n",
    "from hembedder.prepping import quality\n",
    "from hembedder.prepping import transformer\n",
    "from hembedder.prepping import recombinator\n",
    "#from hembedder.prepping import imputer"
   ]
  },
  {
   "cell_type": "code",
   "execution_count": null,
   "metadata": {},
   "outputs": [],
   "source": [
    "current_directory = os.path.dirname(os.path.realpath(\".\"))"
   ]
  },
  {
   "cell_type": "code",
   "execution_count": null,
   "metadata": {},
   "outputs": [],
   "source": [
    "test = False\n",
    "\n",
    "cleaning = ['qc']\n",
    "scaling = ['default']\n",
    "missingness = ['miceforest'] # 'missingforest, 'drop'\n",
    "feature_selection = []\n",
    "outlier_method = ['isolationforest'] # clip, isolationforest, lof, oneclass_svm, mahalanobis\n",
    "recombine = True"
   ]
  },
  {
   "cell_type": "code",
   "execution_count": null,
   "metadata": {},
   "outputs": [],
   "source": [
    "# function to set all values to their 1st and 99th percentile\n",
    "def clip_outliers(df, cols, qL=0.01, qH=0.99):\n",
    "    for col in cols:\n",
    "        df.loc[:, col] = df[col].clip(df[col].quantile(qL), df[col].quantile(qH))\n",
    "    return df\n",
    "\n",
    "# get entropy over a dimension\n",
    "def get_entropy(data, dim):\n",
    "    # get the unique values and their counts\n",
    "    uniq = np.unique(data.loc[:,dim], return_counts=True)\n",
    "    # get the total number of observations\n",
    "    total = np.sum(uniq[1])\n",
    "    # get the probabilities\n",
    "    probs = uniq[1] / total\n",
    "    # get the entropy\n",
    "    entropy = np.sum(probs * np.log2(probs))\n",
    "    return entropy"
   ]
  },
  {
   "cell_type": "code",
   "execution_count": null,
   "metadata": {},
   "outputs": [],
   "source": [
    "#cpath = \"T:\\laupodteam\\AIOS\\Bram\\data\\CellDyn\\celldyn_cleaned_transformed_imputed_ALL_with_ratios.feather\"\n",
    "#cpath = \"T:\\laupodteam\\AIOS\\Bram\\data\\CellDyn\\celldyn_FULL_transformed_df.feather\"\n",
    "cpath = \"T:\\laupodteam\\AIOS\\Bram\\data\\CellDyn\\celldyn_checked.feather\"\n",
    "celldyn = pd.read_feather(cpath)\n",
    "\n",
    "if test:\n",
    "    celldyn = celldyn.sample(5000)\n",
    "\n",
    "celldyn.columns = celldyn.columns.str.lower()\n",
    "\n",
    "celldyn = celldyn.query('c_b_ht>0.2 and c_b_hb>0.2 and c_b_rbco>0.1 and c_b_rbco<100 and c_b_hb<20')\n",
    "celldyn.drop(['c_b_pblst', 'c_b_pnrbc', 'c_b_pbnd', \n",
    "              'c_b_blst', 'c_b_vlym', 'c_b_nrbc', \n",
    "              'c_b_bnd', 'c_b_ig',\n",
    "              'c_b_pig', 'c_b_pvlym'], axis=1, inplace=True, errors='ignore')\n",
    "\n",
    "meas_cols =[c for c in celldyn.columns if 'c_b_' in c]+['plt']"
   ]
  },
  {
   "cell_type": "code",
   "execution_count": null,
   "metadata": {},
   "outputs": [],
   "source": [
    "celldyn = celldyn.drop([c for c in celldyn.columns if ':' in c], axis=1)"
   ]
  },
  {
   "cell_type": "code",
   "execution_count": null,
   "metadata": {},
   "outputs": [],
   "source": [
    "celldyn_original = celldyn.copy()"
   ]
  },
  {
   "cell_type": "code",
   "execution_count": null,
   "metadata": {},
   "outputs": [],
   "source": [
    "celldyn = celldyn.assign(rbci_over_o=celldyn.c_b_rbco/celldyn.c_b_rbci)\n",
    "celldyn = celldyn.assign(plti_over_o=celldyn.c_b_plti/celldyn.c_b_plto)"
   ]
  },
  {
   "cell_type": "code",
   "execution_count": null,
   "metadata": {},
   "outputs": [],
   "source": [
    "fig, ax = plt.subplots(ncols=2, figsize=(18, 6))\n",
    "sns.scatterplot(data=celldyn.sample(10000), x='c_b_rbci', y='c_b_rbco', ax=ax[0], color='black')\n",
    "sns.scatterplot(data=celldyn.sample(10000), x='c_b_plti', y='c_b_plto', ax=ax[1], color='black')\n",
    "fig.suptitle(\"RBCi vs RBCo and PLTi vs PLTo\")"
   ]
  },
  {
   "cell_type": "code",
   "execution_count": null,
   "metadata": {},
   "outputs": [],
   "source": [
    "from matplotlib.patches import Circle"
   ]
  },
  {
   "cell_type": "code",
   "execution_count": null,
   "metadata": {},
   "outputs": [],
   "source": [
    "min_ratio, max_ratio = 0.9, 1.1\n",
    "r = np.max([np.abs(np.log10(min_ratio)), np.log10(max_ratio)])\n",
    "\n",
    "fig, ax = plt.subplots(figsize=(10, 6))\n",
    "plot_df = celldyn.sample(100000)[['rbci_over_o', 'plti_over_o']]\n",
    "plot_df = plot_df.assign(rbci_over_o_log=lambda x: np.log10(x['rbci_over_o']))\n",
    "plot_df = plot_df.assign(plti_over_o_log=lambda x: np.log10(x['plti_over_o']))\n",
    "sns.scatterplot(data=plot_df, x='rbci_over_o_log', y='plti_over_o_log', ax=ax, color='black', alpha=0.1)\n",
    "plt.axvline(0, color='red')\n",
    "plt.axhline(0, color='red')\n",
    "plt.xlabel('log10(RBCI / O)')\n",
    "plt.ylabel('log10(PLTI / O)')\n",
    "plt.xlim(-1,1)\n",
    "plt.ylim(-0.25,1)\n",
    "\n",
    "center = (0,0)\n",
    "radius = r\n",
    "circle = Circle(center, radius, color='red', fill=False)\n",
    "\n",
    "ax. add_patch(circle)\n",
    "# ax. set_aspect('equal')"
   ]
  },
  {
   "cell_type": "code",
   "execution_count": null,
   "metadata": {},
   "outputs": [],
   "source": [
    "sns.displot(data=celldyn.sample(2500), x=\"age\", hue=\"gender\", alpha=0.4, kde=True)"
   ]
  },
  {
   "cell_type": "code",
   "execution_count": null,
   "metadata": {},
   "outputs": [],
   "source": [
    "#celldyn['gender']= celldyn.gender.str.decode(encoding='latin1')\n",
    "celldyn['age'] = celldyn.age.astype(int)\n",
    "celldyn['meas_hour'] = celldyn['asp_dt'].dt.hour#   apply(lambda x: x.hour)\n",
    "celldyn['draw_hour'] = celldyn['afname_dt'].dt.hour # .apply(lambda x: x.hour)\n",
    "celldyn['time_to_measurement'] = (celldyn.asp_dt-celldyn.afname_dt).dt.total_seconds()\n",
    "celldyn['time_to_measurement'] = celldyn['time_to_measurement']//3600"
   ]
  },
  {
   "cell_type": "code",
   "execution_count": null,
   "metadata": {},
   "outputs": [],
   "source": [
    "print(celldyn.shape)"
   ]
  },
  {
   "cell_type": "code",
   "execution_count": null,
   "metadata": {},
   "outputs": [],
   "source": [
    "cond = (celldyn.time_to_measurement<6) & (celldyn.time_to_measurement>-2)\n",
    "celldyn = celldyn[cond]\n",
    "print(celldyn.shape)"
   ]
  },
  {
   "cell_type": "code",
   "execution_count": null,
   "metadata": {},
   "outputs": [],
   "source": [
    "meta_cols = ['asp_dt', 'analyzer', 'studyid_alle_celldyn', \n",
    "             'time_to_measurement', 'gender', 'age' , 'afname_dt',\n",
    "             'day_of_year', 'week_of_year', 'year', 'first_day',\n",
    "              'draw_hour', 'meas_hour']\n",
    "count_columns = [c for c in celldyn.columns if 'c_cnt' in c]\n",
    "mode_columns = [c for c in celldyn.columns if 'c_m' in c]\n",
    "susp_columns = [c for c in celldyn.columns if 'c_s' in c]\n",
    "alert_columns = [c for c in celldyn.columns if 'alrt' in c]\n",
    "fail_columns = [c for c in celldyn.columns if 'fail' in c]\n",
    "all_cols  = meta_cols+meas_cols+mode_columns+susp_columns+alert_columns+count_columns+fail_columns\n",
    "other_cols = [c for c in celldyn.columns if c not in all_cols]"
   ]
  },
  {
   "cell_type": "markdown",
   "metadata": {},
   "source": [
    "## Cleaning"
   ]
  },
  {
   "cell_type": "code",
   "execution_count": null,
   "metadata": {},
   "outputs": [],
   "source": [
    "entropies = []\n",
    "for c in meas_cols:\n",
    "   entropies.append((c, get_entropy(celldyn,c)))"
   ]
  },
  {
   "cell_type": "code",
   "execution_count": null,
   "metadata": {},
   "outputs": [],
   "source": [
    "drop_cols = [t[0] for t in entropies if t[1]>-5]\n",
    "meas_cols = [c for c in meas_cols if c not in drop_cols]\n",
    "celldyn.drop(drop_cols, axis=1, inplace=True)\n",
    "\n",
    "print(drop_cols)"
   ]
  },
  {
   "cell_type": "code",
   "execution_count": null,
   "metadata": {},
   "outputs": [],
   "source": [
    "if 'qc' in cleaning:\n",
    "    qc = quality.QcControl(param_file=os.path.join(current_directory, \"assets/CelldynParams.xlsx\"), \n",
    "                          cols_include=meas_cols)\n",
    "    qc.fit(celldyn)\n",
    "    df = qc.transform(celldyn)\n",
    "    celldyn = df"
   ]
  },
  {
   "cell_type": "code",
   "execution_count": null,
   "metadata": {},
   "outputs": [],
   "source": [
    "print(f'Number of missings : {celldyn[meas_cols].isna().sum().sum()}')\n",
    "print(f'Number of missings, originally : {celldyn_original[meas_cols].isna().sum().sum()}')"
   ]
  },
  {
   "cell_type": "markdown",
   "metadata": {},
   "source": [
    "### Removal of obvious outliers\n",
    "\n",
    "* Look at the distribution of the data and remove obvious outliers.\n",
    "* Look at the ratio of the plti/plto and rbci/rbco and remove obvious outliers."
   ]
  },
  {
   "cell_type": "code",
   "execution_count": null,
   "metadata": {},
   "outputs": [],
   "source": [
    "plt.hist(np.log10(celldyn[meas_cols].values.ravel()+1), bins=50);"
   ]
  },
  {
   "cell_type": "code",
   "execution_count": null,
   "metadata": {},
   "outputs": [],
   "source": [
    "c1 = celldyn.loc[celldyn[meas_cols].max(axis=1)>1000, meas_cols].idxmax(axis=1)\n",
    "include = c1[c1.isin(['c_b_plti', 'c_b_plto', 'plt'])].index\n",
    "exclude = c1[~c1.isin(['c_b_plti', 'c_b_plto', 'plt'])].index\n",
    "celldyn = celldyn.drop(exclude, axis=0)"
   ]
  },
  {
   "cell_type": "markdown",
   "metadata": {},
   "source": [
    "## Scaling"
   ]
  },
  {
   "cell_type": "code",
   "execution_count": null,
   "metadata": {},
   "outputs": [],
   "source": [
    "if 'default' in scaling:\n",
    "    CellDynTransformer = transformer.CellDynTrans(\n",
    "                                    log_scale=['c_b_peos', 'c_b_phpo', 'c_b_pmac',\n",
    "                                               'c_b_pmic', 'c_b_pretc', 'c_b_prp', \n",
    "                                               'c_b_rbcfcv', 'c_b_seg', 'c_b_neu',\n",
    "                                               'c_b_plto', 'c_b_plti', 'c_b_mone',\n",
    "                                               'c_b_mon', 'c_b_lyme', 'c_b_lym',\n",
    "                                               'c_b_hdw'],\n",
    "                                    ord_scale=[],\n",
    "                                    remove_original_columns=False)\n",
    "    df = CellDynTransformer.fit_transform(celldyn[meas_cols])\n",
    "    celldyn[meas_cols] = df"
   ]
  },
  {
   "cell_type": "markdown",
   "metadata": {},
   "source": [
    "## Imputing"
   ]
  },
  {
   "cell_type": "code",
   "execution_count": null,
   "metadata": {},
   "outputs": [],
   "source": [
    "if 'miceforest' in missingness:\n",
    "    imputer_clf = imputer.Imputer(imputer='forest',\n",
    "                        backend='miceforest', \n",
    "                        meas_cols = meas_cols,\n",
    "                        verbose=True,\n",
    "                        iterations=3, \n",
    "                        num_estimators=75, \n",
    "                        num_match_candidates=5,\n",
    "                        save_all_iterations=False,\n",
    "                        data_subset=0.25,\n",
    "                        synthesize_working_data=True\n",
    "                        )\n",
    "    imputer_clf.fit(celldyn[meas_cols])\n",
    "    celldyn[meas_cols] = imputer_clf.transform(celldyn[meas_cols])\n",
    "elif 'knn' in missingness:\n",
    "    imputer_clf = KNNImputer(n_neighbors=10, weights=\"distance\")\n",
    "    celldyn[meas_cols] = imputer_clf.fit_transform(celldyn[meas_cols])\n",
    "elif 'mean' in missingness:\n",
    "    imputer_clf = SimpleImputer(strategy='mean')\n",
    "    celldyn[meas_cols] = imputer_clf.fit_transform(celldyn[meas_cols])"
   ]
  },
  {
   "cell_type": "markdown",
   "metadata": {},
   "source": [
    "## Feature selection"
   ]
  },
  {
   "cell_type": "code",
   "execution_count": null,
   "metadata": {},
   "outputs": [],
   "source": [
    "# make (BaseEstimator, TransformerMixin) class that extracts clustered features \n",
    "# using agglomerative clustering\n",
    "\n",
    "class AggFeatSel(AgglomerativeClustering):\n",
    "    def __init__(self, n_clusters=2, metric='euclidean', memory=None, \n",
    "                 connectivity=None, compute_full_tree='auto', linkage='ward', \n",
    "                 col_names=None):\n",
    "        \n",
    "        super().__init__(n_clusters=n_clusters, metric=metric, \n",
    "                         memory=memory, connectivity=connectivity, \n",
    "                         compute_full_tree=compute_full_tree, \n",
    "                         linkage=linkage)\n",
    "        self.col_names = col_names\n",
    "\n",
    "    def fit(self, X, y=None):\n",
    "        super().fit(X)\n",
    "        return self\n",
    "\n",
    "    def get_selected_features(self):\n",
    "        '''\n",
    "            For each distinct label, arbitrarily select one of the\n",
    "            columns to represent the cluster\n",
    "        '''\n",
    "        _, ui = np.unique(self.labels_, return_index=True)\n",
    "        \n",
    "        # TODO: add minimum threshold for similarity\n",
    "\n",
    "        return list(np.array(self.col_names)[ui])"
   ]
  },
  {
   "cell_type": "code",
   "execution_count": null,
   "metadata": {},
   "outputs": [],
   "source": [
    "if 'agglomerative' in feature_selection:\n",
    "    featSel = AggFeatSel(n_clusters=5, col_names=meas_cols)\n",
    "    featSel.fit(celldyn[meas_cols].T)\n",
    "    meas_cols = featSel.get_selected_features()"
   ]
  },
  {
   "cell_type": "markdown",
   "metadata": {},
   "source": [
    "# Treat outliers"
   ]
  },
  {
   "cell_type": "code",
   "execution_count": null,
   "metadata": {},
   "outputs": [],
   "source": [
    "le_pipe = [\n",
    "        ('scaler', QuantileTransformer(output_distribution='normal', random_state=42)),\n",
    "]\n",
    "\n",
    "if 'clip' in outlier_method:\n",
    "    celldyn = clip_outliers(celldyn, meas_cols, qL=0.01, qH=0.99)\n",
    "\n",
    "if 'isolationforest' in outlier_method:\n",
    "    # Isolation forest\n",
    "    le_pipe.append(('clf', IsolationForest(max_samples=100, random_state=42)))\n",
    "    pipe = Pipeline(le_pipe, verbose=True)\n",
    "\n",
    "    pipe.fit(celldyn[meas_cols])\n",
    "    y_pred_train = pipe.predict(celldyn[meas_cols])\n",
    "    celldyn['outlier_iso'] = y_pred_train\n",
    "    meta_cols.append('outlier_iso')\n",
    "if \"lof\" in outlier_method:\n",
    "    # Local outlier factor\n",
    "    le_pipe.append((LocalOutlierFactor(n_neighbors=20)))\n",
    "    pipe = Pipeline(le_pipe, verbose=True)\n",
    "\n",
    "    pipe.fit(celldyn[meas_cols])\n",
    "    y_pred_train = pipe.predict(celldyn[meas_cols])\n",
    "    celldyn['outlier_lof'] = y_pred_train\n",
    "    meta_cols.append('outlier_lof')\n",
    "if 'oneclass_svm' in outlier_method:\n",
    "    # One class SVM\n",
    "    le_pipe.append(('clf', OneClassSVM(nu=0.1, kernel=\"rbf\", gamma=0.1)))\n",
    "    pipe = Pipeline(le_pipe, verbose=True)\n",
    "\n",
    "    pipe.fit(celldyn[meas_cols])\n",
    "    y_pred_train = pipe.predict(celldyn[meas_cols])\n",
    "    celldyn['outlier_svm'] = y_pred_train\n",
    "    meta_cols.append('outlier_svm')\n",
    "    \n",
    "if 'mahalanobis' in outlier_method:\n",
    "    # robust mahalanobis distance\n",
    "    pipe = Pipeline(le_pipe, verbose=True)\n",
    "    pipe.fit(celldyn[meas_cols])\n",
    "    new_data = pipe.transform(celldyn[meas_cols])\n",
    "    clf_cov = MinCovDet(random_state=0).fit(new_data)\n",
    "    mahal_dist = clf_cov.mahalanobis(new_data)\n",
    "\n",
    "    # add probability by comparing mahalanobis distance to chi2 distribution\n",
    "    celldyn['mahal_dist'] = mahal_dist\n",
    "    celldyn['mahal_prob'] = 1 - chi2.cdf(mahal_dist, 2)\n",
    "    meta_cols.extend(['mahal_dist', 'mahal_prob'])\n"
   ]
  },
  {
   "cell_type": "markdown",
   "metadata": {},
   "source": [
    "# Recombinator"
   ]
  },
  {
   "cell_type": "code",
   "execution_count": null,
   "metadata": {},
   "outputs": [],
   "source": [
    "if recombine:\n",
    "    recombiner = recombinator.CellDynRecombinator(scaler=None, base_combos=True, only_output_combos=True)\n",
    "    recombiner.fit(celldyn[meas_cols])\n",
    "    celldyn_combo = pd.DataFrame(data=recombiner.transform(celldyn[meas_cols]),\n",
    "                                 columns=recombiner.out_columns,\n",
    "                                 index=celldyn.index)\n",
    "    celldyn = pd.concat([celldyn, celldyn_combo], axis=1)\n",
    "    "
   ]
  },
  {
   "cell_type": "markdown",
   "metadata": {},
   "source": [
    "## Seasonal variation"
   ]
  },
  {
   "cell_type": "code",
   "execution_count": 258,
   "metadata": {},
   "outputs": [],
   "source": [
    "celldyn = pd.read_parquet('T://laupodteam/AIOS/Bram/data/CellDyn/artifacts/celldyn_for_seasonality.parquet')"
   ]
  },
  {
   "cell_type": "code",
   "execution_count": 259,
   "metadata": {},
   "outputs": [],
   "source": [
    "celldyn = celldyn.assign(abs_week = lambda x: x['week_of_year'] + 52*(x['year']-x['year'].min()))\n",
    "celldyn['month_of_year'] = celldyn.afname_dt.dt.month\n",
    "celldyn = celldyn.assign(abs_month=lambda x: x['month_of_year'] + 12*(x['year']-x['year'].min()))\n",
    "celldyn['weekday_hour'] = celldyn['afname_dt'].dt.weekday*24 + celldyn['afname_dt'].dt.hour\n",
    "celldyn = celldyn.assign(abs_day=lambda x: x['day_of_year'] + 365*(x['year']-x['year'].min()))\n",
    "celldyn = celldyn.sort_values(by='abs_day')\n",
    "celldyn['day_of_week'] = celldyn.afname_dt.dt.dayofweek\n",
    "celldyn['abs_day'] = celldyn['day_of_year'] + 365*(celldyn['year']-celldyn['year'].min())"
   ]
  },
  {
   "cell_type": "code",
   "execution_count": null,
   "metadata": {},
   "outputs": [],
   "source": [
    "sns.lineplot(data=celldyn.loc[celldyn.gender.isin(['M', 'F'])], x='week_of_year', y='age', hue='gender')"
   ]
  },
  {
   "cell_type": "code",
   "execution_count": null,
   "metadata": {},
   "outputs": [],
   "source": [
    "plot_df = celldyn.groupby('week_of_year').agg({'gender': lambda x: sum(x=='M')/sum(x=='F')}).reset_index()\n",
    "sns.lineplot(data=plot_df, x='week_of_year', y='gender')\n",
    "plt.title('Ratio Male/Female patients')"
   ]
  },
  {
   "cell_type": "code",
   "execution_count": null,
   "metadata": {},
   "outputs": [],
   "source": [
    "meas_cols = [c for c in celldyn.columns if 'c_b_' in c]+['plt']\n",
    "# add COMBO cols\n",
    "meas_cols = meas_cols + [c for c in celldyn.columns if \"COMBO\" in c]"
   ]
  },
  {
   "cell_type": "code",
   "execution_count": null,
   "metadata": {},
   "outputs": [],
   "source": [
    "var = 'c_b_eos'\n",
    "fig, ax = plt.subplots(nrows=2, figsize=(19, 12))\n",
    "plt.style.use('seaborn-whitegrid')\n",
    "plot_df = celldyn.query('year<2020 & week_of_year<51')\\\n",
    "                .groupby(['week_of_year'])\\\n",
    "                .agg({var: 'median'}).reset_index()\n",
    "sns.lineplot(data=plot_df, x='week_of_year', y=var, palette='Set2', ax=ax[0], legend=False)\n",
    "ax[0].set_title(f'Median of {var} by week of year')\n",
    "#ax.set_xlim(0, 700)\n",
    "#ax.set_ylim(0.55, 0.65)\n",
    "\n",
    "plot_df = celldyn.query('year<2020 & week_of_year<51')\\\n",
    "                .groupby(['draw_hour'])\\\n",
    "                .agg({var: 'median'}).reset_index()\n",
    "sns.lineplot(data=plot_df, x='draw_hour', y=var, palette='Set2', ax=ax[1], legend=False)\n",
    "ax[1].set_title(f'Median of {var} by draw hour')"
   ]
  },
  {
   "cell_type": "code",
   "execution_count": null,
   "metadata": {},
   "outputs": [],
   "source": [
    "from statsmodels.nonparametric.smoothers_lowess import lowess"
   ]
  },
  {
   "cell_type": "code",
   "execution_count": null,
   "metadata": {},
   "outputs": [],
   "source": [
    "var = 'c_b_neu'\n",
    "\n",
    "fig, ax = plt.subplots(nrows=4, figsize=(32, 22))\n",
    "\n",
    "plt.style.use('seaborn-whitegrid')\n",
    "plot_df = celldyn.query('year<2020 & 1<week_of_year<52')\\\n",
    "                .groupby(['abs_month', 'year'])\\\n",
    "                .agg({var: 'median'}).reset_index()\n",
    "\n",
    "smoothed= lowess(plot_df[var],\n",
    "                 plot_df['year'], \n",
    "                 frac=0.1, it=3, missing='drop')\n",
    "tmp = pd.DataFrame(data=smoothed, columns=['year', 'sval'])\n",
    "plot_df = pd.merge(plot_df, tmp, on='year')\n",
    "\n",
    "sns.lineplot(data=plot_df, x='abs_month', y=var, hue='year', \n",
    "            palette='Set2', ax=ax[0], legend=False)\n",
    "sns.lineplot(data=plot_df, x='abs_month', y='sval', ax=ax[0], color='black', lw=2, legend=False)\n",
    "ax[0].set_title(f'Median of {var} by month')\n",
    "\n",
    "\n",
    "#################\n",
    "plot_df = celldyn.query('year<2020 & 1<week_of_year<52')\\\n",
    "                .groupby(['abs_month', 'month_of_year', 'year'])\\\n",
    "                .agg({var: 'median'}).reset_index()\n",
    "plot_df = plot_df.assign(detrended=plot_df[var]-smoothed[:,1])\n",
    "\n",
    "#sns.lineplot(data=plot_df, x='week_of_year', y=var, hue='year', \n",
    "#            palette='Set2', ax=ax[1], legend=False)\n",
    "sns.lineplot(data=plot_df, x='month_of_year', y='detrended', hue='year',\n",
    "            palette='Set2', ax=ax[1], legend=False)\n",
    "ax[1].set_title(f'Median of {var} by month of year, de-trended with LOWESS')\n",
    "#################\n",
    "plot_df = celldyn.query('year<2020 & week_of_year<52')\\\n",
    "                .groupby(['draw_hour', 'week_of_year'])\\\n",
    "                .agg({var: 'median'}).reset_index()\n",
    "sns.lineplot(data=plot_df, x='draw_hour', y=var, hue='week_of_year', \n",
    "            palette='Set2', ax=ax[2], legend=False)\n",
    "ax[2].set_title(f'Median of {var} by draw hour')\n",
    "\n",
    "\n",
    "plot_df = celldyn.query('year<2020 & week_of_year<52')\\\n",
    "                .groupby(['weekday_hour', 'week_of_year'])\\\n",
    "                .agg({var: 'median'}).reset_index()\n",
    "sns.lineplot(data=plot_df, x='weekday_hour', y=var, hue='week_of_year', \n",
    "            palette='viridis', ax=ax[3], legend=False)\n",
    "ax[3].set_title(f'Median of {var} by draw hour-over-the-week')"
   ]
  },
  {
   "cell_type": "markdown",
   "metadata": {},
   "source": [
    "We include the \"crazy\" hours, and the weekend. Perhaps, for the consideration of the seasonal variation, we should remove these. "
   ]
  },
  {
   "cell_type": "code",
   "execution_count": null,
   "metadata": {},
   "outputs": [],
   "source": [
    "CONDS_no_weekend = celldyn.weekday_hour<24*5\n",
    "CONDS_regular_time = (celldyn.draw_hour>6) & (celldyn.draw_hour<18)"
   ]
  },
  {
   "cell_type": "code",
   "execution_count": null,
   "metadata": {},
   "outputs": [],
   "source": [
    "var = 'c_b_neu'\n",
    "CONDS = CONDS_no_weekend & CONDS_regular_time\n",
    "\n",
    "fig, ax = plt.subplots(nrows=4, figsize=(32, 22))\n",
    "\n",
    "plt.style.use('seaborn-whitegrid')\n",
    "plot_df = celldyn.loc[CONDS].query('year<2020 & 1<week_of_year<52')\\\n",
    "                .groupby(['abs_month', 'year'])\\\n",
    "                .agg({var: 'median'}).reset_index()\n",
    "\n",
    "smoothed= lowess(plot_df[var],\n",
    "                 plot_df['year'], \n",
    "                 frac=0.1, it=3, missing='drop')\n",
    "tmp = pd.DataFrame(data=smoothed, columns=['year', 'sval'])\n",
    "plot_df = pd.merge(plot_df, tmp, on='year')\n",
    "\n",
    "sns.lineplot(data=plot_df, x='abs_month', y=var, hue='year', \n",
    "            palette='Set2', ax=ax[0], legend=False)\n",
    "sns.lineplot(data=plot_df, x='abs_month', y='sval', ax=ax[0], color='black', lw=2, legend=False)\n",
    "ax[0].set_title(f'Median of {var} by month')\n",
    "\n",
    "\n",
    "#################\n",
    "plot_df = celldyn.loc[CONDS].query('year<2020 & 1<week_of_year<52')\\\n",
    "                .groupby(['abs_month', 'month_of_year', 'year'])\\\n",
    "                .agg({var: 'median'}).reset_index()\n",
    "plot_df = plot_df.assign(detrended=plot_df[var]-smoothed[:,1])\n",
    "\n",
    "#sns.lineplot(data=plot_df, x='week_of_year', y=var, hue='year', \n",
    "#            palette='Set2', ax=ax[1], legend=False)\n",
    "sns.lineplot(data=plot_df, x='month_of_year', y='detrended', hue='year',\n",
    "            palette='Set2', ax=ax[1], legend=False)\n",
    "ax[1].set_title(f'Median of {var} by month of year, de-trended with LOWESS')\n",
    "#################\n",
    "plot_df = celldyn.loc[CONDS].query('year<2020 & week_of_year<52')\\\n",
    "                .groupby(['draw_hour', 'week_of_year'])\\\n",
    "                .agg({var: 'median'}).reset_index()\n",
    "sns.lineplot(data=plot_df, x='draw_hour', y=var, hue='week_of_year', \n",
    "            palette='Set2', ax=ax[2], legend=False)\n",
    "ax[2].set_title(f'Median of {var} by draw hour')\n",
    "\n",
    "\n",
    "plot_df = celldyn.loc[CONDS].query('year<2020 & week_of_year<52')\\\n",
    "                .groupby(['weekday_hour', 'week_of_year'])\\\n",
    "                .agg({var: 'median'}).reset_index()\n",
    "sns.lineplot(data=plot_df, x='weekday_hour', y=var, hue='week_of_year', \n",
    "            palette='viridis', ax=ax[3], legend=False)\n",
    "ax[3].set_title(f'Median of {var} by draw hour-over-the-week')"
   ]
  },
  {
   "cell_type": "code",
   "execution_count": null,
   "metadata": {},
   "outputs": [],
   "source": [
    "# non-linear least squares fitting of a function to data\n",
    "# https://docs.scipy.org/doc/scipy/reference/generated/scipy.optimize.curve_fit.html\n",
    "# function to fit is : y = A + B * (cos(2*pi*(week-offset)/52))\n",
    "\n",
    "from scipy.optimize import curve_fit\n",
    "\n",
    "def cosfun(x, A, B, offset, base_per=52):\n",
    "        return A + B * np.cos(2*np.pi*(x-offset)/base_per)\n",
    "    \n",
    "def cf(x, y, A=1, B=1, offset=0, base_per=52):\n",
    "    return curve_fit(lambda x, A, B,offset: cosfun(x, A, B, offset, base_per), \n",
    "                     x, y, p0=[A, B, offset])\n",
    "\n",
    "# fit the function\n",
    "var = 'plt'\n",
    "popt_MoY, pcov_MoY = cf(x=celldyn.dropna(subset=[var])\\\n",
    "                                     .query('year<2020 & 1<week_of_year<51').month_of_year, \n",
    "                        y=celldyn.dropna(subset=[var])\\\n",
    "                                     .query('year<2020 & 1<week_of_year<51')[var], \n",
    "                        A=1, B=1,offset=celldyn[var].mean(), base_per=12)\n",
    "\n",
    "popt_WoY, pcov_WoY = cf(x=celldyn.dropna(subset=[var])\\\n",
    "                                     .query('year<2020 & 1<week_of_year<51').week_of_year, \n",
    "                        y=celldyn.dropna(subset=[var])\\\n",
    "                                     .query('year<2020 & 1<week_of_year<51')[var], \n",
    "                        A=1, B=1,offset=celldyn[var].mean(), base_per=52)\n",
    "\n",
    "popt_DH, pcov_DH = cf(x=celldyn.dropna(subset=[var])\\\n",
    "                                     .query('year<2020 & 1<week_of_year<51').draw_hour, \n",
    "                      y=celldyn.dropna(subset=[var])\\\n",
    "                                     .query('year<2020 & 1<week_of_year<51')[var], \n",
    "                      A=1, B=1,offset=celldyn[var].mean(), base_per=24)"
   ]
  },
  {
   "cell_type": "code",
   "execution_count": null,
   "metadata": {},
   "outputs": [],
   "source": [
    "popt_MoY, popt_WoY, popt_DH"
   ]
  },
  {
   "cell_type": "code",
   "execution_count": null,
   "metadata": {},
   "outputs": [],
   "source": [
    "per_T_neu = celldyn.dropna(subset=[var])\\\n",
    "                   .query('year<2020 & 1<week_of_year<51')\\\n",
    "                [['draw_hour', 'week_of_year', 'month_of_year', 'year', var]]"
   ]
  },
  {
   "cell_type": "code",
   "execution_count": null,
   "metadata": {},
   "outputs": [],
   "source": [
    "sns.boxplot(data=per_T_neu.query(f'{popt_MoY[0]-10*popt_MoY[1]}<{var}<{popt_MoY[0]+10*popt_MoY[1]}').sample(100_000), x= 'month_of_year', y=var)\n",
    "plt.plot(cosfun(np.arange(1, 13), *popt_MoY, base_per=12), lw=5, color='black')"
   ]
  },
  {
   "cell_type": "code",
   "execution_count": null,
   "metadata": {},
   "outputs": [],
   "source": [
    "fig, ax = plt.subplots( figsize=(19, 7))\n",
    "sns.boxplot(data=per_T_neu.query(f'{popt_WoY[0]-per_T_neu[var].quantile(0.25)}<\\\n",
    "                                 {var}<{popt_WoY[0]+per_T_neu[var].quantile(0.75)}')\\\n",
    "                                 .sample(100_000), x= 'week_of_year', y=var)\n",
    "plt.plot(cosfun(np.arange(1, 52), *popt_WoY, base_per=52), lw=5, color='black')\n",
    "# rotate x ticks\n",
    "ax.set_xticklabels(ax.get_xticklabels(), rotation=45, horizontalalignment='right');"
   ]
  },
  {
   "cell_type": "code",
   "execution_count": null,
   "metadata": {},
   "outputs": [],
   "source": [
    "fig, ax = plt.subplots( figsize=(19, 7))\n",
    "sns.boxplot(data=per_T_neu.query(f'{popt_DH[0]-3*abs(popt_DH[1])}<{var}<{popt_DH[0]+3*abs(popt_DH[1])}').sample(100_000), x= 'draw_hour', y=var)\n",
    "plt.plot(cosfun(np.arange(1, 24), *popt_DH, base_per=24), lw=5, color='black')\n",
    "# rotate x ticks\n",
    "ax.set_xticklabels(ax.get_xticklabels(), rotation=45, horizontalalignment='right');"
   ]
  },
  {
   "cell_type": "code",
   "execution_count": null,
   "metadata": {},
   "outputs": [],
   "source": [
    "# obtain seasonal decomposition using statsmodels\n",
    "from statsmodels.tsa.seasonal import seasonal_decompose"
   ]
  },
  {
   "cell_type": "code",
   "execution_count": null,
   "metadata": {},
   "outputs": [],
   "source": []
  },
  {
   "cell_type": "code",
   "execution_count": null,
   "metadata": {},
   "outputs": [],
   "source": [
    "var = 'c_b_pneu'\n",
    "ts = celldyn.query('year<2020')[[var, 'abs_day', 'afname_dt']].dropna(subset=['abs_day'])\n",
    "# change date period to week\n",
    "ts['afname_dt'] = ts['afname_dt'].dt.to_period('W')\n",
    "_ts = ts.groupby('afname_dt').agg(q10=(var, lambda x: x.quantile(0.1)),\n",
    "                                  q50=(var, lambda x: x.quantile(0.5)),\n",
    "                                  q90=(var, lambda x: x.quantile(0.9))).reset_index()\n",
    "# change the frequency of the datetime to day\n",
    "_ts = _ts.set_index('afname_dt').to_timestamp() # asfreq('W')\n",
    "_ts = _ts.interpolate(method='linear')"
   ]
  },
  {
   "cell_type": "code",
   "execution_count": null,
   "metadata": {},
   "outputs": [],
   "source": [
    "decomposition_week = seasonal_decompose(_ts['q10'], model='additive', period=52)\n",
    "fig = decomposition_week.seasonal.plot();\n",
    "fig.figure.set_size_inches(18, 6)"
   ]
  },
  {
   "cell_type": "code",
   "execution_count": null,
   "metadata": {},
   "outputs": [],
   "source": [
    "decomposition_week = seasonal_decompose(_ts['q50'], model='additive', period=52)\n",
    "fig = decomposition_week.seasonal.plot();\n",
    "fig.figure.set_size_inches(18, 6)"
   ]
  },
  {
   "cell_type": "code",
   "execution_count": null,
   "metadata": {},
   "outputs": [],
   "source": [
    "decomposition_week = seasonal_decompose(_ts['q90'], model='additive', period=52)\n",
    "fig = decomposition_week.seasonal.plot();\n",
    "fig.figure.set_size_inches(18, 6)"
   ]
  },
  {
   "cell_type": "code",
   "execution_count": null,
   "metadata": {},
   "outputs": [],
   "source": [
    "# https://bmcbioinformatics.biomedcentral.com/articles/10.1186/s12859-020-03830-w\n",
    "from CosinorPy import file_parser, cosinor, cosinor1\n",
    "\n",
    "var = 'c_b_pneu'\n",
    "\n",
    "gc.collect()\n",
    "df=celldyn.dropna(subset=['abs_day']).sample(100_000)\n",
    "cosinor_res = cosinor.fit_me(df.draw_hour, \n",
    "                             df[var],\n",
    "                             n_components=1,\n",
    "                             period=24);"
   ]
  },
  {
   "cell_type": "markdown",
   "metadata": {},
   "source": [
    "TODO\n",
    "* with/without crazy hours\n",
    "* age (0-9, 10-19, etc.) versus amplitude"
   ]
  },
  {
   "cell_type": "markdown",
   "metadata": {},
   "source": [
    "## Weekly variation"
   ]
  },
  {
   "cell_type": "code",
   "execution_count": null,
   "metadata": {},
   "outputs": [],
   "source": [
    "var = 'COMBO_PLR'\n",
    "\n",
    "fig, ax = plt.subplots(nrows=2, figsize=(19, 12))\n",
    "\n",
    "plt.style.use('seaborn-whitegrid')\n",
    "plot_df = celldyn.query('abs_week<700 & 1<week_of_year<51')\\\n",
    "                .groupby(['abs_day', 'year'])\\\n",
    "                .agg({var: 'median'}).reset_index()\n",
    "smoothed= lowess(plot_df[var],\n",
    "                 plot_df['abs_day'], \n",
    "                 frac=0.1, it=3, missing='drop')\n",
    "sns.lineplot(data=plot_df, x='abs_day', y=var, hue='year', \n",
    "            palette='Set2', ax=ax[0], legend=False)\n",
    "ax[0].plot(smoothed[:,0], smoothed[:,1], color='black', linewidth=3)\n",
    "ax[0].set_title(f'Median of {var} by day')\n",
    "#################\n",
    "################\n",
    "plot_df = celldyn.query('abs_week<700 & week_of_year<51')\\\n",
    "                .groupby(['day_of_week', 'week_of_year'])\\\n",
    "                .agg({var: 'median'}).reset_index()\n",
    "sns.lineplot(data=plot_df, x='day_of_week', y=var, hue='week_of_year', \n",
    "            palette='Set2', ax=ax[1], legend=False)\n",
    "ax[1].set_title(f'Median of {var} by day_of_week hour')"
   ]
  },
  {
   "cell_type": "markdown",
   "metadata": {},
   "source": [
    "## Diurnal cosine-fitting for reduced data"
   ]
  },
  {
   "cell_type": "code",
   "execution_count": 123,
   "metadata": {},
   "outputs": [],
   "source": [
    "import trimap\n",
    "import pacmap\n",
    "from sklearn.random_projection import GaussianRandomProjection as GRP"
   ]
  },
  {
   "cell_type": "code",
   "execution_count": null,
   "metadata": {},
   "outputs": [],
   "source": [
    "X = celldyn.sample(100_000)[meas_cols]\n",
    "indx = X.index\n",
    "X = X.assign(had_nans=X.isna().sum(axis=1)>0)\n",
    "# impute\n",
    "X = X.fillna(X.median())\n",
    "# scale\n",
    "X[meas_cols] = QuantileTransformer(output_distribution='normal').fit_transform(X[meas_cols])"
   ]
  },
  {
   "cell_type": "code",
   "execution_count": null,
   "metadata": {},
   "outputs": [],
   "source": [
    "entropies = []\n",
    "for c in meas_cols:\n",
    "   entropies.append((c, get_entropy(X,c)))"
   ]
  },
  {
   "cell_type": "code",
   "execution_count": null,
   "metadata": {},
   "outputs": [],
   "source": [
    "drop_cols = [t[0] for t in entropies if t[1]>-4]\n",
    "X = X.drop(drop_cols, axis=1)"
   ]
  },
  {
   "cell_type": "code",
   "execution_count": null,
   "metadata": {},
   "outputs": [],
   "source": [
    "# PCA\n",
    "pca = PCA(n_components=20)\n",
    "X_pca = pca.fit_transform(X[[c for c in meas_cols if c not in drop_cols]])"
   ]
  },
  {
   "cell_type": "code",
   "execution_count": null,
   "metadata": {},
   "outputs": [],
   "source": [
    "###\n",
    "coloring_by = celldyn.loc[indx, 'age'].values # X.had_nans \n",
    "\n",
    "# plot PCA dimensions and color by had_nans, plus add variance explained\n",
    "fig, ax = plt.subplots(nrows=2, ncols=2, figsize=(18, 16))\n",
    "ax = ax.flatten()\n",
    "ax[0].scatter(X_pca[:, 0], X_pca[:, 1], c=coloring_by, cmap='coolwarm', alpha=0.1)\n",
    "ax[0].set_xlabel('PCA 0')\n",
    "ax[0].set_ylabel('PCA 1')\n",
    "ax[0].set_title(f'PCA 0 vs. PCA 1')\n",
    "\n",
    "ax[1].scatter(X_pca[:, 0], X_pca[:, 2], c=coloring_by, cmap='coolwarm', alpha=0.1)\n",
    "ax[1].set_xlabel('PCA 0')\n",
    "ax[1].set_ylabel('PCA 2')\n",
    "ax[1].set_title(f'PCA 0 vs. PCA 2')\n",
    "\n",
    "ax[2].scatter(X_pca[:, 1], X_pca[:, 2], c=coloring_by, cmap='coolwarm', alpha=0.1)\n",
    "ax[2].set_xlabel('PCA 1')\n",
    "ax[2].set_ylabel('PCA 2')\n",
    "ax[2].set_title(f'PCA 1 vs. PCA 2')\n",
    "\n",
    "ax[3].plot(np.cumsum(pca.explained_variance_ratio_))\n",
    "ax[3].set_xlabel('Number of components')\n",
    "ax[3].set_ylabel('Cumulative explained variance')\n",
    "ax[3].set_title(f'PCA explained variance')"
   ]
  },
  {
   "cell_type": "code",
   "execution_count": 260,
   "metadata": {},
   "outputs": [],
   "source": [
    "fold_dictionary = {}\n",
    "SZ = 100_000\n",
    "FOLD_NUM = 10\n",
    "NUM_DIMS = 6\n",
    "\n",
    "for fold in range(FOLD_NUM):\n",
    "    fold_dictionary[fold] = celldyn.dropna(subset=['abs_day'])[meas_cols+['draw_hour', 'age', 'gender']]\\\n",
    "                                .replace([np.inf, -np.inf], np.nan)\\\n",
    "                                .dropna().sample(SZ)"
   ]
  },
  {
   "cell_type": "code",
   "execution_count": 225,
   "metadata": {},
   "outputs": [],
   "source": [
    "def cosinor_extractor(fold_dictionary, \n",
    "                      REDUCER='PCA',\n",
    "                      NUM_DIMS=6, \n",
    "                      num_cos_components=1):\n",
    "    PCA_RESULTS = {}\n",
    "    PCA_rDF = {}\n",
    "    for FOLD, DF in tqdm(fold_dictionary.items()):\n",
    "        if REDUCER=='PCA':\n",
    "            reducer = PCA(n_components=NUM_DIMS)\n",
    "        elif REDUCER=='GRP':\n",
    "            reducer = GRP(n_components=NUM_DIMS)\n",
    "        elif REDUCER=='UMAP':\n",
    "            reducer = UMAP(n_components=NUM_DIMS)\n",
    "        elif REDUCER=='TRIMAP':\n",
    "            reducer = trimap.TRIMAP(n_dims=NUM_DIMS)\n",
    "        elif REDUCER=='PACMAP':\n",
    "            reducer = pacmap.PaCMAP(n_components=NUM_DIMS)\n",
    "\n",
    "            \n",
    "        le_pipe = Pipeline([('Scaler', StandardScaler()),\n",
    "                            ('reducer', reducer)],\n",
    "                        verbose=False)\n",
    "\n",
    "        components = [f'{REDUCER}_{i}' for i in range(NUM_DIMS)]\n",
    "        DF[components] = le_pipe.fit_transform(DF[meas_cols])\n",
    "\n",
    "        periodicity_results = {}\n",
    "        for comp in components:\n",
    "            cosinor_res = cosinor.fit_me(DF.draw_hour, \n",
    "                                        DF[comp],\n",
    "                                        n_components=num_cos_components,\n",
    "                                        period=24,\n",
    "                                        plot=False);\n",
    "            tmp = {}\n",
    "            tmp = cosinor_res[1]\n",
    "            # add cosinor_res[2] dict to the tmp dictionary\n",
    "            tmp.update(cosinor_res[2])\n",
    "            \n",
    "            periodicity_results[comp] = tmp\n",
    "\n",
    "        PCA_rDF[FOLD] = DF[components+['draw_hour', 'age', 'gender']]    \n",
    "        PCA_RESULTS[FOLD] = periodicity_results\n",
    "        gc.collect()\n",
    "    return PCA_rDF, PCA_RESULTS"
   ]
  },
  {
   "cell_type": "code",
   "execution_count": 256,
   "metadata": {},
   "outputs": [],
   "source": [
    "def cosinor_extractor_specific(fold_dictionary, \n",
    "                                cols = ['c_b_pneu'],\n",
    "                                num_cos_components=1):\n",
    "    RESULTS = {}\n",
    "    for FOLD, DF in tqdm(fold_dictionary.items()):            \n",
    "        periodicity_results = {}\n",
    "        for col in cols:\n",
    "            cosinor_res = cosinor.fit_me(DF.draw_hour, \n",
    "                                        DF[col],\n",
    "                                        n_components=num_cos_components,\n",
    "                                        period=24,\n",
    "                                        plot=False);\n",
    "            tmp = {}\n",
    "            tmp = cosinor_res[1]\n",
    "            tmp.update(cosinor_res[2])            \n",
    "            periodicity_results[col] = tmp\n",
    "\n",
    "        RESULTS[FOLD] = periodicity_results\n",
    "        gc.collect()\n",
    "    return RESULTS"
   ]
  },
  {
   "cell_type": "code",
   "execution_count": 179,
   "metadata": {},
   "outputs": [],
   "source": [
    "def res_agger(RESULTS):\n",
    "    res_list = []\n",
    "    components = [k for k in RESULTS[0].keys()]\n",
    "    for comp in components:\n",
    "        pvals = [fold[comp]['p'] for fold in RESULTS.values()]\n",
    "        amplitudes = [fold[comp]['amplitude'] for fold in RESULTS.values()]\n",
    "        acrophases = [fold[comp]['acrophase'] for fold in RESULTS.values()]\n",
    "        mesors = [fold[comp]['mesor'] for fold in RESULTS.values()]\n",
    "        res_list.append({\n",
    "            'component': comp,\n",
    "            'pval': np.mean(pvals),\n",
    "            'amplitude mean': np.mean(amplitudes),\n",
    "            'amplitude std': np.std(amplitudes),\n",
    "            'acrophase mean': np.mean(acrophases),\n",
    "            'acrophase std': np.std(acrophases),\n",
    "            'mesor mean': np.mean(mesors),\n",
    "            'mesor std': np.std(mesors)\n",
    "        })\n",
    "        \n",
    "    return pd.DataFrame(res_list)"
   ]
  },
  {
   "cell_type": "code",
   "execution_count": 117,
   "metadata": {},
   "outputs": [
    {
     "name": "stderr",
     "output_type": "stream",
     "text": [
      "100%|██████████| 10/10 [00:25<00:00,  2.57s/it]\n"
     ]
    }
   ],
   "source": [
    "PCA_rDF, PCA_RESULTS = cosinor_extractor(fold_dictionary, \n",
    "                  REDUCER='PCA',\n",
    "                  NUM_DIMS=6, \n",
    "                  num_cos_components=1)\n",
    "PCA_agg_result = res_agger(PCA_RESULTS)"
   ]
  },
  {
   "cell_type": "code",
   "execution_count": 127,
   "metadata": {},
   "outputs": [
    {
     "name": "stderr",
     "output_type": "stream",
     "text": [
      "  0%|          | 0/10 [00:00<?, ?it/s]"
     ]
    },
    {
     "name": "stderr",
     "output_type": "stream",
     "text": [
      "100%|██████████| 10/10 [00:13<00:00,  1.31s/it]\n"
     ]
    }
   ],
   "source": [
    "GRP_rDF, GRP_RESULTS = cosinor_extractor(fold_dictionary, \n",
    "                  REDUCER='GRP',\n",
    "                  NUM_DIMS=6, \n",
    "                  num_cos_components=1)\n",
    "GRP_agg_result = res_agger(GRP_RESULTS)"
   ]
  },
  {
   "cell_type": "code",
   "execution_count": 128,
   "metadata": {},
   "outputs": [
    {
     "name": "stderr",
     "output_type": "stream",
     "text": [
      "100%|██████████| 10/10 [10:47<00:00, 64.79s/it]\n"
     ]
    }
   ],
   "source": [
    "UMAP_rDF, UMAP_RESULTS = cosinor_extractor(fold_dictionary, \n",
    "                  REDUCER='UMAP',\n",
    "                  NUM_DIMS=6, \n",
    "                  num_cos_components=1)\n",
    "UMAP_agg_result = res_agger(UMAP_RESULTS)"
   ]
  },
  {
   "cell_type": "code",
   "execution_count": 231,
   "metadata": {},
   "outputs": [
    {
     "name": "stderr",
     "output_type": "stream",
     "text": [
      "100%|██████████| 10/10 [51:55<00:00, 311.52s/it]\n"
     ]
    }
   ],
   "source": [
    "TRIMAP_rDF, TRIMAP_RESULTS = cosinor_extractor(fold_dictionary, \n",
    "                  REDUCER='TRIMAP',\n",
    "                  NUM_DIMS=6, \n",
    "                  num_cos_components=1)\n",
    "TRIMAP_agg_result = res_agger(TRIMAP_RESULTS)"
   ]
  },
  {
   "cell_type": "code",
   "execution_count": 232,
   "metadata": {},
   "outputs": [
    {
     "name": "stderr",
     "output_type": "stream",
     "text": [
      "100%|██████████| 10/10 [25:35<00:00, 153.52s/it]\n"
     ]
    }
   ],
   "source": [
    "PACMAP_rDF, PACMAP_RESULTS = cosinor_extractor(fold_dictionary, \n",
    "                  REDUCER='PACMAP',\n",
    "                  NUM_DIMS=6, \n",
    "                  num_cos_components=1)\n",
    "PACMAP_agg_result = res_agger(PACMAP_RESULTS)"
   ]
  },
  {
   "cell_type": "code",
   "execution_count": 233,
   "metadata": {},
   "outputs": [
    {
     "data": {
      "text/plain": [
       "0"
      ]
     },
     "execution_count": 233,
     "metadata": {},
     "output_type": "execute_result"
    }
   ],
   "source": [
    "#del fold_dictionary\n",
    "del celldyn\n",
    "gc.collect()"
   ]
  },
  {
   "cell_type": "code",
   "execution_count": 292,
   "metadata": {},
   "outputs": [],
   "source": [
    "from sklego.meta import GroupedTransformer"
   ]
  },
  {
   "cell_type": "code",
   "execution_count": 308,
   "metadata": {},
   "outputs": [],
   "source": [
    "UMAP_rDF[0] = UMAP_rDF[0].rename(columns={'comp_0': 'UMAP_0'})\n",
    "UMAP_rDF[0] = UMAP_rDF[0].reset_index()\n",
    "melted_df = pd.melt(UMAP_rDF[0], id_vars=['index','draw_hour', 'gender'], value_vars=['UMAP_0', 'UMAP_1', 'UMAP_2', 'UMAP_3', 'UMAP_4', 'UMAP_5'], var_name='component', value_name='value',)"
   ]
  },
  {
   "cell_type": "code",
   "execution_count": 324,
   "metadata": {},
   "outputs": [
    {
     "data": {
      "image/png": "[encoded data removed]",
      "text/plain": [
       "<Figure size 1016.38x432 with 6 Axes>"
      ]
     },
     "metadata": {},
     "output_type": "display_data"
    }
   ],
   "source": [
    "sns.relplot(data=melted_df, x='draw_hour', y='value', col='component', col_wrap=3, hue='gender', kind='line', facet_kws={'sharey': False, 'sharex': True}, height=3, aspect=1.5)\n",
    "plt.savefig('T://laupodteam/AIOS/Bram/data/CellDyn/artifacts/UMAP_diurnal_components.pdf', dpi=450)"
   ]
  },
  {
   "cell_type": "code",
   "execution_count": 306,
   "metadata": {},
   "outputs": [
    {
     "data": {
      "image/png": "[encoded data removed]",
      "text/plain": [
       "<Figure size 432x288 with 1 Axes>"
      ]
     },
     "metadata": {},
     "output_type": "display_data"
    }
   ],
   "source": [
    "#sns.lineplot(data=TRIMAP_rDF[0], x = 'draw_hour', y='TRIMAP_0')\n",
    "#sns.lineplot(data=PACMAP_rDF[0], x = 'draw_hour', y='PACMAP_0')\n",
    "#sns.lineplot(data=PCA_rDF[1], x = 'draw_hour', y='PCA_0')\n",
    "#sns.lineplot(data=UMAP_rDF[0], x = 'draw_hour', y='UMAP_0')\n",
    "\n",
    "\n",
    "TRIMAP_rDF[0]['REDUCER'] = 'TRIMAP'\n",
    "PACMAP_rDF[0]['REDUCER'] = 'PACMAP'\n",
    "PCA_rDF[1]['REDUCER'] = 'PCA'\n",
    "UMAP_rDF[0]['REDUCER'] = 'UMAP'\n",
    "\n",
    "TRIMAP_rDF[0] = TRIMAP_rDF[0].rename(columns={'TRIMAP_0': 'comp_0'})\n",
    "PACMAP_rDF[0] = PACMAP_rDF[0].rename(columns={'PACMAP_0': 'comp_0'})\n",
    "PCA_rDF[1] = PCA_rDF[1].rename(columns={'PCA_0': 'comp_0'})\n",
    "UMAP_rDF[0] = UMAP_rDF[0].rename(columns={'UMAP_0': 'comp_0'})\n",
    "\n",
    "COMBINED = pd.concat([TRIMAP_rDF[0][['draw_hour', 'comp_0', 'REDUCER']], \n",
    "                      PACMAP_rDF[0][['draw_hour', 'comp_0', 'REDUCER']], \n",
    "                      PCA_rDF[1][['draw_hour', 'comp_0', 'REDUCER']], \n",
    "                      UMAP_rDF[0][['draw_hour', 'comp_0', 'REDUCER']]\n",
    "                      ], axis=0)\n",
    "COMBINED['comp_0'] = GroupedTransformer(StandardScaler(), groups=['REDUCER']).fit_transform(COMBINED[['REDUCER', 'comp_0']])\n",
    "\n",
    "sns.lineplot(data=COMBINED, x = 'draw_hour', y='comp_0', hue='REDUCER')\n",
    "plt.xlabel('Hour of the day')\n",
    "plt.ylabel('Normalised first component')\n",
    "plt.savefig('T://laupodteam/AIOS/Bram/data/CellDyn/artifacts/combined_cosinor_reducer.pdf', dpi=450)"
   ]
  },
  {
   "cell_type": "code",
   "execution_count": 304,
   "metadata": {},
   "outputs": [
    {
     "data": {
      "image/png": "[encoded data removed]",
      "text/plain": [
       "<Figure size 432x288 with 1 Axes>"
      ]
     },
     "metadata": {},
     "output_type": "display_data"
    }
   ],
   "source": [
    "sns.lineplot(data=fold_dictionary[0], \n",
    "             x = 'draw_hour', \n",
    "             y = 'c_b_pneu')\n",
    "plt.xlabel('Hour of the day')\n",
    "plt.ylabel('Neutrophil fraction')\n",
    "plt.savefig('T://laupodteam/AIOS/Bram/data/CellDyn/artifacts/combined_cosinor_pneu.pdf', dpi=450)"
   ]
  },
  {
   "cell_type": "markdown",
   "metadata": {},
   "source": [
    "## Quick UMAP"
   ]
  },
  {
   "cell_type": "code",
   "execution_count": null,
   "metadata": {},
   "outputs": [],
   "source": [
    "umapper = UMAP(n_components=3)\n",
    "X_umap = umapper.fit_transform(X[[c for c in meas_cols if c not in drop_cols]])"
   ]
  },
  {
   "cell_type": "code",
   "execution_count": null,
   "metadata": {},
   "outputs": [],
   "source": [
    "###\n",
    "coloring_by = celldyn.loc[indx, 'age'].values # X.had_nans \n",
    "\n",
    "# plot PCA dimensions and color by had_nans, plus add variance explained\n",
    "fig, ax = plt.subplots(nrows=2, ncols=2, figsize=(18, 16))\n",
    "ax = ax.flatten()\n",
    "ax[0].scatter(X_umap[:, 0], X_umap[:, 1], c=coloring_by, cmap='coolwarm', alpha=0.1)\n",
    "ax[0].set_xlabel('U 0')\n",
    "ax[0].set_ylabel('U 1')\n",
    "ax[0].set_title(f'U 0 vs. U 1')\n",
    "\n",
    "ax[1].scatter(X_umap[:, 0], X_umap[:, 2], c=coloring_by, cmap='coolwarm', alpha=0.1)\n",
    "ax[1].set_xlabel('U 0')\n",
    "ax[1].set_ylabel('U 2')\n",
    "ax[1].set_title(f'U 0 vs. U 2')\n",
    "\n",
    "ax[2].scatter(X_umap[:, 1], X_umap[:, 2], c=coloring_by, cmap='coolwarm', alpha=0.1)\n",
    "ax[2].set_xlabel('U 1')\n",
    "ax[2].set_ylabel('U 2')\n",
    "ax[2].set_title(f'U 1 vs. U 2')\n"
   ]
  },
  {
   "attachments": {},
   "cell_type": "markdown",
   "metadata": {},
   "source": [
    "### Patients who have measurements in the evening and during the day"
   ]
  },
  {
   "cell_type": "code",
   "execution_count": null,
   "metadata": {},
   "outputs": [],
   "source": [
    "meas_per_patient = celldyn.shape[0]/celldyn.studyid_alle_celldyn.nunique()\n",
    "print(f\"There are on average {meas_per_patient} measurements per patient\")"
   ]
  },
  {
   "cell_type": "code",
   "execution_count": null,
   "metadata": {},
   "outputs": [],
   "source": [
    "counts_per_patient = pd.DataFrame(celldyn.groupby('studyid_alle_celldyn').size(),  \n",
    "                        columns=['counts_per_patient'])\n",
    "celldyn = celldyn.merge(counts_per_patient.reset_index(), how='left', on='studyid_alle_celldyn')"
   ]
  },
  {
   "cell_type": "code",
   "execution_count": null,
   "metadata": {},
   "outputs": [],
   "source": [
    "meta_cols = ['asp_dt', 'analyzer', 'studyid_alle_celldyn', \n",
    "             'time_to_measurement', 'gender', 'age' , 'afname_dt',\n",
    "             'day_of_year', 'week_of_year', 'year', 'first_day',\n",
    "              'draw_hour', 'meas_hour', 'draw_minute', 'draw_hour_dec']"
   ]
  },
  {
   "cell_type": "code",
   "execution_count": null,
   "metadata": {},
   "outputs": [],
   "source": [
    "fig, ax = plt.subplots(figsize=(18,7))\n",
    "sns.violinplot(data=celldyn[celldyn.counts_per_patient<30], x='counts_per_patient', y='draw_hour')\n",
    "plt.axhline(7)\n",
    "plt.axhline(17)"
   ]
  },
  {
   "attachments": {},
   "cell_type": "markdown",
   "metadata": {},
   "source": [
    "There are three blocks: \n",
    "* routine block: from 7AM to 5PM, mostly poli perhaps?\n",
    "* evening block: from 5PM to 12PM\n",
    "* morning block: from 12PM to 7AM"
   ]
  },
  {
   "cell_type": "code",
   "execution_count": null,
   "metadata": {},
   "outputs": [],
   "source": [
    "celldyn.loc[:,'care_block'] = celldyn.apply(lambda x: 'routine_block'\\\n",
    "                                    if (x['draw_hour']>=7) & (x['draw_hour']<17)\n",
    "                                    else 'evening_block' if (x['draw_hour']>=17) & (x['draw_hour']<=23)\n",
    "                                    else 'morning_block', axis=1\n",
    ")\n",
    "meta_cols.append('care_block')\n",
    "celldyn = celldyn.assign(draw_minute=celldyn.afname_dt.dt.minute)"
   ]
  },
  {
   "cell_type": "code",
   "execution_count": null,
   "metadata": {},
   "outputs": [],
   "source": [
    "celldyn = celldyn.assign(draw_hour_dec=celldyn[['draw_hour', 'draw_minute']].apply(lambda x: round(x[0]+x[1]/60, 1), axis=1))\n"
   ]
  },
  {
   "cell_type": "code",
   "execution_count": null,
   "metadata": {},
   "outputs": [],
   "source": [
    "plot_df = celldyn.sample(250000)\n",
    "plot_df = plot_df.groupby('draw_hour_dec').c_b_bas.quantile([0.25, 0.5, 0.75]).to_frame().join(\n",
    "          plot_df.groupby('draw_hour_dec').c_b_eos.quantile([0.25, 0.5, 0.75]).to_frame()).join(\n",
    "          plot_df.groupby('draw_hour_dec').c_b_neu.quantile([0.25, 0.5, 0.75]).to_frame()).join(\n",
    "          plot_df.groupby('draw_hour_dec').c_b_seg.quantile([0.25, 0.5, 0.75]).to_frame()).reset_index()\n",
    "\n",
    "plot_df.rename(columns={'level_1': 'percentile'}, inplace=True)\n",
    "\n",
    "fig, ax = plt.subplots(ncols=2, nrows=2, figsize=(22,9))\n",
    "\n",
    "sns.lineplot(data=plot_df, x='draw_hour_dec', y='c_b_bas', color='black', ax=ax[0,0])\n",
    "sns.lineplot(data=plot_df, x='draw_hour_dec', y='c_b_eos', color='black', ax=ax[0,1])\n",
    "sns.lineplot(data=plot_df, x='draw_hour_dec', y='c_b_neu', color='black', ax=ax[1,0])\n",
    "sns.lineplot(data=plot_df, x='draw_hour_dec', y='c_b_seg', color='black', ax=ax[1,1])\n",
    "\n",
    "ax[0,0].set_xlabel('Hour of the day')\n",
    "ax[0,1].set_xlabel('Hour of the day')\n",
    "ax[1,0].set_xlabel('Hour of the day')\n",
    "ax[1,1].set_xlabel('Hour of the day')\n",
    "\n",
    "plt.suptitle('Hourly variation in granulocytes', fontsize=16)"
   ]
  },
  {
   "cell_type": "code",
   "execution_count": null,
   "metadata": {},
   "outputs": [],
   "source": [
    "plot_df = celldyn.sample(250000)\n",
    "plot_df = plot_df.groupby('draw_hour_dec').c_b_mon.quantile([0.25, 0.5, 0.75]).to_frame().join(\n",
    "          plot_df.groupby('draw_hour_dec').c_b_mone.quantile([0.25, 0.5, 0.75]).to_frame()).join(\n",
    "          plot_df.groupby('draw_hour_dec').c_b_lym.quantile([0.25, 0.5, 0.75]).to_frame()).reset_index()\n",
    "plot_df.rename(columns={'level_1': 'percentile'}, inplace=True)\n",
    "\n",
    "fig, ax = plt.subplots(ncols=3, figsize=(22,4))\n",
    "sns.lineplot(data=plot_df, x='draw_hour_dec', y='c_b_mon', color='black', ax=ax[0])\n",
    "sns.lineplot(data=plot_df, x='draw_hour_dec', y='c_b_mone', color='black', ax=ax[1])\n",
    "sns.lineplot(data=plot_df, x='draw_hour_dec', y='c_b_lym', color='black', ax=ax[2])\n",
    "# seg\n",
    "ax[0].set_xlabel('Hour of the day')\n",
    "ax[1].set_xlabel('Hour of the day')\n",
    "ax[2].set_xlabel('Hour of the day')\n",
    "\n",
    "plt.suptitle('Hourly variation in agranulocytes', fontsize=16)"
   ]
  },
  {
   "cell_type": "code",
   "execution_count": null,
   "metadata": {},
   "outputs": [],
   "source": [
    "plot_df = celldyn.sample(250000)\n",
    "plot_df = plot_df.groupby('draw_hour_dec').c_b_retc.quantile([0.25, 0.5, 0.75]).to_frame().join(\n",
    "          plot_df.groupby('draw_hour_dec').c_b_rbci.quantile([0.25, 0.5, 0.75]).to_frame()).join(\n",
    "          plot_df.groupby('draw_hour_dec').c_b_irf.quantile([0.25, 0.5, 0.75]).to_frame()).join(\n",
    "          plot_df.groupby('draw_hour_dec').c_b_wbc.quantile([0.25, 0.5, 0.75]).to_frame()).reset_index()\n",
    "\n",
    "plot_df.rename(columns={'level_1': 'percentile'}, inplace=True)\n",
    "fig, ax = plt.subplots(ncols=2, nrows=2, figsize=(22,9))\n",
    "\n",
    "sns.lineplot(data=plot_df, x='draw_hour_dec', y='c_b_retc', color='black', ax=ax[0,0])\n",
    "sns.lineplot(data=plot_df, x='draw_hour_dec', y='c_b_rbci', color='black', ax=ax[0,1])\n",
    "sns.lineplot(data=plot_df, x='draw_hour_dec', y='c_b_irf', color='black', ax=ax[1,0])\n",
    "sns.lineplot(data=plot_df, x='draw_hour_dec', y='c_b_wbc', color='black', ax=ax[1,1])\n",
    "\n",
    "ax[0,0].set_xlabel('Hour of the day')\n",
    "ax[0,1].set_xlabel('Hour of the day')\n",
    "ax[1,0].set_xlabel('Hour of the day')\n",
    "ax[1,1].set_xlabel('Hour of the day')\n",
    "\n",
    "ax[0,0].set_ylabel('Reticulocytes')\n",
    "ax[0,1].set_ylabel('RBC impedance')\n",
    "ax[1,0].set_ylabel('Immature reticuloctye fraction')\n",
    "ax[1,1].set_ylabel('White blood cell count')\n",
    "\n",
    "plt.suptitle('Hourly variation in red/white blood cells ', fontsize=16)"
   ]
  },
  {
   "cell_type": "code",
   "execution_count": null,
   "metadata": {},
   "outputs": [],
   "source": [
    "plot_df = celldyn.sample(250000)\n",
    "plot_df = plot_df.groupby('draw_hour_dec').c_b_plti.quantile([0.25, 0.5, 0.75]).to_frame().join(\n",
    "          plot_df.groupby('draw_hour_dec').c_b_plto.quantile([0.25, 0.5, 0.75]).to_frame()).reset_index()\n",
    "\n",
    "fig, ax = plt.subplots(ncols=2, figsize=(22,4))\n",
    "\n",
    "sns.lineplot(data=plot_df, x='draw_hour_dec', y='c_b_plti', color='black', ax=ax[0])\n",
    "sns.lineplot(data=plot_df, x='draw_hour_dec', y='c_b_plto', color='black', ax=ax[1])\n",
    "\n",
    "ax[0].set_xlabel('Hour of the day')\n",
    "ax[1].set_xlabel('Hour of the day')\n",
    "\n",
    "ax[0].set_ylabel('PLT impedance')\n",
    "ax[1].set_ylabel('PLT optics')\n",
    "\n",
    "plt.suptitle('Hourly variation in platelets ', fontsize=16)"
   ]
  },
  {
   "cell_type": "code",
   "execution_count": null,
   "metadata": {},
   "outputs": [],
   "source": [
    "plot_df = celldyn.sample(250000)\n",
    "plot_df = plot_df.groupby('draw_hour_dec').c_b_mcv.quantile([0.25, 0.5, 0.75]).to_frame().join(\n",
    "          plot_df.groupby('draw_hour_dec').c_b_mch.quantile([0.25, 0.5, 0.75]).to_frame()).join(\n",
    "          plot_df.groupby('draw_hour_dec').c_b_mchc.quantile([0.25, 0.5, 0.75]).to_frame()).join(\n",
    "          plot_df.groupby('draw_hour_dec').c_b_rdw.quantile([0.25, 0.5, 0.75]).to_frame()).reset_index()\n",
    "          \n",
    "fig, ax = plt.subplots(ncols=2, nrows=2, figsize=(22,9))\n",
    "\n",
    "sns.lineplot(data=plot_df, x='draw_hour_dec', y='c_b_mcv', color='black', ax=ax[0,0])\n",
    "sns.lineplot(data=plot_df, x='draw_hour_dec', y='c_b_mch', color='black', ax=ax[0,1])\n",
    "sns.lineplot(data=plot_df, x='draw_hour_dec', y='c_b_mchc', color='black', ax=ax[1,0])\n",
    "sns.lineplot(data=plot_df, x='draw_hour_dec', y='c_b_rdw', color='black', ax=ax[1,1])\n",
    "\n",
    "\n",
    "ax[0,0].set_xlabel('Hour of the day')\n",
    "ax[0,1].set_xlabel('Hour of the day')\n",
    "ax[1,0].set_xlabel('Hour of the day')\n",
    "ax[1,1].set_xlabel('Hour of the day')\n",
    "\n",
    "ax[0,0].set_ylabel('Mean corpuscular volume')\n",
    "ax[0,1].set_ylabel('Mean corpuscular hemoglobin')\n",
    "ax[1,0].set_ylabel('Mean corpuscular hemoglobin concentration')\n",
    "ax[1,1].set_ylabel('Red cell distribution width')\n",
    "\n",
    "plt.suptitle('Hourly variation of aggregate blood parameters ', fontsize=16)"
   ]
  },
  {
   "cell_type": "code",
   "execution_count": null,
   "metadata": {},
   "outputs": [],
   "source": [
    "plot_df = celldyn.sample(250000)\n",
    "plot_df = plot_df.groupby('draw_hour_dec').c_b_plti.quantile([0.25, 0.5, 0.75]).to_frame().join(\n",
    "          plot_df.groupby('draw_hour_dec').c_b_plto.quantile([0.25, 0.5, 0.75]).to_frame()).reset_index()\n",
    "\n",
    "fig, ax = plt.subplots(ncols=2, figsize=(22,4))\n",
    "\n",
    "sns.lineplot(data=plot_df, x='draw_hour_dec', y='c_b_plti', color='black', ax=ax[0])\n",
    "sns.lineplot(data=plot_df, x='draw_hour_dec', y='c_b_plto', color='black', ax=ax[1])\n",
    "\n",
    "ax[0].set_xlabel('Hour of the day')\n",
    "ax[1].set_xlabel('Hour of the day')\n",
    "\n",
    "ax[0].set_ylabel('PLT impedance')\n",
    "ax[1].set_ylabel('PLT optics')\n",
    "\n",
    "plt.suptitle('Hourly variation in platelets ', fontsize=16)"
   ]
  },
  {
   "cell_type": "code",
   "execution_count": null,
   "metadata": {},
   "outputs": [],
   "source": [
    "# wbc/(retc+irf), neu/seg, lym/mon, wbc/plti, plti/(retc+irf), wbc/(mon+lym), ig/(bas+neu+eos), retc/hb, wbc/rbci, rbci/(retc+irf)\n",
    "\n",
    "celldyn = celldyn.assign(wbc_over_rbc=0.5*celldyn.c_b_wbc/(celldyn.c_b_rbci+celldyn.c_b_rbco))\n",
    "celldyn = celldyn.assign(neu_over_seg=celldyn.c_b_neu/celldyn.c_b_seg)\n",
    "celldyn = celldyn.assign(neu_over_wbc=celldyn.c_b_neu/(celldyn.c_b_wbc-celldyn.c_b_neu))\n",
    "celldyn = celldyn.assign(lym_over_mon=celldyn.c_b_lym/celldyn.c_b_mon)\n",
    "celldyn = celldyn.assign(wbc_over_plt=celldyn.c_b_wbc/celldyn.plt) # plti, plto\n",
    "celldyn = celldyn.assign(plt_over_rbc=0.5*celldyn.plt/(celldyn.c_b_rbci+celldyn.c_b_rbco))\n",
    "celldyn = celldyn.assign(retc_over_hb=celldyn.c_b_retc/celldyn.c_b_hb)\n",
    "celldyn = celldyn.assign(rbc_over_irbc=celldyn.c_b_rbci/(celldyn.c_b_retc+celldyn.c_b_irf))\n",
    "celldyn = celldyn.assign(plt_over_lym=celldyn.plt/celldyn.c_b_lym)"
   ]
  },
  {
   "cell_type": "code",
   "execution_count": null,
   "metadata": {},
   "outputs": [],
   "source": [
    "# wbc_over_rbc\n",
    "# neu_over_seg\n",
    "# plt_over_rbc\n",
    "# wbc_over_plt\n",
    "\n",
    "plot_df = celldyn.sample(250000)\n",
    "plot_df = plot_df.groupby('draw_hour_dec').wbc_over_rbc.quantile([0.25, 0.5, 0.75]).to_frame().join(\n",
    "          plot_df.groupby('draw_hour_dec').neu_over_seg.quantile([0.25, 0.5, 0.75]).to_frame()).join(\n",
    "          plot_df.groupby('draw_hour_dec').plt_over_rbc.quantile([0.25, 0.5, 0.75]).to_frame()).join(\n",
    "          plot_df.groupby('draw_hour_dec').wbc_over_plt.quantile([0.25, 0.5, 0.75]).to_frame()).reset_index()\n",
    "          \n",
    "fig, ax = plt.subplots(ncols=2, nrows=2, figsize=(22,9))\n",
    "\n",
    "sns.lineplot(data=plot_df, x='draw_hour_dec', y='wbc_over_rbc', color='black', ax=ax[0,0])\n",
    "sns.lineplot(data=plot_df, x='draw_hour_dec', y='neu_over_seg', color='black', ax=ax[0,1])\n",
    "sns.lineplot(data=plot_df, x='draw_hour_dec', y='plt_over_rbc', color='black', ax=ax[1,0])\n",
    "sns.lineplot(data=plot_df, x='draw_hour_dec', y='wbc_over_plt', color='black', ax=ax[1,1])\n",
    "\n",
    "\n",
    "ax[0,0].set_xlabel('Hour of the day')\n",
    "ax[0,1].set_xlabel('Hour of the day')\n",
    "ax[1,0].set_xlabel('Hour of the day')\n",
    "ax[1,1].set_xlabel('Hour of the day')\n",
    "\n",
    "ax[0,0].set_ylabel('Leukocyte/erytrocyte ratio')\n",
    "ax[0,1].set_ylabel('Neutrophil/segment ratio')\n",
    "ax[1,0].set_ylabel('Platelet/erytrocyte ratio')\n",
    "ax[1,1].set_ylabel('Leukocyte/platelet ratio')\n",
    "\n",
    "plt.suptitle('Hourly variation of hematology ratios ', fontsize=16)"
   ]
  },
  {
   "cell_type": "code",
   "execution_count": null,
   "metadata": {},
   "outputs": [],
   "source": [
    "# 'neu:lym'\n",
    "# 'mon:lym'\n",
    "#  plt_over_lym\n",
    "#  retc_over_hb\n",
    "\n",
    "plot_df = celldyn.sample(250000)\n",
    "plot_df = plot_df.groupby('draw_hour_dec')['neu:lym'].quantile([0.25, 0.5, 0.75]).to_frame().join(\n",
    "          plot_df.groupby('draw_hour_dec')['mon:lym'].quantile([0.25, 0.5, 0.75]).to_frame()).join(\n",
    "          plot_df.groupby('draw_hour_dec').plt_over_lym.quantile([0.25, 0.5, 0.75]).to_frame()).join(\n",
    "          plot_df.groupby('draw_hour_dec').retc_over_hb.quantile([0.25, 0.5, 0.75]).to_frame()).reset_index()\n",
    "          \n",
    "fig, ax = plt.subplots(ncols=2, nrows=2, figsize=(22,9))\n",
    "\n",
    "sns.lineplot(data=plot_df, x='draw_hour_dec', y='neu:lym', color='black', ax=ax[0,0])\n",
    "sns.lineplot(data=plot_df, x='draw_hour_dec', y='mon:lym', color='black', ax=ax[0,1])\n",
    "sns.lineplot(data=plot_df, x='draw_hour_dec', y='plt_over_lym', color='black', ax=ax[1,0])\n",
    "sns.lineplot(data=plot_df, x='draw_hour_dec', y='retc_over_hb', color='black', ax=ax[1,1])\n",
    "\n",
    "\n",
    "ax[0,0].set_xlabel('Hour of the day')\n",
    "ax[0,1].set_xlabel('Hour of the day')\n",
    "ax[1,0].set_xlabel('Hour of the day')\n",
    "ax[1,1].set_xlabel('Hour of the day')\n",
    "\n",
    "ax[0,0].set_ylabel('Neutrophil/lymphocyte ratio')\n",
    "ax[0,1].set_ylabel('Monocyte/lymphocyte ratio')\n",
    "ax[1,0].set_ylabel('Platelet/lymphocyte ratio')\n",
    "ax[1,1].set_ylabel('Reticulocyte/hemoglobin ratio')\n",
    "\n",
    "plt.suptitle('Hourly variation of hematology ratios ', fontsize=16)"
   ]
  },
  {
   "cell_type": "code",
   "execution_count": null,
   "metadata": {},
   "outputs": [],
   "source": [
    "meas_cols.extend(['wbc_over_rbc', 'neu_over_seg', 'lym_over_mon', 'wbc_over_plt', 'neu_over_wbc',\n",
    "                  'plt_over_rbc', 'retc_over_hb', 'rbc_over_irbc', 'plt_over_lym'])"
   ]
  },
  {
   "cell_type": "code",
   "execution_count": null,
   "metadata": {},
   "outputs": [],
   "source": [
    "relnum_unique = pd.DataFrame(celldyn.nunique()/celldyn.shape[0])\n",
    "relnum_unique.columns = ['relnum_unique']"
   ]
  },
  {
   "cell_type": "code",
   "execution_count": null,
   "metadata": {},
   "outputs": [],
   "source": [
    "keep_meas_cols = relnum_unique.loc[meas_cols].query('relnum_unique>0.1').sort_values('relnum_unique', ascending=False).index"
   ]
  },
  {
   "attachments": {},
   "cell_type": "markdown",
   "metadata": {},
   "source": [
    "# Identify exemplars"
   ]
  },
  {
   "cell_type": "code",
   "execution_count": null,
   "metadata": {},
   "outputs": [],
   "source": [
    "feature_correlations = []\n",
    "for i in tqdm(range(20)):\n",
    "    feature_correlations.append(celldyn.sample(5000)[keep_meas_cols].corr(method='kendall'))"
   ]
  },
  {
   "cell_type": "code",
   "execution_count": null,
   "metadata": {},
   "outputs": [],
   "source": [
    "from sklearn.cluster import AffinityPropagation"
   ]
  },
  {
   "cell_type": "code",
   "execution_count": null,
   "metadata": {},
   "outputs": [],
   "source": [
    "w = 2\n",
    "count_dict = defaultdict(int)\n",
    "for corss in feature_correlations:\n",
    "    af_clust = AffinityPropagation(random_state=0, affinity='precomputed')\n",
    "    af_clust.fit(1-np.exp(w*(1-corss)))\n",
    "    for exemplar in corss.columns[af_clust.cluster_centers_indices_]:\n",
    "        count_dict[exemplar] += 1/len(feature_correlations)"
   ]
  },
  {
   "cell_type": "code",
   "execution_count": null,
   "metadata": {},
   "outputs": [],
   "source": [
    "pd.DataFrame(count_dict, index=[1]).T.rename(columns={1:'count'}).sort_values('count', ascending=False)"
   ]
  },
  {
   "attachments": {},
   "cell_type": "markdown",
   "metadata": {},
   "source": [
    "## Reduce dimensionality"
   ]
  },
  {
   "cell_type": "code",
   "execution_count": null,
   "metadata": {},
   "outputs": [],
   "source": [
    "reduced_dimensions = 6\n",
    "# manhattan: 40s, 50.000 samples\n",
    "# poincarre: 4m, 50.000 samples\n",
    "# fractional_distance: 2m, 50.000 samples\n",
    "dist =  fractional_distance #, poincarre_dist, manhattan, hyperboloid_dist\n",
    "reducer = UMAP(n_components=reduced_dimensions, n_neighbors=50, n_jobs=8, min_dist=0, metric=dist, densmap=False)\n",
    "emb_cols = [f'dim_{i}' for i in range(reduced_dimensions)]\n",
    "\n",
    "sample_index = celldyn.dropna(subset=keep_meas_cols).sample(250000).index\n",
    "celldyn_embedded = celldyn.loc[sample_index, meta_cols].copy()\n",
    "reduce_pipe = Pipeline([\n",
    "    #('Drop nan', FunctionTransformer(lambda x: x.dropna(axis=0, how='any'))),\n",
    "    ('Scaling Q', QuantileTransformer(n_quantiles=500, output_distribution='normal', random_state=42)),\n",
    "    ('Embedder', reducer),\n",
    "])\n",
    "reduce_pipe.fit(celldyn.loc[sample_index, keep_meas_cols])\n",
    "celldyn_embedded.loc[:, emb_cols] = reduce_pipe.transform(celldyn.loc[sample_index, keep_meas_cols])\n",
    "celldyn_embedded = celldyn_embedded.assign(normal_prick=celldyn_embedded.draw_hour==8)"
   ]
  },
  {
   "cell_type": "code",
   "execution_count": null,
   "metadata": {},
   "outputs": [],
   "source": [
    "import plotly.express as px"
   ]
  },
  {
   "cell_type": "code",
   "execution_count": null,
   "metadata": {},
   "outputs": [],
   "source": [
    "fig = px.scatter_3d(celldyn_embedded.sample(10000), x='dim_0', y='dim_1', z='dim_2',\n",
    "                    color='age', size_max=7, opacity=0.15)\n",
    "\n",
    "# tight layout\n",
    "fig.update_layout(margin=dict(l=0, r=0, b=0, t=0))"
   ]
  },
  {
   "cell_type": "code",
   "execution_count": null,
   "metadata": {},
   "outputs": [],
   "source": [
    "nqs = [0.25, 0.5, 0.75]\n",
    "reso = 'draw_hour_dec'\n",
    "aggvar = 'quantile'\n",
    "\n",
    "plot_df = celldyn_embedded.sample(250000)\n",
    "plot_df = plot_df.groupby(reso).dim_0.quantile(nqs).to_frame().join(\n",
    "          plot_df.groupby(reso).dim_1.quantile(nqs).to_frame()).join(\n",
    "          plot_df.groupby(reso).dim_2.quantile(nqs).to_frame()).join(\n",
    "          plot_df.groupby(reso).dim_3.quantile(nqs).to_frame()).join(\n",
    "          plot_df.groupby(reso).dim_4.quantile(nqs).to_frame()).join(\n",
    "          plot_df.groupby(reso).dim_5.quantile(nqs).to_frame()).reset_index()\n",
    "plot_df = plot_df.rename(columns={'level_1': 'quantile'})\n",
    "\n",
    "          \n",
    "fig, ax = plt.subplots(ncols=3, nrows=2, figsize=(22,12))\n",
    "\n",
    "sns.lineplot(data=plot_df, x=reso, y='dim_0', hue=aggvar, ax=ax[0,0])\n",
    "sns.lineplot(data=plot_df, x=reso, y='dim_1', hue=aggvar, ax=ax[0,1])\n",
    "sns.lineplot(data=plot_df, x=reso, y='dim_2', hue=aggvar, ax=ax[0,2])\n",
    "\n",
    "sns.lineplot(data=plot_df, x=reso, y='dim_3', hue=aggvar, ax=ax[1,0])\n",
    "sns.lineplot(data=plot_df, x=reso, y='dim_4', hue=aggvar, ax=ax[1,1])\n",
    "sns.lineplot(data=plot_df, x=reso, y='dim_5', hue=aggvar, ax=ax[1,2])\n",
    "\n",
    "ax[0,0].set_xlabel('Hour of the day')\n",
    "ax[0,1].set_xlabel('Hour of the day')\n",
    "ax[0,2].set_xlabel('Hour of the day')\n",
    "ax[1,0].set_xlabel('Hour of the day')\n",
    "ax[1,1].set_xlabel('Hour of the day')\n",
    "ax[1,2].set_xlabel('Hour of the day')\n",
    "\n",
    "ax[0,0].set_ylabel('embedded dimension 0')\n",
    "ax[0,1].set_ylabel('embedded dimension 1')\n",
    "ax[0,2].set_ylabel('embedded dimension 2')\n",
    "\n",
    "ax[1,0].set_ylabel('embedded dimension 3')\n",
    "ax[1,1].set_ylabel('embedded dimension 4')\n",
    "ax[1,2].set_ylabel('embedded dimension 5')\n",
    "\n",
    "plt.suptitle('Hourly variation of embedded values ', fontsize=16)\n",
    "plt.savefig(f'./../artifacts/embedding_intraday_variation.eps', dpi=300, bbox_inches='tight')"
   ]
  },
  {
   "cell_type": "code",
   "execution_count": null,
   "metadata": {},
   "outputs": [],
   "source": [
    "nqs = [0.25, 0.5, 0.75]\n",
    "reso = 'age'\n",
    "aggvar = 'quantile'\n",
    "\n",
    "plot_df = celldyn_embedded.loc[celldyn_embedded.age.between(0,90)]\n",
    "plot_df = plot_df.groupby(reso).dim_0.quantile(nqs).to_frame().join(\n",
    "          plot_df.groupby(reso).dim_1.quantile(nqs).to_frame()).join(\n",
    "          plot_df.groupby(reso).dim_2.quantile(nqs).to_frame()).join(\n",
    "          plot_df.groupby(reso).dim_3.quantile(nqs).to_frame()).join(\n",
    "          plot_df.groupby(reso).dim_4.quantile(nqs).to_frame()).join(\n",
    "          plot_df.groupby(reso).dim_5.quantile(nqs).to_frame()).reset_index()\n",
    "plot_df = plot_df.rename(columns={'level_1': 'quantile'})\n",
    "\n",
    "          \n",
    "fig, ax = plt.subplots(ncols=3, nrows=2, figsize=(22,12))\n",
    "\n",
    "sns.lineplot(data=plot_df, x=reso, y='dim_0', hue=aggvar, ax=ax[0,0])\n",
    "sns.lineplot(data=plot_df, x=reso, y='dim_1', hue=aggvar, ax=ax[0,1])\n",
    "sns.lineplot(data=plot_df, x=reso, y='dim_2', hue=aggvar, ax=ax[0,2])\n",
    "\n",
    "sns.lineplot(data=plot_df, x=reso, y='dim_3', hue=aggvar, ax=ax[1,0])\n",
    "sns.lineplot(data=plot_df, x=reso, y='dim_4', hue=aggvar, ax=ax[1,1])\n",
    "sns.lineplot(data=plot_df, x=reso, y='dim_5', hue=aggvar, ax=ax[1,2])\n",
    "\n",
    "ax[0,0].set_xlabel('Age')\n",
    "ax[0,1].set_xlabel('Age')\n",
    "ax[0,2].set_xlabel('Age')\n",
    "ax[1,0].set_xlabel('Age')\n",
    "ax[1,1].set_xlabel('Age')\n",
    "ax[1,2].set_xlabel('Age')\n",
    "\n",
    "ax[0,0].set_ylabel('embedded dimension 0')\n",
    "ax[0,1].set_ylabel('embedded dimension 1')\n",
    "ax[0,2].set_ylabel('embedded dimension 2')\n",
    "\n",
    "ax[1,0].set_ylabel('embedded dimension 3')\n",
    "ax[1,1].set_ylabel('embedded dimension 4')\n",
    "ax[1,2].set_ylabel('embedded dimension 5')\n",
    "\n",
    "plt.suptitle('Age variation of embedded values ', fontsize=16)\n",
    "plt.savefig(f'./../artifacts/embedding_intraAge_variation.eps', dpi=300, bbox_inches='tight')"
   ]
  },
  {
   "cell_type": "code",
   "execution_count": null,
   "metadata": {},
   "outputs": [],
   "source": [
    "PCA_reducer = PCA()\n",
    "reduce_pipe = Pipeline([\n",
    "    #('Drop nan', FunctionTransformer(lambda x: x.dropna(axis=0, how='any'))),\n",
    "    ('Scaling Q', QuantileTransformer(n_quantiles=500, output_distribution='normal', random_state=42)),\n",
    "    ('Reduce', PCA_reducer)])\n",
    "reduce_pipe.fit(celldyn.loc[sample_index, keep_meas_cols])"
   ]
  },
  {
   "cell_type": "code",
   "execution_count": null,
   "metadata": {},
   "outputs": [],
   "source": [
    "plt.plot(np.cumsum(reduce_pipe.named_steps['Reduce'].explained_variance_ratio_))\n",
    "plt.axhline(0.95, color='red')"
   ]
  },
  {
   "cell_type": "code",
   "execution_count": null,
   "metadata": {},
   "outputs": [],
   "source": [
    "n_comps = 3\n",
    "PCA_reducer = FactorAnalysis(rotation='varimax', n_components=n_comps)\n",
    "reduce_pipe = Pipeline([\n",
    "    #('Drop nan', FunctionTransformer(lambda x: x.dropna(axis=0, how='any'))),\n",
    "    ('Scaling Q', QuantileTransformer(n_quantiles=500, output_distribution='normal', random_state=42)),\n",
    "    ('Reduce', PCA_reducer)])\n",
    "reduce_pipe.fit(celldyn.loc[sample_index, keep_meas_cols])\n",
    "\n",
    "FA_weights = pd.DataFrame(data=reduce_pipe.named_steps['Reduce'].components_, columns=keep_meas_cols, index=['comp_{}'.format(i) for i in range(n_comps)])"
   ]
  },
  {
   "cell_type": "code",
   "execution_count": null,
   "metadata": {},
   "outputs": [],
   "source": [
    "FA_weights"
   ]
  },
  {
   "cell_type": "code",
   "execution_count": null,
   "metadata": {},
   "outputs": [],
   "source": [
    "nred = 32\n",
    "NMF_reducer = NMF(l1_ratio=1, max_iter=2000, n_components=nred)\n",
    "reduce_pipe = Pipeline([\n",
    "    #('Drop nan', FunctionTransformer(lambda x: x.dropna(axis=0, how='any'))),\n",
    "    ('Scaling Q', QuantileTransformer(n_quantiles=500, output_distribution='uniform', random_state=42)),\n",
    "    ('Reduce', NMF_reducer)])\n",
    "reduce_pipe.fit(celldyn.loc[sample_index, keep_meas_cols])\n",
    "\n",
    "NMF_weights = pd.DataFrame(data=reduce_pipe.named_steps['Reduce'].components_, columns=keep_meas_cols, \n",
    "                           index=['comp_{}'.format(i) for i in range(nred)])"
   ]
  },
  {
   "cell_type": "code",
   "execution_count": null,
   "metadata": {},
   "outputs": [],
   "source": [
    "NMF_reducer.reconstruction_err_"
   ]
  },
  {
   "cell_type": "code",
   "execution_count": null,
   "metadata": {},
   "outputs": [],
   "source": [
    "NMF_weights.sum(axis=0).sort_values(ascending=False)[:25]"
   ]
  },
  {
   "cell_type": "code",
   "execution_count": null,
   "metadata": {},
   "outputs": [],
   "source": [
    "sPCA_reducer = SparsePCA(method='lars', max_iter=1500)\n",
    "reduce_pipe = Pipeline([\n",
    "    #('Drop nan', FunctionTransformer(lambda x: x.dropna(axis=0, how='any'))),\n",
    "    #('Scaling Q', QuantileTransformer(n_quantiles=100, output_distribution='normal', random_state=123)),\n",
    "    ('Scaling S', StandardScaler()),\n",
    "    ('Reduce', sPCA_reducer)])\n",
    "reduce_pipe.fit(celldyn.loc[sample_index, keep_meas_cols])\n",
    "\n",
    "sPCA_weights = pd.DataFrame(data=reduce_pipe.named_steps['Reduce'].components_, columns=keep_meas_cols, \n",
    "                            index=['comp_{}'.format(i) for i in range(len(keep_meas_cols))])"
   ]
  },
  {
   "cell_type": "code",
   "execution_count": null,
   "metadata": {},
   "outputs": [],
   "source": [
    "sPCA_weights.columns[(sPCA_weights!=0).sum(axis=0)>1]"
   ]
  },
  {
   "cell_type": "code",
   "execution_count": null,
   "metadata": {},
   "outputs": [],
   "source": [
    "qt =  QuantileTransformer(n_quantiles=50, output_distribution='normal', random_state=123)\n",
    "sparse_coded_celldyn = SparseCoder(dictionary=qt.fit_transform(celldyn.loc[sample_index, keep_meas_cols].T.values))\\\n",
    "                                                .fit_transform(celldyn.loc[sample_index, keep_meas_cols].T.values)\n",
    "sCoded_recon = pd.DataFrame(data=sparse_coded_celldyn, columns=keep_meas_cols, \n",
    "                            index=['comp_{}'.format(i) for i in range(len(keep_meas_cols))])"
   ]
  },
  {
   "cell_type": "code",
   "execution_count": null,
   "metadata": {},
   "outputs": [],
   "source": [
    "from scipy.spatial.distance import pdist\n",
    "from scipy.spatial.distance import cdist\n",
    "from scipy.spatial import distance\n",
    "from sklearn.metrics import cohen_kappa_score, matthews_corrcoef\n",
    "import dcor"
   ]
  },
  {
   "cell_type": "code",
   "execution_count": null,
   "metadata": {},
   "outputs": [],
   "source": [
    "# how important is each component in reconstructing the original data\n",
    "# - sub sample\n",
    "#   -- determine the distance matrix between the samples on the basis of the original components\n",
    "#   -- randomly permute the components and retry\n",
    "\n",
    "def get_distance(X: np.array)-> np.array:\n",
    "    return pdist(X, metric='cityblock')\n",
    "\n",
    "def get_rank(D)-> np.array:\n",
    "    return np.argsort(D)\n",
    "\n",
    "@lru_cache(maxsize=None)\n",
    "def permute_vector(l=1000, n=0):\n",
    "    return np.random.permutation(l)\n",
    "\n",
    "def get_permuted_rank(X, n_perm=10):\n",
    "    num_features = X.shape[1]\n",
    "    num_samples = X.shape[0]\n",
    "\n",
    "    perm_vectors = [permute_vector(l=num_samples, n=n) for n in range(n_perm)]\n",
    "\n",
    "    res_array = []    \n",
    "    for d in range(num_features):\n",
    "        sub_list = []\n",
    "        for n in range(n_perm):\n",
    "            X_perm = X.copy()\n",
    "            X_perm[:, d] = X[perm_vectors[n], d]\n",
    "            rank_vector = get_rank(get_distance(X_perm))\n",
    "            sub_list.append(rank_vector)\n",
    "        res_array.append(sub_list)\n",
    "    return res_array\n",
    "\n",
    "def get_perturbed_rank(X, n_pert=10):\n",
    "    num_features = X.shape[1]\n",
    "    num_samples = X.shape[0]\n",
    "\n",
    "    stats_list = []\n",
    "    for d in range(num_features):\n",
    "        stats_list.append((np.mean(X[:, d]), np.std(X[:, d])))\n",
    "\n",
    "    res_array = []    \n",
    "    for d in range(num_features):\n",
    "        sub_list = []\n",
    "        for n in range(n_pert):\n",
    "            perburbation_vector = np.random.normal(loc=0, scale=2*stats_list[d][1], size=num_samples)\n",
    "            X_perb = X.copy()\n",
    "            X_perb[:, d] = X[:, d] + perburbation_vector\n",
    "            rank_vector = get_rank(get_distance(X_perb))\n",
    "            sub_list.append(rank_vector)\n",
    "        res_array.append(sub_list)\n",
    "    return res_array\n",
    "\n",
    "def rank_match(v1,v2):\n",
    "    return np.sum(v1-v2)/len(v1)\n",
    "\n",
    "def repeated_agreement_metric(v1, v2, num_rounds=100, num_per_round=100):\n",
    "    scores = []\n",
    "    for _ in range(num_rounds):\n",
    "        batch = np.random.choice(len(v1), size=num_per_round, replace=True)\n",
    "        score = cohen_kappa_score(v1[batch], v2[batch])\n",
    "        scores.append(score)\n",
    "    return np.mean(scores)\n",
    "\n",
    "def compare_rank_with_original(X, rank_metric='correlation', n_perm=10, n_pert=10, how='permutation'):\n",
    "    orank = get_rank(get_distance(X))\n",
    "\n",
    "    if how == 'permutation':\n",
    "        changed_ranks = get_permuted_rank(X, n_perm=n_perm)\n",
    "    elif how== 'perturbation':\n",
    "        changed_ranks = get_perturbed_rank(X, n_pert=n_pert)\n",
    "    else:\n",
    "        raise ValueError('how should be either permutation or perturbation')\n",
    "\n",
    "    # rank-distance\n",
    "    res = []\n",
    "    for d in range(X.shape[1]):\n",
    "        sub_res = []\n",
    "        for prank in changed_ranks[d]:\n",
    "            sub_res.append(repeated_agreement_metric(orank.ravel(), prank.ravel()))\n",
    "        res.append(sub_res)\n",
    "    return res\n",
    "\n",
    "def get_permuted_distance_correlation(X, n_perm=10):\n",
    "    num_features = X.shape[1]\n",
    "    num_samples = X.shape[0]\n",
    "    res = []\n",
    "    for d in tqdm(range(num_features)):\n",
    "        sub_list = []\n",
    "        for n in range(n_perm):\n",
    "            X_perm = X.copy()\n",
    "            X_perm[:, d] = X[permute_vector(l=num_samples, n=n), d]\n",
    "            sub_list.append(dcor.distance_correlation(X, X_perm))\n",
    "        res.append(sub_list)\n",
    "    return res\n",
    "\n",
    "def get_perturbed_distance_correlation(X, n_perm=10):\n",
    "    num_features = X.shape[1]\n",
    "    num_samples = X.shape[0]\n",
    "        \t\n",
    "    stats_list = []\n",
    "    for d in range(num_features):\n",
    "        stats_list.append((np.mean(X[:, d]), np.std(X[:, d])))\n",
    "\n",
    "    res = []\n",
    "    for d in tqdm(range(num_features)):\n",
    "        sub_list = []\n",
    "        for n in range(n_perm):\n",
    "            perburbation_vector = np.random.normal(loc=1, scale=4*stats_list[d][1]/np.abs(stats_list[d][0]), size=num_samples)\n",
    "            X_perm = X.copy()\n",
    "            X_perm[:, d] = X[:, d] * perburbation_vector\n",
    "            dist = dcor.distance_correlation(X, X_perm)\n",
    "            sub_list.append(dist)\n",
    "        res.append(sub_list)\n",
    "    return res\n"
   ]
  },
  {
   "cell_type": "code",
   "execution_count": null,
   "metadata": {},
   "outputs": [],
   "source": [
    "np_perm = 5\n",
    "np_pert = 5\n",
    "sample_size = 1000\n",
    "rank_results = compare_rank_with_original(QuantileTransformer(output_distribution='normal', n_quantiles=100)\\\n",
    "                            .fit_transform(celldyn.dropna().sample(sample_size).loc[:, keep_meas_cols].values), \n",
    "                            n_perm=np_perm, n_pert=np_pert, how='perturbation')\n",
    "rank_results_df = pd.DataFrame(rank_results, index=keep_meas_cols, columns=[f'round_{i}' for i in range(np_perm)])"
   ]
  },
  {
   "cell_type": "code",
   "execution_count": null,
   "metadata": {},
   "outputs": [],
   "source": [
    "np_perm = 100\n",
    "dist_results = get_perturbed_distance_correlation(QuantileTransformer(output_distribution='normal', n_quantiles=100)\\\n",
    "                                                  .fit_transform(celldyn.dropna().sample(sample_size).loc[:, keep_meas_cols].values), n_perm=np_perm)\n",
    "dist_results_df = pd.DataFrame(dist_results, index=keep_meas_cols, columns=[f'round_{i}' for i in range(np_perm)])"
   ]
  },
  {
   "cell_type": "code",
   "execution_count": null,
   "metadata": {},
   "outputs": [],
   "source": [
    "rank_results_df.mean(axis=1).sort_values(ascending=False)[:20]"
   ]
  },
  {
   "cell_type": "code",
   "execution_count": null,
   "metadata": {},
   "outputs": [],
   "source": [
    "dist_results_df.mean(axis=1).sort_values(ascending=False)[:20]"
   ]
  },
  {
   "attachments": {},
   "cell_type": "markdown",
   "metadata": {},
   "source": [
    "# Concrete AutoEncoder"
   ]
  },
  {
   "cell_type": "code",
   "execution_count": null,
   "metadata": {},
   "outputs": [],
   "source": [
    "from concrete_autoencoder import ConcreteAutoencoderFeatureSelector\n",
    "from keras.datasets import mnist\n",
    "from keras.utils import to_categorical\n",
    "from keras.layers import Dense, Dropout, LeakyReLU\n",
    "from sklearn.model_selection import train_test_split"
   ]
  },
  {
   "cell_type": "code",
   "execution_count": null,
   "metadata": {},
   "outputs": [],
   "source": [
    "X  = QuantileTransformer(output_distribution='normal', n_quantiles=250).fit_transform(celldyn.dropna().sample(100000).loc[:, meas_cols].values)\n",
    "\n",
    "num_rounds = 100\n",
    "feature_selection = []\n",
    "for _ in tqdm(range(num_rounds)):\n",
    "    x_train, x_test, _, _ = train_test_split(X, X, test_size=0.2, random_state=None)\n",
    "    x_train = np.reshape(x_train, (len(x_train), -1))\n",
    "    x_test = np.reshape(x_test, (len(x_test), -1))\n",
    "\n",
    "    def decoder(x):\n",
    "        x = Dense(512)(x)\n",
    "        x = LeakyReLU(0.2)(x)\n",
    "        x = Dropout(0.1)(x)\n",
    "        x = Dense(512)(x)\n",
    "        x = LeakyReLU(0.2)(x)\n",
    "        x = Dropout(0.1)(x)\n",
    "        x = Dense(X.shape[1])(x)\n",
    "        return x\n",
    "\n",
    "    selector = ConcreteAutoencoderFeatureSelector(K = 32, output_function = decoder, num_epochs = 450)\n",
    "\n",
    "    selector.fit(x_train, x_train, x_test, x_test)\n",
    "    feature_selection.append(np.array(meas_cols)[selector.get_support(indices=True)])"
   ]
  },
  {
   "cell_type": "code",
   "execution_count": null,
   "metadata": {},
   "outputs": [],
   "source": [
    "count_dict = defaultdict(int)\n",
    "\n",
    "for i in feature_selection:\n",
    "    for j in i:\n",
    "        count_dict[j] += 1/len(feature_selection)\n",
    "        \n",
    "    presence_df = pd.DataFrame(count_dict, index=[0]).T.sort_values(by=0, ascending=False).rename(columns={0:'presence'})"
   ]
  },
  {
   "cell_type": "code",
   "execution_count": null,
   "metadata": {},
   "outputs": [],
   "source": [
    "presence_df[:20]"
   ]
  },
  {
   "cell_type": "code",
   "execution_count": null,
   "metadata": {},
   "outputs": [],
   "source": [
    "# https://github.com/bwohlberg/sporco"
   ]
  }
 ],
 "metadata": {
  "kernelspec": {
   "display_name": "embedder",
   "language": "python",
   "name": "python3"
  },
  "language_info": {
   "codemirror_mode": {
    "name": "ipython",
    "version": 3
   },
   "file_extension": ".py",
   "mimetype": "text/x-python",
   "name": "python",
   "nbconvert_exporter": "python",
   "pygments_lexer": "ipython3",
   "version": "3.8.10"
  },
  "orig_nbformat": 4,
  "vscode": {
   "interpreter": {
    "hash": "51a0a984460df69ea8ef0d6fc0c7e856972b26960206abd6058f9a5bb0251c26"
   }
  }
 },
 "nbformat": 4,
 "nbformat_minor": 2
}
