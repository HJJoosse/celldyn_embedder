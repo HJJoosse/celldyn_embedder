{
 "cells": [
  {
   "cell_type": "code",
   "execution_count": 10,
   "metadata": {},
   "outputs": [
    {
     "ename": "ModuleNotFoundError",
     "evalue": "No module named 'hdbscan'",
     "output_type": "error",
     "traceback": [
      "\u001b[0;31m---------------------------------------------------------------------------\u001b[0m",
      "\u001b[0;31mModuleNotFoundError\u001b[0m                       Traceback (most recent call last)",
      "\u001b[1;32m/media/koekiemonster/home/bramiozo/DEV/GIT/UPOD/celldyn_embedder/sandbox/test_distance.ipynb Cell 1\u001b[0m in \u001b[0;36m<cell line: 5>\u001b[0;34m()\u001b[0m\n\u001b[1;32m      <a href='vscode-notebook-cell:/media/koekiemonster/home/bramiozo/DEV/GIT/UPOD/celldyn_embedder/sandbox/test_distance.ipynb#W0sZmlsZQ%3D%3D?line=1'>2</a>\u001b[0m \u001b[39mimport\u001b[39;00m \u001b[39mnumpy\u001b[39;00m\n\u001b[1;32m      <a href='vscode-notebook-cell:/media/koekiemonster/home/bramiozo/DEV/GIT/UPOD/celldyn_embedder/sandbox/test_distance.ipynb#W0sZmlsZQ%3D%3D?line=2'>3</a>\u001b[0m \u001b[39mimport\u001b[39;00m \u001b[39mscipy\u001b[39;00m\n\u001b[0;32m----> <a href='vscode-notebook-cell:/media/koekiemonster/home/bramiozo/DEV/GIT/UPOD/celldyn_embedder/sandbox/test_distance.ipynb#W0sZmlsZQ%3D%3D?line=4'>5</a>\u001b[0m \u001b[39mimport\u001b[39;00m \u001b[39mhdbscan\u001b[39;00m\n\u001b[1;32m      <a href='vscode-notebook-cell:/media/koekiemonster/home/bramiozo/DEV/GIT/UPOD/celldyn_embedder/sandbox/test_distance.ipynb#W0sZmlsZQ%3D%3D?line=6'>7</a>\u001b[0m \u001b[39mimport\u001b[39;00m \u001b[39mpandas\u001b[39;00m\n\u001b[1;32m      <a href='vscode-notebook-cell:/media/koekiemonster/home/bramiozo/DEV/GIT/UPOD/celldyn_embedder/sandbox/test_distance.ipynb#W0sZmlsZQ%3D%3D?line=7'>8</a>\u001b[0m \u001b[39m#import polars\u001b[39;00m\n\u001b[1;32m      <a href='vscode-notebook-cell:/media/koekiemonster/home/bramiozo/DEV/GIT/UPOD/celldyn_embedder/sandbox/test_distance.ipynb#W0sZmlsZQ%3D%3D?line=8'>9</a>\u001b[0m \u001b[39m#import duckdb\u001b[39;00m\n",
      "\u001b[0;31mModuleNotFoundError\u001b[0m: No module named 'hdbscan'"
     ]
    }
   ],
   "source": [
    "import distance\n",
    "import numpy\n",
    "import scipy\n",
    "\n",
    "#import hdbscan\n",
    "\n",
    "import pandas\n",
    "#import polars\n",
    "import duckdb\n",
    "\n",
    "\n",
    "import os"
   ]
  },
  {
   "cell_type": "code",
   "execution_count": 7,
   "metadata": {},
   "outputs": [],
   "source": [
    "data = pandas.read_feather(\"/media/UMCU/data/CellDyn/celldyn_cleaned_transformed_imputed_ALL_with_ratios.feather\")"
   ]
  },
  {
   "cell_type": "code",
   "execution_count": 22,
   "metadata": {},
   "outputs": [],
   "source": [
    "meta_cols = ['level_0', 'index', 'studyid_alle_celldyn', 'bestanden', 'fcs_id',\n",
    "             'bevat', 'asp_dt', 'key', 'seq2', 'seq', 'analyzer', 'swver', 'barcode',\n",
    "             'racknum', 'tubepos', 'opid', 'specid', 'c_mode_cbc', 'c_mode_rtc',\n",
    "             'c_mode_cd61', 'cd348test', 'c_mode_xlyse', 'c_mode_xcnt', 'csftest',\n",
    "             'wbcflowtest', 'rbcflowtest', 'pltflowtest', 'c_mode', 'c_fixedcells',\n",
    "             'clin']\n",
    "\n",
    "val_cols = [col for col in data.columns if col not in meta_cols]"
   ]
  },
  {
   "cell_type": "code",
   "execution_count": 30,
   "metadata": {},
   "outputs": [
    {
     "data": {
      "text/plain": [
       "<AxesSubplot:>"
      ]
     },
     "execution_count": 30,
     "metadata": {},
     "output_type": "execute_result"
    },
    {
     "data": {
      "image/png": "[encoded data removed]",
      "text/plain": [
       "<Figure size 432x288 with 1 Axes>"
      ]
     },
     "metadata": {
      "needs_background": "light"
     },
     "output_type": "display_data"
    }
   ],
   "source": [
    "data['c_b_pbnd'].hist(bins=100)"
   ]
  }
 ],
 "metadata": {
  "kernelspec": {
   "display_name": "Python 3.8.10 ('embedder_3912')",
   "language": "python",
   "name": "python3"
  },
  "language_info": {
   "codemirror_mode": {
    "name": "ipython",
    "version": 3
   },
   "file_extension": ".py",
   "mimetype": "text/x-python",
   "name": "python",
   "nbconvert_exporter": "python",
   "pygments_lexer": "ipython3",
   "version": "3.8.10"
  },
  "orig_nbformat": 4,
  "vscode": {
   "interpreter": {
    "hash": "bc82f4d44717c3f14757ff803e712b59ee0f6188bd5f91972d0fede0822bb95e"
   }
  }
 },
 "nbformat": 4,
 "nbformat_minor": 2
}
