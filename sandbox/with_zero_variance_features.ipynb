{
 "cells": [
  {
   "cell_type": "code",
   "execution_count": 179,
   "metadata": {},
   "outputs": [],
   "source": [
    "#trustworthiness --> sklearn\n",
    "# distance correlation correlation --> zelf chefffen\n",
    "# knn-overlap - distance curve and integral\n",
    "# poincarre\n",
    "\n",
    "\n",
    "### knn_overlap -> find knn in true space random sample. Then embedding do the same for indices -> jaccard score\n",
    "__author__ = \"Bram van ES\", \"Huibert-Jan Joosse\", \"Chontira Chumsaeng\"\n",
    "\n",
    "from setup_cc import *\n",
    "import pandas as pd\n",
    "import umap\n",
    "import matplotlib.pyplot as plt\n",
    "import seaborn as sns\n",
    "import numpy as np\n",
    "import hembedder.utils._cpython._metrics_cy as metrics_cy\n",
    "\n",
    "from tqdm import tqdm\n",
    "from hembedder.utils import quality_metrics as qm\n",
    "\n",
    "from sklearn.preprocessing import StandardScaler\n",
    "from hembedder.utils.quality_metrics import compute_coranking_matrix\n",
    "from hembedder.utils import quality_metrics\n",
    "import queue"
   ]
  },
  {
   "cell_type": "code",
   "execution_count": 2,
   "metadata": {},
   "outputs": [],
   "source": [
    "from sklearn.preprocessing import StandardScaler\n",
    "from hembedder.utils.quality_metrics import compute_coranking_matrix\n",
    "from hembedder.utils import quality_metrics\n",
    "import queue\n",
    "\n",
    "def get_scores(embedded_info): \n",
    "    #Get performance metrics for each subsampled embedder\n",
    "    evaluate_n_n_default = quality_metrics.CDEmbeddingPerformance(dcor_level=2, n_neighbours=15, metric='manhattan')\n",
    "    evaluate = quality_metrics.CDEmbeddingPerformance(dcor_level=1,metric='manhattan')\n",
    "\n",
    "    evaluators = {'Random_triplets' : evaluate.random_triplet_eval,\n",
    "            'dcor_1': evaluate._return_distance_correlation,\n",
    "            'neighbor_kept_50' : evaluate.neighbor_kept_ratio_eval,\n",
    "            'neighbor_kept' : evaluate_n_n_default.neighbor_kept_ratio_eval,\n",
    "            'dcor_2': evaluate_n_n_default._return_distance_correlation,\n",
    "            'Trustworthiness': evaluate._return_trustworthiness,\n",
    "            'LCMC_Q_matrix': evaluate._return_LCMC,\n",
    "            'Trustworthiness_Q_matrix': evaluate._return_Qtrustworthiness,\n",
    "            'Continuit_Q_matrix':  evaluate._return_Qcontinuity,\n",
    "            'nMRRE_Q_matrix' : evaluate._return_nMRRE,\n",
    "            'vMRRE_Q_matrix' : evaluate._return_vMRRE,\n",
    "            'Qnx_crm_Q_matrix': evaluate._return_qnx_crm,\n",
    "            'Rnx_crm_Q_matrix': evaluate._return_rnx_crm,\n",
    "            'Qnx_auc_crm_Q_matrix': evaluate._return_rnx_auc_crm}\n",
    "    embedded_info.update({'evaluators': evaluators})\n",
    "    scores = metrics_scores_iter(**embedded_info)\n",
    "    return scores\n",
    "\n",
    "def get_embedded_data(X,parameter:dict, embedder,num_iter,subsampling):\n",
    "    #Get embedded data from original data by subsampling\n",
    "    X = np.asarray(X, dtype=np.float32)\n",
    "    embedded_data = []\n",
    "    times = []\n",
    "    for iter in range(num_iter):\n",
    "        start = time.time()\n",
    "        sub = numpy_sampling(X, subsampling)\n",
    "        # Evaluate randomly selected hyperparameters\n",
    "        CD_scaled = sub.copy()\n",
    "    \n",
    "        scaler = StandardScaler()\n",
    "        CD_scaled = scaler.fit_transform(sub)\n",
    "        # Create a dictionary for later reference in multi-thread\n",
    "        indexes_metrics= subsampling_return_indexes(sub, 5000)\n",
    "        emb_dict = {\"original\" : sub[indexes_metrics],\n",
    "                    \"embedded\" : embedder(**parameter).fit_transform(CD_scaled).astype(np.float32)[indexes_metrics]}\n",
    "        embedded_data.append(emb_dict)\n",
    "        #times.append(time.time()-start)\n",
    "    return embedded_data\n",
    "\n",
    "def get_embedded_without_embedding(X, X_embedded,num_iter,subsampling):\n",
    "    #Get embedded data from original data by subsampling\n",
    "    rng = np.random.default_rng(seed=42)\n",
    "    X = np.asarray(X, dtype=np.float16)\n",
    "    X_embedded = np.asarray(X_embedded,dtype=np.float16)\n",
    "    embedded_data = []\n",
    "    for iter in range(num_iter):\n",
    "        sample_index = rng.choice(np.arange(X.shape[0]), size=subsampling, replace=False)\n",
    "        # Create a dictionary for later reference in multi-thread\n",
    "        emb_dict = {\"x\" : X[sample_index],\n",
    "                    \"output\" : X_embedded[sample_index],\n",
    "                    \"Q\":compute_coranking_matrix(X[sample_index],\\\n",
    "                    X_embedded[sample_index], leave = False).astype(np.int32)}\n",
    "        embedded_data.append(emb_dict)\n",
    "        \n",
    "    return embedded_data\n",
    "\n",
    "def metrics_scores_iter(\n",
    "    x: np.array,\n",
    "    output: np.array,\n",
    "    evaluators: dict,\n",
    "    **args\n",
    "):\n",
    "    \"\"\"Calculates scores for embedder using different metrics (evaluators).\n",
    "\n",
    "    Parameters\n",
    "    ---------\n",
    "    x: np.array\n",
    "        original unemedded data\n",
    "    output: np.array\n",
    "        output array from the embedder for evaluation\n",
    "    evaluators: dict\n",
    "        further arguments to include the metrics (as function statement in a dict)\n",
    "        if the functions take x and output as arguments.\n",
    "\n",
    "    Returns\n",
    "    ---------\n",
    "    results: dict\n",
    "        dictonary of metrics and their calculated scores.\n",
    "    \"\"\"\n",
    "    results = {}\n",
    "    for name, metric in evaluators.items():\n",
    "        if(\"Q\" in args.keys() and \"Q_matrix\" in name):\n",
    "            results.update({name: metric(x, output,args[\"Q\"])})\n",
    "        else:\n",
    "            results.update({name: metric(x, output)})\n",
    "    return results\n",
    "\n",
    "\n",
    "def get_embedded_without_embedding_queue(X, X_embedded,num_iter,subsampling):\n",
    "    #Get embedded data from original data by subsampling\n",
    "    rng = np.random.default_rng(seed=42)\n",
    "    X = np.asarray(X, dtype=np.float16)\n",
    "    X_embedded = np.asarray(X_embedded,dtype=np.float16)\n",
    "    embedded_data = queue.Queue()\n",
    "    for iter in range(num_iter):\n",
    "        sample_index = rng.choice(np.arange(X.shape[0]), size=subsampling, replace=False)\n",
    "        print(len(sample_index))\n",
    "        # Create a dictionary for later reference in multi-thread\n",
    "        emb_dict = {\"original\" : X[sample_index],\n",
    "                    \"embedded\" : X_embedded[sample_index]}\n",
    "        embedded_data.put(emb_dict)\n",
    "        \n",
    "    return embedded_data\n",
    "\n",
    "def numpy_sampling(X, subsampling):  \n",
    "    n_data = len(X) \n",
    "    idx = np.arange(n_data) \n",
    "    np.random.shuffle(idx) \n",
    "    return X[idx[: subsampling],:] \n",
    "\n",
    "def subsampling_return_indexes(X, subsampling):\n",
    "    rand = np.random.default_rng()\n",
    "    n_data = len(X) \n",
    "    subsampling = min(n_data, subsampling) \n",
    "    return  rand.choice(np.arange(n_data), size=subsampling, replace=False)"
   ]
  },
  {
   "cell_type": "code",
   "execution_count": 162,
   "metadata": {},
   "outputs": [],
   "source": [
    "from sklearn.preprocessing import StandardScaler\n",
    "from sklearn.pipeline import Pipeline\n",
    "import trimap\n",
    "from sklearn.decomposition import PCA\n",
    "from sklearn.random_projection import GaussianRandomProjection\n",
    "import pacmap\n",
    "import phate\n",
    "\n",
    "\n",
    "metric = \"manhattan\"\n",
    "\n",
    "embedder_3 = umap.UMAP(n_components=3,n_neighbors=50,metric = metric, output_metric= metric,\n",
    "                        n_jobs=4, n_epochs=500, init = 'spectral',dens_lambda=2, dens_frac=0.3, \n",
    "                        repulsion_strength=1, negative_sample_rate=10, random_state=42, min_dist=0.0, learning_rate=5)\n",
    "\n",
    "embedder_6 = umap.UMAP(n_components=6,n_neighbors=50,metric = metric, output_metric= metric,\n",
    "                        n_jobs=4, n_epochs=500, init = 'spectral',dens_lambda=2, dens_frac=0.3, \n",
    "                        repulsion_strength=1, negative_sample_rate=10, random_state=42, min_dist=0.0, learning_rate=5)\n",
    "\n",
    "embedder_15 = umap.UMAP(n_components=15,n_neighbors=50,metric = metric, output_metric= metric,\n",
    "                        n_jobs=4, n_epochs=500, init = 'spectral',dens_lambda=2, dens_frac=0.3, \n",
    "                        repulsion_strength=1, negative_sample_rate=10, random_state=42, min_dist=0.0, learning_rate=5)\n",
    "\n",
    "embedder_30 = umap.UMAP(n_components=30,n_neighbors=50,metric = metric, output_metric= metric,\n",
    "                        n_jobs=4, n_epochs=500, init = 'spectral',dens_lambda=2, dens_frac=0.3, \n",
    "                        repulsion_strength=1, negative_sample_rate=10, random_state=42, min_dist=0.0, learning_rate=5)\n",
    "\n",
    "embedder_60 = umap.UMAP(n_components=60,n_neighbors=100,metric = metric, output_metric= metric,\n",
    "                        n_jobs=4, n_epochs=500, init = 'spectral',dens_lambda=2, dens_frac=0.3, \n",
    "                        repulsion_strength=1, negative_sample_rate=10, random_state=42, min_dist=0.0, learning_rate=5)\n",
    "\n",
    "\n",
    "\n",
    "\n",
    "embedder_3_all = umap.UMAP(n_components=3,n_neighbors=50,metric = metric, output_metric= metric,\n",
    "                        n_jobs=4, n_epochs=500, init = 'spectral',dens_lambda=2, dens_frac=0.3, \n",
    "                        repulsion_strength=1, negative_sample_rate=10, random_state=42, min_dist=0.0, learning_rate=5)\n",
    "\n",
    "embedder_6_all = umap.UMAP(n_components=6,n_neighbors=50,metric = metric, output_metric= metric,\n",
    "                        n_jobs=4, n_epochs=500, init = 'spectral',dens_lambda=2, dens_frac=0.3, \n",
    "                        repulsion_strength=1, negative_sample_rate=10, random_state=42, min_dist=0.0, learning_rate=5)\n",
    "\n",
    "embedder_15_all = umap.UMAP(n_components=15,n_neighbors=50,metric = metric, output_metric= metric,\n",
    "                        n_jobs=4, n_epochs=500, init = 'spectral',dens_lambda=2, dens_frac=0.3, \n",
    "                        repulsion_strength=1, negative_sample_rate=10, random_state=42, min_dist=0.0, learning_rate=5)\n",
    "\n",
    "embedder_30_all = umap.UMAP(n_components=30,n_neighbors=50,metric = metric, output_metric= metric,\n",
    "                        n_jobs=4, n_epochs=500, init = 'spectral',dens_lambda=2, dens_frac=0.3, \n",
    "                        repulsion_strength=1, negative_sample_rate=10, random_state=42, min_dist=0.0, learning_rate=5)\n",
    "\n",
    "embedder_60_all = umap.UMAP(n_components=60,n_neighbors=100,metric = metric, output_metric= metric,\n",
    "                        n_jobs=4, n_epochs=500, init = 'spectral',dens_lambda=2, dens_frac=0.3, \n",
    "                        repulsion_strength=1, negative_sample_rate=10, random_state=42, min_dist=0.0, learning_rate=5)\n"
   ]
  },
  {
   "cell_type": "code",
   "execution_count": 180,
   "metadata": {},
   "outputs": [],
   "source": [
    "cell_dyn_with_labels = pd.read_feather(\"data/cell_dyn_gender_Full_100_encoded.feather\")\n",
    "\n",
    "cell_dyn = cell_dyn_with_labels.loc[:, cols_c_b_combo]\n"
   ]
  },
  {
   "cell_type": "code",
   "execution_count": 181,
   "metadata": {},
   "outputs": [],
   "source": [
    "sample_index = cell_dyn_with_labels.sample(50000).index\n",
    "sampled_cd = np.asarray(cell_dyn.loc[sample_index], dtype=np.float32)\n",
    "indexes_metrics= subsampling_return_indexes(sampled_cd, 10000)\n",
    "age = np.array(cell_dyn_with_labels.age.loc[sample_index])"
   ]
  },
  {
   "cell_type": "code",
   "execution_count": 168,
   "metadata": {},
   "outputs": [],
   "source": [
    "org_data = pd.read_sas(\"T:/lab_research/RES-Folder-UPOD/Celldynclustering/E_ResearchData/2_ResearchData/celldyn.sas7bdat\")\n"
   ]
  },
  {
   "cell_type": "code",
   "execution_count": 169,
   "metadata": {},
   "outputs": [],
   "source": [
    "cell_dyn_with_labels['studyid_alle_celldyn'] = cell_dyn_with_labels.studyid_alle_celldyn.astype('Int64').astype(str)\n",
    "# org_data['studyId_Alle_celldyn'] = org_data.studyId_Alle_celldyn.astype('Int64').astype(str)"
   ]
  },
  {
   "cell_type": "code",
   "execution_count": 170,
   "metadata": {},
   "outputs": [],
   "source": [
    "org_data.columns = [c.lower() for c in org_data.columns]\n"
   ]
  },
  {
   "cell_type": "code",
   "execution_count": 171,
   "metadata": {},
   "outputs": [],
   "source": [
    "missing_cols =[c for c in org_data if ('c_b_' in c) and (c.lower() not in cell_dyn_with_labels)]"
   ]
  },
  {
   "cell_type": "code",
   "execution_count": 172,
   "metadata": {},
   "outputs": [
    {
     "name": "stderr",
     "output_type": "stream",
     "text": [
      "C:\\Users\\hjoosse3\\AppData\\Local\\Temp\\ipykernel_15248\\2262876763.py:1: FutureWarning: Using .astype to convert from timezone-naive dtype to timezone-aware dtype is deprecated and will raise in a future version.  Use ser.dt.tz_localize instead.\n",
      "  org_data['asp_dt'] = org_data.asp_dt.astype('datetime64[ns, Europe/Berlin]')\n"
     ]
    }
   ],
   "source": [
    "org_data['asp_dt'] = org_data.asp_dt.astype('datetime64[ns, Europe/Berlin]')"
   ]
  },
  {
   "cell_type": "code",
   "execution_count": 173,
   "metadata": {},
   "outputs": [],
   "source": [
    "cell_dyn_with_labels[missing_cols] = org_data.loc[cell_dyn_with_labels['index'],missing_cols]"
   ]
  },
  {
   "cell_type": "code",
   "execution_count": 174,
   "metadata": {},
   "outputs": [],
   "source": [
    "cell_dyn[missing_cols] = org_data.loc[cell_dyn_with_labels['index'],missing_cols]"
   ]
  },
  {
   "cell_type": "code",
   "execution_count": 175,
   "metadata": {},
   "outputs": [],
   "source": [
    "sample_index_all = cell_dyn.dropna().reset_index(drop = True).sample(50000).index\n",
    "sampled_cd_all = np.asarray(cell_dyn.dropna().reset_index().loc[sample_index_all], dtype=np.float32)\n",
    "# indexes_metrics= subsampling_return_indexes(sampled_cd, 10000)\n",
    "# age = np.array(cell_dyn_with_labels.age.loc[sample_index])"
   ]
  },
  {
   "attachments": {},
   "cell_type": "markdown",
   "metadata": {},
   "source": [
    "### UMAP without all features (70 + 28 ratio's)"
   ]
  },
  {
   "cell_type": "code",
   "execution_count": 182,
   "metadata": {},
   "outputs": [
    {
     "name": "stderr",
     "output_type": "stream",
     "text": [
      "100%|██████████| 4/4 [57:30<00:00, 862.69s/it]\n"
     ]
    }
   ],
   "source": [
    "from scipy.signal import resample\n",
    "performance_dict_umap = {}\n",
    "for model in tqdm([embedder_3, embedder_6, embedder_15,embedder_30]):\n",
    "\n",
    "    le_pipe = Pipeline([('scaler', StandardScaler()),\n",
    "                        ('embedder', model)])\n",
    "\n",
    "    le_pipe.fit(sampled_cd)\n",
    "    evaluate = qm.CDEmbeddingPerformance(knn_dist='jaccard',n_neighbours=100,dcor_level=1,metric=metric)\n",
    "    eval_sample = sampled_cd[indexes_metrics].astype(np.float32)\n",
    "    eval_emb = le_pipe.named_steps['embedder'].embedding_[indexes_metrics].astype(np.float32)\n",
    "    Qmatrix = evaluate._get_coranking_matrix(\n",
    "        X_org=eval_sample, X_emb=eval_emb, backend=\"numba\"\n",
    "        )\n",
    "    \n",
    "    neigbor_kept = evaluate.neighbor_kept_ratio_eval(eval_sample,eval_emb)\n",
    "    random_triplet = evaluate.random_triplet_eval(eval_sample,eval_emb)\n",
    "    dat_cor = evaluate._return_distance_correlation(eval_sample,eval_emb)\n",
    "    LCMC_Q_matrix = evaluate._return_LCMC(eval_sample,eval_emb,Qmatrix)\n",
    "    Trustworthiness_Q_matrix = evaluate._return_Qtrustworthiness(eval_sample,eval_emb,Qmatrix)\n",
    "    Continuit_Q_matrix = evaluate._return_Qcontinuity(eval_sample,eval_emb,Qmatrix)\n",
    "    nMRRE_Q_matrix = evaluate._return_nMRRE(eval_sample,eval_emb,Qmatrix)\n",
    "    vMRRE_Q_matrix = evaluate._return_vMRRE(eval_sample,eval_emb,Qmatrix)\n",
    "    Qnx_crm_Q_matrix = evaluate._return_qnx_crm(eval_sample,eval_emb,Qmatrix)\n",
    "    Rnx_crm_Q_matrix = evaluate._return_rnx_crm(eval_sample,eval_emb,Qmatrix)\n",
    "    Qnx_auc_crm_Q_matrix= evaluate._return_rnx_auc_crm(eval_sample,eval_emb,Qmatrix)\n",
    "    performance_dict_umap.update({\n",
    "        f\"component number:{eval_emb.shape[1]}\":[\n",
    "            ('Neigbor kept',neigbor_kept),('random triplet',random_triplet),('data correlation',dat_cor),('LCMC_Q_Matrix',LCMC_Q_matrix),\n",
    "            ('Trustworthiness',Trustworthiness_Q_matrix),('Continuity',Continuit_Q_matrix),\n",
    "            ('nMRRES_Q_matrix',nMRRE_Q_matrix), ('vMRRE_Q_matrix',vMRRE_Q_matrix), ('Qnx_crm',Qnx_crm_Q_matrix), \n",
    "            ('rnx_crm',Rnx_crm_Q_matrix), ('Qnx_auc',Qnx_auc_crm_Q_matrix)]\n",
    "        })\n",
    "    \n"
   ]
  },
  {
   "attachments": {},
   "cell_type": "markdown",
   "metadata": {},
   "source": [
    "### UMAP WITH all features (79 + 28 ratio's)"
   ]
  },
  {
   "cell_type": "code",
   "execution_count": 183,
   "metadata": {},
   "outputs": [
    {
     "name": "stderr",
     "output_type": "stream",
     "text": [
      "  0%|          | 0/4 [00:00<?, ?it/s]"
     ]
    }
   ],
   "source": [
    "from scipy.signal import resample\n",
    "performance_dict_umap_all_features = {}\n",
    "for model in tqdm([embedder_3, embedder_6, embedder_15,embedder_30]):\n",
    "\n",
    "    le_pipe = Pipeline([('scaler', StandardScaler()),\n",
    "                        ('embedder', model)])\n",
    "\n",
    "    le_pipe.fit(sampled_cd_all)\n",
    "    evaluate = qm.CDEmbeddingPerformance(knn_dist='jaccard',n_neighbours=100,dcor_level=1,metric=metric)\n",
    "    \n",
    "    eval_sample = sampled_cd_all[indexes_metrics].astype(np.float32)\n",
    "    eval_emb = le_pipe.named_steps['embedder'].embedding_[indexes_metrics].astype(np.float32)\n",
    "    Qmatrix = evaluate._get_coranking_matrix(\n",
    "        X_org=eval_sample, X_emb=eval_emb, backend=\"numba\"\n",
    "        )\n",
    "    \n",
    "    neigbor_kept = evaluate.neighbor_kept_ratio_eval(eval_sample,eval_emb)\n",
    "    random_triplet = evaluate.random_triplet_eval(eval_sample,eval_emb)\n",
    "    dat_cor = evaluate._return_distance_correlation(eval_sample,eval_emb)\n",
    "    LCMC_Q_matrix = evaluate._return_LCMC(eval_sample,eval_emb,Qmatrix)\n",
    "    Trustworthiness_Q_matrix = evaluate._return_Qtrustworthiness(eval_sample,eval_emb,Qmatrix)\n",
    "    Continuit_Q_matrix = evaluate._return_Qcontinuity(eval_sample,eval_emb,Qmatrix)\n",
    "    nMRRE_Q_matrix = evaluate._return_nMRRE(eval_sample,eval_emb,Qmatrix)\n",
    "    vMRRE_Q_matrix = evaluate._return_vMRRE(eval_sample,eval_emb,Qmatrix)\n",
    "    Qnx_crm_Q_matrix = evaluate._return_qnx_crm(eval_sample,eval_emb,Qmatrix)\n",
    "    Rnx_crm_Q_matrix = evaluate._return_rnx_crm(eval_sample,eval_emb,Qmatrix)\n",
    "    Qnx_auc_crm_Q_matrix= evaluate._return_rnx_auc_crm(eval_sample,eval_emb,Qmatrix)\n",
    "    performance_dict_umap_all_features.update({\n",
    "        f\"component number:{eval_emb.shape[1]}\":[\n",
    "            ('Neigbor kept',neigbor_kept),('random triplet',random_triplet),('data correlation',dat_cor),('LCMC_Q_Matrix',LCMC_Q_matrix),\n",
    "            ('Trustworthiness',Trustworthiness_Q_matrix),('Continuity',Continuit_Q_matrix),\n",
    "            ('nMRRES_Q_matrix',nMRRE_Q_matrix), ('vMRRE_Q_matrix',vMRRE_Q_matrix), ('Qnx_crm',Qnx_crm_Q_matrix), \n",
    "            ('rnx_crm',Rnx_crm_Q_matrix), ('Qnx_auc',Qnx_auc_crm_Q_matrix)]\n",
    "        })\n",
    "    \n"
   ]
  },
  {
   "attachments": {},
   "cell_type": "markdown",
   "metadata": {},
   "source": [
    "### plot results"
   ]
  },
  {
   "cell_type": "code",
   "execution_count": 178,
   "metadata": {},
   "outputs": [
    {
     "ename": "AttributeError",
     "evalue": "'NoneType' object has no attribute 'keys'",
     "output_type": "error",
     "traceback": [
      "\u001b[1;31m---------------------------------------------------------------------------\u001b[0m",
      "\u001b[1;31mAttributeError\u001b[0m                            Traceback (most recent call last)",
      "Cell \u001b[1;32mIn[178], line 19\u001b[0m\n\u001b[0;32m     15\u001b[0m     perf_to_plot[\u001b[39m'\u001b[39m\u001b[39mn_dims\u001b[39m\u001b[39m'\u001b[39m]\u001b[39m.\u001b[39mappend(re\u001b[39m.\u001b[39msearch(\u001b[39mr\u001b[39m\u001b[39m\"\u001b[39m\u001b[39m\\\u001b[39m\u001b[39md+\u001b[39m\u001b[39m\"\u001b[39m,key)\u001b[39m.\u001b[39mgroup())\n\u001b[0;32m     17\u001b[0m i,j \u001b[39m=\u001b[39m \u001b[39m0\u001b[39m,\u001b[39m0\u001b[39m\n\u001b[1;32m---> 19\u001b[0m \u001b[39mfor\u001b[39;00m metric \u001b[39min\u001b[39;00m perf_to_plot\u001b[39m.\u001b[39;49mkeys():\n\u001b[0;32m     20\u001b[0m     \u001b[39mif\u001b[39;00m metric \u001b[39m!=\u001b[39m \u001b[39m\"\u001b[39m\u001b[39mn_dims\u001b[39m\u001b[39m\"\u001b[39m:\n\u001b[0;32m     21\u001b[0m         ax[j,i]\u001b[39m.\u001b[39mplot(perf_to_plot[\u001b[39m'\u001b[39m\u001b[39mn_dims\u001b[39m\u001b[39m'\u001b[39m],perf_to_plot[metric], label \u001b[39m=\u001b[39m labels[n])\n",
      "\u001b[1;31mAttributeError\u001b[0m: 'NoneType' object has no attribute 'keys'"
     ]
    },
    {
     "data": {
      "image/png": "[encoded data removed]",
      "text/plain": [
       "<Figure size 2000x4000 with 12 Axes>"
      ]
     },
     "metadata": {},
     "output_type": "display_data"
    }
   ],
   "source": [
    "import re\n",
    "\n",
    "fig, ax = plt.subplots(6,2,figsize = (20,40))\n",
    "\n",
    "labels = ['not all features','all features']\n",
    "\n",
    "for n,performances in enumerate([performance_dict_umap,performance_dict_umap_all_features]):\n",
    "    perf_to_plot = None\n",
    "    for key,value in performances.items():\n",
    "        if perf_to_plot == None:\n",
    "            perf_to_plot = {k[0]:[] for k in value}\n",
    "            perf_to_plot.update({'n_dims':[]})\n",
    "        for metric,score in value:\n",
    "            perf_to_plot[metric].append(score)\n",
    "        perf_to_plot['n_dims'].append(re.search(r\"\\d+\",key).group())\n",
    "        \n",
    "    i,j = 0,0\n",
    "\n",
    "    for metric in perf_to_plot.keys():\n",
    "        if metric != \"n_dims\":\n",
    "            ax[j,i].plot(perf_to_plot['n_dims'],perf_to_plot[metric], label = labels[n])\n",
    "            ax[j,i].legend()\n",
    "            ax[j,i].set_title(metric)\n",
    "            j = j+1 if i == 1 else j\n",
    "            i = 0 if i == 1 else 1\n",
    "            \n",
    "            "
   ]
  }
 ],
 "metadata": {
  "kernelspec": {
   "display_name": "embcelldyn",
   "language": "python",
   "name": "python3"
  },
  "language_info": {
   "codemirror_mode": {
    "name": "ipython",
    "version": 3
   },
   "file_extension": ".py",
   "mimetype": "text/x-python",
   "name": "python",
   "nbconvert_exporter": "python",
   "pygments_lexer": "ipython3",
   "version": "3.10.9"
  },
  "orig_nbformat": 4
 },
 "nbformat": 4,
 "nbformat_minor": 2
}
