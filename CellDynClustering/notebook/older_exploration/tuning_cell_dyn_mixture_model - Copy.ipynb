{
 "cells": [
  {
   "cell_type": "markdown",
   "metadata": {},
   "source": [
    "## Tuning embedded Cell Dyn with mixture model. Radom optimization"
   ]
  },
  {
   "cell_type": "code",
   "execution_count": 41,
   "metadata": {},
   "outputs": [],
   "source": [
    "import sys\n",
    "sys.path.append(\"T:/laupodteam/AIOS/Chontira/CellDynClustering\")\n",
    "import numpy as np\n",
    "import pandas as pd\n",
    "import time\n",
    "from sklearn.metrics import silhouette_score, davies_bouldin_score\n",
    "from sklearn.mixture import GaussianMixture\n",
    "from evaluation.fast_dunn_index import dunn_fast\n",
    "from data.load_data import *\n",
    "from evaluation.hyperparameter_optimization import random_search_cluster\n",
    "from evaluation import util\n",
    "import pickle\n"
   ]
  },
  {
   "cell_type": "markdown",
   "metadata": {},
   "source": [
    "## Load data"
   ]
  },
  {
   "cell_type": "code",
   "execution_count": 58,
   "metadata": {},
   "outputs": [],
   "source": [
    "dm6 = load_data().read_from_path(\"L:\\lab_research\\RES-Folder-UPOD\\Celldynclustering\\E_ResearchData\\\\2_ResearchData\\embedded_celldyn_nn50_ndim6.feather\",contain_y=False)\n",
    "\n",
    "output = None\n",
    "f = open('models/GaussianMixtures_param_grid.pickle', 'rb')\n",
    "param_grid = pickle.load(f)\n",
    "f.close()"
   ]
  },
  {
   "cell_type": "markdown",
   "metadata": {},
   "source": [
    "## Parameter tuning"
   ]
  },
  {
   "cell_type": "code",
   "execution_count": 59,
   "metadata": {},
   "outputs": [
    {
     "ename": "ValueError",
     "evalue": "Fitting the mixture model failed because some components have ill-defined empirical covariance (for instance caused by singleton or collapsed samples). Try to decrease the number of components, or increase reg_covar.",
     "output_type": "error",
     "traceback": [
      "\u001b[1;31m---------------------------------------------------------------------------\u001b[0m",
      "\u001b[1;31mValueError\u001b[0m                                Traceback (most recent call last)",
      "\u001b[1;32mt:\\laupodteam\\AIOS\\Chontira\\CellDynClustering\\notebook\\tuning_cell_dyn_mixture_model.ipynb Cell 6\u001b[0m in \u001b[0;36m<cell line: 1>\u001b[1;34m()\u001b[0m\n\u001b[1;32m----> <a href='vscode-notebook-cell:/t%3A/laupodteam/AIOS/Chontira/CellDynClustering/notebook/tuning_cell_dyn_mixture_model.ipynb#X21sZmlsZQ%3D%3D?line=0'>1</a>\u001b[0m silhouette_results \u001b[39m=\u001b[39m random_search_cluster(dm6\u001b[39m.\u001b[39;49mX,GaussianMixture,silhouette_score,param_grid,\u001b[39mFalse\u001b[39;49;00m, subsampling\u001b[39m=\u001b[39;49m\u001b[39m20000\u001b[39;49m,max_evals\u001b[39m=\u001b[39;49m\u001b[39m100\u001b[39;49m)\n\u001b[0;32m      <a href='vscode-notebook-cell:/t%3A/laupodteam/AIOS/Chontira/CellDynClustering/notebook/tuning_cell_dyn_mixture_model.ipynb#X21sZmlsZQ%3D%3D?line=2'>3</a>\u001b[0m silhouette_results\u001b[39m.\u001b[39mto_csv(\u001b[39m\"\u001b[39m\u001b[39mmodels/silhouette_mixture_model_results.csv\u001b[39m\u001b[39m\"\u001b[39m)\n",
      "File \u001b[1;32mT:\\laupodteam\\AIOS\\Chontira\\CellDynClustering\\models\\hyperparameter_optimization.py:86\u001b[0m, in \u001b[0;36mrandom_search_cluster\u001b[1;34m(X, model, evaluator, param_grid, ascending, subsampling, max_evals, num_iter, random_state)\u001b[0m\n\u001b[0;32m     83\u001b[0m     sub \u001b[39m=\u001b[39m numpy_sampling(sub, subsampling)\n\u001b[0;32m     85\u001b[0m \u001b[39m# Evaluate randomly selected hyperparameters\u001b[39;00m\n\u001b[1;32m---> 86\u001b[0m predicted \u001b[39m=\u001b[39m model(\u001b[39m*\u001b[39;49m\u001b[39m*\u001b[39;49mhyperparameters)\u001b[39m.\u001b[39;49mfit_predict(sub)\n\u001b[0;32m     87\u001b[0m times\u001b[39m.\u001b[39mappend(time\u001b[39m.\u001b[39mtime()\u001b[39m-\u001b[39mstart)\n\u001b[0;32m     88\u001b[0m scores\u001b[39m.\u001b[39mappend(evaluator(sub, predicted))\n",
      "File \u001b[1;32mc:\\Users\\cchumsae\\Anaconda3\\envs\\CellDynCluster\\lib\\site-packages\\sklearn\\mixture\\_base.py:253\u001b[0m, in \u001b[0;36mBaseMixture.fit_predict\u001b[1;34m(self, X, y)\u001b[0m\n\u001b[0;32m    250\u001b[0m \u001b[39mself\u001b[39m\u001b[39m.\u001b[39m_print_verbose_msg_init_beg(init)\n\u001b[0;32m    252\u001b[0m \u001b[39mif\u001b[39;00m do_init:\n\u001b[1;32m--> 253\u001b[0m     \u001b[39mself\u001b[39;49m\u001b[39m.\u001b[39;49m_initialize_parameters(X, random_state)\n\u001b[0;32m    255\u001b[0m lower_bound \u001b[39m=\u001b[39m \u001b[39m-\u001b[39mnp\u001b[39m.\u001b[39minf \u001b[39mif\u001b[39;00m do_init \u001b[39melse\u001b[39;00m \u001b[39mself\u001b[39m\u001b[39m.\u001b[39mlower_bound_\n\u001b[0;32m    257\u001b[0m \u001b[39mif\u001b[39;00m \u001b[39mself\u001b[39m\u001b[39m.\u001b[39mmax_iter \u001b[39m==\u001b[39m \u001b[39m0\u001b[39m:\n",
      "File \u001b[1;32mc:\\Users\\cchumsae\\Anaconda3\\envs\\CellDynCluster\\lib\\site-packages\\sklearn\\mixture\\_base.py:160\u001b[0m, in \u001b[0;36mBaseMixture._initialize_parameters\u001b[1;34m(self, X, random_state)\u001b[0m\n\u001b[0;32m    155\u001b[0m \u001b[39melse\u001b[39;00m:\n\u001b[0;32m    156\u001b[0m     \u001b[39mraise\u001b[39;00m \u001b[39mValueError\u001b[39;00m(\n\u001b[0;32m    157\u001b[0m         \u001b[39m\"\u001b[39m\u001b[39mUnimplemented initialization method \u001b[39m\u001b[39m'\u001b[39m\u001b[39m%s\u001b[39;00m\u001b[39m'\u001b[39m\u001b[39m\"\u001b[39m \u001b[39m%\u001b[39m \u001b[39mself\u001b[39m\u001b[39m.\u001b[39minit_params\n\u001b[0;32m    158\u001b[0m     )\n\u001b[1;32m--> 160\u001b[0m \u001b[39mself\u001b[39;49m\u001b[39m.\u001b[39;49m_initialize(X, resp)\n",
      "File \u001b[1;32mc:\\Users\\cchumsae\\Anaconda3\\envs\\CellDynCluster\\lib\\site-packages\\sklearn\\mixture\\_gaussian_mixture.py:723\u001b[0m, in \u001b[0;36mGaussianMixture._initialize\u001b[1;34m(self, X, resp)\u001b[0m\n\u001b[0;32m    721\u001b[0m \u001b[39mif\u001b[39;00m \u001b[39mself\u001b[39m\u001b[39m.\u001b[39mprecisions_init \u001b[39mis\u001b[39;00m \u001b[39mNone\u001b[39;00m:\n\u001b[0;32m    722\u001b[0m     \u001b[39mself\u001b[39m\u001b[39m.\u001b[39mcovariances_ \u001b[39m=\u001b[39m covariances\n\u001b[1;32m--> 723\u001b[0m     \u001b[39mself\u001b[39m\u001b[39m.\u001b[39mprecisions_cholesky_ \u001b[39m=\u001b[39m _compute_precision_cholesky(\n\u001b[0;32m    724\u001b[0m         covariances, \u001b[39mself\u001b[39;49m\u001b[39m.\u001b[39;49mcovariance_type\n\u001b[0;32m    725\u001b[0m     )\n\u001b[0;32m    726\u001b[0m \u001b[39melif\u001b[39;00m \u001b[39mself\u001b[39m\u001b[39m.\u001b[39mcovariance_type \u001b[39m==\u001b[39m \u001b[39m\"\u001b[39m\u001b[39mfull\u001b[39m\u001b[39m\"\u001b[39m:\n\u001b[0;32m    727\u001b[0m     \u001b[39mself\u001b[39m\u001b[39m.\u001b[39mprecisions_cholesky_ \u001b[39m=\u001b[39m np\u001b[39m.\u001b[39marray(\n\u001b[0;32m    728\u001b[0m         [\n\u001b[0;32m    729\u001b[0m             linalg\u001b[39m.\u001b[39mcholesky(prec_init, lower\u001b[39m=\u001b[39m\u001b[39mTrue\u001b[39;00m)\n\u001b[0;32m    730\u001b[0m             \u001b[39mfor\u001b[39;00m prec_init \u001b[39min\u001b[39;00m \u001b[39mself\u001b[39m\u001b[39m.\u001b[39mprecisions_init\n\u001b[0;32m    731\u001b[0m         ]\n\u001b[0;32m    732\u001b[0m     )\n",
      "File \u001b[1;32mc:\\Users\\cchumsae\\Anaconda3\\envs\\CellDynCluster\\lib\\site-packages\\sklearn\\mixture\\_gaussian_mixture.py:347\u001b[0m, in \u001b[0;36m_compute_precision_cholesky\u001b[1;34m(covariances, covariance_type)\u001b[0m\n\u001b[0;32m    345\u001b[0m \u001b[39melse\u001b[39;00m:\n\u001b[0;32m    346\u001b[0m     \u001b[39mif\u001b[39;00m np\u001b[39m.\u001b[39many(np\u001b[39m.\u001b[39mless_equal(covariances, \u001b[39m0.0\u001b[39m)):\n\u001b[1;32m--> 347\u001b[0m         \u001b[39mraise\u001b[39;00m \u001b[39mValueError\u001b[39;00m(estimate_precision_error_message)\n\u001b[0;32m    348\u001b[0m     precisions_chol \u001b[39m=\u001b[39m \u001b[39m1.0\u001b[39m \u001b[39m/\u001b[39m np\u001b[39m.\u001b[39msqrt(covariances)\n\u001b[0;32m    349\u001b[0m \u001b[39mreturn\u001b[39;00m precisions_chol\n",
      "\u001b[1;31mValueError\u001b[0m: Fitting the mixture model failed because some components have ill-defined empirical covariance (for instance caused by singleton or collapsed samples). Try to decrease the number of components, or increase reg_covar."
     ]
    }
   ],
   "source": [
    "silhouette_results = random_search_cluster(dm6.X,GaussianMixture,silhouette_score,param_grid,False, subsampling=20000,max_evals=100)\n",
    "\n",
    "silhouette_results.to_csv(\"models/silhouette_mixture_model_results.csv\")"
   ]
  },
  {
   "cell_type": "code",
   "execution_count": null,
   "metadata": {},
   "outputs": [],
   "source": [
    "davies_bouldin_results = random_search_cluster(dm6.X,GaussianMixture,davies_bouldin_score,param_grid,True,max_evals=100)\n",
    "\n",
    "davies_bouldin_results.to_csv(\"models/davies_bouldin_mixture_model_results.csv\")"
   ]
  },
  {
   "cell_type": "code",
   "execution_count": null,
   "metadata": {},
   "outputs": [],
   "source": [
    "dunn_results = random_search_cluster(dm6.X,GaussianMixture,dunn_fast,param_grid,False,max_evals=100)\n",
    "\n",
    "dunn_results.to_csv(\"models/dunn_fast_mixture_model_results.csv\")"
   ]
  },
  {
   "cell_type": "code",
   "execution_count": 57,
   "metadata": {},
   "outputs": [],
   "source": [
    "param_grid = {'n_components': list(range(2, 6, 1)),'n_init': list(range(2, 20, 2)),'covariance_type' : ('full', 'tied', 'diag', 'spherical'),'init_params':('kmeans', 'k-means++', 'random', 'random_from_data')}\n",
    "with open(r\"models/GaussianMixtures_param_grid.pickle\", \"wb\") as output_file:\n",
    "    pickle.dump(param_grid, output_file) "
   ]
  }
 ],
 "metadata": {
  "kernelspec": {
   "display_name": "Python 3.10.4 ('CellDynCluster')",
   "language": "python",
   "name": "python3"
  },
  "language_info": {
   "codemirror_mode": {
    "name": "ipython",
    "version": 3
   },
   "file_extension": ".py",
   "mimetype": "text/x-python",
   "name": "python",
   "nbconvert_exporter": "python",
   "pygments_lexer": "ipython3",
   "version": "3.10.4"
  },
  "orig_nbformat": 4,
  "vscode": {
   "interpreter": {
    "hash": "5deb914aa631c094dbee2b245fe292bd804ba18ca3cb2d31e687d93fc90e2ee0"
   }
  }
 },
 "nbformat": 4,
 "nbformat_minor": 2
}
