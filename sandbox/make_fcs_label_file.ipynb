{
 "cells": [
  {
   "cell_type": "code",
   "execution_count": 3,
   "metadata": {},
   "outputs": [],
   "source": [
    "# add autoreload\n",
    "%load_ext autoreload\n",
    "%autoreload 2\n",
    "import pandas as pd\n",
    "import pyreadstat\n",
    "import os"
   ]
  },
  {
   "cell_type": "code",
   "execution_count": 4,
   "metadata": {},
   "outputs": [],
   "source": [
    "os.chdir('T:/laupodteam/AIOS/Bram/data')"
   ]
  },
  {
   "cell_type": "code",
   "execution_count": 60,
   "metadata": {},
   "outputs": [
    {
     "name": "stderr",
     "output_type": "stream",
     "text": [
      "C:\\Users\\bes3\\AppData\\Local\\Temp/ipykernel_17000/3271673646.py:1: DtypeWarning: Columns (3,4,17,210) have mixed types. Specify dtype option on import or set low_memory=False.\n",
      "  argus = pd.read_csv('./Argus/joined_argus/celldyn_raw.csv', sep=';')[['fcs_id']]\n"
     ]
    }
   ],
   "source": [
    "argus = pd.read_csv('./Argus/joined_argus/celldyn_raw.csv', sep=';')[['fcs_id']]\n",
    "argus = argus.assign(dataset='ARGUS')\n",
    "argus = argus.drop_duplicates()\n",
    "\n",
    "ucorbio = pd.read_sas('./Argus/external_validation/ucorbio/st2_celldyn_13sep2021.sas7bdat')[['fcs_id']]\n",
    "ucorbio = ucorbio.assign(dataset='UCORBIO')\n",
    "ucorbio = ucorbio.assign(fcs_id=ucorbio.fcs_id.str.decode('utf-8'))\n",
    "ucorbio = ucorbio.drop_duplicates()\n",
    "\n",
    "heartscore = pd.read_csv('./HeartScore/Data/full_celldyn.csv', sep=';')[['fcs_id']]\n",
    "heartscore = heartscore.assign(dataset='HEARTSCORE')\n",
    "heartscore = heartscore.drop_duplicates()\n",
    "\n",
    "MDS = pd.read_sas('./MDS/celldyn_sapph_20220905.sas7bdat')[['fcs_id']]\n",
    "MDS = MDS.assign(dataset='MDS')\n",
    "MDS = MDS.assign(fcs_id=MDS.fcs_id.str.decode('utf-8'))\n",
    "MDS = MDS.drop_duplicates()\n",
    "\n",
    "Reuma, _ = pyreadstat.read_sas7bdat('./Reuma/DT2RA/celldyn.sas7bdat')\n",
    "Reuma = Reuma[['fcs_id']]\n",
    "Reuma = Reuma.assign(dataset='REUMA')\n",
    "Reuma = Reuma.drop_duplicates()\n",
    "\n",
    "MDL, _ = pyreadstat.read_sas7bdat('./MDL/sapphire_19aug2021.sas7bdat')\n",
    "MDL = MDL[['fcs_id']]\n",
    "MDL = MDL.assign(dataset='MDL')\n",
    "MDL = MDL.drop_duplicates()\n",
    "\n",
    "LABELS = pd.concat([argus, ucorbio, heartscore, MDS, Reuma, MDL], axis=0)\n",
    "LABELS = LABELS.assign(fcs_id=LABELS.fcs_id.str.strip())\n",
    "LABELS = LABELS[LABELS.fcs_id.str.strip()!='']"
   ]
  },
  {
   "cell_type": "code",
   "execution_count": 48,
   "metadata": {},
   "outputs": [],
   "source": [
    "celldyn = pd.read_feather(\"./CellDyn/celldyn.feather\")\n",
    "celldyn = celldyn[['studyId_Alle_celldyn', 'fcs_id']]\n",
    "celldyn = celldyn.assign(fcs_id=celldyn.fcs_id.str.decode('utf-8'))\n",
    "celldyn = celldyn.set_index('fcs_id')"
   ]
  },
  {
   "cell_type": "code",
   "execution_count": 61,
   "metadata": {},
   "outputs": [],
   "source": [
    "cnts = LABELS.groupby('fcs_id').size()\n",
    "mults = cnts[cnts>1].index.tolist()"
   ]
  },
  {
   "cell_type": "code",
   "execution_count": 65,
   "metadata": {},
   "outputs": [],
   "source": [
    "LABELS = LABELS.groupby('fcs_id').dataset.agg(lambda x: \"_\".join(set(x))).to_frame()"
   ]
  },
  {
   "cell_type": "code",
   "execution_count": 77,
   "metadata": {},
   "outputs": [],
   "source": [
    "celldyn.join(LABELS, how='left').reset_index().to_parquet('./CellDyn/artifacts/celldyn_labels.parquet')"
   ]
  }
 ],
 "metadata": {
  "kernelspec": {
   "display_name": "embedder",
   "language": "python",
   "name": "python3"
  },
  "language_info": {
   "codemirror_mode": {
    "name": "ipython",
    "version": 3
   },
   "file_extension": ".py",
   "mimetype": "text/x-python",
   "name": "python",
   "nbconvert_exporter": "python",
   "pygments_lexer": "ipython3",
   "version": "3.8.10"
  },
  "orig_nbformat": 4
 },
 "nbformat": 4,
 "nbformat_minor": 2
}
