{
 "cells": [
  {
   "cell_type": "code",
   "execution_count": 7,
   "metadata": {},
   "outputs": [],
   "source": [
    "import pandas as pd\n",
    "import numpy as np\n",
    "import hdbscan as hdb\n",
    "\n",
    "from sklearn.pipeline import Pipeline\n",
    "from sklearn.preprocessing import StandardScaler"
   ]
  },
  {
   "cell_type": "code",
   "execution_count": 8,
   "metadata": {},
   "outputs": [
    {
     "ename": "UnpicklingError",
     "evalue": "[Errno 13] Permission denied: '/media/koekiemonster/home/bramiozo/DEV/GIT/UPOD/celldyn_embedder/sandbox/celldyn_qc.log'",
     "output_type": "error",
     "traceback": [
      "\u001b[1;31m---------------------------------------------------------------------------\u001b[0m",
      "\u001b[1;31mPermissionError\u001b[0m                           Traceback (most recent call last)",
      "File \u001b[1;32mc:\\Users\\hjoosse3\\Miniconda3\\lib\\site-packages\\dill\\_dill.py:831\u001b[0m, in \u001b[0;36m_create_filehandle\u001b[1;34m(name, mode, position, closed, open, strictio, fmode, fdata)\u001b[0m\n\u001b[0;32m    830\u001b[0m     \u001b[39melse\u001b[39;00m:\n\u001b[1;32m--> 831\u001b[0m         f \u001b[39m=\u001b[39m \u001b[39mopen\u001b[39;49m(name, mode)\n\u001b[0;32m    832\u001b[0m \u001b[39mexcept\u001b[39;00m (\u001b[39mIOError\u001b[39;00m, \u001b[39mFileNotFoundError\u001b[39;00m):\n",
      "\u001b[1;31mPermissionError\u001b[0m: [Errno 13] Permission denied: '/media/koekiemonster/home/bramiozo/DEV/GIT/UPOD/celldyn_embedder/sandbox/celldyn_qc.log'",
      "\nDuring handling of the above exception, another exception occurred:\n",
      "\u001b[1;31mUnpicklingError\u001b[0m                           Traceback (most recent call last)",
      "Cell \u001b[1;32mIn [8], line 1\u001b[0m\n\u001b[1;32m----> 1\u001b[0m obj \u001b[39m=\u001b[39m pd\u001b[39m.\u001b[39;49mread_pickle(\u001b[39m\"\u001b[39;49m\u001b[39mL:\u001b[39;49m\u001b[39m\\\u001b[39;49m\u001b[39mlaupodteam\u001b[39;49m\u001b[39m\\\u001b[39;49m\u001b[39mAIOS\u001b[39;49m\u001b[39m\\\u001b[39;49m\u001b[39mBram\u001b[39;49m\u001b[39m\\\u001b[39;49m\u001b[39mdata\u001b[39;49m\u001b[39m\\\u001b[39;49m\u001b[39mCellDyn\u001b[39;49m\u001b[39m\\\u001b[39;49m\u001b[39mCellDynCleanPipeFULL.pickle\u001b[39;49m\u001b[39m\"\u001b[39;49m)\n",
      "File \u001b[1;32mc:\\Users\\hjoosse3\\Miniconda3\\lib\\site-packages\\pandas\\io\\pickle.py:208\u001b[0m, in \u001b[0;36mread_pickle\u001b[1;34m(filepath_or_buffer, compression, storage_options)\u001b[0m\n\u001b[0;32m    205\u001b[0m     \u001b[39mwith\u001b[39;00m warnings\u001b[39m.\u001b[39mcatch_warnings(record\u001b[39m=\u001b[39m\u001b[39mTrue\u001b[39;00m):\n\u001b[0;32m    206\u001b[0m         \u001b[39m# We want to silence any warnings about, e.g. moved modules.\u001b[39;00m\n\u001b[0;32m    207\u001b[0m         warnings\u001b[39m.\u001b[39msimplefilter(\u001b[39m\"\u001b[39m\u001b[39mignore\u001b[39m\u001b[39m\"\u001b[39m, \u001b[39mWarning\u001b[39;00m)\n\u001b[1;32m--> 208\u001b[0m         \u001b[39mreturn\u001b[39;00m pickle\u001b[39m.\u001b[39;49mload(handles\u001b[39m.\u001b[39;49mhandle)\n\u001b[0;32m    209\u001b[0m \u001b[39mexcept\u001b[39;00m excs_to_catch:\n\u001b[0;32m    210\u001b[0m     \u001b[39m# e.g.\u001b[39;00m\n\u001b[0;32m    211\u001b[0m     \u001b[39m#  \"No module named 'pandas.core.sparse.series'\"\u001b[39;00m\n\u001b[0;32m    212\u001b[0m     \u001b[39m#  \"Can't get attribute '__nat_unpickle' on <module 'pandas._libs.tslib\"\u001b[39;00m\n\u001b[0;32m    213\u001b[0m     \u001b[39mreturn\u001b[39;00m pc\u001b[39m.\u001b[39mload(handles\u001b[39m.\u001b[39mhandle, encoding\u001b[39m=\u001b[39m\u001b[39mNone\u001b[39;00m)\n",
      "File \u001b[1;32mc:\\Users\\hjoosse3\\Miniconda3\\lib\\site-packages\\dill\\_dill.py:834\u001b[0m, in \u001b[0;36m_create_filehandle\u001b[1;34m(name, mode, position, closed, open, strictio, fmode, fdata)\u001b[0m\n\u001b[0;32m    832\u001b[0m     \u001b[39mexcept\u001b[39;00m (\u001b[39mIOError\u001b[39;00m, \u001b[39mFileNotFoundError\u001b[39;00m):\n\u001b[0;32m    833\u001b[0m         err \u001b[39m=\u001b[39m sys\u001b[39m.\u001b[39mexc_info()[\u001b[39m1\u001b[39m]\n\u001b[1;32m--> 834\u001b[0m         \u001b[39mraise\u001b[39;00m UnpicklingError(err)\n\u001b[0;32m    835\u001b[0m \u001b[39mif\u001b[39;00m closed:\n\u001b[0;32m    836\u001b[0m     f\u001b[39m.\u001b[39mclose()\n",
      "\u001b[1;31mUnpicklingError\u001b[0m: [Errno 13] Permission denied: '/media/koekiemonster/home/bramiozo/DEV/GIT/UPOD/celldyn_embedder/sandbox/celldyn_qc.log'"
     ]
    }
   ],
   "source": [
    "obj = "
   ]
  },
  {
   "cell_type": "code",
   "execution_count": 11,
   "metadata": {},
   "outputs": [],
   "source": [
    "db = pd.read_feather(r\"L:\\laupodteam\\AIOS\\Bram\\data\\CellDyn\\artifacts\\celldyn_FULL_transformed_miceforest100_df.feather\")\n",
    "meas_columns = [c for c in db.columns if ('c_b' in c) | ('COMBO' in c)]\n",
    "mode_columns = [c for c in db.columns if 'c_m' in c]\n",
    "alrt_columns = [c for c in db.columns if 'alrt' in c.lower()]\n",
    "c_s_columns = [c for c in db.columns if 'c_s_' in c.lower()]\n"
   ]
  },
  {
   "cell_type": "code",
   "execution_count": 8,
   "metadata": {},
   "outputs": [],
   "source": [
    "x = db[meas_columns].to_numpy(dtype = np.float32)"
   ]
  },
  {
   "cell_type": "code",
   "execution_count": 16,
   "metadata": {},
   "outputs": [],
   "source": [
    "mach = hdb.HDBSCAN(min_samples=5,\n",
    "    min_cluster_size=800,\n",
    "    cluster_selection_epsilon=0.1,\n",
    "    cluster_selection_method='eom',\n",
    "    metric='manhattan')\n",
    "\n",
    "\n",
    "pipe = Pipeline(\n",
    "    [\n",
    "        ('scaler',StandardScaler()),\n",
    "        ('hdb',mach)\n",
    "    ]\n",
    ")"
   ]
  },
  {
   "cell_type": "code",
   "execution_count": 17,
   "metadata": {},
   "outputs": [],
   "source": [
    "pipe.fit(x)"
   ]
  }
 ],
 "metadata": {
  "kernelspec": {
   "display_name": "Python 3.10.6 ('base')",
   "language": "python",
   "name": "python3"
  },
  "language_info": {
   "codemirror_mode": {
    "name": "ipython",
    "version": 3
   },
   "file_extension": ".py",
   "mimetype": "text/x-python",
   "name": "python",
   "nbconvert_exporter": "python",
   "pygments_lexer": "ipython3",
   "version": "3.9.12"
  },
  "orig_nbformat": 4,
  "vscode": {
   "interpreter": {
    "hash": "b4fa84d05e7e3f5d2c54992f8b8b70c1f222da0e274beb84aa79524d736d3776"
   }
  }
 },
 "nbformat": 4,
 "nbformat_minor": 2
}
