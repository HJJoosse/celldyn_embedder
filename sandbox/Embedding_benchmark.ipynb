{
 "cells": [
  {
   "cell_type": "code",
   "execution_count": 2,
   "metadata": {},
   "outputs": [
    {
     "name": "stdout",
     "output_type": "stream",
     "text": [
      "The autoreload extension is already loaded. To reload it, use:\n",
      "  %reload_ext autoreload\n"
     ]
    }
   ],
   "source": [
    "%load_ext autoreload\n",
    "\n",
    "%autoreload 2\n",
    "\n",
    "%matplotlib inline\n",
    "\n",
    "import os\n",
    "import sys\n",
    "import os\n",
    "import pandas as pd\n",
    "import numpy as np\n",
    "\n",
    "import matplotlib.pyplot as plt\n",
    "import seaborn as sns\n",
    "\n",
    "import pacmap\n",
    "import umap\n",
    "import trimap\n",
    "import ivis\n",
    "import phate\n",
    "\n",
    "from scipy.stats import chisquare, chi2_contingency, pearsonr\n",
    "from scipy.stats import kendalltau,spearmanr, weightedtau, theilslopes, wilcoxon, ttest_rel\n",
    "from scipy.spatial import distance\n",
    "import dcor\n",
    "\n",
    "from sklearn.preprocessing import FunctionTransformer, StandardScaler\n",
    "from sklearn.compose import ColumnTransformer\n",
    "from sklearn.pipeline import Pipeline\n",
    "from sklearn.decomposition import PCA\n",
    "from sklearn.manifold import Isomap, MDS, SpectralEmbedding\n",
    "from sklearn.manifold import LocallyLinearEmbedding as LLE, TSNE, smacof, trustworthiness\n",
    "\n",
    "\n",
    "from sklearn.metrics import rand_score, adjusted_mutual_info_score, adjusted_rand_score\n",
    "from sklearn.metrics import calinski_harabasz_score, davies_bouldin_score\n",
    "from sklearn.neighbors import KNeighborsClassifier as KNN\n",
    "from sklearn.cluster import KMeans\n",
    "\n",
    "import numpy.linalg as la\n",
    "import torch \n",
    "\n",
    "from numba import njit\n",
    "\n",
    "import faiss\n",
    "\n",
    "from hembedder.utils import distance, hyperparameter_tuning, quality_metrics"
   ]
  },
  {
   "attachments": {},
   "cell_type": "markdown",
   "metadata": {},
   "source": [
    "Potential Embeddings to test:\n",
    "* PCA (sklearn)\n",
    "* SMACOF (sklearn)\n",
    "* **LMDS** with exemplars for landmarking (local):\n",
    "* LMVU (local):\n",
    "* Sammon (local):\n",
    "* GPLVM: \n",
    "* RankVisu:\n",
    "* **UMAP**, [github](https://umap-learn.readthedocs.io/en/latest/index.html), [paper](https://arxiv.org/abs/1802.03426)\n",
    "* **Parametric UMAP**, [github](https://umap-learn.readthedocs.io/en/latest/parametric_umap.html), [paper](https://arxiv.org/abs/2009.12981)\n",
    "* **DenseMap**, part of UMAP library, [paper](https://www.biorxiv.org/content/10.1101/2020.05.12.077776v1)\n",
    "* **IVIS**, [github](https://github.com/beringresearch/ivis), [paper](https://www.nature.com/articles/s41598-019-45301-0)\n",
    "* **PHATE**, [github](https://phate.readthedocs.io/en/stable/), [paper](https://www.nature.com/articles/s41587-019-0336-3)\n",
    "* **PACMAP**, [github](https://github.com/YingfanWang/PaCMAP), [paper](https://jmlr.org/papers/v22/20-1061.html)\n",
    "* **TriMap**, [github](https://github.com/eamid/trimap), [paper](https://arxiv.org/abs/1910.00204)\n",
    "* HOPE, [github](https://github.com/palash1992/GEM), [paper](https://dl.acm.org/doi/abs/10.1145/2939672.2939751)\n",
    "* opt-SNE, [github](https://github.com/omiq-ai/Multicore-opt-SNE), [paper](https://www.biorxiv.org/content/10.1101/451690v3)\n",
    "* FactorizedEmbeddings,[github](https://github.com/TrofimovAssya/FactorizedEmbeddings), [paper](https://academic.oup.com/bioinformatics/article/36/Supplement_1/i417/5870511)\n",
    "* **MCML**, [github](https://github.com/pachterlab/MCML)\n",
    "\n",
    "Distances:\n",
    "* Manhattan\n",
    "* Poincare\n",
    "* Mahalanobis\n",
    "* Euclidean\n",
    "\n",
    "Data:\n",
    "* celldyn; 3 million samples, 100+ dimensions\n",
    "* RNA expression; 1200 samples; 40.000 dimensions\n",
    "* synthetic datasets\n",
    "\n",
    "Metrics:\n",
    "* **Distance correlation**\n",
    "* Rank preservation\n",
    "* **Jaccard-index** \n",
    "* Calinski-Harabasz\n",
    "* Davies-Bouldin\n",
    "* Adjusted Rand score\n",
    "* **Adjusted mutual information**\n",
    "* Trustworthiness\n",
    "* **random triplet score**: rank preservation among random triplets\n",
    "* **Overall rank preservation**\n",
    "\n",
    "Table with the embeddings, the quality metrics for \n",
    "* ```n_components```\n",
    "* ```n_neighbors```\n",
    "* ```n_samples```"
   ]
  },
  {
   "cell_type": "markdown",
   "metadata": {},
   "source": [
    "#### celldyn data"
   ]
  },
  {
   "cell_type": "code",
   "execution_count": 5,
   "metadata": {},
   "outputs": [],
   "source": [
    "celldyn_full = pd.read_feather(\"L:\\laupodteam\\AIOS\\Bram\\data\\CellDyn\\celldyn_FULL_transformed_df.feather\")\n",
    "meas_columns = [c for c in celldyn_full.columns if 'c_b' in c or 'COMBO_' in c]\n",
    "mode_columns = [c for c in celldyn_full.columns if 'c_m' in c]\n",
    "alrt_columns = [c for c in celldyn_full.columns if 'alrt' in c.lower()]\n",
    "c_s_columns = [c for c in celldyn_full.columns if 'c_s_' in c.lower()]\n",
    "demo_columns = ['gender', 'age']"
   ]
  },
  {
   "attachments": {},
   "cell_type": "markdown",
   "metadata": {},
   "source": [
    "## Parameter sweep definition"
   ]
  },
  {
   "cell_type": "code",
   "execution_count": 17,
   "metadata": {},
   "outputs": [],
   "source": [
    "sample_sweep = [1000, 2000, 4000, 8000, 16000, 32000, 64000, 128000, 256000, 512000]\n",
    "component_sweep = [2, 3, 4, 8, 12, 16, 32, 64]\n",
    "neighbors_sweep = [10, 20, 40, 60, 80, 100, 200]\n",
    "\n",
    "embedding_metrics = ['triplet', 'knn', 'nkept', 'distpres']"
   ]
  },
  {
   "attachments": {},
   "cell_type": "markdown",
   "metadata": {},
   "source": [
    "## "
   ]
  }
 ],
 "metadata": {
  "kernelspec": {
   "display_name": "hema_embedder",
   "language": "python",
   "name": "python3"
  },
  "language_info": {
   "codemirror_mode": {
    "name": "ipython",
    "version": 3
   },
   "file_extension": ".py",
   "mimetype": "text/x-python",
   "name": "python",
   "nbconvert_exporter": "python",
   "pygments_lexer": "ipython3",
   "version": "3.8.10"
  },
  "orig_nbformat": 4,
  "vscode": {
   "interpreter": {
    "hash": "97021fdb49701c8dba83120d3ec696bdd3605bb66aca1c2e774ee3b4259ef2da"
   }
  }
 },
 "nbformat": 4,
 "nbformat_minor": 2
}
