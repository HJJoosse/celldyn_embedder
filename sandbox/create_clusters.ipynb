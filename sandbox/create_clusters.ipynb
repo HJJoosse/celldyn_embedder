{
 "cells": [
  {
   "cell_type": "code",
   "execution_count": 85,
   "metadata": {},
   "outputs": [
    {
     "name": "stdout",
     "output_type": "stream",
     "text": [
      "The autoreload extension is already loaded. To reload it, use:\n",
      "  %reload_ext autoreload\n"
     ]
    }
   ],
   "source": [
    "%load_ext autoreload\n",
    "%autoreload 2\n",
    "%matplotlib inline\n",
    "\n",
    "import os\n",
    "#try:\n",
    "#    os.chdir(\"L:\\laupodteam\\AIOS\\Huibert-Jan\\Celldynclustering\\celldyn_embedder\")\n",
    "#except FileNotFoundError:\n",
    "#    os.chdir('C:/Users/Huibert-Jan/Documents/Werk/UMCU/celldyn_embedder')    \n",
    "\n",
    "import sys\n",
    "import os\n",
    "import pandas as pd\n",
    "import numpy as np\n",
    "\n",
    "import matplotlib.pyplot as plt\n",
    "import seaborn as sns\n",
    "\n",
    "import pacmap\n",
    "import umap\n",
    "import trimap\n",
    "\n",
    "#from scipy.stats import chisquare, chi2_contingency, pearsonr\n",
    "#from scipy.stats import kendalltau,spearmanr, weightedtau, theilslopes, wilcoxon, ttest_rel\n",
    "#from scipy.spatial import distance\n",
    "#import dcor\n",
    "\n",
    "from sklearn.preprocessing import FunctionTransformer, StandardScaler, MinMaxScaler, QuantileTransformer\n",
    "from sklearn.compose import ColumnTransformer\n",
    "from sklearn.pipeline import Pipeline\n",
    "#from sklearn.decomposition import PCA\n",
    "#from sklearn.manifold import Isomap, MDS, SpectralEmbedding\n",
    "from sklearn.manifold import LocallyLinearEmbedding as LLE, TSNE, smacof, trustworthiness\n",
    "from sklearn.cluster import KMeans, BisectingKMeans, OPTICS, affinity_propagation, AgglomerativeClustering\n",
    "# add GMM\n",
    "from sklearn.mixture import GaussianMixture as GMM, BayesianGaussianMixture as BGMM\n",
    "\n",
    "from sklearn.linear_model import LogisticRegression\n",
    "from sklearn.model_selection import StratifiedKFold\n",
    "from sklearn.metrics import f1_score\n",
    "\n",
    "import skfuzzy as fuzz\n",
    "\n",
    "\n",
    "#from sklearn.metrics import rand_score, adjusted_mutual_info_score, adjusted_rand_score\n",
    "from sklearn.metrics import calinski_harabasz_score, davies_bouldin_score, silhouette_score\n",
    "#from sklearn.neighbors import KNeighborsClassifier as KNN\n",
    "#from sklearn.cluster import KMeans\n",
    "\n",
    "from hembedder.utils.distance import poincarre_dist, hyperboloid_dist, fractional_distance, Distance\n",
    "from hembedder.utils.quality_metrics import CDEmbeddingPerformance\n",
    "#import numpy.linalg as la\n",
    "#import torch \n",
    "\n",
    "#from numba import njit\n",
    "\n",
    "#import faiss\n",
    "import gc\n",
    "\n",
    "from scipy.cluster import hierarchy\n",
    "from scipy.spatial.distance import pdist\n",
    "from scipy.stats import entropy\n",
    "\n",
    "from tqdm import tqdm\n",
    "\n",
    "from pysr import PySRRegressor\n",
    "from gplearn.genetic import SymbolicTransformer\n",
    "from sklego.meta import ZeroInflatedRegressor\n",
    "#from lineartree import LinearTreeRegressor, LinearForestRegressor\n",
    "\n",
    "from xgboost import XGBRegressor, XGBRFClassifier\n",
    "\n",
    "from typing import List, Tuple, Iterable, Callable, Literal\n",
    "\n",
    "\n",
    "import matplotlib.colors as mcolors\n",
    "import matplotlib.cm as cm\n",
    "from sklearn.decomposition import PCA\n",
    "from sklearn.preprocessing import PowerTransformer\n",
    "from sklearn.metrics import adjusted_rand_score as ARI, normalized_mutual_info_score as NMI\n",
    "\n",
    "import random\n"
   ]
  },
  {
   "cell_type": "code",
   "execution_count": 3,
   "metadata": {},
   "outputs": [],
   "source": [
    "# take class BGMM and extend with a function called bic\n",
    "class BGMM(BGMM):\n",
    "    def _n_parameters(self, X):\n",
    "          \"\"\"Return the number of free parameters in the model.\"\"\"\n",
    "          _, n_features = self.means_.shape\n",
    "          # Number of effective components equals the number of unique labels\n",
    "          n_effect_comp = len(np.unique(self.predict(X)))\n",
    "          #n_effect_comp = self.n_components\n",
    "          if self.covariance_type == 'full':\n",
    "              cov_params = n_effect_comp * n_features * (n_features + 1) / 2.\n",
    "          elif self.covariance_type == 'diag':\n",
    "              cov_params = n_effect_comp * n_features\n",
    "          elif self.covariance_type == 'tied':\n",
    "              cov_params = n_features * (n_features + 1) / 2.\n",
    "          elif self.covariance_type == 'spherical':\n",
    "              cov_params = n_effect_comp\n",
    "          mean_params = n_features * n_effect_comp\n",
    "          return int(cov_params + mean_params + n_effect_comp - 1)\n",
    "\n",
    "    def bic(self, X):\n",
    "        \"\"\"Bayesian information criterion for the current model on the input X.\n",
    "\n",
    "        Parameters\n",
    "        ----------\n",
    "        X : array of shape (n_samples, n_dimensions)\n",
    "\n",
    "        Returns\n",
    "        -------\n",
    "        bic : float\n",
    "            The lower the better.\n",
    "        \"\"\"\n",
    "        return (-2 * self.score(X) * X.shape[0] + self._n_parameters(X) * np.log(X.shape[0]))\n",
    "\n",
    "    def aic(self, X):\n",
    "        \"\"\"Akaike information criterion for the current model on the input X.\n",
    "\n",
    "        Parameters\n",
    "        ----------\n",
    "        X : array of shape (n_samples, n_dimensions)\n",
    "+\n",
    "        Returns\n",
    "        -------\n",
    "        aic : float\n",
    "            The lower the better.\n",
    "        \"\"\"\n",
    "        return -2 * self.score(X) * X.shape[0] + 2 * self._n_parameters(X)\n"
   ]
  },
  {
   "cell_type": "code",
   "execution_count": 4,
   "metadata": {},
   "outputs": [],
   "source": [
    "def cluster_classification_f1(X, labels):\n",
    "    '''\n",
    "        create a logistic regression classifier to predict cluster labels\n",
    "        , determine the stratified cross-validated F1 score of the model.\n",
    "    '''\n",
    "    # create a logistic regression classifier to predict cluster labels\n",
    "    clf = LogisticRegression(random_state=0, penalty='elasticnet', solver='saga', l1_ratio=0.1,\n",
    "                                multi_class='multinomial', max_iter=5000)\n",
    "\n",
    "    # determine the stratified cross-validated F1 score of the model.\n",
    "    skf = StratifiedKFold(n_splits=5, shuffle=True, random_state=0)\n",
    "    f1_scores = []\n",
    "    for train_index, test_index in skf.split(X, labels):\n",
    "        clf.fit(X[train_index], labels[train_index])\n",
    "        f1_scores.append(f1_score(labels[test_index], clf.predict(X[test_index]), average='weighted'))\n",
    "\n",
    "    return np.mean(f1_scores), np.std(f1_scores)"
   ]
  },
  {
   "cell_type": "code",
   "execution_count": 5,
   "metadata": {},
   "outputs": [],
   "source": [
    "# a function to run a clustering algorithm in a bootstrapping fashion\n",
    "# the outcome is a list of clustering models\n",
    "def clustering_bootstrapping(data: pd.DataFrame, \n",
    "                             n_clusters: int=10,\n",
    "                             n_bootstraps: int=100, \n",
    "                             sample_size: int=50000,\n",
    "                             clusterer: str='kmeans',\n",
    "                             align: bool=False,\n",
    "                             **kwargs)-> List[Callable]:\n",
    "    if kwargs.get('n_init', None) is None:\n",
    "        n_init = 10\n",
    "    else:\n",
    "        n_init = kwargs.get('n_init')\n",
    "    \n",
    "    model_list = []\n",
    "    for i in tqdm(range(n_bootstraps)):\n",
    "        # sample data\n",
    "        sample = data.sample(sample_size, replace=True)\n",
    "        # cluster sample\n",
    "        if clusterer == 'kmeans':\n",
    "            if (i==0) | (align==False):\n",
    "                model = KMeans(n_clusters=n_clusters, random_state=123, n_init=n_init)\n",
    "                model.fit(sample)\n",
    "                init_means = model.cluster_centers_\n",
    "            else:\n",
    "                model = KMeans(n_clusters=n_clusters, random_state=123, init=init_means, n_init=n_init)\n",
    "                model.fit(sample)\n",
    "        elif clusterer == 'optics':\n",
    "            model = OPTICS(min_samples=100, n_jobs=-1)\n",
    "            model.fit(sample)\n",
    "        elif clusterer == 'hierarchical':\n",
    "            model = AgglomerativeClustering(n_clusters=n_clusters)\n",
    "            model.fit(sample)\n",
    "        elif clusterer == 'gmm':\n",
    "            if (i==0) | (align==False):\n",
    "                model = GMM(n_components=n_clusters, random_state=123)\n",
    "                model.fit(sample)\n",
    "                init_means = model.means_\n",
    "            else:\n",
    "                model = GMM(n_components=n_clusters, random_state=123, means_init=init_means)\n",
    "                model.fit(sample)\n",
    "        elif clusterer == 'bgmm':\n",
    "            if (i==0) | (align==False):\n",
    "                model = BGMM(n_components=n_clusters, random_state=123, max_iter=500)\n",
    "                model.fit(sample)\n",
    "                init_means = model.mean_prior_\n",
    "            else:\n",
    "                model = BGMM(n_components=n_clusters, random_state=123, mean_prior=init_means, max_iter=500)\n",
    "                model.fit(sample)\n",
    "        else:\n",
    "            raise ValueError(\"Unknown clustering algorithm\")\n",
    "        model_list.append(model)\n",
    "    return model_list\n",
    "    \n",
    "def assign_clusters(data: pd.DataFrame, \n",
    "                    model_list: List[Callable], \n",
    "                    clusterer='kmeans') -> pd.DataFrame:\n",
    "    \n",
    "    # get cluster labels\n",
    "    if clusterer in ['kmeans']:\n",
    "        labels = np.array([model.predict(data) for model in model_list])\n",
    "        # get cluster centers\n",
    "        centers = np.array([model.cluster_centers_ for model in model_list])\n",
    "        # get cluster sizes\n",
    "        sizes = np.array([np.bincount(label, minlength=centers.shape[1]) for label in labels])\n",
    "    elif clusterer in ['gmm', 'bgmm']:\n",
    "        labels = np.array([model.predict(data) for model in model_list])\n",
    "        # get cluster centers\n",
    "        centers = np.array([model.means_ for model in model_list])\n",
    "        # get cluster sizes\n",
    "        sizes = np.array([np.bincount(label, minlength=centers.shape[1]) for label in labels])        \n",
    "    return labels, centers, sizes \n",
    "\n",
    "\n",
    "def distance(v1, v2, metric='euclidean'):\n",
    "    ''' Calculate the distance between two vectors '''\n",
    "    if metric=='euclidean':\n",
    "        return np.linalg.norm(v1 - v2)\n",
    "    elif metric=='cosine':\n",
    "        return 1 - np.dot(v1, v2) / (np.linalg.norm(v1) * np.linalg.norm(v2))\n",
    "    elif metric=='poincarre':\n",
    "        return poincarre_dist(v1, v2)\n",
    "    elif metric=='manhattan':\n",
    "        return np.linalg.norm(v1 - v2, ord=1)"
   ]
  },
  {
   "cell_type": "code",
   "execution_count": 6,
   "metadata": {},
   "outputs": [],
   "source": [
    "celldyn_full = pd.read_feather(\"L:/laupodteam/AIOS/Bram/data/CellDyn/artifacts/celldyn_FULL_transformed_df_updated.feather\")\n",
    "\n",
    "meas_columns = [c for c in celldyn_full.columns if ('c_b' in c) | (\"COMBO\" in c)]\n",
    "mode_columns = [c for c in celldyn_full.columns if 'c_m' in c]\n",
    "alrt_columns = [c for c in celldyn_full.columns if 'alrt' in c.lower()]\n",
    "c_s_columns = [c for c in celldyn_full.columns if 'c_s_' in c.lower()]\n",
    "celldyn_full.drop(['index'], axis=1, inplace=True)\n",
    "\n",
    "celldyn_full = celldyn_full.assign(gender=celldyn_full.gender.map({'M':0, 'F':1}))\n",
    "celldyn_full.dropna(subset=['gender','draw_hour'], axis=0, inplace=True)\n",
    "celldyn_full.rename(columns={'studyid_alle_celldyn':'study_id', 'afname_dt': 'sample_dt'}, inplace=True)\n",
    "celldyn_full.set_index(['study_id', 'sample_dt'], inplace=True)"
   ]
  },
  {
   "cell_type": "code",
   "execution_count": 7,
   "metadata": {},
   "outputs": [],
   "source": [
    "celldyn_emb = pd.read_feather(\"L:\\laupodteam\\AIOS\\Bram\\data/CellDyn/artifacts/umap_euclidean_euclidean_spectral_dims_6_n_n_50_n_epochs_400_densmap_True_embedded_data.feather\")\n",
    "celldyn_emb = celldyn_emb.assign(sex=celldyn_emb.sex.map({'M':0, 'F':1}))\n",
    "celldyn_emb.dropna(subset=['sex','draw_hour'], axis=0, inplace=True)\n",
    "celldyn_emb.set_index(['study_id', 'sample_dt'], inplace=True)\n",
    "celldyn_emb = celldyn_emb.loc[celldyn_full.index]"
   ]
  },
  {
   "cell_type": "code",
   "execution_count": 8,
   "metadata": {},
   "outputs": [],
   "source": [
    "in_full = celldyn_full.reset_index()[['study_id', 'sample_dt']].drop_duplicates()\n",
    "in_emb = celldyn_emb.reset_index()[['study_id', 'sample_dt']].drop_duplicates()"
   ]
  },
  {
   "attachments": {},
   "cell_type": "markdown",
   "metadata": {},
   "source": [
    "## Feature selection using sparse coding\n",
    "\n"
   ]
  },
  {
   "attachments": {},
   "cell_type": "markdown",
   "metadata": {},
   "source": [
    "## Feature expansion using  symbolic regression"
   ]
  },
  {
   "cell_type": "code",
   "execution_count": null,
   "metadata": {},
   "outputs": [],
   "source": []
  },
  {
   "attachments": {},
   "cell_type": "markdown",
   "metadata": {},
   "source": [
    "## Blob metrics\n",
    "\n",
    "* We use the density profiles from HDBSCAN to characterize the blobbiness of the data\n",
    "* We use fuzzy c-means in combination with AUFPC curves"
   ]
  },
  {
   "cell_type": "code",
   "execution_count": 9,
   "metadata": {},
   "outputs": [],
   "source": [
    "from hdbscan import HDBSCAN\n",
    "\n",
    "sample_size = 100000\n",
    "selection = in_full.sample(sample_size).reset_index(drop=True)\n",
    "\n",
    "kwargs = {\n",
    "    'min_cluster_size': 5, \n",
    "    'min_samples': 15, \n",
    "    'metric': 'manhattan',\n",
    "    'cluster_selection_method':'leaf'    \n",
    "}\n",
    "\n",
    "emb_index = celldyn_emb[celldyn_emb.index.isin(selection.itertuples(index=False))].index.drop_duplicates()\n",
    "full_index = celldyn_full[celldyn_full.index.isin(selection.itertuples(index=False))].index.drop_duplicates()\n"
   ]
  },
  {
   "cell_type": "code",
   "execution_count": 9,
   "metadata": {},
   "outputs": [],
   "source": [
    "#plt.hist(pipeline.named_steps['hdbscan'].probabilities_, bins=100);\n",
    "#pipeline.named_steps['clusterer'].condensed_tree_\\\n",
    "#        .plot(select_clusters=True,selection_palette=sns.color_palette('deep', 8))"
   ]
  },
  {
   "cell_type": "code",
   "execution_count": 54,
   "metadata": {},
   "outputs": [],
   "source": [
    "Ranker = FunctionTransformer(lambda x: np.argsort(np.argsort(x, axis=0), axis=0))"
   ]
  },
  {
   "cell_type": "code",
   "execution_count": 84,
   "metadata": {},
   "outputs": [],
   "source": [
    "df = celldyn_full.loc[full_index].reset_index().groupby(['study_id', 'sample_dt']).first()\n",
    "df_ = df[meas_columns].copy()\n"
   ]
  },
  {
   "cell_type": "code",
   "execution_count": 91,
   "metadata": {},
   "outputs": [],
   "source": [
    "def pipe_fitter(df, \n",
    "                scaler: Literal = ['standard', 'minmax', 'power'],\n",
    "                clusterer: Literal = ['kmeans', 'hdbscan', 'optics'],\n",
    "                embedder: Literal = ['pca', 'umap', 'trimap', 'pacmap', 'RAW'],\n",
    "                pre_ranking: bool = True,\n",
    "                n_components = 6,\n",
    "                n_clusters = 10):\n",
    "    '''\n",
    "        in:\n",
    "            df: dataframe with measurements\n",
    "            clusterer: clusterer to use\n",
    "            embedder: embedder to use\n",
    "            pre_ranking: whether or not to use pre-ranking\n",
    "            n_components: number of components to use for embedding\n",
    "            n_clusters: number of clusters to use for clustering\n",
    "        returns fitted pipeline\n",
    "    '''\n",
    "    \n",
    "    if scaler == 'standard':\n",
    "        scaler = StandardScaler()\n",
    "    elif scaler == 'minmax':\n",
    "        scaler = MinMaxScaler()\n",
    "    elif scaler == 'power':\n",
    "        scaler = PowerTransformer()\n",
    "        \n",
    "    ######################################################    \n",
    "    \n",
    "    if clusterer == 'optics':\n",
    "        clusterer = OPTICS(min_samples=15, metric='canberra', n_jobs=-1)\n",
    "    elif clusterer == 'hdbscan':\n",
    "        clusterer = HDBSCAN(min_cluster_size=5, min_samples=15, metric='manhattan', cluster_selection_method='leaf')\n",
    "    elif clusterer == 'kmeans':\n",
    "        clusterer = KMeans(n_clusters=n_clusters, random_state=123)\n",
    "\n",
    "    ######################################################\n",
    "\n",
    "    if embedder == 'pca':\n",
    "        embedder = PCA(n_components=n_components, whiten=False)\n",
    "    elif embedder == 'umap':\n",
    "        embedder = umap.UMAP(n_components=n_components, n_neighbors=500, n_epochs=500,\n",
    "                             metric='manhattan', init='spectral',\n",
    "                             random_state=123, densmap=False, min_dist=0)\n",
    "    elif embedder == 'trimap':\n",
    "        pipeline_emb = clusterer.fit(\n",
    "                        trimap.TRIMAP(n_dims=n_components, n_inliers=12, n_outliers=4, \n",
    "                                      distance='manhattan', n_iters=500, lr=0.09).fit_transform(\n",
    "                            scaler.fit_transform(df)\n",
    "                            )\n",
    "                        )\n",
    "        return pipeline_emb\n",
    "    elif embedder == 'pacmap':\n",
    "        embedder = pacmap.PaCMAP(n_components=n_components, \n",
    "                                     n_neighbors=500, num_iters=500, lr=0.9, \n",
    "                                     apply_pca=False)\n",
    "    elif embedder == 'RAW':\n",
    "        embedder = None\n",
    "    \n",
    "    ######################################################\n",
    "    \n",
    "    if pre_ranking:\n",
    "        scaler = None\n",
    "        ranker = Ranker\n",
    "    \n",
    "    le_pipe_list = [('scaler', scaler)]\n",
    "    le_pipe_list += [('ranker', ranker)] if pre_ranking else []\n",
    "    le_pipe_list += [('embedder', embedder)]\n",
    "    le_pipe_list += [('clusterer', clusterer)]    \n",
    "    le_pipe = Pipeline(le_pipe_list)\n",
    "    le_pipe.fit(df)\n",
    "    \n",
    "    return le_pipe\n",
    "    \n",
    "    "
   ]
  },
  {
   "cell_type": "code",
   "execution_count": 103,
   "metadata": {},
   "outputs": [
    {
     "name": "stderr",
     "output_type": "stream",
     "text": [
      "c:\\Users\\bes3\\VIRTUALENVS\\embedder\\lib\\site-packages\\sklearn\\cluster\\_kmeans.py:870: FutureWarning: The default value of `n_init` will change from 10 to 'auto' in 1.4. Set the value of `n_init` explicitly to suppress the warning\n",
      "  warnings.warn(\n"
     ]
    }
   ],
   "source": [
    "pipeline_pca = pipe_fitter(df_, \n",
    "                           scaler='standard', \n",
    "                           clusterer='kmeans',\n",
    "                           embedder='pca', \n",
    "                           pre_ranking=True, \n",
    "                           n_components=2,\n",
    "                           n_clusters=10)"
   ]
  },
  {
   "cell_type": "code",
   "execution_count": null,
   "metadata": {},
   "outputs": [],
   "source": [
    "pipeline_emb = pipe_fitter(df_, \n",
    "                           scaler='standard', \n",
    "                           clusterer='kmeans',\n",
    "                           embedder='umap', \n",
    "                           pre_ranking=True, \n",
    "                           n_components=2,\n",
    "                           n_clusters=10)"
   ]
  },
  {
   "cell_type": "code",
   "execution_count": 77,
   "metadata": {},
   "outputs": [
    {
     "name": "stderr",
     "output_type": "stream",
     "text": [
      "c:\\Users\\bes3\\VIRTUALENVS\\embedder\\lib\\site-packages\\sklearn\\base.py:413: UserWarning: X has feature names, but PCA was fitted without feature names\n",
      "  warnings.warn(\n"
     ]
    }
   ],
   "source": [
    "Xpca = pipeline_pca.named_steps['pca'].transform(df.loc[:, meas_columns])\n",
    "Xemb = pipeline_emb.named_steps['embedder'].embedding_\n",
    "Xorg = df.loc[:, meas_columns].values\n",
    "perfClass = CDEmbeddingPerformance(n_neighbours=500, metric='manhattan', dcor_level=1)\n",
    "\n",
    "rnd_sel = np.random.randint(0,100_000, 4000)\n",
    "plt.plot(perfClass._return_dynamic_distance_correlation(Xpca[rnd_sel], Xorg[rnd_sel], n_bins=80))\n",
    "plt.plot(perfClass._return_dynamic_distance_correlation(Xemb[rnd_sel], Xorg[rnd_sel], n_bins=80))\n",
    "plt.legend(['pca', 'emb'])"
   ]
  },
  {
   "cell_type": "code",
   "execution_count": 104,
   "metadata": {},
   "outputs": [
    {
     "name": "stdout",
     "output_type": "stream",
     "text": [
      "ARI: 0.34471773965951363\n",
      "NMI: 0.5157489101070742\n",
      "ARI PCA: 0.27884596936681716\n",
      "NMI PCA: 0.4574945026782052\n",
      "num embedding labels: 10\n",
      "num full labels: 10\n",
      "num pca labels: 10\n"
     ]
    }
   ],
   "source": [
    "# ARI, NMI\n",
    "emb_labels = pipeline_emb.named_steps['clusterer'].labels_\n",
    "#emb_labels = pipeline_emb.labels_\n",
    "\n",
    "full_labels = pipeline_full.named_steps['clusterer'].labels_\n",
    "pca_labels = pipeline_pca.named_steps['clusterer'].labels_\n",
    "\n",
    "print(f\"ARI: {ARI(emb_labels, full_labels)}\")\n",
    "print(f\"NMI: {NMI(emb_labels, full_labels)}\")\n",
    "\n",
    "print(f\"ARI PCA: {ARI(pca_labels, full_labels)}\")\n",
    "print(f\"NMI PCA: {NMI(pca_labels, full_labels)}\")\n",
    "\n",
    "print(f\"num embedding labels: {len(np.unique(emb_labels))}\")\n",
    "print(f\"num full labels: {len(np.unique(full_labels))}\")\n",
    "print(f\"num pca labels: {len(np.unique(pca_labels))}\")"
   ]
  },
  {
   "cell_type": "code",
   "execution_count": 74,
   "metadata": {},
   "outputs": [
    {
     "ename": "AttributeError",
     "evalue": "'KMeans' object has no attribute 'ordering_'",
     "output_type": "error",
     "traceback": [
      "\u001b[1;31m---------------------------------------------------------------------------\u001b[0m",
      "\u001b[1;31mAttributeError\u001b[0m                            Traceback (most recent call last)",
      "Cell \u001b[1;32mIn[74], line 3\u001b[0m\n\u001b[0;32m      1\u001b[0m fig, ax \u001b[39m=\u001b[39m plt\u001b[39m.\u001b[39msubplots(ncols\u001b[39m=\u001b[39m\u001b[39m1\u001b[39m, nrows\u001b[39m=\u001b[39m\u001b[39m2\u001b[39m, figsize\u001b[39m=\u001b[39m(\u001b[39m20\u001b[39m, \u001b[39m12\u001b[39m)) \n\u001b[1;32m----> 3\u001b[0m ordering \u001b[39m=\u001b[39m pipeline_emb\u001b[39m.\u001b[39;49mnamed_steps[\u001b[39m'\u001b[39;49m\u001b[39mclusterer\u001b[39;49m\u001b[39m'\u001b[39;49m]\u001b[39m.\u001b[39;49mordering_\n\u001b[0;32m      4\u001b[0m reach \u001b[39m=\u001b[39m pipeline_emb\u001b[39m.\u001b[39mnamed_steps[\u001b[39m'\u001b[39m\u001b[39mclusterer\u001b[39m\u001b[39m'\u001b[39m]\u001b[39m.\u001b[39mreachability_[ordering]\n\u001b[0;32m      5\u001b[0m labels \u001b[39m=\u001b[39m pipeline_emb\u001b[39m.\u001b[39mnamed_steps[\u001b[39m'\u001b[39m\u001b[39mclusterer\u001b[39m\u001b[39m'\u001b[39m]\u001b[39m.\u001b[39mlabels_[ordering]\n",
      "\u001b[1;31mAttributeError\u001b[0m: 'KMeans' object has no attribute 'ordering_'"
     ]
    },
    {
     "data": {
      "image/png": "[encoded data removed]",
      "text/plain": [
       "<Figure size 2000x1200 with 2 Axes>"
      ]
     },
     "metadata": {},
     "output_type": "display_data"
    }
   ],
   "source": [
    "fig, ax = plt.subplots(ncols=1, nrows=2, figsize=(20, 12)) \n",
    "\n",
    "ordering = pipeline_emb.named_steps['clusterer'].ordering_\n",
    "reach = pipeline_emb.named_steps['clusterer'].reachability_[ordering]\n",
    "labels = pipeline_emb.named_steps['clusterer'].labels_[ordering]\n",
    "space = np.arange(labels.shape[0])\n",
    "num_categories = len(np.unique(labels))\n",
    "colormap = cm.get_cmap('viridis', num_categories)\n",
    "colors = [colormap(i) for i in range(num_categories)]\n",
    "\n",
    "for klass, color in zip(range(0, num_categories), colors):\n",
    "    Xk = space[labels == klass]\n",
    "    Rk = reach[labels == klass]\n",
    "    ax[0].plot(Xk, Rk, color, alpha=0.8)\n",
    "ax[0].plot(space[labels == -1], reach[labels == -1], \"k.\", alpha=0.3)\n",
    "#ax[0].plot(space, np.full_like(space, 2.0, dtype=float), \"k-\", alpha=0.5)\n",
    "#ax[0].plot(space, np.full_like(space, 0.5, dtype=float), \"k-.\", alpha=0.5)\n",
    "ax[0].set_ylabel(\"Reachability (epsilon distance)\")\n",
    "ax[0].set_xlim(1,15000)\n",
    "\n",
    "\n",
    "############################################################################################################\n",
    "############################################################################################################\n",
    "############################################################################################################\n",
    "\n",
    "ordering = pipeline_full.named_steps['clusterer'].ordering_\n",
    "reach = pipeline_full.named_steps['clusterer'].reachability_[ordering]\n",
    "labels = pipeline_full.named_steps['clusterer'].labels_[ordering]\n",
    "space = np.arange(labels.shape[0])\n",
    "num_categories = len(np.unique(labels))\n",
    "colormap = cm.get_cmap('viridis', num_categories)\n",
    "colors = [colormap(i) for i in range(num_categories)]\n",
    "\n",
    "for klass, color in zip(range(0, num_categories), colors):\n",
    "    Xk = space[labels == klass]\n",
    "    Rk = reach[labels == klass]\n",
    "    ax[1].plot(Xk, Rk, color, alpha=0.3)\n",
    "ax[1].plot(space[labels == -1], reach[labels == -1], \"k.\", alpha=0.3)\n",
    "#ax[1].plot(space, np.full_like(space, 2.0, dtype=float), \"k-\", alpha=0.5)\n",
    "#ax[1].plot(space, np.full_like(space, 0.5, dtype=float), \"k-.\", alpha=0.5)\n",
    "ax[1].set_ylabel(\"Reachability (epsilon distance)\")\n",
    "ax[1].set_xlim(1,15000)\n",
    "ax[1].set_ylim(20,40)\n",
    "\n",
    "fig.suptitle(\"Reachability Plot\")\n"
   ]
  },
  {
   "attachments": {},
   "cell_type": "markdown",
   "metadata": {},
   "source": [
    "## Bootstrapped Clustering"
   ]
  },
  {
   "cell_type": "code",
   "execution_count": null,
   "metadata": {},
   "outputs": [],
   "source": [
    "gc.collect()\n",
    "bclusters = clustering_bootstrapping(celldyn_full[meas_columns], n_clusters=10, n_bootstraps=60, sample_size=10000, clusterer='kmeans', n_init=1, align=True)\n",
    "gc.collect()"
   ]
  },
  {
   "cell_type": "code",
   "execution_count": null,
   "metadata": {},
   "outputs": [],
   "source": [
    "test_set = celldyn_full.sample(10000, replace=True)[meas_columns]\n",
    "labels, centers, sizes = assign_clusters(test_set, bclusters, clusterer='kmeans')"
   ]
  },
  {
   "cell_type": "code",
   "execution_count": null,
   "metadata": {},
   "outputs": [],
   "source": [
    "from sklearn.metrics.cluster import fowlkes_mallows_score, homogeneity_score, homogeneity_completeness_v_measure\n",
    "from sklearn.metrics.cluster import normalized_mutual_info_score, adjusted_rand_score, adjusted_mutual_info_score, pair_confusion_matrix\n",
    "\n",
    "cluster_overlap_list = []\n",
    "for i in range(labels.shape[0]):\n",
    "    for j in range(i+1, labels.shape[0]):\n",
    "        cluster_overlap_list.append(fowlkes_mallows_score(labels[i], labels[j]))\n",
    "\n",
    "plt.hist(cluster_overlap_list, bins=30);"
   ]
  },
  {
   "cell_type": "code",
   "execution_count": null,
   "metadata": {},
   "outputs": [],
   "source": [
    "# we want to re-order the cluster labels for each model such that the ordinal similarity between the models is maximized\n",
    "init_sim = np.sum(np.corrcoef(labels))/labels.shape[0]**2\n",
    "print(f\"Initial similarity: {init_sim}\")\n",
    "\n",
    "#  we want to align the cluster id's based on the cluster centers or the cluster assignmnents\n",
    "def align_cluster_assignments(labels: np.ndarray, centers: np.ndarray, method: str='centerwise', base_sel: int=0)-> np.ndarray:\n",
    "    '''\n",
    "        Centerwise, given, 1..N models, we align the 2,N models based on the cluster centers of model 1.\n",
    "        I.e. we find the cluster center in model 2 that is closest to the cluster center in model 1 and assign the cluster id's accordingly\n",
    "    '''\n",
    "    if method == 'centerwise':\n",
    "        base_centers = centers[base_sel]\n",
    "        # find the closest cluster center for each model\n",
    "        closest_centers = [[np.argmin([distance(bv.ravel(), _cv.ravel(), metric='cosine') \n",
    "                                            for _cv in cv]) \n",
    "                                                for bv in base_centers] \n",
    "                                                    for cv in centers[1:]\n",
    "                                                    ]\n",
    "        # now we have the closest cluster centers for each model, we can re-order the labels\n",
    "        aligned_labels = [np.array([closest_centers[i][l] for l in labels[base_sel]]) for i in range(len(closest_centers))]\n",
    "        aligned_centers = [centers[i][closest_centers[i]] for i in range(len(closest_centers))]\n",
    "\n",
    "    '''\n",
    "        TODO:\n",
    "    \tWe want to re-order the cluster labels for each model such that the ordinal similarity between the models is maximized.\n",
    "        We express this similarity with MCC (Matthews correlation coefficient)\n",
    "    '''\n",
    "    # first order the labels from the first model, use the order index\n",
    "    # to order the labels of the other models\n",
    "\n",
    "    # now change the labels of the other models to match the order of the first model\n",
    "\n",
    "\n",
    "    return np.vstack(aligned_labels), np.stack(aligned_centers), closest_centers\n",
    "\n",
    "aligned_labels, aligned_centers, closest_centers = align_cluster_assignments(labels, centers, method='centerwise', base_sel=0)\n",
    "print(f\"Aligned result: {np.sum(np.corrcoef(aligned_labels))/aligned_labels.shape[0]**2}\")"
   ]
  },
  {
   "cell_type": "code",
   "execution_count": null,
   "metadata": {},
   "outputs": [],
   "source": [
    "cluster_assignment = pd.DataFrame(aligned_labels.T, columns=['cluster_assignment_'+str(i) for i in range(aligned_labels.shape[0])])\n",
    "cluster_assignment.index = test_set.index\n",
    "cluster_assignment = cluster_assignment.assign(cluster_entropy=cluster_assignment.apply(lambda x: entropy(np.histogram(x, bins=10, density=True)[0]), axis=1))\n",
    "cluster_assignment = cluster_assignment.assign(median_cluster=cluster_assignment.apply(lambda x: int(np.median(x)), axis=1))"
   ]
  },
  {
   "cell_type": "code",
   "execution_count": null,
   "metadata": {},
   "outputs": [],
   "source": [
    "plot_df = celldyn_emb.loc[cluster_assignment.index].join(cluster_assignment[['cluster_entropy', 'median_cluster']], how='inner')\n",
    "sns.scatterplot(data=plot_df, x='dim_2', y='dim_3', hue='median_cluster', palette='viridis', alpha=0.5, legend=True)"
   ]
  },
  {
   "cell_type": "code",
   "execution_count": null,
   "metadata": {},
   "outputs": [],
   "source": [
    "cluster_num = 0\n",
    "for plot_count in range(100):\n",
    "    _v1, _v2 = random.sample(range(0, aligned_centers.shape[2]), 2)\n",
    "    if _v1 != _v2:\n",
    "        v1 = aligned_centers[:, cluster_num, _v1]\n",
    "        v2 = aligned_centers[:, cluster_num, _v2]\n",
    "        plt.scatter(v1, v2, c='r', alpha=0.05)\n",
    "plt.title(f\"Cluster-center spread for cluster {cluster_num}\")"
   ]
  },
  {
   "attachments": {},
   "cell_type": "markdown",
   "metadata": {},
   "source": [
    "## NMI and ARI"
   ]
  },
  {
   "cell_type": "code",
   "execution_count": null,
   "metadata": {},
   "outputs": [],
   "source": []
  },
  {
   "attachments": {},
   "cell_type": "markdown",
   "metadata": {},
   "source": [
    "## Fuzzy c-means"
   ]
  },
  {
   "cell_type": "code",
   "execution_count": null,
   "metadata": {},
   "outputs": [],
   "source": [
    "fpcs = []\n",
    "\n",
    "df =celldyn_full[meas_columns] # ['age',  'gender']]\n",
    "#df = celldyn_emb[['dim_1', 'dim_2', 'dim_3', 'dim_4',  'dim_5', 'dim_6']]\n",
    "n_bootstrap = 30\n",
    "sample_count = 50000\n",
    "for n in tqdm(range(n_bootstrap)):\n",
    "    data = df.sample(sample_count)\n",
    "    _idx = data.index\n",
    "    \n",
    "    _fpcs = []\n",
    "    for ncenters, ax in enumerate(range(10),2):\n",
    "        cntr, u, u0, d, jm, p, fpc = fuzz.cluster.cmeans(data.T.values, c=ncenters, m=1.1, \n",
    "                                        error=0.005, maxiter=1000, init=None, seed=123)\n",
    "\n",
    "        # Store fpc values for later\n",
    "        _fpcs.append(fpc)\n",
    "    fpcs.append(_fpcs)\n",
    "\n",
    "for i in range(n_bootstrap):\n",
    "    plt.plot(np.arange(2, 12), fpcs[i], alpha=0.1, c='b')\n",
    "\n",
    "plt.xlabel(\"Number of centers\")\n",
    "plt.ylabel(\"Fuzzy partition coefficient\")"
   ]
  },
  {
   "attachments": {},
   "cell_type": "markdown",
   "metadata": {},
   "source": [
    "## GMM evaluation\n",
    "\n",
    "* use ```model.aic``` and ```model.bic``` to evaluate GMM\n",
    "* use ```model.score_samples``` to evaluate BGMM"
   ]
  },
  {
   "cell_type": "code",
   "execution_count": null,
   "metadata": {},
   "outputs": [],
   "source": [
    "# get sample data\n",
    "res_list = []\n",
    "n_bootstrap = 10\n",
    "sample_count = 5000\n",
    "n_clusters = 20\n",
    "\n",
    "df =celldyn_full[meas_columns] \n",
    "#df = celldyn_emb[['dim_1', 'dim_2', 'dim_3', 'dim_4',  'dim_5', 'dim_6', 'age', 'sex']]\n",
    "cluster_sizes = []\n",
    "for b in range(n_bootstrap):\n",
    "    data = df.sample(sample_count)\n",
    "    # extract the cluster centers and aic, bic using GMM for 1..10 clusters\n",
    "    \n",
    "    for n in range(2, n_clusters+1):\n",
    "        gmm = GMM(n_components=n, covariance_type='full', random_state=123, max_iter=1000).fit(data)\n",
    "        labels = gmm.predict(data)\n",
    "        cluster_sizes.append(np.bincount(labels))\n",
    "\n",
    "        #centers = gmm.means_\n",
    "        aic = gmm.aic(data)\n",
    "        bic = gmm.bic(data)\n",
    "        silhouette_avg = silhouette_score(data, labels)\n",
    "        davies_bouldin = davies_bouldin_score(data.values, labels)\n",
    "        calinski_harabasz = calinski_harabasz_score(data.values, labels)\n",
    "        mean_log_likelihood = gmm.score(data)\n",
    "\n",
    "        # only keep the samples that are assigned to clusters with more than 50 samples\n",
    "        # this is to avoid the problem of having too few samples in a cluster\n",
    "        # and thus the cluster classification f1 score is not reliable\n",
    "\n",
    "        f1, f1_std = cluster_classification_f1(data.values, labels)\n",
    "        res_list.append({'bootstrap_round': b, \n",
    "                         'num_cluster': n, \n",
    "                         'AIC': aic, \n",
    "                         'BIC': bic, \n",
    "                         'silhouette_score': silhouette_avg,\n",
    "                         'davies_bouldin_score': davies_bouldin,\n",
    "                         'calinski_harabasz_score': calinski_harabasz,\n",
    "                         'score': mean_log_likelihood,\n",
    "                         'f1': f1,\n",
    "                         'f1_std': f1_std})\n",
    "res_df = pd.DataFrame(res_list)"
   ]
  },
  {
   "cell_type": "code",
   "execution_count": null,
   "metadata": {},
   "outputs": [],
   "source": [
    "fig, ax = plt.subplots(4, 2, figsize=(18, 25))\n",
    "\n",
    "sns.lineplot(data=res_df, x='num_cluster', y='AIC', alpha=0.1, c='b',  ax=ax[0,0])\n",
    "sns.lineplot(data=res_df, x='num_cluster', y='BIC', alpha=0.1, c='b',  ax=ax[0,1])\n",
    "\n",
    "sns.lineplot(data=res_df, x='num_cluster', y='silhouette_score', alpha=0.1, c='b',  ax=ax[1,0])\n",
    "sns.lineplot(data=res_df, x='num_cluster', y='davies_bouldin_score', alpha=0.1, c='b',  ax=ax[1,1])\n",
    "\n",
    "sns.lineplot(data=res_df, x='num_cluster', y='calinski_harabasz_score', alpha=0.1, c='b',  ax=ax[2,0])\n",
    "sns.lineplot(data=res_df, x='num_cluster', y='score', alpha=0.1, c='b',  ax=ax[2,1])\n",
    "\n",
    "sns.lineplot(data=res_df, x='num_cluster', y='f1', alpha=0.1, c='b',  ax=ax[3,0])\n",
    "sns.lineplot(data=res_df, x='num_cluster', y='f1_std', alpha=0.1, c='b',  ax=ax[3,1])\n",
    "\n",
    "fig.suptitle(\"GMM clustering, bootstrap N=10, sample size=5000\")\n",
    "ax[0,0].set_title(\"AIC\")\n",
    "ax[0,1].set_title(\"BIC\")\n",
    "\n",
    "ax[1,0].set_title(\"Silhouette score\")\n",
    "ax[1,1].set_title(\"David Bouldin score\")\n",
    "\n",
    "ax[2,0].set_title(\"Calinski Harabasz score\")\n",
    "ax[2,1].set_title(\"Mean log likelihood\")\n",
    "\n",
    "ax[3,0].set_title(\"F1 score\")\n",
    "ax[3,1].set_title(\"F1 score std\")\n"
   ]
  },
  {
   "cell_type": "code",
   "execution_count": null,
   "metadata": {},
   "outputs": [],
   "source": [
    "res_df"
   ]
  },
  {
   "cell_type": "code",
   "execution_count": null,
   "metadata": {},
   "outputs": [],
   "source": [
    "# get sample data\n",
    "res_list = []\n",
    "n_bootstrap = 20\n",
    "sample_count = 10000\n",
    "n_clusters = 20\n",
    "\n",
    "df =celldyn_full[meas_columns] \n",
    "#df = celldyn_emb[['dim_1', 'dim_2', 'dim_3', 'dim_4',  'dim_5', 'dim_6', 'age', 'sex']]\n",
    "for b in tqdm(range(n_bootstrap)):\n",
    "    data = df.sample(sample_count)\n",
    "    # extract the cluster centers and aic, bic using GMM for 1..10 clusters    \n",
    "    \n",
    "    gmm = BGMM(n_components=n_clusters, covariance_type='full', random_state=123, max_iter=1000).fit(data)\n",
    "    #labels = gmm.predict(data)\n",
    "    #centers = gmm.means_\n",
    "    res_list.append({'bootstrap_round': b, \n",
    "                     'mean_log_likelihood': gmm.score(data)})\n",
    "res_df = pd.DataFrame(res_list)"
   ]
  },
  {
   "cell_type": "code",
   "execution_count": null,
   "metadata": {},
   "outputs": [],
   "source": [
    "df =celldyn_full[meas_columns] \n",
    "data = df.sample(1000)\n",
    "n_comp = 3\n",
    "gmm = BGMM(n_components=n_comp, covariance_type='full', random_state=123, max_iter=1000).fit(data)\n",
    "bgmm_res = gmm.predict_proba(data)\n",
    "AIC = gmm.aic(data)\n",
    "BIC = gmm.bic(data)\n",
    "data['log_likelihood_gmm'] = gmm.score_samples(data)\n",
    "data[[f'cluster_{i}' for i in range(n_comp)]] = bgmm_res\n",
    "res_df = pd.DataFrame(data=bgmm_res, columns=[f'cluster_{i}' for i in range(n_comp)])\n",
    "res_df.index=data.index\n"
   ]
  },
  {
   "cell_type": "code",
   "execution_count": null,
   "metadata": {},
   "outputs": [],
   "source": [
    "data[[f'cluster_{i}' for i in range(n_comp)]].mean()"
   ]
  },
  {
   "cell_type": "code",
   "execution_count": null,
   "metadata": {},
   "outputs": [],
   "source": [
    "AIC, BIC"
   ]
  },
  {
   "cell_type": "code",
   "execution_count": null,
   "metadata": {},
   "outputs": [],
   "source": [
    "clust = 'cluster_2'\n",
    "plot_df = celldyn_emb.loc[data.index].join(data[['log_likelihood_gmm', clust]], how='inner')\n",
    "sns.scatterplot(data=plot_df[plot_df.log_likelihood_gmm>=0], x='dim_1', y='dim_3', hue=clust, palette='viridis', alpha=0.5, legend=True)\n",
    "sns.scatterplot(data=plot_df[plot_df.log_likelihood_gmm<0], x='dim_1', y='dim_3', color='black', alpha=0.1, legend=True)\n"
   ]
  },
  {
   "cell_type": "code",
   "execution_count": null,
   "metadata": {},
   "outputs": [],
   "source": []
  }
 ],
 "metadata": {
  "kernelspec": {
   "display_name": "base",
   "language": "python",
   "name": "python3"
  },
  "language_info": {
   "codemirror_mode": {
    "name": "ipython",
    "version": 3
   },
   "file_extension": ".py",
   "mimetype": "text/x-python",
   "name": "python",
   "nbconvert_exporter": "python",
   "pygments_lexer": "ipython3",
   "version": "3.10.0"
  },
  "orig_nbformat": 4,
  "vscode": {
   "interpreter": {
    "hash": "da1a1f9fee48aeb25414ae45b99f00113784206b411b315deabc951a0f32f6bd"
   }
  }
 },
 "nbformat": 4,
 "nbformat_minor": 2
}
