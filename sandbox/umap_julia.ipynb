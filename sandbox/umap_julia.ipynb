{
 "cells": [
  {
   "cell_type": "code",
   "execution_count": 1,
   "metadata": {},
   "outputs": [],
   "source": [
    "using DataFrames, Arrow, UMAP, StatsBase, MLJ"
   ]
  },
  {
   "cell_type": "code",
   "execution_count": 2,
   "metadata": {},
   "outputs": [
    {
     "data": {
      "text/html": [
       "<div class=\"data-frame\"><p>2,241,484 rows × 289 columns (omitted printing of 285 columns)</p><table class=\"data-frame\"><thead><tr><th></th><th>level_0</th><th>index</th><th>studyid_alle_celldyn</th><th>bestanden</th></tr><tr><th></th><th title=\"Union{Missing, Int64}\">Int64?</th><th title=\"Union{Missing, Int64}\">Int64?</th><th title=\"Union{Missing, Float64}\">Float64?</th><th title=\"Union{Missing, Vector{UInt8}}\">Array…?</th></tr></thead><tbody><tr><th>1</th><td>0</td><td>55192</td><td>2.75292e9</td><td>[0x31, 0x5f, 0x30, 0x39, 0x30, 0x35, 0x45, 0x2e, 0x63, 0x73, 0x76]</td></tr><tr><th>2</th><td>1</td><td>55194</td><td>3.34401e9</td><td>[0x31, 0x5f, 0x30, 0x39, 0x30, 0x35, 0x45, 0x2e, 0x63, 0x73, 0x76]</td></tr><tr><th>3</th><td>2</td><td>55195</td><td>5.43972e9</td><td>[0x31, 0x5f, 0x30, 0x39, 0x30, 0x35, 0x45, 0x2e, 0x63, 0x73, 0x76]</td></tr><tr><th>4</th><td>3</td><td>55197</td><td>2.72134e9</td><td>[0x31, 0x5f, 0x30, 0x39, 0x30, 0x35, 0x45, 0x2e, 0x63, 0x73, 0x76]</td></tr><tr><th>5</th><td>4</td><td>55198</td><td>2.04489e9</td><td>[0x31, 0x5f, 0x30, 0x39, 0x30, 0x35, 0x45, 0x2e, 0x63, 0x73, 0x76]</td></tr><tr><th>6</th><td>5</td><td>55199</td><td>2.00961e9</td><td>[0x31, 0x5f, 0x30, 0x39, 0x30, 0x35, 0x45, 0x2e, 0x63, 0x73, 0x76]</td></tr><tr><th>7</th><td>6</td><td>55200</td><td>5.72492e9</td><td>[0x31, 0x5f, 0x30, 0x39, 0x30, 0x35, 0x45, 0x2e, 0x63, 0x73, 0x76]</td></tr><tr><th>8</th><td>7</td><td>55201</td><td>2.04489e9</td><td>[0x31, 0x5f, 0x30, 0x39, 0x30, 0x35, 0x45, 0x2e, 0x63, 0x73, 0x76]</td></tr><tr><th>9</th><td>8</td><td>55202</td><td>3.95235e9</td><td>[0x31, 0x5f, 0x30, 0x39, 0x30, 0x35, 0x45, 0x2e, 0x63, 0x73, 0x76]</td></tr><tr><th>10</th><td>9</td><td>55203</td><td>6.01101e9</td><td>[0x31, 0x5f, 0x30, 0x39, 0x30, 0x35, 0x45, 0x2e, 0x63, 0x73, 0x76]</td></tr><tr><th>11</th><td>10</td><td>55204</td><td>2.00961e9</td><td>[0x31, 0x5f, 0x30, 0x39, 0x30, 0x35, 0x45, 0x2e, 0x63, 0x73, 0x76]</td></tr><tr><th>12</th><td>11</td><td>55205</td><td>2.04489e9</td><td>[0x31, 0x5f, 0x30, 0x39, 0x30, 0x35, 0x45, 0x2e, 0x63, 0x73, 0x76]</td></tr><tr><th>13</th><td>12</td><td>55206</td><td>2.05684e9</td><td>[0x31, 0x5f, 0x30, 0x39, 0x30, 0x35, 0x45, 0x2e, 0x63, 0x73, 0x76]</td></tr><tr><th>14</th><td>13</td><td>55207</td><td>4.08627e9</td><td>[0x31, 0x5f, 0x30, 0x39, 0x30, 0x35, 0x45, 0x2e, 0x63, 0x73, 0x76]</td></tr><tr><th>15</th><td>14</td><td>55208</td><td>5.32671e9</td><td>[0x31, 0x5f, 0x30, 0x39, 0x30, 0x35, 0x45, 0x2e, 0x63, 0x73, 0x76]</td></tr><tr><th>16</th><td>15</td><td>55209</td><td>3.33465e9</td><td>[0x31, 0x5f, 0x30, 0x39, 0x30, 0x35, 0x45, 0x2e, 0x63, 0x73, 0x76]</td></tr><tr><th>17</th><td>16</td><td>55210</td><td>4.78622e8</td><td>[0x31, 0x5f, 0x30, 0x39, 0x30, 0x35, 0x45, 0x2e, 0x63, 0x73, 0x76]</td></tr><tr><th>18</th><td>17</td><td>55211</td><td>5.43972e9</td><td>[0x31, 0x5f, 0x30, 0x39, 0x30, 0x35, 0x45, 0x2e, 0x63, 0x73, 0x76]</td></tr><tr><th>19</th><td>18</td><td>55212</td><td>6.4663e7</td><td>[0x31, 0x5f, 0x30, 0x39, 0x30, 0x35, 0x45, 0x2e, 0x63, 0x73, 0x76]</td></tr><tr><th>20</th><td>19</td><td>55213</td><td>4.84601e9</td><td>[0x31, 0x5f, 0x30, 0x39, 0x30, 0x35, 0x45, 0x2e, 0x63, 0x73, 0x76]</td></tr><tr><th>21</th><td>20</td><td>55214</td><td>7.28705e8</td><td>[0x31, 0x5f, 0x30, 0x39, 0x30, 0x35, 0x45, 0x2e, 0x63, 0x73, 0x76]</td></tr><tr><th>22</th><td>21</td><td>55215</td><td>3.01434e9</td><td>[0x31, 0x5f, 0x30, 0x39, 0x30, 0x35, 0x45, 0x2e, 0x63, 0x73, 0x76]</td></tr><tr><th>23</th><td>22</td><td>55217</td><td>6.00538e9</td><td>[0x31, 0x5f, 0x30, 0x39, 0x30, 0x35, 0x45, 0x2e, 0x63, 0x73, 0x76]</td></tr><tr><th>24</th><td>23</td><td>55218</td><td>5.99043e9</td><td>[0x31, 0x5f, 0x30, 0x39, 0x30, 0x35, 0x45, 0x2e, 0x63, 0x73, 0x76]</td></tr><tr><th>25</th><td>24</td><td>55219</td><td>1.39355e9</td><td>[0x31, 0x5f, 0x30, 0x39, 0x30, 0x35, 0x45, 0x2e, 0x63, 0x73, 0x76]</td></tr><tr><th>26</th><td>25</td><td>55220</td><td>6.04146e9</td><td>[0x31, 0x5f, 0x30, 0x39, 0x30, 0x35, 0x45, 0x2e, 0x63, 0x73, 0x76]</td></tr><tr><th>27</th><td>26</td><td>55221</td><td>1.06613e9</td><td>[0x31, 0x5f, 0x30, 0x39, 0x30, 0x35, 0x45, 0x2e, 0x63, 0x73, 0x76]</td></tr><tr><th>28</th><td>27</td><td>55222</td><td>1.3429e9</td><td>[0x31, 0x5f, 0x30, 0x39, 0x30, 0x35, 0x45, 0x2e, 0x63, 0x73, 0x76]</td></tr><tr><th>29</th><td>28</td><td>55223</td><td>5.98685e9</td><td>[0x31, 0x5f, 0x30, 0x39, 0x30, 0x35, 0x45, 0x2e, 0x63, 0x73, 0x76]</td></tr><tr><th>30</th><td>29</td><td>55224</td><td>2.66657e9</td><td>[0x31, 0x5f, 0x30, 0x39, 0x30, 0x35, 0x45, 0x2e, 0x63, 0x73, 0x76]</td></tr><tr><th>&vellip;</th><td>&vellip;</td><td>&vellip;</td><td>&vellip;</td><td>&vellip;</td></tr></tbody></table></div>"
      ],
      "text/latex": [
       "\\begin{tabular}{r|ccccc}\n",
       "\t& level\\_0 & index & studyid\\_alle\\_celldyn & bestanden & \\\\\n",
       "\t\\hline\n",
       "\t& Int64? & Int64? & Float64? & Array…? & \\\\\n",
       "\t\\hline\n",
       "\t1 & 0 & 55192 & 2.75292e9 & [0x31, 0x5f, 0x30, 0x39, 0x30, 0x35, 0x45, 0x2e, 0x63, 0x73, 0x76] & $\\dots$ \\\\\n",
       "\t2 & 1 & 55194 & 3.34401e9 & [0x31, 0x5f, 0x30, 0x39, 0x30, 0x35, 0x45, 0x2e, 0x63, 0x73, 0x76] & $\\dots$ \\\\\n",
       "\t3 & 2 & 55195 & 5.43972e9 & [0x31, 0x5f, 0x30, 0x39, 0x30, 0x35, 0x45, 0x2e, 0x63, 0x73, 0x76] & $\\dots$ \\\\\n",
       "\t4 & 3 & 55197 & 2.72134e9 & [0x31, 0x5f, 0x30, 0x39, 0x30, 0x35, 0x45, 0x2e, 0x63, 0x73, 0x76] & $\\dots$ \\\\\n",
       "\t5 & 4 & 55198 & 2.04489e9 & [0x31, 0x5f, 0x30, 0x39, 0x30, 0x35, 0x45, 0x2e, 0x63, 0x73, 0x76] & $\\dots$ \\\\\n",
       "\t6 & 5 & 55199 & 2.00961e9 & [0x31, 0x5f, 0x30, 0x39, 0x30, 0x35, 0x45, 0x2e, 0x63, 0x73, 0x76] & $\\dots$ \\\\\n",
       "\t7 & 6 & 55200 & 5.72492e9 & [0x31, 0x5f, 0x30, 0x39, 0x30, 0x35, 0x45, 0x2e, 0x63, 0x73, 0x76] & $\\dots$ \\\\\n",
       "\t8 & 7 & 55201 & 2.04489e9 & [0x31, 0x5f, 0x30, 0x39, 0x30, 0x35, 0x45, 0x2e, 0x63, 0x73, 0x76] & $\\dots$ \\\\\n",
       "\t9 & 8 & 55202 & 3.95235e9 & [0x31, 0x5f, 0x30, 0x39, 0x30, 0x35, 0x45, 0x2e, 0x63, 0x73, 0x76] & $\\dots$ \\\\\n",
       "\t10 & 9 & 55203 & 6.01101e9 & [0x31, 0x5f, 0x30, 0x39, 0x30, 0x35, 0x45, 0x2e, 0x63, 0x73, 0x76] & $\\dots$ \\\\\n",
       "\t11 & 10 & 55204 & 2.00961e9 & [0x31, 0x5f, 0x30, 0x39, 0x30, 0x35, 0x45, 0x2e, 0x63, 0x73, 0x76] & $\\dots$ \\\\\n",
       "\t12 & 11 & 55205 & 2.04489e9 & [0x31, 0x5f, 0x30, 0x39, 0x30, 0x35, 0x45, 0x2e, 0x63, 0x73, 0x76] & $\\dots$ \\\\\n",
       "\t13 & 12 & 55206 & 2.05684e9 & [0x31, 0x5f, 0x30, 0x39, 0x30, 0x35, 0x45, 0x2e, 0x63, 0x73, 0x76] & $\\dots$ \\\\\n",
       "\t14 & 13 & 55207 & 4.08627e9 & [0x31, 0x5f, 0x30, 0x39, 0x30, 0x35, 0x45, 0x2e, 0x63, 0x73, 0x76] & $\\dots$ \\\\\n",
       "\t15 & 14 & 55208 & 5.32671e9 & [0x31, 0x5f, 0x30, 0x39, 0x30, 0x35, 0x45, 0x2e, 0x63, 0x73, 0x76] & $\\dots$ \\\\\n",
       "\t16 & 15 & 55209 & 3.33465e9 & [0x31, 0x5f, 0x30, 0x39, 0x30, 0x35, 0x45, 0x2e, 0x63, 0x73, 0x76] & $\\dots$ \\\\\n",
       "\t17 & 16 & 55210 & 4.78622e8 & [0x31, 0x5f, 0x30, 0x39, 0x30, 0x35, 0x45, 0x2e, 0x63, 0x73, 0x76] & $\\dots$ \\\\\n",
       "\t18 & 17 & 55211 & 5.43972e9 & [0x31, 0x5f, 0x30, 0x39, 0x30, 0x35, 0x45, 0x2e, 0x63, 0x73, 0x76] & $\\dots$ \\\\\n",
       "\t19 & 18 & 55212 & 6.4663e7 & [0x31, 0x5f, 0x30, 0x39, 0x30, 0x35, 0x45, 0x2e, 0x63, 0x73, 0x76] & $\\dots$ \\\\\n",
       "\t20 & 19 & 55213 & 4.84601e9 & [0x31, 0x5f, 0x30, 0x39, 0x30, 0x35, 0x45, 0x2e, 0x63, 0x73, 0x76] & $\\dots$ \\\\\n",
       "\t21 & 20 & 55214 & 7.28705e8 & [0x31, 0x5f, 0x30, 0x39, 0x30, 0x35, 0x45, 0x2e, 0x63, 0x73, 0x76] & $\\dots$ \\\\\n",
       "\t22 & 21 & 55215 & 3.01434e9 & [0x31, 0x5f, 0x30, 0x39, 0x30, 0x35, 0x45, 0x2e, 0x63, 0x73, 0x76] & $\\dots$ \\\\\n",
       "\t23 & 22 & 55217 & 6.00538e9 & [0x31, 0x5f, 0x30, 0x39, 0x30, 0x35, 0x45, 0x2e, 0x63, 0x73, 0x76] & $\\dots$ \\\\\n",
       "\t24 & 23 & 55218 & 5.99043e9 & [0x31, 0x5f, 0x30, 0x39, 0x30, 0x35, 0x45, 0x2e, 0x63, 0x73, 0x76] & $\\dots$ \\\\\n",
       "\t25 & 24 & 55219 & 1.39355e9 & [0x31, 0x5f, 0x30, 0x39, 0x30, 0x35, 0x45, 0x2e, 0x63, 0x73, 0x76] & $\\dots$ \\\\\n",
       "\t26 & 25 & 55220 & 6.04146e9 & [0x31, 0x5f, 0x30, 0x39, 0x30, 0x35, 0x45, 0x2e, 0x63, 0x73, 0x76] & $\\dots$ \\\\\n",
       "\t27 & 26 & 55221 & 1.06613e9 & [0x31, 0x5f, 0x30, 0x39, 0x30, 0x35, 0x45, 0x2e, 0x63, 0x73, 0x76] & $\\dots$ \\\\\n",
       "\t28 & 27 & 55222 & 1.3429e9 & [0x31, 0x5f, 0x30, 0x39, 0x30, 0x35, 0x45, 0x2e, 0x63, 0x73, 0x76] & $\\dots$ \\\\\n",
       "\t29 & 28 & 55223 & 5.98685e9 & [0x31, 0x5f, 0x30, 0x39, 0x30, 0x35, 0x45, 0x2e, 0x63, 0x73, 0x76] & $\\dots$ \\\\\n",
       "\t30 & 29 & 55224 & 2.66657e9 & [0x31, 0x5f, 0x30, 0x39, 0x30, 0x35, 0x45, 0x2e, 0x63, 0x73, 0x76] & $\\dots$ \\\\\n",
       "\t$\\dots$ & $\\dots$ & $\\dots$ & $\\dots$ & $\\dots$ &  \\\\\n",
       "\\end{tabular}\n"
      ],
      "text/plain": [
       "\u001b[1m2241484×289 DataFrame\u001b[0m\n",
       "\u001b[1m     Row \u001b[0m│\u001b[1m level_0 \u001b[0m\u001b[1m index   \u001b[0m\u001b[1m studyid_alle_celldyn \u001b[0m\u001b[1m bestanden                  \u001b[0m ⋯\n",
       "\u001b[1m         \u001b[0m│\u001b[90m Int64?  \u001b[0m\u001b[90m Int64?  \u001b[0m\u001b[90m Float64?             \u001b[0m\u001b[90m Array…?                    \u001b[0m ⋯\n",
       "─────────┼──────────────────────────────────────────────────────────────────────\n",
       "       1 │       0    55192             2.75292e9  UInt8[0x31, 0x5f, 0x30, 0x3 ⋯\n",
       "       2 │       1    55194             3.34401e9  UInt8[0x31, 0x5f, 0x30, 0x3\n",
       "       3 │       2    55195             5.43972e9  UInt8[0x31, 0x5f, 0x30, 0x3\n",
       "       4 │       3    55197             2.72134e9  UInt8[0x31, 0x5f, 0x30, 0x3\n",
       "       5 │       4    55198             2.04489e9  UInt8[0x31, 0x5f, 0x30, 0x3 ⋯\n",
       "       6 │       5    55199             2.00961e9  UInt8[0x31, 0x5f, 0x30, 0x3\n",
       "       7 │       6    55200             5.72492e9  UInt8[0x31, 0x5f, 0x30, 0x3\n",
       "       8 │       7    55201             2.04489e9  UInt8[0x31, 0x5f, 0x30, 0x3\n",
       "       9 │       8    55202             3.95235e9  UInt8[0x31, 0x5f, 0x30, 0x3 ⋯\n",
       "      10 │       9    55203             6.01101e9  UInt8[0x31, 0x5f, 0x30, 0x3\n",
       "      11 │      10    55204             2.00961e9  UInt8[0x31, 0x5f, 0x30, 0x3\n",
       "    ⋮    │    ⋮        ⋮              ⋮                            ⋮           ⋱\n",
       " 2241475 │ 2241474  3107022             5.63e9     UInt8[0x73, 0x2d, 0x30, 0x3\n",
       " 2241476 │ 2241475  3107023             5.76517e9  UInt8[0x73, 0x2d, 0x30, 0x3 ⋯\n",
       " 2241477 │ 2241476  3107024             4.43564e9  UInt8[0x73, 0x2d, 0x30, 0x3\n",
       " 2241478 │ 2241477  3107025             5.54923e9  UInt8[0x73, 0x2d, 0x30, 0x3\n",
       " 2241479 │ 2241478  3107026             1.67961e9  UInt8[0x73, 0x2d, 0x30, 0x3\n",
       " 2241480 │ 2241479  3107031             6.40066e9  UInt8[0x73, 0x2d, 0x30, 0x3 ⋯\n",
       " 2241481 │ 2241480  3107032             4.87096e9  UInt8[0x73, 0x2d, 0x30, 0x3\n",
       " 2241482 │ 2241481  3107033             3.24711e9  UInt8[0x73, 0x2d, 0x30, 0x3\n",
       " 2241483 │ 2241482  3107034             3.96594e9  UInt8[0x73, 0x2d, 0x30, 0x3\n",
       " 2241484 │ 2241483  3107035             5.07808e9  UInt8[0x73, 0x2d, 0x30, 0x3 ⋯\n",
       "\u001b[36m                                            286 columns and 2241463 rows omitted\u001b[0m"
      ]
     },
     "execution_count": 2,
     "metadata": {},
     "output_type": "execute_result"
    },
    {
     "name": "stderr",
     "output_type": "stream",
     "text": [
      "┌ Warning: automatically converting Arrow.Timestamp with precision = NANOSECOND to `Dates.DateTime` which only supports millisecond precision; conversion may be lossy; to avoid converting, pass `Arrow.Table(source; convert=false)\n",
      "└ @ Arrow C:\\Users\\hjoosse3\\.julia\\packages\\Arrow\\ZlMFU\\src\\eltypes.jl:261\n"
     ]
    }
   ],
   "source": [
    "df = DataFrame(Arrow.Table(\"L:/laupodteam/AIOS/Bram/data/CellDyn/celldyn_cleaned_transformed_imputed_MCAR_with_ratios.feather\");)"
   ]
  },
  {
   "cell_type": "code",
   "execution_count": 3,
   "metadata": {},
   "outputs": [],
   "source": [
    "meas_cols = names(df)[contains.(names(df),\"c_b_\")];\n",
    "suspect_cols = names(df)[contains.(names(df),r\"^(c_)?s_\")];\n",
    "mode_cols = names(df)[contains.(names(df),\"mode\")];\n",
    "alrt_cols = names(df)[contains.(names(df),\"Alrt\")];\n",
    "other_c_cols = names(df)[contains.(names(df),r\"^c_\")];\n",
    "usual_cols = unique(vcat(meas_cols,suspect_cols,mode_cols,alrt_cols,other_c_cols));"
   ]
  },
  {
   "cell_type": "code",
   "execution_count": 4,
   "metadata": {},
   "outputs": [],
   "source": [
    "import Distances\n",
    "\n",
    "struct PoinCarre <: Distances.SemiMetric end\n",
    "\n",
    "poincarre(x, y) = PoinCarre()(x, y)\n",
    "\n",
    "function (dist::PoinCarre)(x,y)\n",
    "    return acosh(1 + 2*(norm(x-y,2)^2/((1-norm(x,2)^2)*(1-norm(yu,2)^2))\n",
    "    ))\n",
    "end\n",
    "\n",
    "@inline (dist::PoinCarre)(a::AbstractArray, b::AbstractArray) = Distances._evaluate(dist, a, b)"
   ]
  },
  {
   "cell_type": "code",
   "execution_count": 5,
   "metadata": {},
   "outputs": [],
   "source": [
    "X = df[:,meas_cols]\n",
    "X = dropmissing(X)\n",
    "X_coerced = coerce(X, autotype(X))\n",
    "dt = StatsBase.fit(ZScoreTransform, Matrix(X_coerced); dims=nothing, center=true, scale=true)\n",
    "X_transformed = StatsBase.transform(dt,Matrix(X_coerced));"
   ]
  },
  {
   "cell_type": "code",
   "execution_count": 6,
   "metadata": {},
   "outputs": [
    {
     "name": "stderr",
     "output_type": "stream",
     "text": [
      "┌ Info: SuiteSparse.CHOLMOD.CHOLMODException(\"out of memory\")\n",
      "│ Error encountered in spectral_layout; defaulting to random layout\n",
      "└ @ UMAP C:\\Users\\hjoosse3\\.julia\\packages\\UMAP\\owv5b\\src\\embeddings.jl:12\n"
     ]
    },
    {
     "data": {
      "text/plain": [
       "6×2241484 Matrix{Float64}:\n",
       " -3.07185     -2.37643   -1.92611  …   1.09321   -3.56134    -2.34237\n",
       " -1.6387      -2.09341    2.1139      -3.23372   -0.277035   -2.1296\n",
       " -2.36664     -3.13598    3.21748     -4.04549   -0.325142   -2.68138\n",
       "  0.823456     1.11138   -1.12779      0.610087   0.852549    0.60331\n",
       "  0.00167751  -0.185471   1.44027     -0.536295   0.399219   -0.657713\n",
       "  1.69146      2.31715   -2.54449  …   3.73973   -0.0862846   2.04178"
      ]
     },
     "execution_count": 6,
     "metadata": {},
     "output_type": "execute_result"
    }
   ],
   "source": [
    "x_embedded = umap(transpose(X_transformed),6;n_neighbors=50,min_dist = 0.1)"
   ]
  },
  {
   "cell_type": "code",
   "execution_count": null,
   "metadata": {},
   "outputs": [],
   "source": []
  }
 ],
 "metadata": {
  "kernelspec": {
   "display_name": "Julia 1.8.0",
   "language": "julia",
   "name": "julia-1.8"
  },
  "language_info": {
   "file_extension": ".jl",
   "mimetype": "application/julia",
   "name": "julia",
   "version": "1.8.0"
  },
  "orig_nbformat": 4
 },
 "nbformat": 4,
 "nbformat_minor": 2
}
