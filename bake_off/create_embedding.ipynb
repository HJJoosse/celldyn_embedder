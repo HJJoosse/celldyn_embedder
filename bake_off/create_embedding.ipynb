{
 "cells": [
  {
   "cell_type": "code",
   "execution_count": 1,
   "metadata": {},
   "outputs": [],
   "source": [
    "import pandas as pd\n",
    "import umap\n",
    "import numpy as np"
   ]
  },
  {
   "cell_type": "markdown",
   "metadata": {},
   "source": [
    "## Preprocessing"
   ]
  },
  {
   "cell_type": "markdown",
   "metadata": {},
   "source": [
    "All celldyn data is loaded in, with all celldyn sapphire data in the UPOD-database"
   ]
  },
  {
   "cell_type": "code",
   "execution_count": 3,
   "metadata": {},
   "outputs": [],
   "source": [
    "all_celldyn = pd.read_sas(\"L:/lab_research/RES-Folder-UPOD/Celldynclustering/E_ResearchData/2_ResearchData/celldyn.sas7bdat\")"
   ]
  },
  {
   "cell_type": "markdown",
   "metadata": {},
   "source": [
    "Select all the columns with blood values, and remove those rows where not all columns are filled. \n",
    "There are 80 variables in the data:\n",
    "``` \n",
    "['c_b_wbc', 'c_b_wvf', 'c_b_neu', 'c_b_seg', 'c_b_bnd', 'c_b_ig', 'c_b_lym', 'c_b_lyme', 'c_b_vlym', 'c_b_mon', 'c_b_mone', 'c_b_blst', 'c_b_eos', 'c_b_bas', 'c_b_nrbc', 'c_b_pneu', 'c_b_pseg', 'c_b_pbnd', 'c_b_pig', 'c_b_plym', 'c_b_plyme', 'c_b_pvlym', 'c_b_pmon', 'c_b_pmone', 'c_b_pblst', 'c_b_peos',  'c_b_pbas', 'c_b_pnrbc', 'c_b_rbci', 'c_b_rbco', 'c_b_hgb_usa', 'c_b_mcv', 'c_b_rdw','c_b_pMIC', 'c_b_pMAC', 'c_b_mch_Usa', 'c_b_mchc_usa', 'c_b_ht', 'c_b_plto', 'c_b_plti', 'c_b_mpv', 'c_b_pct', 'c_b_pdw', 'c_b_retc', 'c_b_pretc', 'c_b_irf', 'c_b_pHPO', 'c_b_pHPR', 'c_b_HDW', 'c_b_MCVr', 'c_b_MCHr', 'c_b_MCHCr', 'c_b_prP', 'c_b_namn', 'c_b_nacv',  'c_b_nimn', 'c_b_nicv', 'c_b_npmn', 'c_b_npcv', 'c_b_ndmn', 'c_b_ndcv', 'c_b_nfmn', 'c_b_nfcv', 'c_b_Lamn', 'c_b_Lacv', 'c_b_Limn', 'c_b_Licv', 'c_b_Pimn', 'c_b_Picv', 'c_b_Ppmn',\n",
    " 'c_b_Ppcv', 'c_b_rbcimn', 'c_b_rbcicv', 'c_b_rbcfmn', 'c_b_rbcfcv', 'c_b_rtcfmn', 'c_b_rtcfcv', 'c_b_hb', 'c_b_mch', 'c_b_mchc'] \n",
    "``` \n",
    "\n",
    "Future research should figure out if MICE or similar approach can be used, but for now, we only use complete cases. This model is greedy, in the sense that no preprocessing w.r.t. features is done"
   ]
  },
  {
   "cell_type": "code",
   "execution_count": 4,
   "metadata": {},
   "outputs": [],
   "source": [
    "X = all_celldyn[[c for c in all_celldyn if c.startswith(\"c_b_\")]]\n",
    "X = X.dropna().reset_index(drop = True)"
   ]
  },
  {
   "cell_type": "markdown",
   "metadata": {},
   "source": [
    "Scale all the variables to log-space"
   ]
  },
  {
   "cell_type": "code",
   "execution_count": 5,
   "metadata": {},
   "outputs": [],
   "source": [
    "for c in X:\n",
    "    X[c] = np.log(X[c])"
   ]
  },
  {
   "cell_type": "markdown",
   "metadata": {},
   "source": [
    "Change floats64 to float32, because this is less memory intensive"
   ]
  },
  {
   "cell_type": "code",
   "execution_count": 6,
   "metadata": {},
   "outputs": [],
   "source": [
    "X = X.astype(np.float32)"
   ]
  },
  {
   "cell_type": "code",
   "execution_count": 7,
   "metadata": {},
   "outputs": [],
   "source": [
    "X.to_csv(\"../processed_celldyn.csv\")"
   ]
  },
  {
   "cell_type": "markdown",
   "metadata": {},
   "source": [
    "## Embedding"
   ]
  },
  {
   "cell_type": "markdown",
   "metadata": {},
   "source": [
    "Load in the preprocessed data (see above)"
   ]
  },
  {
   "cell_type": "code",
   "execution_count": 2,
   "metadata": {
    "scrolled": true
   },
   "outputs": [],
   "source": [
    "embedding_data = pd.read_csv(\"../processed_celldyn.csv\")"
   ]
  },
  {
   "cell_type": "markdown",
   "metadata": {},
   "source": [
    "Initiate embedder: UMAP, with 6 components, 50 neighbours for manifold approximation, and 0 distance between embedded points, focusing on more global structures."
   ]
  },
  {
   "cell_type": "code",
   "execution_count": 3,
   "metadata": {},
   "outputs": [],
   "source": [
    "embedder = umap.UMAP(n_components=6,n_neighbors=50,min_dist=0,random_state=42)"
   ]
  },
  {
   "cell_type": "code",
   "execution_count": 4,
   "metadata": {
    "scrolled": true
   },
   "outputs": [
    {
     "data": {
      "text/plain": [
       "1991634"
      ]
     },
     "execution_count": 4,
     "metadata": {},
     "output_type": "execute_result"
    }
   ],
   "source": [
    "len(embedding_data)"
   ]
  },
  {
   "cell_type": "markdown",
   "metadata": {},
   "source": [
    "Delete the old index columns, because pd.read_csv gives weird errors if this column is assigned as index_col"
   ]
  },
  {
   "cell_type": "code",
   "execution_count": 5,
   "metadata": {},
   "outputs": [],
   "source": [
    "embedding_data = embedding_data.drop(['Unnamed: 0'],axis = 1)"
   ]
  },
  {
   "cell_type": "markdown",
   "metadata": {},
   "source": [
    "Again: float32, this could also be the only step where this is done"
   ]
  },
  {
   "cell_type": "code",
   "execution_count": 6,
   "metadata": {},
   "outputs": [],
   "source": [
    "embedding_data = embedding_data.astype(np.float32)"
   ]
  },
  {
   "cell_type": "markdown",
   "metadata": {},
   "source": [
    "Fit the embedder"
   ]
  },
  {
   "cell_type": "code",
   "execution_count": 7,
   "metadata": {
    "scrolled": true
   },
   "outputs": [
    {
     "name": "stderr",
     "output_type": "stream",
     "text": [
      "C:\\ProgramData\\Miniconda3\\envs\\embcelldyn\\lib\\site-packages\\sklearn\\manifold\\_spectral_embedding.py:245: UserWarning: Graph is not fully connected, spectral embedding may not work as expected.\n",
      "  warnings.warn(\"Graph is not fully connected, spectral embedding\"\n"
     ]
    }
   ],
   "source": [
    "fit = embedder.fit(embedding_data)"
   ]
  },
  {
   "cell_type": "code",
   "execution_count": 1,
   "metadata": {},
   "outputs": [],
   "source": [
    "import joblib"
   ]
  },
  {
   "cell_type": "markdown",
   "metadata": {},
   "source": [
    "Export the embedder"
   ]
  },
  {
   "cell_type": "code",
   "execution_count": 9,
   "metadata": {},
   "outputs": [
    {
     "data": {
      "text/plain": [
       "['../umap_embedding_celldyn_joblib.joblib']"
      ]
     },
     "execution_count": 9,
     "metadata": {},
     "output_type": "execute_result"
    }
   ],
   "source": [
    "joblib.dump(embedder,\"../umap_embedding_celldyn_joblib.joblib\",)"
   ]
  },
  {
   "cell_type": "code",
   "execution_count": 10,
   "metadata": {},
   "outputs": [
    {
     "data": {
      "text/plain": [
       "UMAP(dens_frac=0.0, dens_lambda=0.0, min_dist=0, n_components=6, n_neighbors=50,\n",
       "     random_state=42)"
      ]
     },
     "execution_count": 10,
     "metadata": {},
     "output_type": "execute_result"
    }
   ],
   "source": [
    "embedder"
   ]
  },
  {
   "cell_type": "markdown",
   "metadata": {},
   "source": [
    "See if reloading is working (it does!)"
   ]
  },
  {
   "cell_type": "code",
   "execution_count": 2,
   "metadata": {
    "scrolled": true
   },
   "outputs": [],
   "source": [
    "test_embedder = joblib.load('../umap_embedding_celldyn_joblib.joblib',)"
   ]
  },
  {
   "cell_type": "code",
   "execution_count": 3,
   "metadata": {},
   "outputs": [
    {
     "data": {
      "text/plain": [
       "UMAP(dens_frac=0.0, dens_lambda=0.0, min_dist=0, n_components=6, n_neighbors=50,\n",
       "     random_state=42)"
      ]
     },
     "execution_count": 3,
     "metadata": {},
     "output_type": "execute_result"
    }
   ],
   "source": [
    "test_embedder"
   ]
  },
  {
   "cell_type": "code",
   "execution_count": 8,
   "metadata": {},
   "outputs": [],
   "source": [
    "import pickle\n",
    "pickle.dump(test_embedder,open(\"../umap_embedding_celldyn.pkl\",'wb'),protocol=5)\n"
   ]
  },
  {
   "cell_type": "code",
   "execution_count": 9,
   "metadata": {},
   "outputs": [
    {
     "name": "stderr",
     "output_type": "stream",
     "text": [
      "[TerminalIPythonApp] WARNING | Subcommand `ipython nbconvert` is deprecated and will be removed in future versions.\n",
      "[TerminalIPythonApp] WARNING | You likely want to use `jupyter nbconvert` in the future\n",
      "[NbConvertApp] Converting notebook create_embedding.ipynb to HTML\n",
      "[NbConvertApp] Writing 577887 bytes to create_embedding.html\n"
     ]
    }
   ],
   "source": [
    "!ipython nbconvert --to HTML create_embedding.ipynb"
   ]
  },
  {
   "cell_type": "code",
   "execution_count": 10,
   "metadata": {},
   "outputs": [
    {
     "data": {
      "text/plain": [
       "UMAP(dens_frac=0.0, dens_lambda=0.0, min_dist=0, n_components=6, n_neighbors=50,\n",
       "     random_state=42)"
      ]
     },
     "execution_count": 10,
     "metadata": {},
     "output_type": "execute_result"
    }
   ],
   "source": [
    "pickle.load(open(\"../umap_embedding_celldyn.pkl\",'rb'))"
   ]
  },
  {
   "cell_type": "code",
   "execution_count": null,
   "metadata": {},
   "outputs": [],
   "source": []
  }
 ],
 "metadata": {
  "kernelspec": {
   "display_name": "Python 3",
   "language": "python",
   "name": "python3"
  },
  "language_info": {
   "codemirror_mode": {
    "name": "ipython",
    "version": 3
   },
   "file_extension": ".py",
   "mimetype": "text/x-python",
   "name": "python",
   "nbconvert_exporter": "python",
   "pygments_lexer": "ipython3",
   "version": "3.8.11"
  }
 },
 "nbformat": 4,
 "nbformat_minor": 4
}
