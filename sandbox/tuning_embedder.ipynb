{
 "cells": [
  {
   "cell_type": "code",
   "execution_count": 1,
   "metadata": {},
   "outputs": [],
   "source": [
    "%load_ext autoreload\n",
    "%autoreload 1\n"
   ]
  },
  {
   "cell_type": "code",
   "execution_count": 1,
   "metadata": {},
   "outputs": [],
   "source": [
    "from setup_cc import *\n",
    "from sklearn.preprocessing import StandardScaler\n",
    "from hembedder.utils.hyperparameter_tuning_legacy import grid_search, random_search\n",
    "from hembedder.utils import hyperparameter_tuning\n",
    "from hembedder.utils import quality_metrics\n",
    "import umap\n",
    "\n",
    "\n",
    "evaluate = quality_metrics.CDEmbeddingPerformance(dcor_level=1, metric='manhattan')\n",
    "ascending = [False,False, False, False,False]\n",
    "\n",
    "evaluators = {'Trustworthiness': evaluate._return_trustworthiness,\n",
    "                    'Distance correlation': evaluate._return_distance_correlation,\n",
    "                    'Random triplets' : evaluate.random_triplet_eval,\n",
    "                    'neighbor kept ratio' : evaluate.neighbor_kept_ratio_eval}\n",
    "sizes = [5000,10000,20000,40000,60000,80000]\n",
    "\n"
   ]
  },
  {
   "cell_type": "code",
   "execution_count": 4,
   "metadata": {},
   "outputs": [
    {
     "name": "stdout",
     "output_type": "stream",
     "text": [
      "Around 40% done.\n",
      "Around 70% done.\n",
      "Hyperpameter tuning is done and the best scores are with 1000 sample size\n",
      "Trustworthiness         0.910547\n",
      "Distance correlation    0.842706\n",
      "Random triplets           0.7148\n",
      "neighbor kept ratio       0.3499\n",
      "Name: 0, dtype: object\n",
      "with parameter: {'n_neighbors': 30, 'n_components': 6, 'metric': 'euclidean', 'output_metric': 'euclidean', 'n_jobs': 4, 'n_epochs': 500, 'init': 'spectral', 'dens_lambda': 0.1, 'dens_frac': 0.1, 'repulsion_strength': 1.1, 'negative_sample_rate': 10, 'min_dist': 0.0}\n",
      "Finish tuning in  0.6 minutes.\n"
     ]
    }
   ],
   "source": [
    "param_grid = {'n_neighbors': [5,15,30,50,100]}\n",
    "tuning = hyperparameter_tuning.Hyperparameter_tuning(cell_dyn,umap.UMAP,evaluators=evaluators,param_grid=param_grid,\n",
    "                        ascending=ascending, file_name=\"models/embedding/UMAP/cell_dyn_UMAP_hyper_op_results_1000_MF100_testing.csv\",\n",
    "                        sample_size=1000,metric_chuck_size=5000,standardised=False, num_iter=2, dtype=np.float32,\n",
    "                        n_parjobs=10,n_components =6,metric = 'euclidean', output_metric= 'euclidean',\n",
    "                        n_jobs=4, n_epochs=500, init = 'spectral',dens_lambda=0.1, dens_frac=0.1, \n",
    "                        repulsion_strength=1.1, negative_sample_rate=10, random_state=42, min_dist=0.0)\n",
    "results = tuning.random_search(max_evals=3)"
   ]
  },
  {
   "attachments": {},
   "cell_type": "markdown",
   "metadata": {},
   "source": [
    "## Random tuning of n_components, n_neighbors, and min_dist for UMAP"
   ]
  },
  {
   "attachments": {},
   "cell_type": "markdown",
   "metadata": {},
   "source": [
    "## Individually tuning the parameters for nearest neighbours for different sample size"
   ]
  },
  {
   "cell_type": "code",
   "execution_count": 2,
   "metadata": {},
   "outputs": [
    {
     "name": "stdout",
     "output_type": "stream",
     "text": [
      "Around 30% done.\n",
      "Around 50% done.\n",
      "Around 80% done.\n",
      "Around 100% done.\n",
      "Hyperpameter tuning is done and the best scores are:\n",
      "Trustworthiness         0.931382\n",
      "Distance correlation    0.854054\n",
      "Random triplets         0.742512\n",
      "neighbor kept ratio     0.265501\n",
      "Name: 0, dtype: object\n",
      "with parameter: {'n_neighbors': 30, 'n_components': 6, 'metric': 'euclidean', 'output_metric': 'euclidean', 'n_jobs': 4, 'n_epochs': 500, 'init': 'spectral', 'dens_lambda': 0.1, 'dens_frac': 0.1, 'repulsion_strength': 1.1, 'negative_sample_rate': 10, 'min_dist': 0.0}\n",
      "Finish tuning in  18.32 minutes.\n"
     ]
    }
   ],
   "source": [
    "## 5000\n",
    "param_grid = {'n_neighbors': [5,15,30,50,100]}\n",
    "results = grid_seach(cell_dyn,umap.UMAP,evaluators=evaluators,param_grid=param_grid,\n",
    "                        ascending=ascending, subsampling=5000, file_name=\"models/embedding/UMAP/cell_dyn_UMAP_hyper_op_results_5000_MF100_n_n.csv\",\n",
    "                        num_iter=10,n_components = 6, metric = 'euclidean', output_metric= 'euclidean',\n",
    "                        n_jobs=4, n_epochs=500, init = 'spectral',dens_lambda=0.1, dens_frac=0.1, \n",
    "                        repulsion_strength=1.1, negative_sample_rate=10, random_state=42, min_dist=0.0)\n",
    "\n",
    "results.to_csv(\"models/embedding/UMAP/cell_dyn_UMAP_hyper_op_results_5000_MF100_n_n.csv\")\n"
   ]
  },
  {
   "cell_type": "code",
   "execution_count": 3,
   "metadata": {},
   "outputs": [
    {
     "name": "stdout",
     "output_type": "stream",
     "text": [
      "Around 30% done.\n",
      "Around 50% done.\n",
      "Around 80% done.\n",
      "Around 100% done.\n",
      "Hyperpameter tuning is done and the best scores are:\n",
      "Trustworthiness         0.941678\n",
      "Distance correlation    0.854129\n",
      "Random triplets         0.745252\n",
      "neighbor kept ratio     0.232609\n",
      "Name: 0, dtype: object\n",
      "with parameter: {'n_neighbors': 30, 'n_components': 6, 'metric': 'euclidean', 'output_metric': 'euclidean', 'n_jobs': 4, 'n_epochs': 500, 'init': 'spectral', 'dens_lambda': 0.1, 'dens_frac': 0.1, 'repulsion_strength': 1.1, 'negative_sample_rate': 10, 'min_dist': 0.0}\n",
      "Finish tuning in  42.49 minutes.\n"
     ]
    }
   ],
   "source": [
    "## 10000\n",
    "param_grid = {'n_neighbors': [5,15,30,50,100]}\n",
    "results = grid_seach(cell_dyn,umap.UMAP,evaluators=evaluators,param_grid=param_grid,\n",
    "                        ascending=ascending, subsampling=10000, file_name=\"models/embedding/UMAP/cell_dyn_UMAP_hyper_op_results_10000_MF100_n_n.csv\",\n",
    "                        num_iter=10,n_components = 6, metric = 'euclidean', output_metric= 'euclidean',\n",
    "                        n_jobs=4, n_epochs=500, init = 'spectral',dens_lambda=0.1, dens_frac=0.1, \n",
    "                        repulsion_strength=1.1, negative_sample_rate=10, random_state=42, min_dist=0.0)\n",
    "\n",
    "results.to_csv(\"models/embedding/UMAP/cell_dyn_UMAP_hyper_op_results_10000_MF100_n_n.csv\")"
   ]
  },
  {
   "cell_type": "code",
   "execution_count": 4,
   "metadata": {},
   "outputs": [
    {
     "name": "stdout",
     "output_type": "stream",
     "text": [
      "Around 30% done.\n",
      "Around 50% done.\n",
      "Around 80% done.\n",
      "Around 100% done.\n",
      "Hyperpameter tuning is done and the best scores are:\n",
      "Trustworthiness         0.949871\n",
      "Distance correlation    0.849994\n",
      "Random triplets         0.747333\n",
      "neighbor kept ratio     0.200355\n",
      "Name: 0, dtype: object\n",
      "with parameter: {'n_neighbors': 30, 'n_components': 6, 'metric': 'euclidean', 'output_metric': 'euclidean', 'n_jobs': 4, 'n_epochs': 500, 'init': 'spectral', 'dens_lambda': 0.1, 'dens_frac': 0.1, 'repulsion_strength': 1.1, 'negative_sample_rate': 10, 'min_dist': 0.0}\n",
      "Finish tuning in  140.35 minutes.\n"
     ]
    }
   ],
   "source": [
    "param_grid = {'n_neighbors': [5,15,30,50,100]}\n",
    "results = grid_seach(cell_dyn,umap.UMAP,evaluators=evaluators,param_grid=param_grid,\n",
    "                        ascending=ascending, subsampling=20000, \n",
    "                        num_iter=10, file_name=\"models/embedding/UMAP/cell_dyn_UMAP_hyper_op_results_20000_MF100_n_n.csv\",\n",
    "                        n_components = 6, metric = 'euclidean', output_metric= 'euclidean',\n",
    "                        n_jobs=4, n_epochs=500, init = 'spectral',dens_lambda=0.1, dens_frac=0.1, \n",
    "                        repulsion_strength=1.1, negative_sample_rate=10, random_state=42, min_dist=0.0)\n",
    "\n",
    "results.to_csv(\"models/embedding/UMAP/cell_dyn_UMAP_hyper_op_results_20000_MF100_n_n.csv\")"
   ]
  },
  {
   "cell_type": "code",
   "execution_count": 5,
   "metadata": {},
   "outputs": [
    {
     "name": "stdout",
     "output_type": "stream",
     "text": [
      "Around 30% done.\n",
      "Around 50% done.\n",
      "Around 80% done.\n",
      "Around 100% done.\n",
      "Hyperpameter tuning is done and the best scores are:\n",
      "Trustworthiness         0.955653\n",
      "Distance correlation     0.83777\n",
      "Random triplets         0.746715\n",
      "neighbor kept ratio      0.18442\n",
      "Name: 0, dtype: object\n",
      "with parameter: {'n_neighbors': 15, 'n_components': 6, 'metric': 'euclidean', 'output_metric': 'euclidean', 'n_jobs': 4, 'n_epochs': 500, 'init': 'spectral', 'dens_lambda': 0.1, 'dens_frac': 0.1, 'repulsion_strength': 1.1, 'negative_sample_rate': 10, 'min_dist': 0.0}\n",
      "Finish tuning in  449.77 minutes.\n"
     ]
    }
   ],
   "source": [
    "param_grid = {'n_neighbors': [5,15,30,50,100]}\n",
    "results = grid_seach(cell_dyn,umap.UMAP,evaluators=evaluators,param_grid=param_grid,\n",
    "                        ascending=ascending, subsampling=40000, \n",
    "                        num_iter=10, file_name=\"models/embedding/UMAP/cell_dyn_UMAP_hyper_op_results_40000_MF100_n_n.csv\",\n",
    "                        n_components = 6, metric = 'euclidean', output_metric= 'euclidean',\n",
    "                        n_jobs=4, n_epochs=500, init = 'spectral',dens_lambda=0.1, dens_frac=0.1, \n",
    "                        repulsion_strength=1.1, negative_sample_rate=10, random_state=42, min_dist=0.0)\n",
    "\n",
    "results.to_csv(\"models/embedding/UMAP/cell_dyn_UMAP_hyper_op_results_40000_MF100_n_n.csv\")"
   ]
  },
  {
   "cell_type": "code",
   "execution_count": 2,
   "metadata": {},
   "outputs": [
    {
     "name": "stdout",
     "output_type": "stream",
     "text": [
      "Around 30% done.\n",
      "Around 50% done.\n",
      "Around 80% done.\n",
      "Around 100% done.\n",
      "Hyperpameter tuning is done and the best scores are:\n",
      "Trustworthiness         1.037856\n",
      "Distance correlation    0.838554\n",
      "Random triplets         0.747661\n",
      "neighbor kept ratio     0.169649\n",
      "Name: 0, dtype: object\n",
      "with parameter: {'n_neighbors': 15, 'n_components': 6, 'metric': 'euclidean', 'output_metric': 'euclidean', 'n_jobs': 4, 'n_epochs': 500, 'init': 'spectral', 'dens_lambda': 0.1, 'dens_frac': 0.1, 'repulsion_strength': 1.1, 'negative_sample_rate': 10, 'min_dist': 0.0}\n",
      "Finish tuning in  1031.54 minutes.\n"
     ]
    }
   ],
   "source": [
    "param_grid = {'n_neighbors': [5,15,30,50,100]}\n",
    "results = grid_search(cell_dyn,umap.UMAP,evaluators=evaluators,param_grid=param_grid,\n",
    "                        ascending=ascending, subsampling=60000, \n",
    "                        num_iter=10, file_name=\"models/embedding/UMAP/cell_dyn_UMAP_hyper_op_results_60000_MF100_n_n.csv\",\n",
    "                        n_components = 6, metric = 'euclidean', output_metric= 'euclidean',\n",
    "                        n_jobs=4, n_epochs=500, init = 'spectral',dens_lambda=0.1, dens_frac=0.1, \n",
    "                        repulsion_strength=1.1, negative_sample_rate=10, random_state=42, min_dist=0.0)\n",
    "results.to_csv(\"models/embedding/UMAP/cell_dyn_UMAP_hyper_op_results_60000_MF100_n_n.csv\")"
   ]
  },
  {
   "cell_type": "code",
   "execution_count": 3,
   "metadata": {},
   "outputs": [
    {
     "ename": "MemoryError",
     "evalue": "Unable to allocate 47.7 GiB for an array with shape (80000, 80000) and data type float64",
     "output_type": "error",
     "traceback": [
      "\u001b[1;31m---------------------------------------------------------------------------\u001b[0m",
      "\u001b[1;31mMemoryError\u001b[0m                               Traceback (most recent call last)",
      "\u001b[1;32mt:\\laupodteam\\AIOS\\Chontira\\CellDynClustering\\notebook\\tuning_embedder.ipynb Cell 13\u001b[0m in \u001b[0;36m<cell line: 8>\u001b[1;34m()\u001b[0m\n\u001b[0;32m      <a href='vscode-notebook-cell:/t%3A/laupodteam/AIOS/Chontira/CellDynClustering/notebook/tuning_embedder.ipynb#X15sZmlsZQ%3D%3D?line=0'>1</a>\u001b[0m param_grid \u001b[39m=\u001b[39m {\u001b[39m'\u001b[39m\u001b[39mn_neighbors\u001b[39m\u001b[39m'\u001b[39m: [\u001b[39m5\u001b[39m,\u001b[39m15\u001b[39m,\u001b[39m30\u001b[39m,\u001b[39m50\u001b[39m,\u001b[39m100\u001b[39m]}\n\u001b[0;32m      <a href='vscode-notebook-cell:/t%3A/laupodteam/AIOS/Chontira/CellDynClustering/notebook/tuning_embedder.ipynb#X15sZmlsZQ%3D%3D?line=1'>2</a>\u001b[0m tuning \u001b[39m=\u001b[39m hyperparameter_tuning\u001b[39m.\u001b[39mHyperparameter_tuning(cell_dyn,umap\u001b[39m.\u001b[39mUMAP,evaluators\u001b[39m=\u001b[39mevaluators,param_grid\u001b[39m=\u001b[39mparam_grid,\n\u001b[0;32m      <a href='vscode-notebook-cell:/t%3A/laupodteam/AIOS/Chontira/CellDynClustering/notebook/tuning_embedder.ipynb#X15sZmlsZQ%3D%3D?line=2'>3</a>\u001b[0m                         ascending\u001b[39m=\u001b[39mascending, file_name\u001b[39m=\u001b[39m\u001b[39m\"\u001b[39m\u001b[39mmodels/embedding/UMAP/cell_dyn_UMAP_hyper_op_results_80000_MF100_n_n_testing.csv\u001b[39m\u001b[39m\"\u001b[39m,\n\u001b[0;32m      <a href='vscode-notebook-cell:/t%3A/laupodteam/AIOS/Chontira/CellDynClustering/notebook/tuning_embedder.ipynb#X15sZmlsZQ%3D%3D?line=3'>4</a>\u001b[0m                         subsampling\u001b[39m=\u001b[39m\u001b[39m80000\u001b[39m,standardised\u001b[39m=\u001b[39m\u001b[39mFalse\u001b[39;00m, num_iter\u001b[39m=\u001b[39m\u001b[39m10\u001b[39m,n_parjobs \u001b[39m=\u001b[39m \u001b[39m5\u001b[39m, n_components \u001b[39m=\u001b[39m\u001b[39m6\u001b[39m,\n\u001b[0;32m      <a href='vscode-notebook-cell:/t%3A/laupodteam/AIOS/Chontira/CellDynClustering/notebook/tuning_embedder.ipynb#X15sZmlsZQ%3D%3D?line=4'>5</a>\u001b[0m                         metric \u001b[39m=\u001b[39m \u001b[39m'\u001b[39m\u001b[39meuclidean\u001b[39m\u001b[39m'\u001b[39m, output_metric\u001b[39m=\u001b[39m \u001b[39m'\u001b[39m\u001b[39meuclidean\u001b[39m\u001b[39m'\u001b[39m,\n\u001b[0;32m      <a href='vscode-notebook-cell:/t%3A/laupodteam/AIOS/Chontira/CellDynClustering/notebook/tuning_embedder.ipynb#X15sZmlsZQ%3D%3D?line=5'>6</a>\u001b[0m                         n_jobs\u001b[39m=\u001b[39m\u001b[39m4\u001b[39m, n_epochs\u001b[39m=\u001b[39m\u001b[39m500\u001b[39m, init \u001b[39m=\u001b[39m \u001b[39m'\u001b[39m\u001b[39mspectral\u001b[39m\u001b[39m'\u001b[39m,dens_lambda\u001b[39m=\u001b[39m\u001b[39m0.1\u001b[39m, dens_frac\u001b[39m=\u001b[39m\u001b[39m0.1\u001b[39m, \n\u001b[0;32m      <a href='vscode-notebook-cell:/t%3A/laupodteam/AIOS/Chontira/CellDynClustering/notebook/tuning_embedder.ipynb#X15sZmlsZQ%3D%3D?line=6'>7</a>\u001b[0m                         repulsion_strength\u001b[39m=\u001b[39m\u001b[39m1.1\u001b[39m, negative_sample_rate\u001b[39m=\u001b[39m\u001b[39m10\u001b[39m, random_state\u001b[39m=\u001b[39m\u001b[39m42\u001b[39m, min_dist\u001b[39m=\u001b[39m\u001b[39m0.0\u001b[39m)\n\u001b[1;32m----> <a href='vscode-notebook-cell:/t%3A/laupodteam/AIOS/Chontira/CellDynClustering/notebook/tuning_embedder.ipynb#X15sZmlsZQ%3D%3D?line=7'>8</a>\u001b[0m results \u001b[39m=\u001b[39m tuning\u001b[39m.\u001b[39;49mgrid_search()\n\u001b[0;32m      <a href='vscode-notebook-cell:/t%3A/laupodteam/AIOS/Chontira/CellDynClustering/notebook/tuning_embedder.ipynb#X15sZmlsZQ%3D%3D?line=8'>9</a>\u001b[0m tuning\u001b[39m.\u001b[39mresults\u001b[39m.\u001b[39mto_csv(\u001b[39m\"\u001b[39m\u001b[39mmodels/embedding/UMAP/cell_dyn_UMAP_hyper_op_results_80000_MF100_n_n_testing.csv\u001b[39m\u001b[39m\"\u001b[39m)\n",
      "File \u001b[1;32mc:\\Users\\cchumsae\\Anaconda3\\envs\\CellDynCluster\\lib\\site-packages\\hembedder\\utils\\hyperparameter_tuning.py:167\u001b[0m, in \u001b[0;36mHyperparameter_tuning.grid_search\u001b[1;34m(self)\u001b[0m\n\u001b[0;32m    165\u001b[0m \u001b[39m#Calculating performance for the embedded data using thread pool\u001b[39;00m\n\u001b[0;32m    166\u001b[0m pool \u001b[39m=\u001b[39m ThreadPool(\u001b[39mself\u001b[39m\u001b[39m.\u001b[39mn_parjobs)\n\u001b[1;32m--> 167\u001b[0m scores\u001b[39m=\u001b[39mpool\u001b[39m.\u001b[39;49mmap(\u001b[39mself\u001b[39;49m\u001b[39m.\u001b[39;49mget_scores, (x \u001b[39mfor\u001b[39;49;00m x \u001b[39min\u001b[39;49;00m embedded_data))\n\u001b[0;32m    168\u001b[0m pool\u001b[39m.\u001b[39mclose()\n\u001b[0;32m    169\u001b[0m pool\u001b[39m.\u001b[39mjoin()\n",
      "File \u001b[1;32mc:\\Users\\cchumsae\\Anaconda3\\envs\\CellDynCluster\\lib\\multiprocessing\\pool.py:364\u001b[0m, in \u001b[0;36mPool.map\u001b[1;34m(self, func, iterable, chunksize)\u001b[0m\n\u001b[0;32m    359\u001b[0m \u001b[39mdef\u001b[39;00m \u001b[39mmap\u001b[39m(\u001b[39mself\u001b[39m, func, iterable, chunksize\u001b[39m=\u001b[39m\u001b[39mNone\u001b[39;00m):\n\u001b[0;32m    360\u001b[0m     \u001b[39m'''\u001b[39;00m\n\u001b[0;32m    361\u001b[0m \u001b[39m    Apply `func` to each element in `iterable`, collecting the results\u001b[39;00m\n\u001b[0;32m    362\u001b[0m \u001b[39m    in a list that is returned.\u001b[39;00m\n\u001b[0;32m    363\u001b[0m \u001b[39m    '''\u001b[39;00m\n\u001b[1;32m--> 364\u001b[0m     \u001b[39mreturn\u001b[39;00m \u001b[39mself\u001b[39;49m\u001b[39m.\u001b[39;49m_map_async(func, iterable, mapstar, chunksize)\u001b[39m.\u001b[39;49mget()\n",
      "File \u001b[1;32mc:\\Users\\cchumsae\\Anaconda3\\envs\\CellDynCluster\\lib\\multiprocessing\\pool.py:771\u001b[0m, in \u001b[0;36mApplyResult.get\u001b[1;34m(self, timeout)\u001b[0m\n\u001b[0;32m    769\u001b[0m     \u001b[39mreturn\u001b[39;00m \u001b[39mself\u001b[39m\u001b[39m.\u001b[39m_value\n\u001b[0;32m    770\u001b[0m \u001b[39melse\u001b[39;00m:\n\u001b[1;32m--> 771\u001b[0m     \u001b[39mraise\u001b[39;00m \u001b[39mself\u001b[39m\u001b[39m.\u001b[39m_value\n",
      "File \u001b[1;32mc:\\Users\\cchumsae\\Anaconda3\\envs\\CellDynCluster\\lib\\multiprocessing\\pool.py:125\u001b[0m, in \u001b[0;36mworker\u001b[1;34m(inqueue, outqueue, initializer, initargs, maxtasks, wrap_exception)\u001b[0m\n\u001b[0;32m    123\u001b[0m job, i, func, args, kwds \u001b[39m=\u001b[39m task\n\u001b[0;32m    124\u001b[0m \u001b[39mtry\u001b[39;00m:\n\u001b[1;32m--> 125\u001b[0m     result \u001b[39m=\u001b[39m (\u001b[39mTrue\u001b[39;00m, func(\u001b[39m*\u001b[39margs, \u001b[39m*\u001b[39m\u001b[39m*\u001b[39mkwds))\n\u001b[0;32m    126\u001b[0m \u001b[39mexcept\u001b[39;00m \u001b[39mException\u001b[39;00m \u001b[39mas\u001b[39;00m e:\n\u001b[0;32m    127\u001b[0m     \u001b[39mif\u001b[39;00m wrap_exception \u001b[39mand\u001b[39;00m func \u001b[39mis\u001b[39;00m \u001b[39mnot\u001b[39;00m _helper_reraises_exception:\n",
      "File \u001b[1;32mc:\\Users\\cchumsae\\Anaconda3\\envs\\CellDynCluster\\lib\\multiprocessing\\pool.py:48\u001b[0m, in \u001b[0;36mmapstar\u001b[1;34m(args)\u001b[0m\n\u001b[0;32m     47\u001b[0m \u001b[39mdef\u001b[39;00m \u001b[39mmapstar\u001b[39m(args):\n\u001b[1;32m---> 48\u001b[0m     \u001b[39mreturn\u001b[39;00m \u001b[39mlist\u001b[39;49m(\u001b[39mmap\u001b[39;49m(\u001b[39m*\u001b[39;49margs))\n",
      "File \u001b[1;32mc:\\Users\\cchumsae\\Anaconda3\\envs\\CellDynCluster\\lib\\site-packages\\hembedder\\utils\\hyperparameter_tuning.py:199\u001b[0m, in \u001b[0;36mHyperparameter_tuning.get_scores\u001b[1;34m(embedded_info)\u001b[0m\n\u001b[0;32m    196\u001b[0m \u001b[39m@staticmethod\u001b[39m\n\u001b[0;32m    197\u001b[0m \u001b[39mdef\u001b[39;00m \u001b[39mget_scores\u001b[39m(embedded_info): \n\u001b[0;32m    198\u001b[0m     \u001b[39m#Get performance metrics for each subsampled embedder\u001b[39;00m\n\u001b[1;32m--> 199\u001b[0m     scores \u001b[39m=\u001b[39m metrics_scores_iter(\n\u001b[0;32m    200\u001b[0m         embedded_info[\u001b[39m\"\u001b[39;49m\u001b[39moriginal\u001b[39;49m\u001b[39m\"\u001b[39;49m],\n\u001b[0;32m    201\u001b[0m         embedded_info[\u001b[39m\"\u001b[39;49m\u001b[39membedded\u001b[39;49m\u001b[39m\"\u001b[39;49m],\n\u001b[0;32m    202\u001b[0m         embedded_info[\u001b[39m\"\u001b[39;49m\u001b[39mevaluators\u001b[39;49m\u001b[39m\"\u001b[39;49m],\n\u001b[0;32m    203\u001b[0m         return_dict\u001b[39m=\u001b[39;49m \u001b[39mTrue\u001b[39;49;00m, verbose\u001b[39m=\u001b[39;49m\u001b[39mFalse\u001b[39;49;00m)\n\u001b[0;32m    204\u001b[0m     \u001b[39mreturn\u001b[39;00m scores\n",
      "File \u001b[1;32mc:\\Users\\cchumsae\\Anaconda3\\envs\\CellDynCluster\\lib\\site-packages\\hembedder\\utils\\quality_metrics.py:257\u001b[0m, in \u001b[0;36mmetrics_scores_iter\u001b[1;34m(x, output, evaluators, verbose, return_dict)\u001b[0m\n\u001b[0;32m    255\u001b[0m results \u001b[39m=\u001b[39m {}\n\u001b[0;32m    256\u001b[0m \u001b[39mfor\u001b[39;00m name, metric \u001b[39min\u001b[39;00m evaluators\u001b[39m.\u001b[39mitems():\n\u001b[1;32m--> 257\u001b[0m     results\u001b[39m.\u001b[39mupdate({name: metric(x, output)})\n\u001b[0;32m    258\u001b[0m \u001b[39mif\u001b[39;00m(verbose):\n\u001b[0;32m    259\u001b[0m     print_metric_scores(results)\n",
      "File \u001b[1;32mc:\\Users\\cchumsae\\Anaconda3\\envs\\CellDynCluster\\lib\\site-packages\\hembedder\\utils\\quality_metrics.py:60\u001b[0m, in \u001b[0;36mCDEmbeddingPerformance._return_trustworthiness\u001b[1;34m(self, X_org, X_emb)\u001b[0m\n\u001b[0;32m     47\u001b[0m \u001b[39mdef\u001b[39;00m \u001b[39m_return_trustworthiness\u001b[39m(\u001b[39mself\u001b[39m,X_org:np\u001b[39m.\u001b[39marray,X_emb:np\u001b[39m.\u001b[39marray):\n\u001b[0;32m     48\u001b[0m     \u001b[39m\"\"\"\u001b[39;00m\n\u001b[0;32m     49\u001b[0m \u001b[39m    Function for returning trustworthiness score from sklearn.manifold.\u001b[39;00m\n\u001b[0;32m     50\u001b[0m \u001b[39m    Parameters\u001b[39;00m\n\u001b[1;32m   (...)\u001b[0m\n\u001b[0;32m     58\u001b[0m \u001b[39m    Trustworithiness score between 0 and 1. Higher means better\u001b[39;00m\n\u001b[0;32m     59\u001b[0m \u001b[39m    \"\"\"\u001b[39;00m\n\u001b[1;32m---> 60\u001b[0m     \u001b[39mreturn\u001b[39;00m trustworthiness(X_org,X_emb,n_neighbors\u001b[39m=\u001b[39;49m\u001b[39mself\u001b[39;49m\u001b[39m.\u001b[39;49mn_neighbours,metric \u001b[39m=\u001b[39;49m \u001b[39mself\u001b[39;49m\u001b[39m.\u001b[39;49mmetric)\n",
      "File \u001b[1;32mc:\\Users\\cchumsae\\Anaconda3\\envs\\CellDynCluster\\lib\\site-packages\\sklearn\\manifold\\_t_sne.py:508\u001b[0m, in \u001b[0;36mtrustworthiness\u001b[1;34m(X, X_embedded, n_neighbors, metric)\u001b[0m\n\u001b[0;32m    503\u001b[0m \u001b[39mif\u001b[39;00m n_neighbors \u001b[39m>\u001b[39m\u001b[39m=\u001b[39m n_samples \u001b[39m/\u001b[39m \u001b[39m2\u001b[39m:\n\u001b[0;32m    504\u001b[0m     \u001b[39mraise\u001b[39;00m \u001b[39mValueError\u001b[39;00m(\n\u001b[0;32m    505\u001b[0m         \u001b[39mf\u001b[39m\u001b[39m\"\u001b[39m\u001b[39mn_neighbors (\u001b[39m\u001b[39m{\u001b[39;00mn_neighbors\u001b[39m}\u001b[39;00m\u001b[39m) should be less than n_samples / 2\u001b[39m\u001b[39m\"\u001b[39m\n\u001b[0;32m    506\u001b[0m         \u001b[39mf\u001b[39m\u001b[39m\"\u001b[39m\u001b[39m (\u001b[39m\u001b[39m{\u001b[39;00mn_samples \u001b[39m/\u001b[39m \u001b[39m2\u001b[39m\u001b[39m}\u001b[39;00m\u001b[39m)\u001b[39m\u001b[39m\"\u001b[39m\n\u001b[0;32m    507\u001b[0m     )\n\u001b[1;32m--> 508\u001b[0m dist_X \u001b[39m=\u001b[39m pairwise_distances(X, metric\u001b[39m=\u001b[39;49mmetric)\n\u001b[0;32m    509\u001b[0m \u001b[39mif\u001b[39;00m metric \u001b[39m==\u001b[39m \u001b[39m\"\u001b[39m\u001b[39mprecomputed\u001b[39m\u001b[39m\"\u001b[39m:\n\u001b[0;32m    510\u001b[0m     dist_X \u001b[39m=\u001b[39m dist_X\u001b[39m.\u001b[39mcopy()\n",
      "File \u001b[1;32mc:\\Users\\cchumsae\\Anaconda3\\envs\\CellDynCluster\\lib\\site-packages\\sklearn\\metrics\\pairwise.py:1989\u001b[0m, in \u001b[0;36mpairwise_distances\u001b[1;34m(X, Y, metric, n_jobs, force_all_finite, **kwds)\u001b[0m\n\u001b[0;32m   1986\u001b[0m         \u001b[39mreturn\u001b[39;00m distance\u001b[39m.\u001b[39msquareform(distance\u001b[39m.\u001b[39mpdist(X, metric\u001b[39m=\u001b[39mmetric, \u001b[39m*\u001b[39m\u001b[39m*\u001b[39mkwds))\n\u001b[0;32m   1987\u001b[0m     func \u001b[39m=\u001b[39m partial(distance\u001b[39m.\u001b[39mcdist, metric\u001b[39m=\u001b[39mmetric, \u001b[39m*\u001b[39m\u001b[39m*\u001b[39mkwds)\n\u001b[1;32m-> 1989\u001b[0m \u001b[39mreturn\u001b[39;00m _parallel_pairwise(X, Y, func, n_jobs, \u001b[39m*\u001b[39m\u001b[39m*\u001b[39mkwds)\n",
      "File \u001b[1;32mc:\\Users\\cchumsae\\Anaconda3\\envs\\CellDynCluster\\lib\\site-packages\\sklearn\\metrics\\pairwise.py:1530\u001b[0m, in \u001b[0;36m_parallel_pairwise\u001b[1;34m(X, Y, func, n_jobs, **kwds)\u001b[0m\n\u001b[0;32m   1527\u001b[0m X, Y, dtype \u001b[39m=\u001b[39m _return_float_dtype(X, Y)\n\u001b[0;32m   1529\u001b[0m \u001b[39mif\u001b[39;00m effective_n_jobs(n_jobs) \u001b[39m==\u001b[39m \u001b[39m1\u001b[39m:\n\u001b[1;32m-> 1530\u001b[0m     \u001b[39mreturn\u001b[39;00m func(X, Y, \u001b[39m*\u001b[39m\u001b[39m*\u001b[39mkwds)\n\u001b[0;32m   1532\u001b[0m \u001b[39m# enforce a threading backend to prevent data communication overhead\u001b[39;00m\n\u001b[0;32m   1533\u001b[0m fd \u001b[39m=\u001b[39m delayed(_dist_wrapper)\n",
      "File \u001b[1;32mc:\\Users\\cchumsae\\Anaconda3\\envs\\CellDynCluster\\lib\\site-packages\\sklearn\\metrics\\pairwise.py:330\u001b[0m, in \u001b[0;36meuclidean_distances\u001b[1;34m(X, Y, Y_norm_squared, squared, X_norm_squared)\u001b[0m\n\u001b[0;32m    324\u001b[0m     \u001b[39mif\u001b[39;00m Y_norm_squared\u001b[39m.\u001b[39mshape \u001b[39m!=\u001b[39m (\u001b[39m1\u001b[39m, Y\u001b[39m.\u001b[39mshape[\u001b[39m0\u001b[39m]):\n\u001b[0;32m    325\u001b[0m         \u001b[39mraise\u001b[39;00m \u001b[39mValueError\u001b[39;00m(\n\u001b[0;32m    326\u001b[0m             \u001b[39mf\u001b[39m\u001b[39m\"\u001b[39m\u001b[39mIncompatible dimensions for Y of shape \u001b[39m\u001b[39m{\u001b[39;00mY\u001b[39m.\u001b[39mshape\u001b[39m}\u001b[39;00m\u001b[39m and \u001b[39m\u001b[39m\"\u001b[39m\n\u001b[0;32m    327\u001b[0m             \u001b[39mf\u001b[39m\u001b[39m\"\u001b[39m\u001b[39mY_norm_squared of shape \u001b[39m\u001b[39m{\u001b[39;00moriginal_shape\u001b[39m}\u001b[39;00m\u001b[39m.\u001b[39m\u001b[39m\"\u001b[39m\n\u001b[0;32m    328\u001b[0m         )\n\u001b[1;32m--> 330\u001b[0m \u001b[39mreturn\u001b[39;00m _euclidean_distances(X, Y, X_norm_squared, Y_norm_squared, squared)\n",
      "File \u001b[1;32mc:\\Users\\cchumsae\\Anaconda3\\envs\\CellDynCluster\\lib\\site-packages\\sklearn\\metrics\\pairwise.py:371\u001b[0m, in \u001b[0;36m_euclidean_distances\u001b[1;34m(X, Y, X_norm_squared, Y_norm_squared, squared)\u001b[0m\n\u001b[0;32m    368\u001b[0m     distances \u001b[39m=\u001b[39m _euclidean_distances_upcast(X, XX, Y, YY)\n\u001b[0;32m    369\u001b[0m \u001b[39melse\u001b[39;00m:\n\u001b[0;32m    370\u001b[0m     \u001b[39m# if dtype is already float64, no need to chunk and upcast\u001b[39;00m\n\u001b[1;32m--> 371\u001b[0m     distances \u001b[39m=\u001b[39m \u001b[39m-\u001b[39m\u001b[39m2\u001b[39m \u001b[39m*\u001b[39m safe_sparse_dot(X, Y\u001b[39m.\u001b[39;49mT, dense_output\u001b[39m=\u001b[39;49m\u001b[39mTrue\u001b[39;49;00m)\n\u001b[0;32m    372\u001b[0m     distances \u001b[39m+\u001b[39m\u001b[39m=\u001b[39m XX\n\u001b[0;32m    373\u001b[0m     distances \u001b[39m+\u001b[39m\u001b[39m=\u001b[39m YY\n",
      "File \u001b[1;32mc:\\Users\\cchumsae\\Anaconda3\\envs\\CellDynCluster\\lib\\site-packages\\sklearn\\utils\\extmath.py:152\u001b[0m, in \u001b[0;36msafe_sparse_dot\u001b[1;34m(a, b, dense_output)\u001b[0m\n\u001b[0;32m    150\u001b[0m         ret \u001b[39m=\u001b[39m np\u001b[39m.\u001b[39mdot(a, b)\n\u001b[0;32m    151\u001b[0m \u001b[39melse\u001b[39;00m:\n\u001b[1;32m--> 152\u001b[0m     ret \u001b[39m=\u001b[39m a \u001b[39m@\u001b[39;49m b\n\u001b[0;32m    154\u001b[0m \u001b[39mif\u001b[39;00m (\n\u001b[0;32m    155\u001b[0m     sparse\u001b[39m.\u001b[39missparse(a)\n\u001b[0;32m    156\u001b[0m     \u001b[39mand\u001b[39;00m sparse\u001b[39m.\u001b[39missparse(b)\n\u001b[0;32m    157\u001b[0m     \u001b[39mand\u001b[39;00m dense_output\n\u001b[0;32m    158\u001b[0m     \u001b[39mand\u001b[39;00m \u001b[39mhasattr\u001b[39m(ret, \u001b[39m\"\u001b[39m\u001b[39mtoarray\u001b[39m\u001b[39m\"\u001b[39m)\n\u001b[0;32m    159\u001b[0m ):\n\u001b[0;32m    160\u001b[0m     \u001b[39mreturn\u001b[39;00m ret\u001b[39m.\u001b[39mtoarray()\n",
      "\u001b[1;31mMemoryError\u001b[0m: Unable to allocate 47.7 GiB for an array with shape (80000, 80000) and data type float64"
     ]
    }
   ],
   "source": [
    "param_grid = {'n_neighbors': [5,15,30,50,100]}\n",
    "tuning = hyperparameter_tuning.Hyperparameter_tuning(cell_dyn,umap.UMAP,evaluators=evaluators,param_grid=param_grid,\n",
    "                        ascending=ascending, file_name=\"models/embedding/UMAP/cell_dyn_UMAP_hyper_op_results_80000_MF100_n_n_testing.csv\",\n",
    "                        subsampling=80000,standardised=False, num_iter=10,n_parjobs = 5, n_components =6,\n",
    "                        metric = 'euclidean', output_metric= 'euclidean',\n",
    "                        n_jobs=4, n_epochs=500, init = 'spectral',dens_lambda=0.1, dens_frac=0.1, \n",
    "                        repulsion_strength=1.1, negative_sample_rate=10, random_state=42, min_dist=0.0)\n",
    "results = tuning.grid_search()\n",
    "tuning.results.to_csv(\"models/embedding/UMAP/cell_dyn_UMAP_hyper_op_results_80000_MF100_n_n_testing.csv\")"
   ]
  },
  {
   "cell_type": "code",
   "execution_count": 3,
   "metadata": {},
   "outputs": [
    {
     "name": "stdout",
     "output_type": "stream",
     "text": [
      "Total number of embedding runs :  1 (combos)x10(iterations) with [1000] sample_size for the embedding. Exceptions will be raised, if sample  size is larger than data size which is 3093792\n"
     ]
    },
    {
     "name": "stderr",
     "output_type": "stream",
     "text": [
      "1it [01:08, 68.69s/it]"
     ]
    },
    {
     "name": "stdout",
     "output_type": "stream",
     "text": [
      "Hyperpameter tuning is done and the best scores with 1000 sample size are\n",
      "Trustworthiness        0.929104\n",
      "dcor_1                  0.80972\n",
      "dcor_2                 0.610362\n",
      "Random_triplets          0.7122\n",
      "neighbor_kept_ratio     0.37484\n",
      "neighbor_kept_15       0.309793\n",
      "Name: 0, dtype: object\n",
      "with parameter: {'n_neighbors': 5, 'n_components': 6, 'metric': 'euclidean', 'output_metric': 'euclidean', 'n_jobs': 4, 'n_epochs': 500, 'init': 'spectral', 'dens_lambda': 0.1, 'dens_frac': 0.1, 'repulsion_strength': 1.1, 'negative_sample_rate': 10, 'min_dist': 0.0}\n",
      "Finish tuning in  1.15 minutes.\n"
     ]
    },
    {
     "name": "stderr",
     "output_type": "stream",
     "text": [
      "\n"
     ]
    }
   ],
   "source": [
    "#n_n 5\n",
    "evaluate_n_n_default = quality_metrics.CDEmbeddingPerformance(dcor_level=2, metric='manhattan')\n",
    "ascending = [False,False, False, False,False,False]\n",
    "\n",
    "evaluate = quality_metrics.CDEmbeddingPerformance(dcor_level=1, n_neighbours=5,metric='manhattan')\n",
    "evaluators = {'Trustworthiness': evaluate._return_trustworthiness,\n",
    "                    'dcor_1': evaluate._return_distance_correlation,\n",
    "                    'dcor_2': evaluate_n_n_default._return_distance_correlation,\n",
    "                    'Random_triplets' : evaluate.random_triplet_eval,\n",
    "                    'neighbor_kept_ratio' : evaluate.neighbor_kept_ratio_eval,\n",
    "                    'neighbor_kept_15' : evaluate_n_n_default.neighbor_kept_ratio_eval}\n",
    "param_grid = {'n_neighbors': [5]}\n",
    "tuning = hyperparameter_tuning.Hyperparameter_tuning(cell_dyn,umap.UMAP,evaluators=evaluators,param_grid=param_grid,\n",
    "                        ascending=ascending, file_name=\"models/embedding/UMAP/cell_dyn_UMAP_hyper_op_results_MF100_sizes_n_n_5_std.csv\",\n",
    "                        sample_size=sizes,metric_chuck_size=5000,standardised=True, num_iter=10, dtype=np.float32,\n",
    "                        n_parjobs=10,n_components=6,metric = 'euclidean', output_metric= 'euclidean',\n",
    "                        n_jobs=4, n_epochs=500, init = 'spectral',dens_lambda=0.1, dens_frac=0.1, \n",
    "                        repulsion_strength=1.1, negative_sample_rate=10, random_state=42, min_dist=0.0)\n",
    "results = tuning.grid_search()\n",
    "tuning.results.to_csv(\"models/embedding/UMAP/cell_dyn_UMAP_hyper_op_results_MF100_sizes_n_n_5_std.csv\")"
   ]
  },
  {
   "cell_type": "code",
   "execution_count": 4,
   "metadata": {},
   "outputs": [
    {
     "name": "stdout",
     "output_type": "stream",
     "text": [
      "Total number of embedding runs :  6 (combos)x10(iterations) with 5000 samples for the embedding\n"
     ]
    },
    {
     "name": "stderr",
     "output_type": "stream",
     "text": [
      "6it [2:19:35, 1395.97s/it]                       "
     ]
    },
    {
     "name": "stdout",
     "output_type": "stream",
     "text": [
      "Hyperpameter tuning is done and the best scores are with 5000 sample size\n",
      "Trustworthiness         0.94096\n",
      "dcor_1                 0.842961\n",
      "dcor_2                 0.646187\n",
      "Random_triplets        0.739964\n",
      "neighbor_kept_ratio    0.272643\n",
      "neighbor_kept_15       0.272643\n",
      "Name: 0, dtype: object\n",
      "with parameter: {'n_neighbors': 15, 'n_components': 6, 'metric': 'euclidean', 'output_metric': 'euclidean', 'n_jobs': 4, 'n_epochs': 500, 'init': 'spectral', 'dens_lambda': 0.1, 'dens_frac': 0.1, 'repulsion_strength': 1.1, 'negative_sample_rate': 10, 'min_dist': 0.0}\n",
      "Finish tuning in  139.6 minutes.\n"
     ]
    },
    {
     "name": "stderr",
     "output_type": "stream",
     "text": [
      "\n"
     ]
    }
   ],
   "source": [
    "#n_n 15\n",
    "evaluate = quality_metrics.CDEmbeddingPerformance(dcor_level=1, n_neighbours=15,metric='manhattan')\n",
    "evaluators = {'Trustworthiness': evaluate._return_trustworthiness,\n",
    "                    'dcor_1': evaluate._return_distance_correlation,\n",
    "                    'dcor_2': evaluate_n_n_default._return_distance_correlation,\n",
    "                    'Random_triplets' : evaluate.random_triplet_eval,\n",
    "                    'neighbor_kept_ratio' : evaluate.neighbor_kept_ratio_eval,\n",
    "                    'neighbor_kept_15' : evaluate_n_n_default.neighbor_kept_ratio_eval}\n",
    "\n",
    "param_grid = {'n_neighbors': [15]}\n",
    "tuning = hyperparameter_tuning.Hyperparameter_tuning(cell_dyn,umap.UMAP,evaluators=evaluators,param_grid=param_grid,\n",
    "                        ascending=ascending, file_name=\"models/embedding/UMAP/cell_dyn_UMAP_hyper_op_results_MF100_sizes_n_n_15_std.csv\",\n",
    "                        sample_size=sizes,metric_chuck_size=5000,standardised=True, num_iter=10, dtype=np.float32,\n",
    "                        n_parjobs=10,n_components=6,metric = 'euclidean', output_metric= 'euclidean',\n",
    "                        n_jobs=4, n_epochs=500, init = 'spectral',dens_lambda=0.1, dens_frac=0.1, \n",
    "                        repulsion_strength=1.1, negative_sample_rate=10, random_state=42, min_dist=0.0)\n",
    "results = tuning.grid_search()\n",
    "tuning.results.to_csv(\"models/embedding/UMAP/cell_dyn_UMAP_hyper_op_results_MF100_sizes_n_n_15_std.csv\")"
   ]
  },
  {
   "cell_type": "code",
   "execution_count": 5,
   "metadata": {},
   "outputs": [
    {
     "name": "stdout",
     "output_type": "stream",
     "text": [
      "Total number of embedding runs :  6 (combos)x10(iterations) with 5000 samples for the embedding\n"
     ]
    },
    {
     "name": "stderr",
     "output_type": "stream",
     "text": [
      "6it [2:48:44, 1687.37s/it]                       "
     ]
    },
    {
     "name": "stdout",
     "output_type": "stream",
     "text": [
      "Hyperpameter tuning is done and the best scores are with 5000 sample size\n",
      "Trustworthiness        0.930026\n",
      "dcor_1                 0.852888\n",
      "dcor_2                 0.654329\n",
      "Random_triplets        0.739728\n",
      "neighbor_kept_ratio    0.275454\n",
      "neighbor_kept_15       0.267404\n",
      "Name: 0, dtype: object\n",
      "with parameter: {'n_neighbors': 30, 'n_components': 6, 'metric': 'euclidean', 'output_metric': 'euclidean', 'n_jobs': 4, 'n_epochs': 500, 'init': 'spectral', 'dens_lambda': 0.1, 'dens_frac': 0.1, 'repulsion_strength': 1.1, 'negative_sample_rate': 10, 'min_dist': 0.0}\n",
      "Finish tuning in  168.74 minutes.\n"
     ]
    },
    {
     "name": "stderr",
     "output_type": "stream",
     "text": [
      "\n"
     ]
    }
   ],
   "source": [
    "#n_n 30\n",
    "evaluate = quality_metrics.CDEmbeddingPerformance(dcor_level=1, n_neighbours=30,metric='manhattan')\n",
    "evaluators = {'Trustworthiness': evaluate._return_trustworthiness,\n",
    "                    'dcor_1': evaluate._return_distance_correlation,\n",
    "                    'dcor_2': evaluate_n_n_default._return_distance_correlation,\n",
    "                    'Random_triplets' : evaluate.random_triplet_eval,\n",
    "                    'neighbor_kept_ratio' : evaluate.neighbor_kept_ratio_eval,\n",
    "                    'neighbor_kept_15' : evaluate_n_n_default.neighbor_kept_ratio_eval}\n",
    "\n",
    "param_grid = {'n_neighbors': [30]}\n",
    "tuning = hyperparameter_tuning.Hyperparameter_tuning(cell_dyn,umap.UMAP,evaluators=evaluators,param_grid=param_grid,\n",
    "                        ascending=ascending, file_name=\"models/embedding/UMAP/cell_dyn_UMAP_hyper_op_results_MF100_sizes_n_n_30_std.csv\",\n",
    "                        sample_size=sizes,metric_chuck_size=5000,standardised=True, num_iter=10, dtype=np.float32,\n",
    "                        n_parjobs=10,n_components=6,metric = 'euclidean', output_metric= 'euclidean',\n",
    "                        n_jobs=4, n_epochs=500, init = 'spectral',dens_lambda=0.1, dens_frac=0.1, \n",
    "                        repulsion_strength=1.1, negative_sample_rate=10, random_state=42, min_dist=0.0)\n",
    "results = tuning.grid_search()\n",
    "tuning.results.to_csv(\"models/embedding/UMAP/cell_dyn_UMAP_hyper_op_results_MF100_sizes_n_n_30_std.csv\")"
   ]
  },
  {
   "cell_type": "code",
   "execution_count": 6,
   "metadata": {},
   "outputs": [
    {
     "name": "stdout",
     "output_type": "stream",
     "text": [
      "Total number of embedding runs :  6 (combos)x10(iterations) with 5000 samples for the embedding\n"
     ]
    },
    {
     "name": "stderr",
     "output_type": "stream",
     "text": [
      "6it [3:10:15, 1902.54s/it]                       "
     ]
    },
    {
     "name": "stdout",
     "output_type": "stream",
     "text": [
      "Hyperpameter tuning is done and the best scores are with 5000 sample size\n",
      "Trustworthiness        0.920559\n",
      "dcor_1                 0.861519\n",
      "dcor_2                 0.663845\n",
      "Random_triplets        0.743276\n",
      "neighbor_kept_ratio    0.288968\n",
      "neighbor_kept_15       0.260329\n",
      "Name: 0, dtype: object\n",
      "with parameter: {'n_neighbors': 50, 'n_components': 6, 'metric': 'euclidean', 'output_metric': 'euclidean', 'n_jobs': 4, 'n_epochs': 500, 'init': 'spectral', 'dens_lambda': 0.1, 'dens_frac': 0.1, 'repulsion_strength': 1.1, 'negative_sample_rate': 10, 'min_dist': 0.0}\n",
      "Finish tuning in  190.25 minutes.\n"
     ]
    },
    {
     "name": "stderr",
     "output_type": "stream",
     "text": [
      "\n"
     ]
    }
   ],
   "source": [
    "#n_n 50\n",
    "evaluate = quality_metrics.CDEmbeddingPerformance(dcor_level=1, n_neighbours=50,metric='manhattan')\n",
    "evaluators = {'Trustworthiness': evaluate._return_trustworthiness,\n",
    "                    'dcor_1': evaluate._return_distance_correlation,\n",
    "                    'dcor_2': evaluate_n_n_default._return_distance_correlation,\n",
    "                    'Random_triplets' : evaluate.random_triplet_eval,\n",
    "                    'neighbor_kept_ratio' : evaluate.neighbor_kept_ratio_eval,\n",
    "                    'neighbor_kept_15' : evaluate_n_n_default.neighbor_kept_ratio_eval}\n",
    "\n",
    "param_grid = {'n_neighbors': [50]}\n",
    "tuning = hyperparameter_tuning.Hyperparameter_tuning(cell_dyn,umap.UMAP,evaluators=evaluators,param_grid=param_grid,\n",
    "                        ascending=ascending, file_name=\"models/embedding/UMAP/cell_dyn_UMAP_hyper_op_results_MF100_sizes_n_n_50_std.csv\",\n",
    "                        sample_size=sizes,metric_chuck_size=5000,standardised=True, num_iter=10, dtype=np.float32,\n",
    "                        n_parjobs=10,n_components=6,metric = 'euclidean', output_metric= 'euclidean',\n",
    "                        n_jobs=4, n_epochs=500, init = 'spectral',dens_lambda=0.1, dens_frac=0.1, \n",
    "                        repulsion_strength=1.1, negative_sample_rate=10, random_state=42, min_dist=0.0)\n",
    "results = tuning.grid_search()\n",
    "tuning.results.to_csv(\"models/embedding/UMAP/cell_dyn_UMAP_hyper_op_results_MF100_sizes_n_n_50_std.csv\")"
   ]
  },
  {
   "cell_type": "code",
   "execution_count": 7,
   "metadata": {},
   "outputs": [
    {
     "name": "stdout",
     "output_type": "stream",
     "text": [
      "Total number of embedding runs :  6 (combos)x10(iterations) with 5000 samples for the embedding\n"
     ]
    },
    {
     "name": "stderr",
     "output_type": "stream",
     "text": [
      "6it [3:44:30, 2245.10s/it]                       "
     ]
    },
    {
     "name": "stdout",
     "output_type": "stream",
     "text": [
      "Hyperpameter tuning is done and the best scores are with 5000 sample size\n",
      "Trustworthiness        0.908263\n",
      "dcor_1                 0.864732\n",
      "dcor_2                 0.651193\n",
      "Random_triplets        0.741148\n",
      "neighbor_kept_ratio     0.32691\n",
      "neighbor_kept_15       0.256901\n",
      "Name: 0, dtype: object\n",
      "with parameter: {'n_neighbors': 100, 'n_components': 6, 'metric': 'euclidean', 'output_metric': 'euclidean', 'n_jobs': 4, 'n_epochs': 500, 'init': 'spectral', 'dens_lambda': 0.1, 'dens_frac': 0.1, 'repulsion_strength': 1.1, 'negative_sample_rate': 10, 'min_dist': 0.0}\n",
      "Finish tuning in  224.51 minutes.\n"
     ]
    },
    {
     "name": "stderr",
     "output_type": "stream",
     "text": [
      "\n"
     ]
    }
   ],
   "source": [
    "#n_n 100\n",
    "evaluate = quality_metrics.CDEmbeddingPerformance(dcor_level=1, n_neighbours=100,metric='manhattan')\n",
    "evaluators = {'Trustworthiness': evaluate._return_trustworthiness,\n",
    "                    'dcor_1': evaluate._return_distance_correlation,\n",
    "                    'dcor_2': evaluate_n_n_default._return_distance_correlation,\n",
    "                    'Random_triplets' : evaluate.random_triplet_eval,\n",
    "                    'neighbor_kept_ratio' : evaluate.neighbor_kept_ratio_eval,\n",
    "                    'neighbor_kept_15' : evaluate_n_n_default.neighbor_kept_ratio_eval}\n",
    "\n",
    "param_grid = {'n_neighbors': [100]}\n",
    "tuning = hyperparameter_tuning.Hyperparameter_tuning(cell_dyn,umap.UMAP,evaluators=evaluators,param_grid=param_grid,\n",
    "                        ascending=ascending, file_name=\"models/embedding/UMAP/cell_dyn_UMAP_hyper_op_results_MF100_sizes_n_n_100_std.csv\",\n",
    "                        sample_size=sizes,metric_chuck_size=5000,standardised=True, num_iter=10, dtype=np.float32,\n",
    "                        n_parjobs=10,n_components=6,metric = 'euclidean', output_metric= 'euclidean',\n",
    "                        n_jobs=4, n_epochs=500, init = 'spectral',dens_lambda=0.1, dens_frac=0.1, \n",
    "                        repulsion_strength=1.1, negative_sample_rate=10, random_state=42, min_dist=0.0)\n",
    "results = tuning.grid_search()\n",
    "tuning.results.to_csv(\"models/embedding/UMAP/cell_dyn_UMAP_hyper_op_results_MF100_sizes_n_n_100_std.csv\")"
   ]
  }
 ],
 "metadata": {
  "kernelspec": {
   "display_name": "CellDynCluster",
   "language": "python",
   "name": "python3"
  },
  "language_info": {
   "codemirror_mode": {
    "name": "ipython",
    "version": 3
   },
   "file_extension": ".py",
   "mimetype": "text/x-python",
   "name": "python",
   "nbconvert_exporter": "python",
   "pygments_lexer": "ipython3",
   "version": "3.10.4"
  },
  "orig_nbformat": 4,
  "vscode": {
   "interpreter": {
    "hash": "5deb914aa631c094dbee2b245fe292bd804ba18ca3cb2d31e687d93fc90e2ee0"
   }
  }
 },
 "nbformat": 4,
 "nbformat_minor": 2
}
