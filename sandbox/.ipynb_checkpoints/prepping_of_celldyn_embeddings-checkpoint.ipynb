{
 "cells": [
  {
   "cell_type": "code",
   "execution_count": 2,
   "id": "5a87bc18",
   "metadata": {},
   "outputs": [],
   "source": [
    "%reload_ext autoreload\n",
    "#%load_ext autoreload\n",
    "%autoreload 1\n",
    "%matplotlib inline\n",
    "\n",
    "import datetime\n",
    "import pandas as pd\n",
    "#import modin.pandas as pd\n",
    "import numpy as np\n",
    "import scipy as sc\n",
    "import matplotlib.pyplot as plt\n",
    "import seaborn as sns\n",
    "import umap\n",
    "from tqdm import tqdm\n",
    "\n",
    "\n",
    "#from sklearnex import patch_sklearn\n",
    "#patch_sklearn()\n",
    "\n",
    "from sklearn.preprocessing import FunctionTransformer, StandardScaler\n",
    "from sklearn.compose import ColumnTransformer, make_column_transformer\n",
    "from sklearn.pipeline import Pipeline\n",
    "from sklearn.base import BaseEstimator, TransformerMixin\n",
    "\n",
    "import os\n",
    "import gc\n",
    "import joblib\n",
    "\n",
    "os.chdir(\"T:\\\\laupodteam\\\\AIOS\\\\Bram\\\\notebooks\\\\code_dev\\\\celldyn_embedder\\\\sandbox\")\n",
    "#os.chdir(\"/media/UMCU/notebooks/code_dev/celldyn_embedder/sandbox\")\n",
    "sns.set_style(\"whitegrid\")\n",
    "\n",
    "\n",
    "#import ray\n",
    "#ray.init()"
   ]
  },
  {
   "cell_type": "code",
   "execution_count": null,
   "id": "22edd1f6",
   "metadata": {},
   "outputs": [],
   "source": [
    "# CUSTOM CLASSES\n",
    "from celldyn_qc import QcControl\n",
    "from ctransformers import CellDynTrans\n",
    "from recombinators import CellDynRecombinator\n",
    "from cimputer import Imputer\n",
    "\n",
    "write_to_disk = False\n",
    "read_from_disk = True\n",
    "get_ranges=False\n",
    "get_combos=False"
   ]
  },
  {
   "cell_type": "markdown",
   "id": "50c05243",
   "metadata": {},
   "source": [
    "* filter based on group flags\n",
    "* filter based on suspect flags\n",
    "* filter based on range\n",
    "* apply scaling\n",
    "* correct for diurnal rythm\n",
    "* impute"
   ]
  },
  {
   "cell_type": "code",
   "execution_count": 3,
   "id": "c1e5eb56",
   "metadata": {},
   "outputs": [],
   "source": [
    "def sigmoid(x):\n",
    "    #return np.tanh(x)\n",
    "    return 1/(1+np.exp(-x))\n",
    "\n",
    "def sigmoid_log(x):\n",
    "    return sigmoid(np.log(x+1))"
   ]
  },
  {
   "cell_type": "markdown",
   "id": "c7c9fdc2",
   "metadata": {},
   "source": [
    "There are no special NaN-modes; the NaN's are the result of running in non-reti modus, the affected measurements are:\n",
    "\n",
    "`\n",
    "'c_b_retc',\n",
    "'c_b_pretc',\n",
    "'c_b_irf',\n",
    "'c_b_pHPO',\n",
    "'c_b_pHPR',\n",
    "'c_b_HDW',\n",
    "'c_b_MCVr',\n",
    "'c_b_MCHr',\n",
    "'c_b_MCHCr',\n",
    "'c_b_rbcimn',\n",
    "'c_b_rbcicv',\n",
    "'c_b_rbcfmn',\n",
    "'c_b_rbcfcv'\n",
    "`"
   ]
  },
  {
   "cell_type": "code",
   "execution_count": 4,
   "id": "7c7356c3",
   "metadata": {},
   "outputs": [
    {
     "data": {
      "text/plain": [
       "7"
      ]
     },
     "execution_count": 4,
     "metadata": {},
     "output_type": "execute_result"
    }
   ],
   "source": [
    "#celldyn = pd.read_feather(\"/media/UMCU/data/CellDyn/celldyn.feather\")\n",
    "celldyn = pd.read_feather(\"T:\\laupodteam\\AIOS\\Bram\\data\\CellDyn\\celldyn.feather\")\n",
    "celldyn.columns = celldyn.columns.str.lower()\n",
    "gc.collect()"
   ]
  },
  {
   "cell_type": "code",
   "execution_count": 7,
   "id": "e8076b26",
   "metadata": {},
   "outputs": [
    {
     "name": "stderr",
     "output_type": "stream",
     "text": [
      "C:\\Users\\bes3\\AppData\\Local\\Temp\\ipykernel_11532\\3868978674.py:31: SettingWithCopyWarning: \n",
      "A value is trying to be set on a copy of a slice from a DataFrame.\n",
      "Try using .loc[row_indexer,col_indexer] = value instead\n",
      "\n",
      "See the caveats in the documentation: https://pandas.pydata.org/pandas-docs/stable/user_guide/indexing.html#returning-a-view-versus-a-copy\n",
      "  celldyn['day_of_year'] = np.nan\n",
      "C:\\Users\\bes3\\AppData\\Local\\Temp\\ipykernel_11532\\3868978674.py:32: SettingWithCopyWarning: \n",
      "A value is trying to be set on a copy of a slice from a DataFrame.\n",
      "Try using .loc[row_indexer,col_indexer] = value instead\n",
      "\n",
      "See the caveats in the documentation: https://pandas.pydata.org/pandas-docs/stable/user_guide/indexing.html#returning-a-view-versus-a-copy\n",
      "  celldyn['day_of_year'] = celldyn.loc[celldyn.c_mode_xlyse==0, 'asp_dt']\\\n",
      "C:\\Users\\bes3\\AppData\\Local\\Temp\\ipykernel_11532\\3868978674.py:34: SettingWithCopyWarning: \n",
      "A value is trying to be set on a copy of a slice from a DataFrame.\n",
      "Try using .loc[row_indexer,col_indexer] = value instead\n",
      "\n",
      "See the caveats in the documentation: https://pandas.pydata.org/pandas-docs/stable/user_guide/indexing.html#returning-a-view-versus-a-copy\n",
      "  celldyn['week_of_year'] = celldyn.loc[celldyn.c_mode_xlyse==0, 'asp_dt']\\\n",
      "C:\\Users\\bes3\\AppData\\Local\\Temp\\ipykernel_11532\\3868978674.py:37: SettingWithCopyWarning: \n",
      "A value is trying to be set on a copy of a slice from a DataFrame.\n",
      "Try using .loc[row_indexer,col_indexer] = value instead\n",
      "\n",
      "See the caveats in the documentation: https://pandas.pydata.org/pandas-docs/stable/user_guide/indexing.html#returning-a-view-versus-a-copy\n",
      "  celldyn['year'] = celldyn.loc[celldyn.c_mode_xlyse==0, 'asp_dt'].apply(lambda x: x.year)\n",
      "C:\\Users\\bes3\\AppData\\Local\\Temp\\ipykernel_11532\\3868978674.py:38: SettingWithCopyWarning: \n",
      "A value is trying to be set on a copy of a slice from a DataFrame.\n",
      "Try using .loc[row_indexer,col_indexer] = value instead\n",
      "\n",
      "See the caveats in the documentation: https://pandas.pydata.org/pandas-docs/stable/user_guide/indexing.html#returning-a-view-versus-a-copy\n",
      "  celldyn['first_day'] = celldyn.afname_dt.apply(lambda x: next_weekday(x, 0))\n"
     ]
    }
   ],
   "source": [
    "celldyn.drop(['c_b_pnrbc', 'c_b_pbnd', 'c_b_pig', 'c_b_pvlym'], axis=1, inplace=True)\n",
    "\n",
    "meta_cols = ['asp_dt', 'analyzer', 'studyId_Alle_celldyn', \n",
    "             'time_to_measurement', 'gender', 'age' , 'afname_dt',\n",
    "             'day_of_year', 'week_of_year', 'year', 'first_day',\n",
    "              'draw_hour', 'meas_hour']\n",
    "count_columns = [c for c in celldyn.columns if 'c_cnt' in c]\n",
    "meas_columns = [c for c in celldyn.columns if 'c_b' in c]+['plt']\n",
    "mode_columns = [c for c in celldyn.columns if 'c_m' in c]\n",
    "susp_columns = [c for c in celldyn.columns if 'c_s' in c]\n",
    "alert_columns = [c for c in celldyn.columns if 'alrt' in c]\n",
    "fail_columns = [c for c in celldyn.columns if 'fail' in c]\n",
    "all_cols  = meta_cols+meas_columns+mode_columns+susp_columns+alert_columns+count_columns+fail_columns\n",
    "other_cols = [c for c in celldyn.columns if c not in all_cols]\n",
    "\n",
    "celldyn['gender']= celldyn.gender.str.decode(encoding='latin1')\n",
    "celldyn['age'] = celldyn.age.astype(int)\n",
    "celldyn['meas_hour'] = celldyn['asp_dt'].dt.hour#   apply(lambda x: x.hour)\n",
    "celldyn['draw_hour'] = celldyn['afname_dt'].dt.hour # .apply(lambda x: x.hour)\n",
    "celldyn['time_to_measurement'] = (celldyn.asp_dt-celldyn.afname_dt).dt.total_seconds()\n",
    "celldyn['time_to_measurement'] = celldyn['time_to_measurement']//3600\n",
    "\n",
    "cond = (celldyn.time_to_measurement<10) & (celldyn.time_to_measurement>-4)\n",
    "celldyn = celldyn[cond]\n",
    "\n",
    "def next_weekday(d, weekday):\n",
    "    days_diff = weekday - d.weekday()\n",
    "    return (d + datetime.timedelta(days_diff))\\\n",
    "    .replace(hour=0, minute=0, second=0, microsecond=0)\n",
    "\n",
    "celldyn['day_of_year'] = np.nan\n",
    "celldyn['day_of_year'] = celldyn.loc[celldyn.c_mode_xlyse==0, 'asp_dt']\\\n",
    "                            .apply(lambda x: x.dayofyear)\n",
    "celldyn['week_of_year'] = celldyn.loc[celldyn.c_mode_xlyse==0, 'asp_dt']\\\n",
    "                            .apply(lambda x: x.weekofyear)\n",
    "\n",
    "celldyn['year'] = celldyn.loc[celldyn.c_mode_xlyse==0, 'asp_dt'].apply(lambda x: x.year)\n",
    "celldyn['first_day'] = celldyn.afname_dt.apply(lambda x: next_weekday(x, 0))"
   ]
  },
  {
   "cell_type": "code",
   "execution_count": 24,
   "id": "a14ebbb2",
   "metadata": {},
   "outputs": [],
   "source": [
    "patient_counts = celldyn.groupby('studyid_alle_celldyn').size().to_frame()\n",
    "patient_counts.columns = ['num_of_meas']"
   ]
  },
  {
   "cell_type": "code",
   "execution_count": 33,
   "id": "fda16639",
   "metadata": {},
   "outputs": [],
   "source": [
    "rnd_pats = patient_counts[patient_counts.num_of_meas>100].index.values\n",
    "multi_meas = celldyn.loc[celldyn.studyid_alle_celldyn.isin(rnd_pats)]\n",
    "sns.lineplot(data=multi_meas, x='draw_hour', y='c_b_pneu')"
   ]
  },
  {
   "cell_type": "code",
   "execution_count": 75,
   "id": "a5b95fca",
   "metadata": {},
   "outputs": [
    {
     "name": "stderr",
     "output_type": "stream",
     "text": [
      "C:\\Users\\bes3\\AppData\\Local\\Temp\\ipykernel_11532\\3572880459.py:1: SettingWithCopyWarning: \n",
      "A value is trying to be set on a copy of a slice from a DataFrame.\n",
      "Try using .loc[row_indexer,col_indexer] = value instead\n",
      "\n",
      "See the caveats in the documentation: https://pandas.pydata.org/pandas-docs/stable/user_guide/indexing.html#returning-a-view-versus-a-copy\n",
      "  multi_meas['days_since_first_meas'] = multi_meas.groupby('studyid_alle_celldyn')[['afname_dt']]\\\n"
     ]
    }
   ],
   "source": [
    "multi_meas['days_since_first_meas'] = multi_meas.groupby('studyid_alle_celldyn')[['afname_dt']]\\\n",
    "                                                .transform(lambda x: (x-x.min()).dt.days)"
   ]
  },
  {
   "cell_type": "code",
   "execution_count": 125,
   "id": "1cf8d9f1",
   "metadata": {},
   "outputs": [
    {
     "data": {
      "text/plain": [
       "<AxesSubplot:xlabel='draw_hour', ylabel='c_b_neu'>"
      ]
     },
     "execution_count": 125,
     "metadata": {},
     "output_type": "execute_result"
    },
    {
     "data": {
      "image/png": "[encoded data removed]",
      "text/plain": [
       "<Figure size 1080x504 with 2 Axes>"
      ]
     },
     "metadata": {},
     "output_type": "display_data"
    }
   ],
   "source": [
    "fig, ax = plt.subplots(ncols=2, figsize=(15,7))\n",
    "rnd_pat = patient_counts[patient_counts.num_of_meas>100].sample(1).index.values[0]\n",
    "tmp=multi_meas.loc[multi_meas.studyid_alle_celldyn==rnd_pat]\n",
    "sns.lineplot(data=tmp, x='days_since_first_meas', y='c_b_neu', ax=ax[0])\n",
    "sns.lineplot(data=tmp, x='draw_hour', y='c_b_neu', ax=ax[1])"
   ]
  },
  {
   "cell_type": "code",
   "execution_count": 104,
   "id": "897072d2",
   "metadata": {},
   "outputs": [
    {
     "ename": "NameError",
     "evalue": "name 'get_ranges' is not defined",
     "output_type": "error",
     "traceback": [
      "\u001b[1;31m---------------------------------------------------------------------------\u001b[0m",
      "\u001b[1;31mNameError\u001b[0m                                 Traceback (most recent call last)",
      "Input \u001b[1;32mIn [104]\u001b[0m, in \u001b[0;36m<cell line: 2>\u001b[1;34m()\u001b[0m\n\u001b[0;32m      1\u001b[0m \u001b[38;5;66;03m# get (0.05, 0.25, 0.5, 0.75, 0.95) percentiles\u001b[39;00m\n\u001b[1;32m----> 2\u001b[0m \u001b[38;5;28;01mif\u001b[39;00m \u001b[43mget_ranges\u001b[49m:\n\u001b[0;32m      3\u001b[0m     range_tuples \u001b[38;5;241m=\u001b[39m []\n\u001b[0;32m      4\u001b[0m     \u001b[38;5;28;01mfor\u001b[39;00m c \u001b[38;5;129;01min\u001b[39;00m tqdm(meas_columns):\n",
      "\u001b[1;31mNameError\u001b[0m: name 'get_ranges' is not defined"
     ]
    }
   ],
   "source": [
    "# get (0.05, 0.25, 0.5, 0.75, 0.95) percentiles\n",
    "if get_ranges:\n",
    "    range_tuples = []\n",
    "    for c in tqdm(meas_columns):\n",
    "        percent01, percent025, percent25, percent50, percent75, percent975, percent99 = \\\n",
    "            celldyn[c].quantile([0.01, 0.025, 0.25, 0.5, 0.75, 0.975, 0.99])\n",
    "        range_tuples.append({'q01': percent01,\n",
    "                             'q025': percent025,\n",
    "                             'q25': percent25,\n",
    "                             'q50': percent50,\n",
    "                             'q75': percent75,\n",
    "                             'q975': percent975,\n",
    "                             'q99': percent99})\n",
    "    range_df = pd.DataFrame(data=range_tuples, index=meas_columns)\n",
    "    range_df.round(3).to_csv(\"/media/UMCU/data/CellDyn/ranges.csv\", sep=';')"
   ]
  },
  {
   "cell_type": "code",
   "execution_count": 6,
   "id": "c2e5ff76",
   "metadata": {},
   "outputs": [],
   "source": [
    "if get_combos:\n",
    "    celldyn['mode_combos'] = celldyn[mode_columns]\\\n",
    "                          .apply(lambda x: \",\".join([str(_x) for _x in x]),\\\n",
    "                          axis=1)\n",
    "\n",
    "    nan_modes = {}\n",
    "    for c in tqdm(celldyn['mode_combos'].unique()):\n",
    "        condition = celldyn['mode_combos'] == c\n",
    "        meas_df=celldyn.loc[condition, meas_columns]\n",
    "        N = meas_df.shape[0]\n",
    "        named_c = \",\".join([f\"{mode_columns[i]}:{str(int(float(v)))}\"\n",
    "                  for i, v in enumerate(c.split(\",\"))])\n",
    "        nan_list = meas_df.columns[meas_df.isna().sum()/N>=0.8].tolist()\n",
    "        if len(nan_list)>0:\n",
    "            nan_modes[named_c] = nan_list\n",
    "\n",
    "    reti_mode_cols = list(set([_v for k,v in nan_modes.items() \n",
    "                              for _v in v if 'c_mode_rtc' in k\n",
    "                            ]))\n",
    "    celldyn.loc[celldyn.c_mode_rtc==0, reti_mode_cols] = np.nan"
   ]
  },
  {
   "cell_type": "markdown",
   "id": "0653b65e",
   "metadata": {},
   "source": [
    "# Pipeline attempt"
   ]
  },
  {
   "cell_type": "code",
   "execution_count": 7,
   "id": "58426abd",
   "metadata": {},
   "outputs": [],
   "source": [
    "# Quality Check\n",
    "qc = QcControl(param_file=\"../external/CelldynParams.csv\") \n",
    "\n",
    "# Scaling\n",
    "from ctransformers import CellDynTrans\n",
    "CellDynTransformer = CellDynTrans(log_scale=['c_b_seg', 'c_b_neu', 'c_b_wbc'],\n",
    "                                  ord_scale=['c_b_bnd', 'c_b_ig', 'c_b_vlym', 'c_b_blst',\n",
    "                                             'c_b_nrbc', 'c_b_vlym', 'c_b_pblst'],\n",
    "                                  remove_original_columns=False)\n",
    "# Imputer; \n",
    "#from imputer import Imputer\n",
    "#imputer_clf = Imputer()\n",
    "imputer_clf = Imputer(imputer='forest',\n",
    "                     backend='miceforest', \n",
    "                     meas_cols = meas_columns,\n",
    "                     iterations=3, \n",
    "                     num_estimators=25, \n",
    "                     num_match_candidates=3)\n",
    "\n",
    "# Feature recombiner; CHECK\n",
    "recombiner = CellDynRecombinator(scaler=StandardScaler)\n",
    "\n",
    "# Standardisation; CHECK\n",
    "#FinalScaler = ColumnTransformer([\n",
    "#    ('std_scaler', StandardScaler(), meas_columns)\n",
    "#], remainder='passthrough')\n"
   ]
  },
  {
   "cell_type": "code",
   "execution_count": 9,
   "id": "ad4e17bf",
   "metadata": {},
   "outputs": [
    {
     "name": "stdout",
     "output_type": "stream",
     "text": [
      "Fitting\n"
     ]
    }
   ],
   "source": [
    "CleanPipe = Pipeline([('qc', qc),\n",
    "                      ('scaling', CellDynTransformer),\n",
    "                      ('imputer', imputer_clf),\n",
    "                      ('recombiner', recombiner), \n",
    "                      ('standardisation', StandardScaler())\n",
    "                     ])\n",
    "\n",
    "\n",
    "test = celldyn.sample(1000)\n",
    "test_transformed = CleanPipe.fit_transform(test[meas_columns])\n",
    "test_transformed_values_df = pd.DataFrame(data=test_transformed, \n",
    "                                   index=test.index,\n",
    "                                   columns=CleanPipe.named_steps['recombiner'].out_columns)\n",
    "\n",
    "remainder_cols = [c for c in test.columns if c not in test_transformed_values_df.columns]\n",
    "final_df = pd.concat([test[remainder_cols], test_transformed_values_df], axis=1)\n",
    "\n",
    "\n",
    "# dump to pkl\n",
    "#joblib.dump(CleanPipe, \"/media/UMCU/data/CellDyn/CleanPipe.joblib.pkl\")\n",
    "\n",
    "# Step 2: \n",
    "# have to write class that processes stored settings, from dictionary.\n",
    "# this class is dependent on the pipeline-classes, hence the classes\n",
    "# should be in the path"
   ]
  },
  {
   "cell_type": "markdown",
   "id": "f8974ca2",
   "metadata": {},
   "source": [
    "# Clean based on flags and limits"
   ]
  },
  {
   "cell_type": "code",
   "execution_count": 94,
   "id": "b895019e",
   "metadata": {},
   "outputs": [
    {
     "name": "stderr",
     "output_type": "stream",
     "text": [
      "/media/koekiemonster/home/bramiozo/DEV/GIT/UPOD/celldyn_embedder/sandbox/celldyn_qc.py:70: SyntaxWarning: assertion is always true, perhaps remove parentheses?\n",
      "  assert(filters, list), \"filters must be a list\"\n",
      "/media/koekiemonster/home/bramiozo/DEV/GIT/UPOD/celldyn_embedder/sandbox/celldyn_qc.py:70: SyntaxWarning: assertion is always true, perhaps remove parentheses?\n",
      "  assert(filters, list), \"filters must be a list\"\n",
      "/media/koekiemonster/home/bramiozo/DEV/GIT/UPOD/celldyn_embedder/sandbox/celldyn_qc.py:70: SyntaxWarning: assertion is always true, perhaps remove parentheses?\n",
      "  assert(filters, list), \"filters must be a list\"\n",
      "/media/koekiemonster/home/bramiozo/DEV/GIT/UPOD/celldyn_embedder/sandbox/celldyn_qc.py:70: SyntaxWarning: assertion is always true, perhaps remove parentheses?\n",
      "  assert(filters, list), \"filters must be a list\"\n",
      "/media/koekiemonster/home/bramiozo/DEV/GIT/UPOD/celldyn_embedder/sandbox/celldyn_qc.py:70: SyntaxWarning: assertion is always true, perhaps remove parentheses?\n",
      "  assert(filters, list), \"filters must be a list\"\n",
      "/media/koekiemonster/home/bramiozo/DEV/GIT/UPOD/celldyn_embedder/sandbox/celldyn_qc.py:70: SyntaxWarning: assertion is always true, perhaps remove parentheses?\n",
      "  assert(filters, list), \"filters must be a list\"\n"
     ]
    },
    {
     "ename": "KeyboardInterrupt",
     "evalue": "",
     "output_type": "error",
     "traceback": [
      "\u001b[0;31m---------------------------------------------------------------------------\u001b[0m",
      "\u001b[0;31mKeyboardInterrupt\u001b[0m                         Traceback (most recent call last)",
      "\u001b[1;32m/media/koekiemonster/home/bramiozo/DEV/GIT/UPOD/celldyn_embedder/sandbox/prepping_of_celldyn_embeddings.ipynb Cell 19\u001b[0m in \u001b[0;36m<cell line: 3>\u001b[0;34m()\u001b[0m\n\u001b[1;32m      <a href='vscode-notebook-cell:/media/koekiemonster/home/bramiozo/DEV/GIT/UPOD/celldyn_embedder/sandbox/prepping_of_celldyn_embeddings.ipynb#X22sZmlsZQ%3D%3D?line=0'>1</a>\u001b[0m qc \u001b[39m=\u001b[39m QcControl(param_file\u001b[39m=\u001b[39m\u001b[39m\"\u001b[39m\u001b[39m../external/CelldynParams.csv\u001b[39m\u001b[39m\"\u001b[39m, \n\u001b[1;32m      <a href='vscode-notebook-cell:/media/koekiemonster/home/bramiozo/DEV/GIT/UPOD/celldyn_embedder/sandbox/prepping_of_celldyn_embeddings.ipynb#X22sZmlsZQ%3D%3D?line=1'>2</a>\u001b[0m                reference_file\u001b[39m=\u001b[39m\u001b[39mNone\u001b[39;00m) \n\u001b[0;32m----> <a href='vscode-notebook-cell:/media/koekiemonster/home/bramiozo/DEV/GIT/UPOD/celldyn_embedder/sandbox/prepping_of_celldyn_embeddings.ipynb#X22sZmlsZQ%3D%3D?line=2'>3</a>\u001b[0m celldyn_cleaned \u001b[39m=\u001b[39m pd\u001b[39m.\u001b[39mDataFrame(data\u001b[39m=\u001b[39mqc\u001b[39m.\u001b[39;49mfit_transform(celldyn), \n\u001b[1;32m      <a href='vscode-notebook-cell:/media/koekiemonster/home/bramiozo/DEV/GIT/UPOD/celldyn_embedder/sandbox/prepping_of_celldyn_embeddings.ipynb#X22sZmlsZQ%3D%3D?line=3'>4</a>\u001b[0m                             columns\u001b[39m=\u001b[39mcelldyn\u001b[39m.\u001b[39mcolumns)\n",
      "File \u001b[0;32m/media/koekiemonster/home/bramiozo/VIRTUALENVS/embedder_3912/lib/python3.8/site-packages/sklearn/base.py:867\u001b[0m, in \u001b[0;36mTransformerMixin.fit_transform\u001b[0;34m(self, X, y, **fit_params)\u001b[0m\n\u001b[1;32m    863\u001b[0m \u001b[39m# non-optimized default implementation; override when a better\u001b[39;00m\n\u001b[1;32m    864\u001b[0m \u001b[39m# method is possible for a given clustering algorithm\u001b[39;00m\n\u001b[1;32m    865\u001b[0m \u001b[39mif\u001b[39;00m y \u001b[39mis\u001b[39;00m \u001b[39mNone\u001b[39;00m:\n\u001b[1;32m    866\u001b[0m     \u001b[39m# fit method of arity 1 (unsupervised transformation)\u001b[39;00m\n\u001b[0;32m--> 867\u001b[0m     \u001b[39mreturn\u001b[39;00m \u001b[39mself\u001b[39;49m\u001b[39m.\u001b[39;49mfit(X, \u001b[39m*\u001b[39;49m\u001b[39m*\u001b[39;49mfit_params)\u001b[39m.\u001b[39mtransform(X)\n\u001b[1;32m    868\u001b[0m \u001b[39melse\u001b[39;00m:\n\u001b[1;32m    869\u001b[0m     \u001b[39m# fit method of arity 2 (supervised transformation)\u001b[39;00m\n\u001b[1;32m    870\u001b[0m     \u001b[39mreturn\u001b[39;00m \u001b[39mself\u001b[39m\u001b[39m.\u001b[39mfit(X, y, \u001b[39m*\u001b[39m\u001b[39m*\u001b[39mfit_params)\u001b[39m.\u001b[39mtransform(X)\n",
      "File \u001b[0;32m/media/koekiemonster/home/bramiozo/DEV/GIT/UPOD/celldyn_embedder/sandbox/celldyn_qc.py:292\u001b[0m, in \u001b[0;36mQcControl.fit\u001b[0;34m(self, X, y)\u001b[0m\n\u001b[1;32m    290\u001b[0m \u001b[39mfor\u001b[39;00m k, v \u001b[39min\u001b[39;00m \u001b[39mself\u001b[39m\u001b[39m.\u001b[39mfilters\u001b[39m.\u001b[39mitems():\n\u001b[1;32m    291\u001b[0m     logger\u001b[39m.\u001b[39mdebug(\u001b[39mf\u001b[39m\u001b[39m\"\u001b[39m\u001b[39mStart filtering: \u001b[39m\u001b[39m{\u001b[39;00mk\u001b[39m}\u001b[39;00m\u001b[39m\"\u001b[39m)\n\u001b[0;32m--> 292\u001b[0m     _X \u001b[39m=\u001b[39m v(_X\u001b[39m.\u001b[39;49mcopy())\n\u001b[1;32m    293\u001b[0m     logger\u001b[39m.\u001b[39mdebug(\u001b[39mf\u001b[39m\u001b[39m\"\u001b[39m\u001b[39mCompleted filtering: \u001b[39m\u001b[39m{\u001b[39;00mk\u001b[39m}\u001b[39;00m\u001b[39m\"\u001b[39m)\n\u001b[1;32m    294\u001b[0m \u001b[39mself\u001b[39m\u001b[39m.\u001b[39mX_transformed \u001b[39m=\u001b[39m _X\n",
      "File \u001b[0;32m/media/koekiemonster/home/bramiozo/DEV/GIT/UPOD/celldyn_embedder/sandbox/celldyn_qc.py:264\u001b[0m, in \u001b[0;36mQcControl.suspect_flag_filter\u001b[0;34m(self, df)\u001b[0m\n\u001b[1;32m    262\u001b[0m         \u001b[39mpass\u001b[39;00m\n\u001b[1;32m    263\u001b[0m     \u001b[39melse\u001b[39;00m:\n\u001b[0;32m--> 264\u001b[0m         df\u001b[39m.\u001b[39mloc[:, meas_val] \u001b[39m=\u001b[39m df[[meas_val, meas_flag]]\\\n\u001b[1;32m    265\u001b[0m                         \u001b[39m.\u001b[39;49mapply(\u001b[39mlambda\u001b[39;49;00m  x:\n\u001b[1;32m    266\u001b[0m                         _flag_val_check(x[\u001b[39m0\u001b[39;49m],x[\u001b[39m1\u001b[39;49m], min_val, max_val),\n\u001b[1;32m    267\u001b[0m                         axis\u001b[39m=\u001b[39;49m\u001b[39m1\u001b[39;49m)\n\u001b[1;32m    269\u001b[0m \u001b[39mexcept\u001b[39;00m \u001b[39mException\u001b[39;00m \u001b[39mas\u001b[39;00m e:\n\u001b[1;32m    270\u001b[0m     \u001b[39mpass\u001b[39;00m\n",
      "File \u001b[0;32m/media/koekiemonster/home/bramiozo/VIRTUALENVS/embedder_3912/lib/python3.8/site-packages/pandas/core/frame.py:8740\u001b[0m, in \u001b[0;36mDataFrame.apply\u001b[0;34m(self, func, axis, raw, result_type, args, **kwargs)\u001b[0m\n\u001b[1;32m   8729\u001b[0m \u001b[39mfrom\u001b[39;00m \u001b[39mpandas\u001b[39;00m\u001b[39m.\u001b[39;00m\u001b[39mcore\u001b[39;00m\u001b[39m.\u001b[39;00m\u001b[39mapply\u001b[39;00m \u001b[39mimport\u001b[39;00m frame_apply\n\u001b[1;32m   8731\u001b[0m op \u001b[39m=\u001b[39m frame_apply(\n\u001b[1;32m   8732\u001b[0m     \u001b[39mself\u001b[39m,\n\u001b[1;32m   8733\u001b[0m     func\u001b[39m=\u001b[39mfunc,\n\u001b[0;32m   (...)\u001b[0m\n\u001b[1;32m   8738\u001b[0m     kwargs\u001b[39m=\u001b[39mkwargs,\n\u001b[1;32m   8739\u001b[0m )\n\u001b[0;32m-> 8740\u001b[0m \u001b[39mreturn\u001b[39;00m op\u001b[39m.\u001b[39;49mapply()\n",
      "File \u001b[0;32m/media/koekiemonster/home/bramiozo/VIRTUALENVS/embedder_3912/lib/python3.8/site-packages/pandas/core/apply.py:688\u001b[0m, in \u001b[0;36mFrameApply.apply\u001b[0;34m(self)\u001b[0m\n\u001b[1;32m    685\u001b[0m \u001b[39melif\u001b[39;00m \u001b[39mself\u001b[39m\u001b[39m.\u001b[39mraw:\n\u001b[1;32m    686\u001b[0m     \u001b[39mreturn\u001b[39;00m \u001b[39mself\u001b[39m\u001b[39m.\u001b[39mapply_raw()\n\u001b[0;32m--> 688\u001b[0m \u001b[39mreturn\u001b[39;00m \u001b[39mself\u001b[39;49m\u001b[39m.\u001b[39;49mapply_standard()\n",
      "File \u001b[0;32m/media/koekiemonster/home/bramiozo/VIRTUALENVS/embedder_3912/lib/python3.8/site-packages/pandas/core/apply.py:812\u001b[0m, in \u001b[0;36mFrameApply.apply_standard\u001b[0;34m(self)\u001b[0m\n\u001b[1;32m    811\u001b[0m \u001b[39mdef\u001b[39;00m \u001b[39mapply_standard\u001b[39m(\u001b[39mself\u001b[39m):\n\u001b[0;32m--> 812\u001b[0m     results, res_index \u001b[39m=\u001b[39m \u001b[39mself\u001b[39;49m\u001b[39m.\u001b[39;49mapply_series_generator()\n\u001b[1;32m    814\u001b[0m     \u001b[39m# wrap results\u001b[39;00m\n\u001b[1;32m    815\u001b[0m     \u001b[39mreturn\u001b[39;00m \u001b[39mself\u001b[39m\u001b[39m.\u001b[39mwrap_results(results, res_index)\n",
      "File \u001b[0;32m/media/koekiemonster/home/bramiozo/VIRTUALENVS/embedder_3912/lib/python3.8/site-packages/pandas/core/apply.py:826\u001b[0m, in \u001b[0;36mFrameApply.apply_series_generator\u001b[0;34m(self)\u001b[0m\n\u001b[1;32m    823\u001b[0m results \u001b[39m=\u001b[39m {}\n\u001b[1;32m    825\u001b[0m \u001b[39mwith\u001b[39;00m option_context(\u001b[39m\"\u001b[39m\u001b[39mmode.chained_assignment\u001b[39m\u001b[39m\"\u001b[39m, \u001b[39mNone\u001b[39;00m):\n\u001b[0;32m--> 826\u001b[0m     \u001b[39mfor\u001b[39;00m i, v \u001b[39min\u001b[39;00m \u001b[39menumerate\u001b[39m(series_gen):\n\u001b[1;32m    827\u001b[0m         \u001b[39m# ignore SettingWithCopy here in case the user mutates\u001b[39;00m\n\u001b[1;32m    828\u001b[0m         results[i] \u001b[39m=\u001b[39m \u001b[39mself\u001b[39m\u001b[39m.\u001b[39mf(v)\n\u001b[1;32m    829\u001b[0m         \u001b[39mif\u001b[39;00m \u001b[39misinstance\u001b[39m(results[i], ABCSeries):\n\u001b[1;32m    830\u001b[0m             \u001b[39m# If we have a view on v, we need to make a copy because\u001b[39;00m\n\u001b[1;32m    831\u001b[0m             \u001b[39m#  series_generator will swap out the underlying data\u001b[39;00m\n",
      "File \u001b[0;32m/media/koekiemonster/home/bramiozo/VIRTUALENVS/embedder_3912/lib/python3.8/site-packages/pandas/core/apply.py:960\u001b[0m, in \u001b[0;36mFrameColumnApply.series_generator\u001b[0;34m(self)\u001b[0m\n\u001b[1;32m    958\u001b[0m ser\u001b[39m.\u001b[39m_mgr \u001b[39m=\u001b[39m mgr\n\u001b[1;32m    959\u001b[0m mgr\u001b[39m.\u001b[39mset_values(arr)\n\u001b[0;32m--> 960\u001b[0m ser\u001b[39m.\u001b[39;49mname \u001b[39m=\u001b[39m name\n\u001b[1;32m    961\u001b[0m \u001b[39myield\u001b[39;00m ser\n",
      "File \u001b[0;32m/media/koekiemonster/home/bramiozo/VIRTUALENVS/embedder_3912/lib/python3.8/site-packages/pandas/core/generic.py:5498\u001b[0m, in \u001b[0;36mNDFrame.__setattr__\u001b[0;34m(self, name, value)\u001b[0m\n\u001b[1;32m   5490\u001b[0m \u001b[39m\"\"\"\u001b[39;00m\n\u001b[1;32m   5491\u001b[0m \u001b[39mAfter regular attribute access, try setting the name\u001b[39;00m\n\u001b[1;32m   5492\u001b[0m \u001b[39mThis allows simpler access to columns for interactive use.\u001b[39;00m\n\u001b[1;32m   5493\u001b[0m \u001b[39m\"\"\"\u001b[39;00m\n\u001b[1;32m   5494\u001b[0m \u001b[39m# first try regular attribute access via __getattribute__, so that\u001b[39;00m\n\u001b[1;32m   5495\u001b[0m \u001b[39m# e.g. ``obj.x`` and ``obj.x = 4`` will always reference/modify\u001b[39;00m\n\u001b[1;32m   5496\u001b[0m \u001b[39m# the same attribute.\u001b[39;00m\n\u001b[0;32m-> 5498\u001b[0m \u001b[39mtry\u001b[39;00m:\n\u001b[1;32m   5499\u001b[0m     \u001b[39mobject\u001b[39m\u001b[39m.\u001b[39m\u001b[39m__getattribute__\u001b[39m(\u001b[39mself\u001b[39m, name)\n\u001b[1;32m   5500\u001b[0m     \u001b[39mreturn\u001b[39;00m \u001b[39mobject\u001b[39m\u001b[39m.\u001b[39m\u001b[39m__setattr__\u001b[39m(\u001b[39mself\u001b[39m, name, value)\n",
      "\u001b[0;31mKeyboardInterrupt\u001b[0m: "
     ]
    }
   ],
   "source": [
    "qc = QcControl(param_file=\"../external/CelldynParams.csv\", \n",
    "               reference_file=None) \n",
    "celldyn_cleaned = pd.DataFrame(data=qc.fit_transform(celldyn), \n",
    "                            columns=celldyn.columns)"
   ]
  },
  {
   "cell_type": "markdown",
   "id": "f6e3a499",
   "metadata": {},
   "source": [
    "# Scale celldyn measurements"
   ]
  },
  {
   "cell_type": "code",
   "execution_count": 37,
   "id": "fced905f",
   "metadata": {},
   "outputs": [],
   "source": [
    "CellDynTransformer = CellDynTrans(log_scale=['c_b_seg', 'c_b_neu', 'c_b_wbc'],\n",
    "                                    ord_scale=['c_b_bnd', 'c_b_ig', 'c_b_vlym', 'c_b_blst',\n",
    "                                            'c_b_nrbc', 'c_b_vlym', 'c_b_pblst'],\n",
    "                                    remove_original_columns=True)\n",
    "celldyn_cleaned_transformed = CellDynTransformer.fit_transform(celldyn)"
   ]
  },
  {
   "cell_type": "code",
   "execution_count": 11,
   "id": "b2bafcfe",
   "metadata": {},
   "outputs": [
    {
     "name": "stderr",
     "output_type": "stream",
     "text": [
      "UserWarning: `DataFrame.to_feather` defaulting to pandas implementation.\n",
      "UserWarning: Distributing <class 'pandas.core.frame.DataFrame'> object. This may take some time.\n"
     ]
    }
   ],
   "source": [
    "celldyn_cleaned_transformed.reset_index().to_feather(\"T:\\laupodteam\\AIOS\\Bram\\data\\CellDyn\\celldyn_cleaned_transformed.feather\")\n",
    "celldyn_cleaned_transformed = celldyn_cleaned_transformed._to_pandas()"
   ]
  },
  {
   "cell_type": "markdown",
   "id": "6a5e5196",
   "metadata": {},
   "source": [
    "# Get full data frame"
   ]
  },
  {
   "cell_type": "code",
   "execution_count": 12,
   "id": "4ef12ce1",
   "metadata": {},
   "outputs": [],
   "source": [
    "celldyn_cleaned_full_transformed = celldyn_cleaned_transformed.dropna(subset=meas_columns, axis=0)\n",
    "celldyn_cleaned_full_transformed.reset_index().to_feather(\"T:\\laupodteam\\AIOS\\Bram\\data\\CellDyn\\celldyn_fullcase_cleaned_transformed.feather\")"
   ]
  },
  {
   "cell_type": "code",
   "execution_count": 13,
   "id": "24b341b1",
   "metadata": {},
   "outputs": [
    {
     "data": {
      "text/plain": [
       "0"
      ]
     },
     "execution_count": 13,
     "metadata": {},
     "output_type": "execute_result"
    }
   ],
   "source": [
    "del celldyn\n",
    "del celldyn_cleaned\n",
    "del celldyn_cleaned_full_transformed\n",
    "gc.collect()"
   ]
  },
  {
   "cell_type": "markdown",
   "id": "2125eee4",
   "metadata": {},
   "source": [
    "# Impute\n",
    "\n",
    "* [FCS, Fancy impute](https://pypi.org/project/fancyimpute/)\n",
    "* [FCS, Auto impute](https://pypi.org/project/autoimpute/)\n",
    "* [FCS, Skearn](https://scikit-learn.org/stable/modules/impute.html)\n",
    "* [FCS, Statsmodels](https://www.statsmodels.org/dev/generated/statsmodels.imputation.mice.MICE.html)\n",
    "* [FCS, Miceforest](https://miceforest.readthedocs.io/en/latest/)\n",
    "\n",
    "*  normalisatie --> KNN impute (hoeveel neighbors, wat voor distance..)\n",
    "* https://arxiv.org/pdf/0805.4471.pdf: in fancyimpute; NuclearNormMinimization\n",
    "* Iterative imputer met PMM : normalisation -> sklearn voor iterative imputer, autoimpute.imputations.series.pmm"
   ]
  },
  {
   "cell_type": "code",
   "execution_count": 15,
   "id": "5334862b",
   "metadata": {},
   "outputs": [],
   "source": [
    "# missing at random are the variables that are missing because we did not run in Reti modus\n",
    "not_reti_mode_cols = [c for c in meas_columns if c not in reti_mode_cols]\n",
    "\n",
    "idx_nreti = celldyn_cleaned_transformed[celldyn_cleaned_transformed.c_mode_rtc==0].index\n",
    "idx_reti = celldyn_cleaned_transformed[celldyn_cleaned_transformed.c_mode_rtc==1].index\n",
    "\n",
    "keep_fullcase = idx_nreti[celldyn_cleaned_transformed\\\n",
    "                            .loc[idx_nreti,\n",
    "                                 not_reti_mode_cols]\\\n",
    "                            .isna().sum(axis=1)==0]\n",
    "keep_reti_only_nans = idx_reti[celldyn_cleaned_transformed\\\n",
    "                            .loc[idx_reti,\n",
    "                                 meas_columns]\\\n",
    "                            .isna().sum(axis=1)==0]\n",
    "celldyn_fullcase_for_impute = celldyn_cleaned_transformed\\\n",
    "                    .loc[list(set(keep_fullcase)\\\n",
    "                    .union(keep_reti_only_nans))]"
   ]
  },
  {
   "cell_type": "code",
   "execution_count": 16,
   "id": "bcd0f41a",
   "metadata": {},
   "outputs": [
    {
     "name": "stdout",
     "output_type": "stream",
     "text": [
      "Initialized logger with name mice 1-5\n",
      "Dataset 0\n",
      "1  | c_b_pretc | c_b_pmic | c_b_pmac | c_b_rtcfcv | c_b_rtcfmn | c_b_rbcfcv | c_b_rbcfmn | c_b_rbcicv | c_b_rbcimn | c_b_mchr | c_b_mcvr | c_b_hdw | c_b_prp | c_b_phpr | c_b_phpo | c_b_irf | c_b_retc | c_b_mchcr\n",
      "2  | c_b_pretc | c_b_pmic | c_b_pmac | c_b_rtcfcv | c_b_rtcfmn | c_b_rbcfcv | c_b_rbcfmn | c_b_rbcicv | c_b_rbcimn | c_b_mchr | c_b_mcvr | c_b_hdw | c_b_prp | c_b_phpr | c_b_phpo | c_b_irf | c_b_retc | c_b_mchcr\n",
      "3  | c_b_pretc | c_b_pmic | c_b_pmac | c_b_rtcfcv | c_b_rtcfmn | c_b_rbcfcv | c_b_rbcfmn | c_b_rbcicv | c_b_rbcimn | c_b_mchr | c_b_mcvr | c_b_hdw | c_b_prp | c_b_phpr | c_b_phpo | c_b_irf | c_b_retc | c_b_mchcr\n",
      "4  | c_b_pretc | c_b_pmic | c_b_pmac | c_b_rtcfcv | c_b_rtcfmn | c_b_rbcfcv | c_b_rbcfmn | c_b_rbcicv | c_b_rbcimn | c_b_mchr | c_b_mcvr | c_b_hdw | c_b_prp | c_b_phpr | c_b_phpo | c_b_irf | c_b_retc | c_b_mchcr\n",
      "5  | c_b_pretc | c_b_pmic | c_b_pmac | c_b_rtcfcv | c_b_rtcfmn | c_b_rbcfcv | c_b_rbcfmn | c_b_rbcicv | c_b_rbcimn | c_b_mchr | c_b_mcvr | c_b_hdw | c_b_prp | c_b_phpr | c_b_phpo | c_b_irf | c_b_retc | c_b_mchcr\n"
     ]
    },
    {
     "data": {
      "text/plain": [
       "0"
      ]
     },
     "execution_count": 16,
     "metadata": {},
     "output_type": "execute_result"
    }
   ],
   "source": [
    "from miceforest import ImputationKernel\n",
    "from miceforest import mean_match_default\n",
    "\n",
    "mean_match_default.set_mean_match_candidates(5)\n",
    "impute_clf = ImputationKernel(\n",
    "    celldyn_fullcase_for_impute[meas_columns],\n",
    "    save_all_iterations=False,\n",
    "    random_state=1283,\n",
    "    mean_match_scheme=mean_match_default\n",
    "    )\n",
    "impute_clf.mice(iterations=5, verbose=True, n_estimators=100)\n",
    "celldyn_fullcase_for_impute.loc[:, meas_columns] = impute_clf.complete_data()\n",
    "gc.collect()\n"
   ]
  },
  {
   "cell_type": "code",
   "execution_count": 17,
   "id": "42db5859",
   "metadata": {},
   "outputs": [
    {
     "name": "stdout",
     "output_type": "stream",
     "text": [
      "Initialized logger with name mice 1-5\n",
      "Dataset 0\n",
      "1  | plt | c_b_pmone | c_b_plyme | c_b_hgb_usa | c_b_mch_usa | c_b_mone | c_b_lyme | c_b_mchc_usa | c_b_pct | c_b_wvf | c_b_pdw | c_b_mch | c_b_mchc | c_b_hb | c_b_rdw | c_b_rbco | c_b_mcv | c_b_rbci | c_b_ht | c_b_plti | c_b_nrbc | c_b_pnrbc | c_b_pbas | c_b_bas | c_b_pblst | c_b_blst | c_b_wbc | c_b_pvlym | c_b_plym | c_b_lym | c_b_vlym | c_b_mon | c_b_plto | c_b_pmon | c_b_pneu | c_b_pseg | c_b_pbnd | c_b_pig | c_b_bnd | c_b_ig | c_b_seg | c_b_neu | c_b_peos | c_b_eos | c_b_mpv | c_b_ppmn | c_b_pimn | c_b_picv | c_b_ppcv | c_b_licv | c_b_limn | c_b_lacv | c_b_lamn | c_b_ndcv | c_b_ndmn | c_b_namn | c_b_nacv | c_b_nimn | c_b_nicv | c_b_nfmn | c_b_nfcv | c_b_npmn | c_b_npcv | c_b_irf | c_b_pretc | c_b_retc | c_b_rtcfcv | c_b_rtcfmn | c_b_rbcicv | c_b_rbcfcv | c_b_rbcimn | c_b_rbcfmn | c_b_pmic | c_b_pmac | c_b_prp | c_b_hdw | c_b_mcvr | c_b_mchr | c_b_mchcr | c_b_phpr | c_b_phpo\n",
      "2  | plt | c_b_pmone | c_b_plyme | c_b_hgb_usa | c_b_mch_usa | c_b_mone | c_b_lyme | c_b_mchc_usa | c_b_pct | c_b_wvf | c_b_pdw | c_b_mch | c_b_mchc | c_b_hb | c_b_rdw | c_b_rbco | c_b_mcv | c_b_rbci | c_b_ht | c_b_plti | c_b_nrbc | c_b_pnrbc | c_b_pbas | c_b_bas | c_b_pblst | c_b_blst | c_b_wbc | c_b_pvlym | c_b_plym | c_b_lym | c_b_vlym | c_b_mon | c_b_plto | c_b_pmon | c_b_pneu | c_b_pseg | c_b_pbnd | c_b_pig | c_b_bnd | c_b_ig | c_b_seg | c_b_neu | c_b_peos | c_b_eos | c_b_mpv | c_b_ppmn | c_b_pimn | c_b_picv | c_b_ppcv | c_b_licv | c_b_limn | c_b_lacv | c_b_lamn | c_b_ndcv | c_b_ndmn | c_b_namn | c_b_nacv | c_b_nimn | c_b_nicv | c_b_nfmn | c_b_nfcv | c_b_npmn | c_b_npcv | c_b_irf | c_b_pretc | c_b_retc | c_b_rtcfcv | c_b_rtcfmn | c_b_rbcicv | c_b_rbcfcv | c_b_rbcimn | c_b_rbcfmn | c_b_pmic | c_b_pmac | c_b_prp | c_b_hdw | c_b_mcvr | c_b_mchr | c_b_mchcr | c_b_phpr | c_b_phpo\n",
      "3  | plt | c_b_pmone | c_b_plyme | c_b_hgb_usa | c_b_mch_usa | c_b_mone | c_b_lyme | c_b_mchc_usa | c_b_pct | c_b_wvf | c_b_pdw | c_b_mch | c_b_mchc | c_b_hb | c_b_rdw | c_b_rbco | c_b_mcv | c_b_rbci | c_b_ht | c_b_plti | c_b_nrbc | c_b_pnrbc | c_b_pbas | c_b_bas | c_b_pblst | c_b_blst | c_b_wbc | c_b_pvlym | c_b_plym | c_b_lym | c_b_vlym | c_b_mon | c_b_plto | c_b_pmon | c_b_pneu | c_b_pseg | c_b_pbnd | c_b_pig | c_b_bnd | c_b_ig | c_b_seg | c_b_neu | c_b_peos | c_b_eos | c_b_mpv | c_b_ppmn | c_b_pimn | c_b_picv | c_b_ppcv | c_b_licv | c_b_limn | c_b_lacv | c_b_lamn | c_b_ndcv | c_b_ndmn | c_b_namn | c_b_nacv | c_b_nimn | c_b_nicv | c_b_nfmn | c_b_nfcv | c_b_npmn | c_b_npcv | c_b_irf | c_b_pretc | c_b_retc | c_b_rtcfcv | c_b_rtcfmn | c_b_rbcicv | c_b_rbcfcv | c_b_rbcimn | c_b_rbcfmn | c_b_pmic | c_b_pmac | c_b_prp | c_b_hdw | c_b_mcvr | c_b_mchr | c_b_mchcr | c_b_phpr | c_b_phpo\n",
      "4  | plt | c_b_pmone | c_b_plyme | c_b_hgb_usa | c_b_mch_usa | c_b_mone | c_b_lyme | c_b_mchc_usa | c_b_pct | c_b_wvf | c_b_pdw | c_b_mch | c_b_mchc | c_b_hb | c_b_rdw | c_b_rbco | c_b_mcv | c_b_rbci | c_b_ht | c_b_plti | c_b_nrbc | c_b_pnrbc | c_b_pbas | c_b_bas | c_b_pblst | c_b_blst | c_b_wbc | c_b_pvlym | c_b_plym | c_b_lym | c_b_vlym | c_b_mon | c_b_plto | c_b_pmon | c_b_pneu | c_b_pseg | c_b_pbnd | c_b_pig | c_b_bnd | c_b_ig | c_b_seg | c_b_neu | c_b_peos | c_b_eos | c_b_mpv | c_b_ppmn | c_b_pimn | c_b_picv | c_b_ppcv | c_b_licv | c_b_limn | c_b_lacv | c_b_lamn | c_b_ndcv | c_b_ndmn | c_b_namn | c_b_nacv | c_b_nimn | c_b_nicv | c_b_nfmn | c_b_nfcv | c_b_npmn | c_b_npcv | c_b_irf | c_b_pretc | c_b_retc | c_b_rtcfcv | c_b_rtcfmn | c_b_rbcicv | c_b_rbcfcv | c_b_rbcimn | c_b_rbcfmn | c_b_pmic | c_b_pmac | c_b_prp | c_b_hdw | c_b_mcvr | c_b_mchr | c_b_mchcr | c_b_phpr | c_b_phpo\n",
      "5  | plt | c_b_pmone | c_b_plyme | c_b_hgb_usa | c_b_mch_usa | c_b_mone | c_b_lyme | c_b_mchc_usa | c_b_pct | c_b_wvf | c_b_pdw | c_b_mch | c_b_mchc | c_b_hb | c_b_rdw | c_b_rbco | c_b_mcv | c_b_rbci | c_b_ht | c_b_plti | c_b_nrbc | c_b_pnrbc | c_b_pbas | c_b_bas | c_b_pblst | c_b_blst | c_b_wbc | c_b_pvlym | c_b_plym | c_b_lym | c_b_vlym | c_b_mon | c_b_plto | c_b_pmon | c_b_pneu | c_b_pseg | c_b_pbnd | c_b_pig | c_b_bnd | c_b_ig | c_b_seg | c_b_neu | c_b_peos | c_b_eos | c_b_mpv | c_b_ppmn | c_b_pimn | c_b_picv | c_b_ppcv | c_b_licv | c_b_limn | c_b_lacv | c_b_lamn | c_b_ndcv | c_b_ndmn | c_b_namn | c_b_nacv | c_b_nimn | c_b_nicv | c_b_nfmn | c_b_nfcv | c_b_npmn | c_b_npcv | c_b_irf | c_b_pretc | c_b_retc | c_b_rtcfcv | c_b_rtcfmn | c_b_rbcicv | c_b_rbcfcv | c_b_rbcimn | c_b_rbcfmn | c_b_pmic | c_b_pmac | c_b_prp | c_b_hdw | c_b_mcvr | c_b_mchr | c_b_mchcr | c_b_phpr | c_b_phpo\n"
     ]
    },
    {
     "data": {
      "text/plain": [
       "0"
      ]
     },
     "execution_count": 17,
     "metadata": {},
     "output_type": "execute_result"
    }
   ],
   "source": [
    "from miceforest import ImputationKernel\n",
    "from miceforest import mean_match_default\n",
    "\n",
    "mean_match_default.set_mean_match_candidates(5)\n",
    "impute_clf = ImputationKernel(\n",
    "    celldyn_cleaned_transformed[meas_columns],\n",
    "    save_all_iterations=False,\n",
    "    random_state=1283,\n",
    "    mean_match_scheme=mean_match_default\n",
    "    )\n",
    "impute_clf.mice(iterations=5, verbose=True, n_estimators=100)\n",
    "celldyn_cleaned_transformed.loc[:, meas_columns] = impute_clf.complete_data()\n",
    "gc.collect()\n",
    "\n",
    "# impute_clft can be put in pipe :))\n",
    "# [clean, scale, impute_clf]"
   ]
  },
  {
   "cell_type": "code",
   "execution_count": 122,
   "id": "39cea4d8",
   "metadata": {},
   "outputs": [
    {
     "name": "stdout",
     "output_type": "stream",
     "text": [
      "We added 54 extra features\n"
     ]
    }
   ],
   "source": [
    "### ADD combinations after filtering and scaling\n",
    "# CD4/CD8 ratio\n",
    "# T-helper: CD4+\n",
    "# Cytotoxic: CD8+\n",
    "# T-inhibitor: CD4+, CD25+, FOXP3\n",
    "# T-memory\n",
    "\n",
    "combo_features = [(['mon','mone'],['lym', 'lyme', 'vlym']), \n",
    "                  (['bas', 'eos', 'neu'], ['seg', 'bnd', 'mon', 'vlym',\n",
    "                                            'lym', 'lyme', 'nrbc']),\n",
    "                (['pmon', 'pmone'], ['pvlym','plym','plyme']),\n",
    "                (['pneu', 'pbas', 'peos'], ['pseg', 'pbnd', 'pmon', \n",
    "                                            'pvlym', 'plyme','plym',\n",
    "                                            'pnrbc'])]\n",
    "extra_features = 0\n",
    "derived_columns = []\n",
    "eps = 1\n",
    "for t in combo_features:\n",
    "    for left in t[0]:\n",
    "        for right in t[1]:\n",
    "            # add column with the ratios of the columns in the two lists\n",
    "    \t    \n",
    "            if (right=='c_b_seg') & (left=='c_b_neu'):\n",
    "                epsl=eps\n",
    "            else:\n",
    "                epsl=eps\n",
    "\n",
    "            celldyn_cleaned_transformed[left+':'+right] = (np.log10(celldyn_cleaned_transformed['c_b_'+left]+epsl)+1)/(np.log10(celldyn_cleaned_transformed['c_b_'+right]+eps)+1)\n",
    "            derived_columns.append(left+':'+right)\n",
    "            extra_features += 1\n",
    "print(f\"We added {extra_features} extra features\")\n",
    "meas_columns = meas_columns+derived_columns\n",
    "meas_names = [\"_\".join(c.split(\"_\")[2:]) for c in meas_columns]"
   ]
  },
  {
   "cell_type": "code",
   "execution_count": null,
   "id": "0d5fbf7c",
   "metadata": {},
   "outputs": [],
   "source": [
    "extra_features = 0\n",
    "derived_columns = []\n",
    "eps = 1\n",
    "for t in combo_features:\n",
    "    for left in t[0]:\n",
    "        for right in t[1]:\n",
    "            # add column with the ratios of the columns in the two lists\n",
    "    \t    \n",
    "            if (right=='c_b_seg') & (left=='c_b_neu'):\n",
    "                epsl=eps\n",
    "            else:\n",
    "                epsl=eps\n",
    "\n",
    "            celldyn_fullcase_for_impute[left+':'+right] = (np.log10(celldyn_fullcase_for_impute['c_b_'+left]+epsl)+1)/(np.log10(celldyn_fullcase_for_impute['c_b_'+right]+eps)+1)\n",
    "            derived_columns.append(left+':'+right)\n",
    "            extra_features += 1\n",
    "print(f\"We added {extra_features} extra features\")\n",
    "meas_columns = meas_columns+derived_columns\n",
    "meas_names = [\"_\".join(c.split(\"_\")[2:]) for c in meas_columns]"
   ]
  },
  {
   "cell_type": "code",
   "execution_count": 123,
   "id": "c3bfcb30",
   "metadata": {},
   "outputs": [],
   "source": [
    "remove_cols = ['pneu:pseg', 'pbas:pseg', 'peos:pseg', 'neu:seg']\n",
    "celldyn_cleaned_transformed.drop(remove_cols, axis=1, inplace=True)\n",
    "celldyn_fullcase_for_impute.drop(remove_cols, axis=1, inplace=True)"
   ]
  },
  {
   "cell_type": "code",
   "execution_count": 2,
   "id": "1c35e262",
   "metadata": {},
   "outputs": [],
   "source": [
    "celldyn_fullcase_for_impute = pd.read_feather(\"T:\\laupodteam\\AIOS\\Bram\\data\\CellDyn\\celldyn_cleaned_transformed_imputed_MCAR.feather\")\n",
    "celldyn_cleaned_transformed = pd.read_feather(\"T:\\laupodteam\\AIOS\\Bram\\data\\CellDyn\\celldyn_cleaned_transformed_imputed_ALL.feather\")"
   ]
  },
  {
   "cell_type": "code",
   "execution_count": 4,
   "id": "caae51df",
   "metadata": {},
   "outputs": [
    {
     "name": "stdout",
     "output_type": "stream",
     "text": [
      "Fitting\n"
     ]
    },
    {
     "name": "stderr",
     "output_type": "stream",
     "text": [
      "UserWarning: `Series.__array_wrap__` defaulting to pandas implementation.\n",
      "Please refer to https://modin.readthedocs.io/en/stable/supported_apis/defaulting_to_pandas.html for explanation.\n",
      "UserWarning: Distributing <class 'pandas.core.series.Series'> object. This may take some time.\n",
      "UserWarning: `Series.__array_wrap__` defaulting to pandas implementation.\n",
      "UserWarning: Distributing <class 'pandas.core.series.Series'> object. This may take some time.\n",
      "UserWarning: `Series.__array_wrap__` defaulting to pandas implementation.\n",
      "UserWarning: Distributing <class 'pandas.core.series.Series'> object. This may take some time.\n",
      "UserWarning: `Series.__array_wrap__` defaulting to pandas implementation.\n",
      "UserWarning: Distributing <class 'pandas.core.series.Series'> object. This may take some time.\n",
      "UserWarning: `Series.__array_wrap__` defaulting to pandas implementation.\n",
      "UserWarning: Distributing <class 'pandas.core.series.Series'> object. This may take some time.\n",
      "UserWarning: `Series.__array_wrap__` defaulting to pandas implementation.\n",
      "UserWarning: Distributing <class 'pandas.core.series.Series'> object. This may take some time.\n",
      "UserWarning: `Series.__array_wrap__` defaulting to pandas implementation.\n",
      "UserWarning: Distributing <class 'pandas.core.series.Series'> object. This may take some time.\n",
      "UserWarning: `Series.__array_wrap__` defaulting to pandas implementation.\n",
      "UserWarning: Distributing <class 'pandas.core.series.Series'> object. This may take some time.\n",
      "UserWarning: `Series.__array_wrap__` defaulting to pandas implementation.\n",
      "UserWarning: Distributing <class 'pandas.core.series.Series'> object. This may take some time.\n",
      "UserWarning: `Series.__array_wrap__` defaulting to pandas implementation.\n",
      "UserWarning: Distributing <class 'pandas.core.series.Series'> object. This may take some time.\n",
      "UserWarning: `Series.__array_wrap__` defaulting to pandas implementation.\n",
      "UserWarning: Distributing <class 'pandas.core.series.Series'> object. This may take some time.\n",
      "UserWarning: `Series.__array_wrap__` defaulting to pandas implementation.\n",
      "UserWarning: Distributing <class 'pandas.core.series.Series'> object. This may take some time.\n",
      "UserWarning: `Series.__array_wrap__` defaulting to pandas implementation.\n",
      "UserWarning: Distributing <class 'pandas.core.series.Series'> object. This may take some time.\n",
      "UserWarning: `Series.__array_wrap__` defaulting to pandas implementation.\n",
      "UserWarning: Distributing <class 'pandas.core.series.Series'> object. This may take some time.\n",
      "UserWarning: `Series.__array_wrap__` defaulting to pandas implementation.\n",
      "UserWarning: Distributing <class 'pandas.core.series.Series'> object. This may take some time.\n",
      "UserWarning: `Series.__array_wrap__` defaulting to pandas implementation.\n",
      "UserWarning: Distributing <class 'pandas.core.series.Series'> object. This may take some time.\n",
      "UserWarning: `Series.__array_wrap__` defaulting to pandas implementation.\n",
      "UserWarning: Distributing <class 'pandas.core.series.Series'> object. This may take some time.\n",
      "UserWarning: `Series.__array_wrap__` defaulting to pandas implementation.\n",
      "UserWarning: Distributing <class 'pandas.core.series.Series'> object. This may take some time.\n",
      "UserWarning: `Series.__array_wrap__` defaulting to pandas implementation.\n",
      "UserWarning: Distributing <class 'pandas.core.series.Series'> object. This may take some time.\n",
      "UserWarning: `Series.__array_wrap__` defaulting to pandas implementation.\n",
      "UserWarning: Distributing <class 'pandas.core.series.Series'> object. This may take some time.\n",
      "UserWarning: `Series.__array_wrap__` defaulting to pandas implementation.\n",
      "UserWarning: Distributing <class 'pandas.core.series.Series'> object. This may take some time.\n",
      "UserWarning: `Series.__array_wrap__` defaulting to pandas implementation.\n",
      "UserWarning: Distributing <class 'pandas.core.series.Series'> object. This may take some time.\n",
      "UserWarning: `Series.__array_wrap__` defaulting to pandas implementation.\n",
      "UserWarning: Distributing <class 'pandas.core.series.Series'> object. This may take some time.\n",
      "UserWarning: `Series.__array_wrap__` defaulting to pandas implementation.\n",
      "UserWarning: Distributing <class 'pandas.core.series.Series'> object. This may take some time.\n",
      "UserWarning: `Series.__array_wrap__` defaulting to pandas implementation.\n",
      "UserWarning: Distributing <class 'pandas.core.series.Series'> object. This may take some time.\n",
      "UserWarning: `Series.__array_wrap__` defaulting to pandas implementation.\n",
      "UserWarning: Distributing <class 'pandas.core.series.Series'> object. This may take some time.\n",
      "UserWarning: `Series.__array_wrap__` defaulting to pandas implementation.\n",
      "UserWarning: Distributing <class 'pandas.core.series.Series'> object. This may take some time.\n",
      "UserWarning: `Series.__array_wrap__` defaulting to pandas implementation.\n",
      "UserWarning: Distributing <class 'pandas.core.series.Series'> object. This may take some time.\n",
      "UserWarning: `Series.__array_wrap__` defaulting to pandas implementation.\n",
      "UserWarning: Distributing <class 'pandas.core.series.Series'> object. This may take some time.\n",
      "UserWarning: `Series.__array_wrap__` defaulting to pandas implementation.\n",
      "UserWarning: Distributing <class 'pandas.core.series.Series'> object. This may take some time.\n",
      "UserWarning: `Series.__array_wrap__` defaulting to pandas implementation.\n",
      "UserWarning: Distributing <class 'pandas.core.series.Series'> object. This may take some time.\n",
      "UserWarning: `Series.__array_wrap__` defaulting to pandas implementation.\n",
      "UserWarning: Distributing <class 'pandas.core.series.Series'> object. This may take some time.\n",
      "UserWarning: `Series.__array_wrap__` defaulting to pandas implementation.\n",
      "UserWarning: Distributing <class 'pandas.core.series.Series'> object. This may take some time.\n",
      "UserWarning: `Series.__array_wrap__` defaulting to pandas implementation.\n",
      "UserWarning: Distributing <class 'pandas.core.series.Series'> object. This may take some time.\n",
      "UserWarning: `Series.__array_wrap__` defaulting to pandas implementation.\n",
      "UserWarning: Distributing <class 'pandas.core.series.Series'> object. This may take some time.\n",
      "UserWarning: `Series.__array_wrap__` defaulting to pandas implementation.\n",
      "UserWarning: Distributing <class 'pandas.core.series.Series'> object. This may take some time.\n",
      "UserWarning: `Series.__array_wrap__` defaulting to pandas implementation.\n",
      "UserWarning: Distributing <class 'pandas.core.series.Series'> object. This may take some time.\n",
      "UserWarning: `Series.__array_wrap__` defaulting to pandas implementation.\n",
      "UserWarning: Distributing <class 'pandas.core.series.Series'> object. This may take some time.\n",
      "UserWarning: `Series.__array_wrap__` defaulting to pandas implementation.\n",
      "UserWarning: Distributing <class 'pandas.core.series.Series'> object. This may take some time.\n",
      "UserWarning: `Series.__array_wrap__` defaulting to pandas implementation.\n",
      "UserWarning: Distributing <class 'pandas.core.series.Series'> object. This may take some time.\n",
      "UserWarning: `Series.__array_wrap__` defaulting to pandas implementation.\n",
      "UserWarning: Distributing <class 'pandas.core.series.Series'> object. This may take some time.\n",
      "UserWarning: `Series.__array_wrap__` defaulting to pandas implementation.\n",
      "UserWarning: Distributing <class 'pandas.core.series.Series'> object. This may take some time.\n",
      "UserWarning: `Series.__array_wrap__` defaulting to pandas implementation.\n",
      "UserWarning: Distributing <class 'pandas.core.series.Series'> object. This may take some time.\n",
      "UserWarning: `Series.__array_wrap__` defaulting to pandas implementation.\n",
      "UserWarning: Distributing <class 'pandas.core.series.Series'> object. This may take some time.\n",
      "UserWarning: `Series.__array_wrap__` defaulting to pandas implementation.\n",
      "UserWarning: Distributing <class 'pandas.core.series.Series'> object. This may take some time.\n",
      "UserWarning: `Series.__array_wrap__` defaulting to pandas implementation.\n",
      "UserWarning: Distributing <class 'pandas.core.series.Series'> object. This may take some time.\n",
      "UserWarning: `Series.__array_wrap__` defaulting to pandas implementation.\n",
      "UserWarning: Distributing <class 'pandas.core.series.Series'> object. This may take some time.\n",
      "UserWarning: `Series.__array_wrap__` defaulting to pandas implementation.\n",
      "UserWarning: Distributing <class 'pandas.core.series.Series'> object. This may take some time.\n",
      "UserWarning: `Series.__array_wrap__` defaulting to pandas implementation.\n",
      "UserWarning: Distributing <class 'pandas.core.series.Series'> object. This may take some time.\n",
      "UserWarning: `Series.__array_wrap__` defaulting to pandas implementation.\n",
      "UserWarning: Distributing <class 'pandas.core.series.Series'> object. This may take some time.\n",
      "UserWarning: `Series.__array_wrap__` defaulting to pandas implementation.\n",
      "UserWarning: Distributing <class 'pandas.core.series.Series'> object. This may take some time.\n",
      "UserWarning: `Series.__array_wrap__` defaulting to pandas implementation.\n",
      "UserWarning: Distributing <class 'pandas.core.series.Series'> object. This may take some time.\n",
      "UserWarning: `Series.__array_wrap__` defaulting to pandas implementation.\n",
      "UserWarning: Distributing <class 'pandas.core.series.Series'> object. This may take some time.\n",
      "UserWarning: `Series.__array_wrap__` defaulting to pandas implementation.\n",
      "UserWarning: Distributing <class 'pandas.core.series.Series'> object. This may take some time.\n",
      "UserWarning: `Series.__array_wrap__` defaulting to pandas implementation.\n",
      "UserWarning: Distributing <class 'pandas.core.series.Series'> object. This may take some time.\n",
      "UserWarning: `Series.__array_wrap__` defaulting to pandas implementation.\n",
      "UserWarning: Distributing <class 'pandas.core.series.Series'> object. This may take some time.\n",
      "UserWarning: `Series.__array_wrap__` defaulting to pandas implementation.\n",
      "UserWarning: Distributing <class 'pandas.core.series.Series'> object. This may take some time.\n",
      "UserWarning: `Series.__array_wrap__` defaulting to pandas implementation.\n",
      "UserWarning: Distributing <class 'pandas.core.series.Series'> object. This may take some time.\n",
      "UserWarning: `Series.__array_wrap__` defaulting to pandas implementation.\n",
      "UserWarning: Distributing <class 'pandas.core.series.Series'> object. This may take some time.\n",
      "UserWarning: `Series.__array_wrap__` defaulting to pandas implementation.\n",
      "UserWarning: Distributing <class 'pandas.core.series.Series'> object. This may take some time.\n",
      "UserWarning: `Series.__array_wrap__` defaulting to pandas implementation.\n",
      "UserWarning: Distributing <class 'pandas.core.series.Series'> object. This may take some time.\n",
      "UserWarning: `Series.__array_wrap__` defaulting to pandas implementation.\n",
      "UserWarning: Distributing <class 'pandas.core.series.Series'> object. This may take some time.\n",
      "UserWarning: `Series.__array_wrap__` defaulting to pandas implementation.\n",
      "UserWarning: Distributing <class 'pandas.core.series.Series'> object. This may take some time.\n",
      "UserWarning: `Series.__array_wrap__` defaulting to pandas implementation.\n",
      "UserWarning: Distributing <class 'pandas.core.series.Series'> object. This may take some time.\n",
      "UserWarning: `Series.__array_wrap__` defaulting to pandas implementation.\n",
      "UserWarning: Distributing <class 'pandas.core.series.Series'> object. This may take some time.\n",
      "UserWarning: `Series.__array_wrap__` defaulting to pandas implementation.\n",
      "UserWarning: Distributing <class 'pandas.core.series.Series'> object. This may take some time.\n",
      "UserWarning: `Series.__array_wrap__` defaulting to pandas implementation.\n",
      "UserWarning: Distributing <class 'pandas.core.series.Series'> object. This may take some time.\n",
      "UserWarning: `Series.__array_wrap__` defaulting to pandas implementation.\n",
      "UserWarning: Distributing <class 'pandas.core.series.Series'> object. This may take some time.\n",
      "UserWarning: `Series.__array_wrap__` defaulting to pandas implementation.\n",
      "UserWarning: Distributing <class 'pandas.core.series.Series'> object. This may take some time.\n",
      "UserWarning: `Series.__array_wrap__` defaulting to pandas implementation.\n",
      "UserWarning: Distributing <class 'pandas.core.series.Series'> object. This may take some time.\n",
      "UserWarning: `Series.__array_wrap__` defaulting to pandas implementation.\n",
      "UserWarning: Distributing <class 'pandas.core.series.Series'> object. This may take some time.\n",
      "UserWarning: `Series.__array_wrap__` defaulting to pandas implementation.\n",
      "UserWarning: Distributing <class 'pandas.core.series.Series'> object. This may take some time.\n",
      "UserWarning: `Series.__array_wrap__` defaulting to pandas implementation.\n",
      "UserWarning: Distributing <class 'pandas.core.series.Series'> object. This may take some time.\n",
      "UserWarning: `Series.__array_wrap__` defaulting to pandas implementation.\n",
      "UserWarning: Distributing <class 'pandas.core.series.Series'> object. This may take some time.\n",
      "UserWarning: `Series.__array_wrap__` defaulting to pandas implementation.\n",
      "UserWarning: Distributing <class 'pandas.core.series.Series'> object. This may take some time.\n",
      "UserWarning: `Series.__array_wrap__` defaulting to pandas implementation.\n",
      "UserWarning: Distributing <class 'pandas.core.series.Series'> object. This may take some time.\n",
      "UserWarning: `Series.__array_wrap__` defaulting to pandas implementation.\n",
      "UserWarning: Distributing <class 'pandas.core.series.Series'> object. This may take some time.\n",
      "UserWarning: `Series.__array_wrap__` defaulting to pandas implementation.\n",
      "UserWarning: Distributing <class 'pandas.core.series.Series'> object. This may take some time.\n",
      "UserWarning: `Series.__array_wrap__` defaulting to pandas implementation.\n",
      "UserWarning: Distributing <class 'pandas.core.series.Series'> object. This may take some time.\n",
      "UserWarning: `Series.__array_wrap__` defaulting to pandas implementation.\n",
      "UserWarning: Distributing <class 'pandas.core.series.Series'> object. This may take some time.\n",
      "UserWarning: `Series.__array_wrap__` defaulting to pandas implementation.\n",
      "UserWarning: Distributing <class 'pandas.core.series.Series'> object. This may take some time.\n",
      "UserWarning: `Series.__array_wrap__` defaulting to pandas implementation.\n",
      "UserWarning: Distributing <class 'pandas.core.series.Series'> object. This may take some time.\n",
      "UserWarning: `Series.__array_wrap__` defaulting to pandas implementation.\n",
      "UserWarning: Distributing <class 'pandas.core.series.Series'> object. This may take some time.\n",
      "UserWarning: `Series.__array_wrap__` defaulting to pandas implementation.\n",
      "UserWarning: Distributing <class 'pandas.core.series.Series'> object. This may take some time.\n",
      "UserWarning: `Series.__array_wrap__` defaulting to pandas implementation.\n",
      "UserWarning: Distributing <class 'pandas.core.series.Series'> object. This may take some time.\n",
      "UserWarning: `Series.__array_wrap__` defaulting to pandas implementation.\n",
      "UserWarning: Distributing <class 'pandas.core.series.Series'> object. This may take some time.\n",
      "UserWarning: `Series.__array_wrap__` defaulting to pandas implementation.\n",
      "UserWarning: Distributing <class 'pandas.core.series.Series'> object. This may take some time.\n",
      "UserWarning: `Series.__array_wrap__` defaulting to pandas implementation.\n",
      "UserWarning: Distributing <class 'pandas.core.series.Series'> object. This may take some time.\n",
      "UserWarning: `Series.__array_wrap__` defaulting to pandas implementation.\n",
      "UserWarning: Distributing <class 'pandas.core.series.Series'> object. This may take some time.\n",
      "UserWarning: `Series.__array_wrap__` defaulting to pandas implementation.\n",
      "UserWarning: Distributing <class 'pandas.core.series.Series'> object. This may take some time.\n",
      "UserWarning: `Series.__array_wrap__` defaulting to pandas implementation.\n",
      "UserWarning: Distributing <class 'pandas.core.series.Series'> object. This may take some time.\n",
      "UserWarning: `Series.__array_wrap__` defaulting to pandas implementation.\n",
      "UserWarning: Distributing <class 'pandas.core.series.Series'> object. This may take some time.\n",
      "UserWarning: `Series.__array_wrap__` defaulting to pandas implementation.\n",
      "UserWarning: Distributing <class 'pandas.core.series.Series'> object. This may take some time.\n",
      "UserWarning: `Series.__array_wrap__` defaulting to pandas implementation.\n",
      "UserWarning: Distributing <class 'pandas.core.series.Series'> object. This may take some time.\n",
      "UserWarning: `Series.__array_wrap__` defaulting to pandas implementation.\n",
      "UserWarning: Distributing <class 'pandas.core.series.Series'> object. This may take some time.\n",
      "UserWarning: `Series.__array_wrap__` defaulting to pandas implementation.\n",
      "UserWarning: Distributing <class 'pandas.core.series.Series'> object. This may take some time.\n",
      "UserWarning: `Series.__array_wrap__` defaulting to pandas implementation.\n",
      "UserWarning: Distributing <class 'pandas.core.series.Series'> object. This may take some time.\n",
      "UserWarning: `Series.__array_wrap__` defaulting to pandas implementation.\n",
      "UserWarning: Distributing <class 'pandas.core.series.Series'> object. This may take some time.\n",
      "UserWarning: `Series.__array_wrap__` defaulting to pandas implementation.\n",
      "UserWarning: Distributing <class 'pandas.core.series.Series'> object. This may take some time.\n",
      "UserWarning: `Series.__array_wrap__` defaulting to pandas implementation.\n",
      "UserWarning: Distributing <class 'pandas.core.series.Series'> object. This may take some time.\n",
      "UserWarning: `Series.__array_wrap__` defaulting to pandas implementation.\n",
      "UserWarning: Distributing <class 'pandas.core.series.Series'> object. This may take some time.\n",
      "UserWarning: `Series.__array_wrap__` defaulting to pandas implementation.\n",
      "UserWarning: Distributing <class 'pandas.core.series.Series'> object. This may take some time.\n",
      "UserWarning: `Series.__array_wrap__` defaulting to pandas implementation.\n",
      "UserWarning: Distributing <class 'pandas.core.series.Series'> object. This may take some time.\n",
      "UserWarning: `Series.__array_wrap__` defaulting to pandas implementation.\n",
      "UserWarning: Distributing <class 'pandas.core.series.Series'> object. This may take some time.\n",
      "UserWarning: `Series.__array_wrap__` defaulting to pandas implementation.\n",
      "UserWarning: Distributing <class 'pandas.core.series.Series'> object. This may take some time.\n",
      "UserWarning: `Series.__array_wrap__` defaulting to pandas implementation.\n",
      "UserWarning: Distributing <class 'pandas.core.series.Series'> object. This may take some time.\n",
      "UserWarning: `Series.__array_wrap__` defaulting to pandas implementation.\n",
      "UserWarning: Distributing <class 'pandas.core.series.Series'> object. This may take some time.\n",
      "UserWarning: `Series.__array_wrap__` defaulting to pandas implementation.\n",
      "UserWarning: Distributing <class 'pandas.core.series.Series'> object. This may take some time.\n"
     ]
    },
    {
     "name": "stdout",
     "output_type": "stream",
     "text": [
      "Fitting\n"
     ]
    },
    {
     "name": "stderr",
     "output_type": "stream",
     "text": [
      "UserWarning: `Series.__array_wrap__` defaulting to pandas implementation.\n",
      "UserWarning: Distributing <class 'pandas.core.series.Series'> object. This may take some time.\n",
      "UserWarning: `Series.__array_wrap__` defaulting to pandas implementation.\n",
      "UserWarning: Distributing <class 'pandas.core.series.Series'> object. This may take some time.\n",
      "UserWarning: `Series.__array_wrap__` defaulting to pandas implementation.\n",
      "UserWarning: Distributing <class 'pandas.core.series.Series'> object. This may take some time.\n",
      "UserWarning: `Series.__array_wrap__` defaulting to pandas implementation.\n",
      "UserWarning: Distributing <class 'pandas.core.series.Series'> object. This may take some time.\n",
      "UserWarning: `Series.__array_wrap__` defaulting to pandas implementation.\n",
      "UserWarning: Distributing <class 'pandas.core.series.Series'> object. This may take some time.\n",
      "UserWarning: `Series.__array_wrap__` defaulting to pandas implementation.\n",
      "UserWarning: Distributing <class 'pandas.core.series.Series'> object. This may take some time.\n",
      "UserWarning: `Series.__array_wrap__` defaulting to pandas implementation.\n",
      "UserWarning: Distributing <class 'pandas.core.series.Series'> object. This may take some time.\n",
      "UserWarning: `Series.__array_wrap__` defaulting to pandas implementation.\n",
      "UserWarning: Distributing <class 'pandas.core.series.Series'> object. This may take some time.\n",
      "UserWarning: `Series.__array_wrap__` defaulting to pandas implementation.\n",
      "UserWarning: Distributing <class 'pandas.core.series.Series'> object. This may take some time.\n",
      "UserWarning: `Series.__array_wrap__` defaulting to pandas implementation.\n",
      "UserWarning: Distributing <class 'pandas.core.series.Series'> object. This may take some time.\n",
      "UserWarning: `Series.__array_wrap__` defaulting to pandas implementation.\n",
      "UserWarning: Distributing <class 'pandas.core.series.Series'> object. This may take some time.\n",
      "UserWarning: `Series.__array_wrap__` defaulting to pandas implementation.\n",
      "UserWarning: Distributing <class 'pandas.core.series.Series'> object. This may take some time.\n",
      "UserWarning: `Series.__array_wrap__` defaulting to pandas implementation.\n",
      "UserWarning: Distributing <class 'pandas.core.series.Series'> object. This may take some time.\n",
      "UserWarning: `Series.__array_wrap__` defaulting to pandas implementation.\n",
      "UserWarning: Distributing <class 'pandas.core.series.Series'> object. This may take some time.\n",
      "UserWarning: `Series.__array_wrap__` defaulting to pandas implementation.\n",
      "UserWarning: Distributing <class 'pandas.core.series.Series'> object. This may take some time.\n",
      "UserWarning: `Series.__array_wrap__` defaulting to pandas implementation.\n",
      "UserWarning: Distributing <class 'pandas.core.series.Series'> object. This may take some time.\n",
      "UserWarning: `Series.__array_wrap__` defaulting to pandas implementation.\n",
      "UserWarning: Distributing <class 'pandas.core.series.Series'> object. This may take some time.\n",
      "UserWarning: `Series.__array_wrap__` defaulting to pandas implementation.\n",
      "UserWarning: Distributing <class 'pandas.core.series.Series'> object. This may take some time.\n",
      "UserWarning: `Series.__array_wrap__` defaulting to pandas implementation.\n",
      "UserWarning: Distributing <class 'pandas.core.series.Series'> object. This may take some time.\n",
      "UserWarning: `Series.__array_wrap__` defaulting to pandas implementation.\n",
      "UserWarning: Distributing <class 'pandas.core.series.Series'> object. This may take some time.\n",
      "UserWarning: `Series.__array_wrap__` defaulting to pandas implementation.\n",
      "UserWarning: Distributing <class 'pandas.core.series.Series'> object. This may take some time.\n",
      "UserWarning: `Series.__array_wrap__` defaulting to pandas implementation.\n",
      "UserWarning: Distributing <class 'pandas.core.series.Series'> object. This may take some time.\n",
      "UserWarning: `Series.__array_wrap__` defaulting to pandas implementation.\n",
      "UserWarning: Distributing <class 'pandas.core.series.Series'> object. This may take some time.\n",
      "UserWarning: `Series.__array_wrap__` defaulting to pandas implementation.\n",
      "UserWarning: Distributing <class 'pandas.core.series.Series'> object. This may take some time.\n",
      "UserWarning: `Series.__array_wrap__` defaulting to pandas implementation.\n",
      "UserWarning: Distributing <class 'pandas.core.series.Series'> object. This may take some time.\n",
      "UserWarning: `Series.__array_wrap__` defaulting to pandas implementation.\n",
      "UserWarning: Distributing <class 'pandas.core.series.Series'> object. This may take some time.\n",
      "UserWarning: `Series.__array_wrap__` defaulting to pandas implementation.\n",
      "UserWarning: Distributing <class 'pandas.core.series.Series'> object. This may take some time.\n",
      "UserWarning: `Series.__array_wrap__` defaulting to pandas implementation.\n",
      "UserWarning: Distributing <class 'pandas.core.series.Series'> object. This may take some time.\n",
      "UserWarning: `Series.__array_wrap__` defaulting to pandas implementation.\n",
      "UserWarning: Distributing <class 'pandas.core.series.Series'> object. This may take some time.\n",
      "UserWarning: `Series.__array_wrap__` defaulting to pandas implementation.\n",
      "UserWarning: Distributing <class 'pandas.core.series.Series'> object. This may take some time.\n",
      "UserWarning: `Series.__array_wrap__` defaulting to pandas implementation.\n",
      "UserWarning: Distributing <class 'pandas.core.series.Series'> object. This may take some time.\n",
      "UserWarning: `Series.__array_wrap__` defaulting to pandas implementation.\n",
      "UserWarning: Distributing <class 'pandas.core.series.Series'> object. This may take some time.\n",
      "UserWarning: `Series.__array_wrap__` defaulting to pandas implementation.\n",
      "UserWarning: Distributing <class 'pandas.core.series.Series'> object. This may take some time.\n",
      "UserWarning: `Series.__array_wrap__` defaulting to pandas implementation.\n",
      "UserWarning: Distributing <class 'pandas.core.series.Series'> object. This may take some time.\n",
      "UserWarning: `Series.__array_wrap__` defaulting to pandas implementation.\n",
      "UserWarning: Distributing <class 'pandas.core.series.Series'> object. This may take some time.\n",
      "UserWarning: `Series.__array_wrap__` defaulting to pandas implementation.\n",
      "UserWarning: Distributing <class 'pandas.core.series.Series'> object. This may take some time.\n",
      "UserWarning: `Series.__array_wrap__` defaulting to pandas implementation.\n",
      "UserWarning: Distributing <class 'pandas.core.series.Series'> object. This may take some time.\n",
      "UserWarning: `Series.__array_wrap__` defaulting to pandas implementation.\n",
      "UserWarning: Distributing <class 'pandas.core.series.Series'> object. This may take some time.\n",
      "UserWarning: `Series.__array_wrap__` defaulting to pandas implementation.\n",
      "UserWarning: Distributing <class 'pandas.core.series.Series'> object. This may take some time.\n",
      "UserWarning: `Series.__array_wrap__` defaulting to pandas implementation.\n",
      "UserWarning: Distributing <class 'pandas.core.series.Series'> object. This may take some time.\n",
      "UserWarning: `Series.__array_wrap__` defaulting to pandas implementation.\n",
      "UserWarning: Distributing <class 'pandas.core.series.Series'> object. This may take some time.\n",
      "UserWarning: `Series.__array_wrap__` defaulting to pandas implementation.\n",
      "UserWarning: Distributing <class 'pandas.core.series.Series'> object. This may take some time.\n",
      "UserWarning: `Series.__array_wrap__` defaulting to pandas implementation.\n",
      "UserWarning: Distributing <class 'pandas.core.series.Series'> object. This may take some time.\n",
      "UserWarning: `Series.__array_wrap__` defaulting to pandas implementation.\n",
      "UserWarning: Distributing <class 'pandas.core.series.Series'> object. This may take some time.\n",
      "UserWarning: `Series.__array_wrap__` defaulting to pandas implementation.\n",
      "UserWarning: Distributing <class 'pandas.core.series.Series'> object. This may take some time.\n",
      "UserWarning: `Series.__array_wrap__` defaulting to pandas implementation.\n",
      "UserWarning: Distributing <class 'pandas.core.series.Series'> object. This may take some time.\n",
      "UserWarning: `Series.__array_wrap__` defaulting to pandas implementation.\n",
      "UserWarning: Distributing <class 'pandas.core.series.Series'> object. This may take some time.\n",
      "UserWarning: `Series.__array_wrap__` defaulting to pandas implementation.\n",
      "UserWarning: Distributing <class 'pandas.core.series.Series'> object. This may take some time.\n",
      "UserWarning: `Series.__array_wrap__` defaulting to pandas implementation.\n",
      "UserWarning: Distributing <class 'pandas.core.series.Series'> object. This may take some time.\n",
      "UserWarning: `Series.__array_wrap__` defaulting to pandas implementation.\n",
      "UserWarning: Distributing <class 'pandas.core.series.Series'> object. This may take some time.\n",
      "UserWarning: `Series.__array_wrap__` defaulting to pandas implementation.\n",
      "UserWarning: Distributing <class 'pandas.core.series.Series'> object. This may take some time.\n",
      "UserWarning: `Series.__array_wrap__` defaulting to pandas implementation.\n",
      "UserWarning: Distributing <class 'pandas.core.series.Series'> object. This may take some time.\n",
      "UserWarning: `Series.__array_wrap__` defaulting to pandas implementation.\n",
      "UserWarning: Distributing <class 'pandas.core.series.Series'> object. This may take some time.\n",
      "UserWarning: `Series.__array_wrap__` defaulting to pandas implementation.\n",
      "UserWarning: Distributing <class 'pandas.core.series.Series'> object. This may take some time.\n",
      "UserWarning: `Series.__array_wrap__` defaulting to pandas implementation.\n",
      "UserWarning: Distributing <class 'pandas.core.series.Series'> object. This may take some time.\n",
      "UserWarning: `Series.__array_wrap__` defaulting to pandas implementation.\n",
      "UserWarning: Distributing <class 'pandas.core.series.Series'> object. This may take some time.\n",
      "UserWarning: `Series.__array_wrap__` defaulting to pandas implementation.\n",
      "UserWarning: Distributing <class 'pandas.core.series.Series'> object. This may take some time.\n",
      "UserWarning: `Series.__array_wrap__` defaulting to pandas implementation.\n",
      "UserWarning: Distributing <class 'pandas.core.series.Series'> object. This may take some time.\n",
      "UserWarning: `Series.__array_wrap__` defaulting to pandas implementation.\n",
      "UserWarning: Distributing <class 'pandas.core.series.Series'> object. This may take some time.\n",
      "UserWarning: `Series.__array_wrap__` defaulting to pandas implementation.\n",
      "UserWarning: Distributing <class 'pandas.core.series.Series'> object. This may take some time.\n",
      "UserWarning: `Series.__array_wrap__` defaulting to pandas implementation.\n",
      "UserWarning: Distributing <class 'pandas.core.series.Series'> object. This may take some time.\n",
      "UserWarning: `Series.__array_wrap__` defaulting to pandas implementation.\n",
      "UserWarning: Distributing <class 'pandas.core.series.Series'> object. This may take some time.\n",
      "UserWarning: `Series.__array_wrap__` defaulting to pandas implementation.\n",
      "UserWarning: Distributing <class 'pandas.core.series.Series'> object. This may take some time.\n",
      "UserWarning: `Series.__array_wrap__` defaulting to pandas implementation.\n",
      "UserWarning: Distributing <class 'pandas.core.series.Series'> object. This may take some time.\n",
      "UserWarning: `Series.__array_wrap__` defaulting to pandas implementation.\n",
      "UserWarning: Distributing <class 'pandas.core.series.Series'> object. This may take some time.\n",
      "UserWarning: `Series.__array_wrap__` defaulting to pandas implementation.\n",
      "UserWarning: Distributing <class 'pandas.core.series.Series'> object. This may take some time.\n",
      "UserWarning: `Series.__array_wrap__` defaulting to pandas implementation.\n",
      "UserWarning: Distributing <class 'pandas.core.series.Series'> object. This may take some time.\n",
      "UserWarning: `Series.__array_wrap__` defaulting to pandas implementation.\n",
      "UserWarning: Distributing <class 'pandas.core.series.Series'> object. This may take some time.\n",
      "UserWarning: `Series.__array_wrap__` defaulting to pandas implementation.\n",
      "UserWarning: Distributing <class 'pandas.core.series.Series'> object. This may take some time.\n",
      "UserWarning: `Series.__array_wrap__` defaulting to pandas implementation.\n",
      "UserWarning: Distributing <class 'pandas.core.series.Series'> object. This may take some time.\n",
      "UserWarning: `Series.__array_wrap__` defaulting to pandas implementation.\n",
      "UserWarning: Distributing <class 'pandas.core.series.Series'> object. This may take some time.\n",
      "UserWarning: `Series.__array_wrap__` defaulting to pandas implementation.\n",
      "UserWarning: Distributing <class 'pandas.core.series.Series'> object. This may take some time.\n",
      "UserWarning: `Series.__array_wrap__` defaulting to pandas implementation.\n",
      "UserWarning: Distributing <class 'pandas.core.series.Series'> object. This may take some time.\n",
      "UserWarning: `Series.__array_wrap__` defaulting to pandas implementation.\n",
      "UserWarning: Distributing <class 'pandas.core.series.Series'> object. This may take some time.\n",
      "UserWarning: `Series.__array_wrap__` defaulting to pandas implementation.\n",
      "UserWarning: Distributing <class 'pandas.core.series.Series'> object. This may take some time.\n",
      "UserWarning: `Series.__array_wrap__` defaulting to pandas implementation.\n",
      "UserWarning: Distributing <class 'pandas.core.series.Series'> object. This may take some time.\n",
      "UserWarning: `Series.__array_wrap__` defaulting to pandas implementation.\n",
      "UserWarning: Distributing <class 'pandas.core.series.Series'> object. This may take some time.\n",
      "UserWarning: `Series.__array_wrap__` defaulting to pandas implementation.\n",
      "UserWarning: Distributing <class 'pandas.core.series.Series'> object. This may take some time.\n",
      "UserWarning: `Series.__array_wrap__` defaulting to pandas implementation.\n",
      "UserWarning: Distributing <class 'pandas.core.series.Series'> object. This may take some time.\n",
      "UserWarning: `Series.__array_wrap__` defaulting to pandas implementation.\n",
      "UserWarning: Distributing <class 'pandas.core.series.Series'> object. This may take some time.\n",
      "UserWarning: `Series.__array_wrap__` defaulting to pandas implementation.\n",
      "UserWarning: Distributing <class 'pandas.core.series.Series'> object. This may take some time.\n",
      "UserWarning: `Series.__array_wrap__` defaulting to pandas implementation.\n",
      "UserWarning: Distributing <class 'pandas.core.series.Series'> object. This may take some time.\n",
      "UserWarning: `Series.__array_wrap__` defaulting to pandas implementation.\n",
      "UserWarning: Distributing <class 'pandas.core.series.Series'> object. This may take some time.\n",
      "UserWarning: `Series.__array_wrap__` defaulting to pandas implementation.\n",
      "UserWarning: Distributing <class 'pandas.core.series.Series'> object. This may take some time.\n",
      "UserWarning: `Series.__array_wrap__` defaulting to pandas implementation.\n",
      "UserWarning: Distributing <class 'pandas.core.series.Series'> object. This may take some time.\n",
      "UserWarning: `Series.__array_wrap__` defaulting to pandas implementation.\n",
      "UserWarning: Distributing <class 'pandas.core.series.Series'> object. This may take some time.\n",
      "UserWarning: `Series.__array_wrap__` defaulting to pandas implementation.\n",
      "UserWarning: Distributing <class 'pandas.core.series.Series'> object. This may take some time.\n",
      "UserWarning: `Series.__array_wrap__` defaulting to pandas implementation.\n",
      "UserWarning: Distributing <class 'pandas.core.series.Series'> object. This may take some time.\n",
      "UserWarning: `Series.__array_wrap__` defaulting to pandas implementation.\n",
      "UserWarning: Distributing <class 'pandas.core.series.Series'> object. This may take some time.\n",
      "UserWarning: `Series.__array_wrap__` defaulting to pandas implementation.\n",
      "UserWarning: Distributing <class 'pandas.core.series.Series'> object. This may take some time.\n",
      "UserWarning: `Series.__array_wrap__` defaulting to pandas implementation.\n",
      "UserWarning: Distributing <class 'pandas.core.series.Series'> object. This may take some time.\n",
      "UserWarning: `Series.__array_wrap__` defaulting to pandas implementation.\n",
      "UserWarning: Distributing <class 'pandas.core.series.Series'> object. This may take some time.\n",
      "UserWarning: `Series.__array_wrap__` defaulting to pandas implementation.\n",
      "UserWarning: Distributing <class 'pandas.core.series.Series'> object. This may take some time.\n",
      "UserWarning: `Series.__array_wrap__` defaulting to pandas implementation.\n",
      "UserWarning: Distributing <class 'pandas.core.series.Series'> object. This may take some time.\n",
      "UserWarning: `Series.__array_wrap__` defaulting to pandas implementation.\n",
      "UserWarning: Distributing <class 'pandas.core.series.Series'> object. This may take some time.\n",
      "UserWarning: `Series.__array_wrap__` defaulting to pandas implementation.\n",
      "UserWarning: Distributing <class 'pandas.core.series.Series'> object. This may take some time.\n",
      "UserWarning: `Series.__array_wrap__` defaulting to pandas implementation.\n",
      "UserWarning: Distributing <class 'pandas.core.series.Series'> object. This may take some time.\n",
      "UserWarning: `Series.__array_wrap__` defaulting to pandas implementation.\n",
      "UserWarning: Distributing <class 'pandas.core.series.Series'> object. This may take some time.\n",
      "UserWarning: `Series.__array_wrap__` defaulting to pandas implementation.\n",
      "UserWarning: Distributing <class 'pandas.core.series.Series'> object. This may take some time.\n",
      "UserWarning: `Series.__array_wrap__` defaulting to pandas implementation.\n",
      "UserWarning: Distributing <class 'pandas.core.series.Series'> object. This may take some time.\n",
      "UserWarning: `Series.__array_wrap__` defaulting to pandas implementation.\n",
      "UserWarning: Distributing <class 'pandas.core.series.Series'> object. This may take some time.\n",
      "UserWarning: `Series.__array_wrap__` defaulting to pandas implementation.\n",
      "UserWarning: Distributing <class 'pandas.core.series.Series'> object. This may take some time.\n",
      "UserWarning: `Series.__array_wrap__` defaulting to pandas implementation.\n",
      "UserWarning: Distributing <class 'pandas.core.series.Series'> object. This may take some time.\n",
      "UserWarning: `Series.__array_wrap__` defaulting to pandas implementation.\n",
      "UserWarning: Distributing <class 'pandas.core.series.Series'> object. This may take some time.\n",
      "UserWarning: `Series.__array_wrap__` defaulting to pandas implementation.\n",
      "UserWarning: Distributing <class 'pandas.core.series.Series'> object. This may take some time.\n",
      "UserWarning: `Series.__array_wrap__` defaulting to pandas implementation.\n",
      "UserWarning: Distributing <class 'pandas.core.series.Series'> object. This may take some time.\n",
      "UserWarning: `Series.__array_wrap__` defaulting to pandas implementation.\n",
      "UserWarning: Distributing <class 'pandas.core.series.Series'> object. This may take some time.\n",
      "UserWarning: `Series.__array_wrap__` defaulting to pandas implementation.\n",
      "UserWarning: Distributing <class 'pandas.core.series.Series'> object. This may take some time.\n"
     ]
    }
   ],
   "source": [
    "recombiner.fit(celldyn_fullcase_for_impute)\n",
    "celldyn_fullcase_for_impute = recombiner.transform(celldyn_fullcase_for_impute)\n",
    "\n",
    "recombiner.fit(celldyn_cleaned_transformed)\n",
    "celldyn_cleaned_transformed = recombiner.transform(celldyn_cleaned_transformed)"
   ]
  },
  {
   "cell_type": "code",
   "execution_count": 5,
   "id": "edf722e7",
   "metadata": {},
   "outputs": [],
   "source": [
    "celldyn_fullcase_for_impute = celldyn_fullcase_for_impute._to_pandas()\n",
    "celldyn_cleaned_transformed = celldyn_cleaned_transformed._to_pandas()"
   ]
  },
  {
   "cell_type": "code",
   "execution_count": 6,
   "id": "1dcdfa0d",
   "metadata": {},
   "outputs": [
    {
     "data": {
      "text/plain": [
       "0"
      ]
     },
     "execution_count": 6,
     "metadata": {},
     "output_type": "execute_result"
    }
   ],
   "source": [
    "celldyn_fullcase_for_impute.reset_index().to_feather(\"T:\\laupodteam\\AIOS\\Bram\\data\\CellDyn\\celldyn_cleaned_transformed_imputed_MCAR_with_ratios.feather\")\n",
    "gc.collect()\n",
    "\n",
    "celldyn_cleaned_transformed.reset_index().to_feather(\"T:\\laupodteam\\AIOS\\Bram\\data\\CellDyn\\celldyn_cleaned_transformed_imputed_ALL_with_ratios.feather\")\n",
    "gc.collect()"
   ]
  }
 ],
 "metadata": {
  "kernelspec": {
   "display_name": "Python 3 (base_310)",
   "language": "python",
   "name": "python3_base"
  },
  "language_info": {
   "codemirror_mode": {
    "name": "ipython",
    "version": 3
   },
   "file_extension": ".py",
   "mimetype": "text/x-python",
   "name": "python",
   "nbconvert_exporter": "python",
   "pygments_lexer": "ipython3",
   "version": "3.10.5"
  },
  "vscode": {
   "interpreter": {
    "hash": "97021fdb49701c8dba83120d3ec696bdd3605bb66aca1c2e774ee3b4259ef2da"
   }
  }
 },
 "nbformat": 4,
 "nbformat_minor": 5
}
