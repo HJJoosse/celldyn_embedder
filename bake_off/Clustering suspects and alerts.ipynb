{
 "cells": [
  {
   "cell_type": "code",
   "execution_count": 1,
   "id": "456fef02",
   "metadata": {},
   "outputs": [],
   "source": [
    "import sys\n",
    "import os\n",
    "import pandas as pd\n",
    "import numpy as np\n",
    "\n",
    "import matplotlib.pyplot as plt\n",
    "import seaborn as sns\n",
    "\n",
    "from sklearn.pipeline import Pipeline\n",
    "from sklearn.decomposition import PCA\n",
    "from sklearn.cluster import KMeans, AgglomerativeClustering, dbscan\n",
    "\n",
    "from mlxtend.frequent_patterns import apriori, association_rules\n",
    "\n",
    "import hdbscan\n",
    "\n",
    "%matplotlib inline"
   ]
  },
  {
   "cell_type": "code",
   "execution_count": 2,
   "id": "b84ab335",
   "metadata": {
    "scrolled": false
   },
   "outputs": [
    {
     "name": "stderr",
     "output_type": "stream",
     "text": [
      "D:\\Miniconda3\\envs\\embcelldyn\\lib\\site-packages\\pandas\\io\\sas\\sas7bdat.py:800: PerformanceWarning: DataFrame is highly fragmented.  This is usually the result of calling `frame.insert` many times, which has poor performance.  Consider using pd.concat instead.  To get a de-fragmented frame, use `newframe = frame.copy()`\n",
      "  rslt[name] = self._byte_chunk[jb, :].view(dtype=self.byte_order + \"d\")\n",
      "D:\\Miniconda3\\envs\\embcelldyn\\lib\\site-packages\\pandas\\io\\sas\\sas7bdat.py:809: PerformanceWarning: DataFrame is highly fragmented.  This is usually the result of calling `frame.insert` many times, which has poor performance.  Consider using pd.concat instead.  To get a de-fragmented frame, use `newframe = frame.copy()`\n",
      "  rslt[name] = self._string_chunk[js, :]\n"
     ]
    }
   ],
   "source": [
    "os.chdir(\"L:/lab_research/RES-Folder-UPOD/Celldynclustering\")\n",
    "celldyn = pd.read_sas(\"E_ResearchData/2_ResearchData/celldyn.sas7bdat\")"
   ]
  },
  {
   "cell_type": "code",
   "execution_count": null,
   "id": "c60cdb47",
   "metadata": {},
   "outputs": [],
   "source": [
    "celldyn.columns"
   ]
  },
  {
   "cell_type": "code",
   "execution_count": 3,
   "id": "18d45074",
   "metadata": {
    "scrolled": true
   },
   "outputs": [
    {
     "name": "stderr",
     "output_type": "stream",
     "text": [
      "<ipython-input-3-0dac9241b46a>:1: PerformanceWarning: DataFrame is highly fragmented.  This is usually the result of calling `frame.insert` many times, which has poor performance.  Consider using pd.concat instead.  To get a de-fragmented frame, use `newframe = frame.copy()`\n",
      "  celldyn['afnamejaar']  = pd.to_datetime(celldyn.afname_dt).dt.year\n"
     ]
    }
   ],
   "source": [
    "celldyn['afnamejaar']  = pd.to_datetime(celldyn.afname_dt).dt.year"
   ]
  },
  {
   "cell_type": "code",
   "execution_count": 4,
   "id": "dd4ff52f",
   "metadata": {},
   "outputs": [],
   "source": [
    "meas_columns = [c for c in celldyn.columns if 'c_b' in c]\n",
    "mode_columns = [c for c in celldyn.columns if 'c_m' in c]\n",
    "alrt_columns = [c for c in celldyn.columns if 'alrt' in c.lower()]\n",
    "c_s_columns = [c for c in celldyn if 'c_s_' in c.lower()]"
   ]
  },
  {
   "cell_type": "code",
   "execution_count": 6,
   "id": "dd5035a3",
   "metadata": {},
   "outputs": [
    {
     "name": "stdout",
     "output_type": "stream",
     "text": [
      "c_s_wbc 152\n",
      "c_s_wvf 152\n",
      "c_s_neu 152\n",
      "c_s_seg 152\n",
      "c_s_bnd 152\n",
      "c_s_ig 152\n",
      "c_s_lym 152\n",
      "c_s_lyme 152\n",
      "c_s_vlym 152\n",
      "c_s_mon 152\n",
      "c_s_mone 152\n",
      "c_s_blst 152\n",
      "c_s_eos 152\n",
      "c_s_bas 152\n",
      "c_s_nrbc 152\n",
      "c_s_pneu 152\n",
      "c_s_pseg 152\n",
      "c_s_pbnd 152\n",
      "c_s_pig 152\n",
      "c_s_plym 152\n",
      "c_s_plyme 152\n",
      "c_s_pvlym 152\n",
      "c_s_pmon 152\n",
      "c_s_pmone 152\n",
      "c_s_pblst 152\n",
      "c_s_peos 152\n",
      "c_s_pbas 152\n",
      "c_s_pnrbc 152\n",
      "c_s_rbci 152\n",
      "c_s_rbco 152\n",
      "c_s_hb 152\n",
      "c_s_mcv 152\n",
      "c_s_rdw 152\n",
      "c_s_mch 152\n",
      "c_s_mchc 152\n",
      "c_s_ht 152\n",
      "c_s_plt 155\n",
      "c_s_plto 152\n",
      "c_s_plti 152\n",
      "c_s_mpv 152\n",
      "c_s_pct 152\n",
      "c_s_pdw 152\n",
      "c_s_retc 613135\n",
      "c_s_pretc 613135\n",
      "c_s_irf 613135\n"
     ]
    }
   ],
   "source": [
    "for c in c_s_columns:\n",
    "    print(c,len(celldyn.loc[celldyn[c] == 0]))"
   ]
  },
  {
   "cell_type": "code",
   "execution_count": 5,
   "id": "d3ec9071",
   "metadata": {
    "scrolled": true
   },
   "outputs": [],
   "source": [
    "cluster_columns = c_s_columns+alrt_columns\n",
    "celldyn = celldyn[cluster_columns].dropna()\n",
    "clust_data = celldyn.sample(250000)"
   ]
  },
  {
   "cell_type": "markdown",
   "id": "cee1a46d",
   "metadata": {},
   "source": [
    "### try ARM"
   ]
  },
  {
   "cell_type": "code",
   "execution_count": null,
   "id": "a24ef420",
   "metadata": {},
   "outputs": [],
   "source": []
  },
  {
   "cell_type": "code",
   "execution_count": 6,
   "id": "a66f4fcd",
   "metadata": {},
   "outputs": [],
   "source": [
    "fin_c_s_cols = ['c_s_wbc', 'c_s_wvf', 'c_s_neu', 'c_s_seg', 'c_s_lym','c_s_vlym', 'c_s_mon', 'c_s_mone', 'c_s_blst',\n",
    "       'c_s_eos', 'c_s_bas', 'c_s_nrbc', 'c_s_rbci', 'c_s_rbco', 'c_s_hb', 'c_s_mcv', 'c_s_rdw', 'c_s_mch',\n",
    "       'c_s_mchc', 'c_s_ht', 'c_s_plt', 'c_s_plto', 'c_s_plti', 'c_s_mpv',\n",
    "       'c_s_pct', 'c_s_pdw', 'c_s_retc', 'c_s_pretc', 'c_s_irf']"
   ]
  },
  {
   "cell_type": "code",
   "execution_count": 7,
   "id": "673f3bc1",
   "metadata": {},
   "outputs": [],
   "source": [
    "with open(\"E_ResearchData/2_ResearchData/arm_index_to_take.txt\",'r') as f:\n",
    "    index_to_take = [int(x) for x in f.read().split(\"\\n\")[:-1]]"
   ]
  },
  {
   "cell_type": "markdown",
   "id": "ac8d5622",
   "metadata": {},
   "source": [
    "### c_s_ != 1\n",
    "\n",
    "\n",
    "Bekijk associaties tussen alert en suspect vlaggen als ze niet OK zijn (c_s_ != 1, alrt == 1)"
   ]
  },
  {
   "cell_type": "code",
   "execution_count": 53,
   "id": "0e0564b1",
   "metadata": {},
   "outputs": [
    {
     "ename": "MemoryError",
     "evalue": "Unable to allocate 20.7 MiB for an array with shape (7, 3099542) and data type bool",
     "output_type": "error",
     "traceback": [
      "\u001b[1;31m---------------------------------------------------------------------------\u001b[0m",
      "\u001b[1;31mMemoryError\u001b[0m                               Traceback (most recent call last)",
      "\u001b[1;32m<ipython-input-53-006555633755>\u001b[0m in \u001b[0;36m<module>\u001b[1;34m\u001b[0m\n\u001b[0;32m      2\u001b[0m \u001b[0marm_data\u001b[0m\u001b[1;33m[\u001b[0m\u001b[0malrt_columns\u001b[0m\u001b[1;33m]\u001b[0m \u001b[1;33m=\u001b[0m \u001b[0mnp\u001b[0m\u001b[1;33m.\u001b[0m\u001b[0mwhere\u001b[0m\u001b[1;33m(\u001b[0m\u001b[0marm_data\u001b[0m\u001b[1;33m[\u001b[0m\u001b[0malrt_columns\u001b[0m\u001b[1;33m]\u001b[0m \u001b[1;33m==\u001b[0m \u001b[1;36m1\u001b[0m\u001b[1;33m,\u001b[0m\u001b[1;32mTrue\u001b[0m\u001b[1;33m,\u001b[0m\u001b[1;32mFalse\u001b[0m\u001b[1;33m)\u001b[0m\u001b[1;33m\u001b[0m\u001b[1;33m\u001b[0m\u001b[0m\n\u001b[0;32m      3\u001b[0m \u001b[0marm_data\u001b[0m\u001b[1;33m[\u001b[0m\u001b[0mc_s_columns\u001b[0m\u001b[1;33m]\u001b[0m \u001b[1;33m=\u001b[0m \u001b[0mnp\u001b[0m\u001b[1;33m.\u001b[0m\u001b[0mwhere\u001b[0m\u001b[1;33m(\u001b[0m\u001b[0marm_data\u001b[0m\u001b[1;33m[\u001b[0m\u001b[0mc_s_columns\u001b[0m\u001b[1;33m]\u001b[0m \u001b[1;33m!=\u001b[0m \u001b[1;36m1\u001b[0m\u001b[1;33m,\u001b[0m\u001b[1;32mTrue\u001b[0m\u001b[1;33m,\u001b[0m\u001b[1;32mFalse\u001b[0m\u001b[1;33m)\u001b[0m\u001b[1;33m\u001b[0m\u001b[1;33m\u001b[0m\u001b[0m\n\u001b[1;32m----> 4\u001b[1;33m \u001b[0mfrequent_candidates\u001b[0m \u001b[1;33m=\u001b[0m \u001b[0mapriori\u001b[0m\u001b[1;33m(\u001b[0m\u001b[0marm_data\u001b[0m\u001b[1;33m[\u001b[0m\u001b[0mc_s_columns\u001b[0m\u001b[1;33m+\u001b[0m\u001b[0malrt_columns\u001b[0m\u001b[1;33m]\u001b[0m\u001b[1;33m,\u001b[0m \u001b[0mmin_support\u001b[0m\u001b[1;33m=\u001b[0m\u001b[1;36m0.01\u001b[0m\u001b[1;33m,\u001b[0m \u001b[0muse_colnames\u001b[0m\u001b[1;33m=\u001b[0m\u001b[1;32mTrue\u001b[0m\u001b[1;33m,\u001b[0m\u001b[0mlow_memory\u001b[0m\u001b[1;33m=\u001b[0m\u001b[1;32mTrue\u001b[0m\u001b[1;33m)\u001b[0m\u001b[1;33m\u001b[0m\u001b[1;33m\u001b[0m\u001b[0m\n\u001b[0m\u001b[0;32m      5\u001b[0m \u001b[1;33m\u001b[0m\u001b[0m\n\u001b[0;32m      6\u001b[0m \u001b[0mrules\u001b[0m \u001b[1;33m=\u001b[0m \u001b[0massociation_rules\u001b[0m\u001b[1;33m(\u001b[0m\u001b[0mfrequent_candidates\u001b[0m\u001b[1;33m,\u001b[0m \u001b[0mmetric\u001b[0m\u001b[1;33m=\u001b[0m\u001b[1;34m\"lift\"\u001b[0m\u001b[1;33m,\u001b[0m \u001b[0mmin_threshold\u001b[0m\u001b[1;33m=\u001b[0m\u001b[1;36m1\u001b[0m\u001b[1;33m)\u001b[0m\u001b[1;33m\u001b[0m\u001b[1;33m\u001b[0m\u001b[0m\n",
      "\u001b[1;32mD:\\Miniconda3\\envs\\embcelldyn\\lib\\site-packages\\mlxtend\\frequent_patterns\\apriori.py\u001b[0m in \u001b[0;36mapriori\u001b[1;34m(df, min_support, use_colnames, max_len, verbose, low_memory)\u001b[0m\n\u001b[0;32m    269\u001b[0m                 itemset_dict[max_itemset], X, min_support, is_sparse)\n\u001b[0;32m    270\u001b[0m             \u001b[1;31m# slightly faster than creating an array from a list of tuples\u001b[0m\u001b[1;33m\u001b[0m\u001b[1;33m\u001b[0m\u001b[1;33m\u001b[0m\u001b[0m\n\u001b[1;32m--> 271\u001b[1;33m             \u001b[0mcombin\u001b[0m \u001b[1;33m=\u001b[0m \u001b[0mnp\u001b[0m\u001b[1;33m.\u001b[0m\u001b[0mfromiter\u001b[0m\u001b[1;33m(\u001b[0m\u001b[0mcombin\u001b[0m\u001b[1;33m,\u001b[0m \u001b[0mdtype\u001b[0m\u001b[1;33m=\u001b[0m\u001b[0mint\u001b[0m\u001b[1;33m)\u001b[0m\u001b[1;33m\u001b[0m\u001b[1;33m\u001b[0m\u001b[0m\n\u001b[0m\u001b[0;32m    272\u001b[0m             \u001b[0mcombin\u001b[0m \u001b[1;33m=\u001b[0m \u001b[0mcombin\u001b[0m\u001b[1;33m.\u001b[0m\u001b[0mreshape\u001b[0m\u001b[1;33m(\u001b[0m\u001b[1;33m-\u001b[0m\u001b[1;36m1\u001b[0m\u001b[1;33m,\u001b[0m \u001b[0mnext_max_itemset\u001b[0m \u001b[1;33m+\u001b[0m \u001b[1;36m1\u001b[0m\u001b[1;33m)\u001b[0m\u001b[1;33m\u001b[0m\u001b[1;33m\u001b[0m\u001b[0m\n\u001b[0;32m    273\u001b[0m \u001b[1;33m\u001b[0m\u001b[0m\n",
      "\u001b[1;32mD:\\Miniconda3\\envs\\embcelldyn\\lib\\site-packages\\mlxtend\\frequent_patterns\\apriori.py\u001b[0m in \u001b[0;36mgenerate_new_combinations_low_memory\u001b[1;34m(old_combinations, X, min_support, is_sparse)\u001b[0m\n\u001b[0;32m    123\u001b[0m             \u001b[0msupports\u001b[0m \u001b[1;33m=\u001b[0m \u001b[0mX_cols\u001b[0m\u001b[1;33m[\u001b[0m\u001b[0mmask_rows\u001b[0m\u001b[1;33m]\u001b[0m\u001b[1;33m.\u001b[0m\u001b[0msum\u001b[0m\u001b[1;33m(\u001b[0m\u001b[0maxis\u001b[0m\u001b[1;33m=\u001b[0m\u001b[1;36m0\u001b[0m\u001b[1;33m)\u001b[0m\u001b[1;33m\u001b[0m\u001b[1;33m\u001b[0m\u001b[0m\n\u001b[0;32m    124\u001b[0m         \u001b[1;32melse\u001b[0m\u001b[1;33m:\u001b[0m\u001b[1;33m\u001b[0m\u001b[1;33m\u001b[0m\u001b[0m\n\u001b[1;32m--> 125\u001b[1;33m             \u001b[0mmask_rows\u001b[0m \u001b[1;33m=\u001b[0m \u001b[0mX\u001b[0m\u001b[1;33m[\u001b[0m\u001b[1;33m:\u001b[0m\u001b[1;33m,\u001b[0m \u001b[0mold_tuple\u001b[0m\u001b[1;33m]\u001b[0m\u001b[1;33m.\u001b[0m\u001b[0mall\u001b[0m\u001b[1;33m(\u001b[0m\u001b[0maxis\u001b[0m\u001b[1;33m=\u001b[0m\u001b[1;36m1\u001b[0m\u001b[1;33m)\u001b[0m\u001b[1;33m\u001b[0m\u001b[1;33m\u001b[0m\u001b[0m\n\u001b[0m\u001b[0;32m    126\u001b[0m             \u001b[0msupports\u001b[0m \u001b[1;33m=\u001b[0m \u001b[0mX\u001b[0m\u001b[1;33m[\u001b[0m\u001b[0mmask_rows\u001b[0m\u001b[1;33m]\u001b[0m\u001b[1;33m[\u001b[0m\u001b[1;33m:\u001b[0m\u001b[1;33m,\u001b[0m \u001b[0mvalid_items\u001b[0m\u001b[1;33m]\u001b[0m\u001b[1;33m.\u001b[0m\u001b[0msum\u001b[0m\u001b[1;33m(\u001b[0m\u001b[0maxis\u001b[0m\u001b[1;33m=\u001b[0m\u001b[1;36m0\u001b[0m\u001b[1;33m)\u001b[0m\u001b[1;33m\u001b[0m\u001b[1;33m\u001b[0m\u001b[0m\n\u001b[0;32m    127\u001b[0m         \u001b[0mvalid_indices\u001b[0m \u001b[1;33m=\u001b[0m \u001b[1;33m(\u001b[0m\u001b[0msupports\u001b[0m \u001b[1;33m>=\u001b[0m \u001b[0mthreshold\u001b[0m\u001b[1;33m)\u001b[0m\u001b[1;33m.\u001b[0m\u001b[0mnonzero\u001b[0m\u001b[1;33m(\u001b[0m\u001b[1;33m)\u001b[0m\u001b[1;33m[\u001b[0m\u001b[1;36m0\u001b[0m\u001b[1;33m]\u001b[0m\u001b[1;33m\u001b[0m\u001b[1;33m\u001b[0m\u001b[0m\n",
      "\u001b[1;31mMemoryError\u001b[0m: Unable to allocate 20.7 MiB for an array with shape (7, 3099542) and data type bool"
     ]
    }
   ],
   "source": [
    "arm_data = celldyn.copy()\n",
    "arm_data[alrt_columns] = np.where(arm_data[alrt_columns] == 1,True,False)\n",
    "arm_data[c_s_columns] = np.where(arm_data[c_s_columns] != 1,True,False)\n",
    "frequent_candidates = apriori(arm_data[c_s_columns+alrt_columns], min_support=0.01, use_colnames=True,low_memory=True)\n",
    "\n",
    "rules = association_rules(frequent_candidates, metric=\"lift\", min_threshold=1)\n",
    "interesting_rules = rules[ (rules['confidence'] >= 0.8) ]\n",
    "c_s_isno1 = ((tuple(k),tuple(v),np.round(x,decimals=3),np.round(y,decimals = 3)) for k,v,x,y in zip(interesting_rules.antecedents,\n",
    "                                                           interesting_rules.consequents,\n",
    "                                                           interesting_rules.support,\n",
    "                                                           interesting_rules.confidence))\n",
    "c_s_isno1"
   ]
  },
  {
   "cell_type": "code",
   "execution_count": 54,
   "id": "cf9297b5",
   "metadata": {
    "scrolled": false
   },
   "outputs": [
    {
     "data": {
      "text/plain": [
       "[]"
      ]
     },
     "execution_count": 54,
     "metadata": {},
     "output_type": "execute_result"
    }
   ],
   "source": [
    "[x for x in c_s_isno1]"
   ]
  },
  {
   "cell_type": "markdown",
   "id": "c8612950",
   "metadata": {},
   "source": [
    "### c_s_ = 2\n",
    "\n",
    "Check als c_s_ kolommen 2 geven, dit ook gelijk 2 is bij andere c_s_ kolommen"
   ]
  },
  {
   "cell_type": "code",
   "execution_count": null,
   "id": "02079a8d",
   "metadata": {},
   "outputs": [],
   "source": [
    "arm_data = celldyn.copy()\n",
    "arm_data[alrt_columns] = np.where(arm_data[alrt_columns] == 1,True,False)\n",
    "arm_data[c_s_columns] = np.where(arm_data[c_s_columns] == 2,True,False)\n",
    "frequent_candidates = apriori(arm_data[c_s_columns+alrt_columns], min_support=0.01, use_colnames=True,low_memory=True)\n",
    "\n",
    "rules = association_rules(frequent_candidates, metric=\"lift\", min_threshold=1)\n",
    "interesting_rules = rules[ (rules['confidence'] >= 0.8) ]\n",
    "c_s_is2 = ((tuple(k),tuple(v),np.round(x,decimals=3),np.round(y,decimals = 3)) for k,v,x,y in zip(interesting_rules.antecedents,\n",
    "                                                           interesting_rules.consequents,\n",
    "                                                           interesting_rules.support,\n",
    "                                                           interesting_rules.confidence))\n",
    "[x for x in c_s_is2]"
   ]
  },
  {
   "cell_type": "markdown",
   "id": "79a8ea56",
   "metadata": {},
   "source": [
    "### c_s = 4\n",
    "\n",
    "Check als c_s_ kolommen 4 geven, dit ook gelijk 4 is bij andere c_s_ kolommen"
   ]
  },
  {
   "cell_type": "code",
   "execution_count": 25,
   "id": "0117e21c",
   "metadata": {},
   "outputs": [
    {
     "data": {
      "text/plain": [
       "[]"
      ]
     },
     "execution_count": 25,
     "metadata": {},
     "output_type": "execute_result"
    }
   ],
   "source": [
    "arm_data = celldyn.copy()\n",
    "arm_data[alrt_columns] = np.where(arm_data[alrt_columns] == 1,True,False)\n",
    "arm_data[c_s_columns] = np.where(arm_data[c_s_columns] == 4,True,False)\n",
    "frequent_candidates = apriori(arm_data[c_s_columns+alrt_columns], min_support=0.05, use_colnames=True,low_memory=True,)\n",
    "\n",
    "rules = association_rules(frequent_candidates, metric=\"lift\", min_threshold=1)\n",
    "interesting_rules = rules[ (rules['confidence'] >= 0.8) ]\n",
    "c_s_is4 = ((tuple(k),tuple(v),np.round(x,decimals=3),np.round(y,decimals = 3)) for k,v,x,y in zip(interesting_rules.antecedents,\n",
    "                                                           interesting_rules.consequents,\n",
    "                                                           interesting_rules.support,\n",
    "                                                           interesting_rules.confidence))\n",
    "[x for x in c_s_is4]"
   ]
  },
  {
   "cell_type": "markdown",
   "id": "a07f91e0",
   "metadata": {},
   "source": [
    "### c_s = 5\n",
    "\n",
    "Check als c_s_ kolommen 5 geven, dit ook gelijk 5 is bij andere c_s_ kolommen"
   ]
  },
  {
   "cell_type": "code",
   "execution_count": 42,
   "id": "09d58e90",
   "metadata": {
    "scrolled": false
   },
   "outputs": [
    {
     "data": {
      "text/plain": [
       "[False    1.0\n",
       " Name: c_s_wbc, dtype: float64,\n",
       " False    1.0\n",
       " Name: c_s_wvf, dtype: float64,\n",
       " False    0.885924\n",
       " True     0.114076\n",
       " Name: c_s_neu, dtype: float64,\n",
       " False    1.0\n",
       " Name: c_s_seg, dtype: float64,\n",
       " False    1.0\n",
       " Name: c_s_bnd, dtype: float64,\n",
       " False    1.0\n",
       " Name: c_s_ig, dtype: float64,\n",
       " False    0.954162\n",
       " True     0.045838\n",
       " Name: c_s_lym, dtype: float64,\n",
       " False    1.0\n",
       " Name: c_s_lyme, dtype: float64,\n",
       " False    1.0\n",
       " Name: c_s_vlym, dtype: float64,\n",
       " False    0.948107\n",
       " True     0.051893\n",
       " Name: c_s_mon, dtype: float64,\n",
       " False    1.0\n",
       " Name: c_s_mone, dtype: float64,\n",
       " False    1.0\n",
       " Name: c_s_blst, dtype: float64,\n",
       " False    1.0\n",
       " Name: c_s_eos, dtype: float64,\n",
       " False    1.0\n",
       " Name: c_s_bas, dtype: float64,\n",
       " False    0.968248\n",
       " True     0.031752\n",
       " Name: c_s_nrbc, dtype: float64,\n",
       " False    0.885924\n",
       " True     0.114076\n",
       " Name: c_s_pneu, dtype: float64,\n",
       " False    1.0\n",
       " Name: c_s_pseg, dtype: float64,\n",
       " False    1.0\n",
       " Name: c_s_pbnd, dtype: float64,\n",
       " False    1.0\n",
       " Name: c_s_pig, dtype: float64,\n",
       " False    0.954162\n",
       " True     0.045838\n",
       " Name: c_s_plym, dtype: float64,\n",
       " False    1.0\n",
       " Name: c_s_plyme, dtype: float64,\n",
       " False    1.0\n",
       " Name: c_s_pvlym, dtype: float64,\n",
       " False    0.948107\n",
       " True     0.051893\n",
       " Name: c_s_pmon, dtype: float64,\n",
       " False    1.0\n",
       " Name: c_s_pmone, dtype: float64,\n",
       " False    1.0\n",
       " Name: c_s_pblst, dtype: float64,\n",
       " False    1.0\n",
       " Name: c_s_peos, dtype: float64,\n",
       " False    1.0\n",
       " Name: c_s_pbas, dtype: float64,\n",
       " False    0.969257\n",
       " True     0.030743\n",
       " Name: c_s_pnrbc, dtype: float64,\n",
       " False    0.961328\n",
       " True     0.038672\n",
       " Name: c_s_rbci, dtype: float64,\n",
       " False    1.0\n",
       " Name: c_s_rbco, dtype: float64,\n",
       " False    1.0\n",
       " Name: c_s_hb, dtype: float64,\n",
       " False    0.973074\n",
       " True     0.026926\n",
       " Name: c_s_mcv, dtype: float64,\n",
       " False    0.973055\n",
       " True     0.026945\n",
       " Name: c_s_rdw, dtype: float64,\n",
       " False    0.973078\n",
       " True     0.026922\n",
       " Name: c_s_mch, dtype: float64,\n",
       " False    0.973097\n",
       " True     0.026903\n",
       " Name: c_s_mchc, dtype: float64,\n",
       " False    0.973092\n",
       " True     0.026908\n",
       " Name: c_s_ht, dtype: float64,\n",
       " False    0.993375\n",
       " True     0.006625\n",
       " Name: c_s_plt, dtype: float64,\n",
       " False    0.993351\n",
       " True     0.006649\n",
       " Name: c_s_plto, dtype: float64,\n",
       " False    0.993763\n",
       " True     0.006237\n",
       " Name: c_s_plti, dtype: float64,\n",
       " False    0.994429\n",
       " True     0.005571\n",
       " Name: c_s_mpv, dtype: float64,\n",
       " False    0.994429\n",
       " True     0.005571\n",
       " Name: c_s_pct, dtype: float64,\n",
       " False    0.994379\n",
       " True     0.005621\n",
       " Name: c_s_pdw, dtype: float64,\n",
       " False    0.966309\n",
       " True     0.033691\n",
       " Name: c_s_retc, dtype: float64,\n",
       " False    0.995602\n",
       " True     0.004398\n",
       " Name: c_s_pretc, dtype: float64,\n",
       " False    1.0\n",
       " Name: c_s_irf, dtype: float64,\n",
       " False    0.985486\n",
       " True     0.014514\n",
       " Name: c_Alrt_rrbc, dtype: float64,\n",
       " False    0.973523\n",
       " True     0.026477\n",
       " Name: c_Alrt_wbc, dtype: float64,\n",
       " False    0.954274\n",
       " True     0.045726\n",
       " Name: c_Alrt_dif, dtype: float64,\n",
       " False    0.977847\n",
       " True     0.022153\n",
       " Name: c_Alrt_wvf, dtype: float64,\n",
       " False    0.961301\n",
       " True     0.038699\n",
       " Name: c_Alrt_fp, dtype: float64,\n",
       " False    0.907013\n",
       " True     0.092987\n",
       " Name: c_Alrt_bnd, dtype: float64,\n",
       " False    0.905382\n",
       " True     0.094618\n",
       " Name: c_Alrt_ig, dtype: float64,\n",
       " False    0.94074\n",
       " True     0.05926\n",
       " Name: c_Alrt_blst, dtype: float64,\n",
       " False    0.937669\n",
       " True     0.062331\n",
       " Name: c_Alrt_vlym, dtype: float64,\n",
       " False    1.0\n",
       " Name: c_AlrtQ_bnd, dtype: float64,\n",
       " False    1.0\n",
       " Name: c_AlrtQ_ig, dtype: float64,\n",
       " False    1.0\n",
       " Name: c_AlrtQ_blst, dtype: float64,\n",
       " False    1.0\n",
       " Name: c_AlrtQ_vlym, dtype: float64,\n",
       " False    1.0\n",
       " Name: c_AlrtQ_fp, dtype: float64,\n",
       " False    0.985047\n",
       " True     0.014953\n",
       " Name: c_Alrt_wbc_pltcmp, dtype: float64,\n",
       " False    0.99738\n",
       " True     0.00262\n",
       " Name: c_Alrt_pltcmp2, dtype: float64,\n",
       " False    0.998326\n",
       " True     0.001674\n",
       " Name: c_Alrt_rbcDlta, dtype: float64,\n",
       " False    0.976457\n",
       " True     0.023543\n",
       " Name: c_Alrt_pltDlta, dtype: float64,\n",
       " False    0.99279\n",
       " True     0.00721\n",
       " Name: c_Alrt_rbc, dtype: float64,\n",
       " False    0.954028\n",
       " True     0.045972\n",
       " Name: c_Alrt_plt, dtype: float64,\n",
       " False    1.0\n",
       " Name: c_Alrt_hb, dtype: float64,\n",
       " False    0.97189\n",
       " True     0.02811\n",
       " Name: c_Alrt_rbc_assym, dtype: float64,\n",
       " False    0.99738\n",
       " True     0.00262\n",
       " Name: c_Alrt_rbc_pltCmp2, dtype: float64,\n",
       " False    0.991838\n",
       " True     0.008162\n",
       " Name: c_Alrt_lri, dtype: float64,\n",
       " False    0.976931\n",
       " True     0.023069\n",
       " Name: c_Alrt_uri, dtype: float64,\n",
       " False    0.995786\n",
       " True     0.004214\n",
       " Name: c_Alrt_optlri, dtype: float64,\n",
       " False    0.996686\n",
       " True     0.003314\n",
       " Name: c_Alrt_opturi, dtype: float64,\n",
       " False    0.992606\n",
       " True     0.007394\n",
       " Name: c_Alrt_retc, dtype: float64,\n",
       " False    0.995475\n",
       " True     0.004525\n",
       " Name: c_Alrt_retcHI, dtype: float64,\n",
       " False    0.992886\n",
       " True     0.007114\n",
       " Name: c_Alrt_retcIN, dtype: float64]"
      ]
     },
     "execution_count": 42,
     "metadata": {},
     "output_type": "execute_result"
    }
   ],
   "source": [
    "[arm_data[x].value_counts()/len(arm_data) for x in arm_data]"
   ]
  },
  {
   "cell_type": "code",
   "execution_count": 51,
   "id": "ea692a9e",
   "metadata": {
    "scrolled": true
   },
   "outputs": [],
   "source": [
    "arm_data = celldyn.copy()\n",
    "arm_data[alrt_columns] = np.where(arm_data[alrt_columns] == 1,True,False)\n",
    "arm_data[c_s_columns] = np.where(arm_data[c_s_columns] == 5,True,False)\n",
    "frequent_candidates = apriori(arm_data[c_s_columns+alrt_columns], min_support=0.01, use_colnames=True,low_memory=True)\n",
    "\n",
    "rules = association_rules(frequent_candidates, metric=\"lift\", min_threshold=1)\n",
    "interesting_rules = rules[ (rules['confidence'] >= 0.8) ]\n",
    "c_s_is5 = ((tuple(k),tuple(v),np.round(x,decimals=3),np.round(y,decimals = 3)) for k,v,x,y in zip(interesting_rules.antecedents,\n",
    "                                                           interesting_rules.consequents,\n",
    "                                                           interesting_rules.support,\n",
    "                                                           interesting_rules.confidence))\n",
    "c_s_is5 = [x for x in c_s_is5]"
   ]
  },
  {
   "cell_type": "code",
   "execution_count": 52,
   "id": "3973fbcb",
   "metadata": {},
   "outputs": [],
   "source": [
    "with open(\"L:\\laupodteam\\AIOS\\Huibert-Jan\\Celldynclustering\\c_s_is5.txt\",'w') as f:\n",
    "    for line in c_s_is5:\n",
    "        f.write(f'{line[0]};{line[1]};{line[2]};{line[-1]}'+'\\n')"
   ]
  },
  {
   "cell_type": "markdown",
   "id": "78ed5d19",
   "metadata": {},
   "source": [
    "### try permutations of c_s_ = {2,4,5}.\n",
    "Set 1 on 2,4 or 5, and see if other columns not on that number combine\n",
    "SO see if you put 1 column on 2, other columns are always 4 or 5, and do this the other way around as well"
   ]
  },
  {
   "cell_type": "code",
   "execution_count": 230,
   "id": "0c6326a7",
   "metadata": {
    "scrolled": false
   },
   "outputs": [
    {
     "name": "stdout",
     "output_type": "stream",
     "text": [
      "c_s_wbc {}\n",
      "c_s_wvf {}\n",
      "c_s_neu {}\n",
      "c_s_seg {}\n",
      "c_s_bnd {}\n",
      "c_s_ig {}\n",
      "c_s_lym {}\n",
      "c_s_lyme {}\n",
      "c_s_vlym {}\n",
      "c_s_mon {}\n",
      "c_s_mone {}\n",
      "c_s_blst {}\n",
      "c_s_eos {}\n",
      "c_s_bas {}\n",
      "c_s_nrbc {}\n",
      "c_s_pneu {}\n",
      "c_s_pseg {}\n",
      "c_s_pbnd {}\n",
      "c_s_pig {}\n",
      "c_s_plym {}\n",
      "c_s_plyme {}\n",
      "c_s_pvlym {}\n",
      "c_s_pmon {}\n",
      "c_s_pmone {}\n",
      "c_s_pblst {}\n",
      "c_s_peos {}\n",
      "c_s_pbas {}\n",
      "c_s_pnrbc {}\n",
      "c_s_rbci {}\n",
      "c_s_rbco {}\n",
      "c_s_hb {}\n",
      "c_s_mcv {}\n",
      "c_s_rdw {}\n",
      "c_s_mch {}\n",
      "c_s_mchc {}\n",
      "c_s_ht {}\n",
      "c_s_plt {}\n",
      "c_s_plto {}\n",
      "c_s_plti {}\n",
      "c_s_mpv {}\n",
      "c_s_pct {}\n",
      "c_s_pdw {}\n",
      "c_s_retc {}\n",
      "c_s_pretc {}\n",
      "c_s_irf {}\n"
     ]
    }
   ],
   "source": [
    "for col in c_s_columns:\n",
    "    arm_data = celldyn.loc[index_to_take]\n",
    "    arm_data[alrt_columns] = np.where(arm_data[alrt_columns] == 1,True,False)\n",
    "    arm_data[col] = np.where(arm_data[col] == 5,True,False)\n",
    "    other_cols = [c for c in c_s_columns if c != col]\n",
    "    arm_data[other_cols] = np.where(arm_data[other_cols] == 4,True,False)\n",
    "    frequent_candidates = apriori(arm_data[c_s_columns+alrt_columns], min_support=0.05, use_colnames=True,low_memory=True)\n",
    "    rules = association_rules(frequent_candidates, metric=\"lift\", min_threshold=1)\n",
    "    interesting_rules = rules[ (rules['confidence'] >= 0.8) ]\n",
    "    print(col,{tuple(k):tuple(v) for k,v in zip(interesting_rules.antecedents,interesting_rules.consequents) if tuple(k) not in c_s_is4.keys() and tuple(k) not in c_s_is5.keys()})"
   ]
  },
  {
   "cell_type": "markdown",
   "id": "d1f69807",
   "metadata": {},
   "source": [
    "### try PCA"
   ]
  },
  {
   "cell_type": "code",
   "execution_count": null,
   "id": "635eee86",
   "metadata": {
    "scrolled": false
   },
   "outputs": [],
   "source": [
    "var_ex = []\n",
    "for i in range(2,20):\n",
    "    pca = PCA(n_components=i)\n",
    "    pca.fit(celldyn[cluster_columns].dropna())\n",
    "    var_ex.append(pca.explained_variance_)\n",
    "    \n",
    "    \n"
   ]
  },
  {
   "cell_type": "code",
   "execution_count": null,
   "id": "98b193c7",
   "metadata": {},
   "outputs": [],
   "source": [
    "pca = PCA(n_components = 8)\n",
    "transformed_data = pca.fit_transform(clust_data.dropna())"
   ]
  },
  {
   "cell_type": "code",
   "execution_count": null,
   "id": "29ed063d",
   "metadata": {},
   "outputs": [],
   "source": [
    "km = KMeans(n_clusters=3).fit(transformed_data)"
   ]
  },
  {
   "cell_type": "code",
   "execution_count": null,
   "id": "42a71f5d",
   "metadata": {},
   "outputs": [],
   "source": [
    "celldyn = celldyn.dropna()\n",
    "celldyn['km_labels']  = km.labels_"
   ]
  },
  {
   "cell_type": "markdown",
   "id": "025a8c48",
   "metadata": {},
   "source": [
    "### check clusters after pca"
   ]
  },
  {
   "cell_type": "code",
   "execution_count": null,
   "id": "1f4913cd",
   "metadata": {},
   "outputs": [],
   "source": [
    "plot_df = pd.DataFrame(data=transformed_data, columns=[f'd_{i}' for i in range(8)], index=clust_data.index)\n",
    "plot_df['labels'] = hdb_cl.labels_\n",
    "#reduce_dim = min([6, reduce_dim])\n"
   ]
  },
  {
   "cell_type": "code",
   "execution_count": null,
   "id": "12b16901",
   "metadata": {},
   "outputs": [],
   "source": [
    "cols_to_plot = ['c_s_wbc', 'c_s_wvf', 'c_s_neu', 'c_s_seg', 'c_s_lym','c_s_vlym', 'c_s_mon', 'c_s_mone', 'c_s_blst',\n",
    "       'c_s_eos', 'c_s_bas', 'c_s_nrbc','c_s_rbci', 'c_s_rbco', 'c_s_hb', 'c_s_mcv', 'c_s_rdw', 'c_s_mch','c_s_mchc', 'c_s_ht',\n",
    "        'c_s_plt', 'c_s_plto', 'c_s_plti', 'c_s_mpv','c_s_pct', 'c_s_pdw', 'c_s_retc', 'c_s_pretc', 'c_s_irf']"
   ]
  },
  {
   "cell_type": "code",
   "execution_count": null,
   "id": "2607e488",
   "metadata": {},
   "outputs": [],
   "source": [
    "pd.set_option(\"display.max_columns\",50)\n",
    "clust_data[c_s_columns].corr()"
   ]
  },
  {
   "cell_type": "code",
   "execution_count": null,
   "id": "f03cea0f",
   "metadata": {},
   "outputs": [],
   "source": [
    "len(cols_to_plot)"
   ]
  },
  {
   "cell_type": "code",
   "execution_count": null,
   "id": "da4ccb31",
   "metadata": {
    "scrolled": false
   },
   "outputs": [],
   "source": [
    "num_rows = int(np.ceil(len(cols_to_plot)*len(cols_to_plot)/3))\n",
    "fig, ax = plt.subplots(ncols=3, nrows=num_rows, figsize=(18, 3*num_rows))\n",
    "k = 0\n",
    "rest_cols = cols_to_plot[1:]\n",
    "\n",
    "for ki in range(len(cols_to_plot)):\n",
    "    rest_cols = rest_cols[1:]\n",
    "    for kj in range(len(rest_cols)): \n",
    "        i = int(k/3)\n",
    "        j = k%3\n",
    "        if num_rows > 1:\n",
    "            sns.scatterplot(data=clust_data.sample(20000), x=cols_to_plot[ki], y=rest_cols[kj],\n",
    "                            ax=ax[i,j], \n",
    "                            hue = 'labels',alpha=0.5)\n",
    "        else:\n",
    "            sns.scatterplot(data=clust_data.sample(20000),x=cols_to_plot[ki], y=rest_cols[kj],\n",
    "                            ax=ax[k], \n",
    "                             hue = 'labels',alpha=0.5)\n",
    "        k += 1\n",
    "        "
   ]
  }
 ],
 "metadata": {
  "kernelspec": {
   "display_name": "Python 3",
   "language": "python",
   "name": "python3"
  },
  "language_info": {
   "codemirror_mode": {
    "name": "ipython",
    "version": 3
   },
   "file_extension": ".py",
   "mimetype": "text/x-python",
   "name": "python",
   "nbconvert_exporter": "python",
   "pygments_lexer": "ipython3",
   "version": "3.8.11"
  }
 },
 "nbformat": 4,
 "nbformat_minor": 5
}
