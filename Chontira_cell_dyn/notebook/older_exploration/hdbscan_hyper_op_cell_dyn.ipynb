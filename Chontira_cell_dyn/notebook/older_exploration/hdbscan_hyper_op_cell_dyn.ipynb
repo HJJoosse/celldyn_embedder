{
 "cells": [
  {
   "cell_type": "markdown",
   "metadata": {},
   "source": [
    "## Tuning embedded Cell Dyn with HDBSCAN."
   ]
  },
  {
   "cell_type": "code",
   "execution_count": 1,
   "metadata": {},
   "outputs": [],
   "source": [
    "import os\n",
    "os.chdir(\"T:/laupodteam/AIOS/Chontira/CellDynClustering\")\n",
    "import numpy as np\n",
    "from sklearn.metrics import silhouette_score, davies_bouldin_score\n",
    "import hdbscan\n",
    "from evaluation.fast_dunn_index import dunn_fast\n",
    "from data.load_data import *\n",
    "from evaluation.util import *\n",
    "import pickle\n"
   ]
  },
  {
   "cell_type": "markdown",
   "metadata": {},
   "source": [
    "## Load data"
   ]
  },
  {
   "cell_type": "code",
   "execution_count": 10,
   "metadata": {},
   "outputs": [],
   "source": [
    "dm6 = load_data().read_from_path(\"L:\\lab_research\\RES-Folder-UPOD\\Celldynclustering\\E_ResearchData\\\\2_ResearchData\\embedded_celldyn_nn50_ndim6.feather\",contain_y=False)\n",
    "\n",
    "output = None\n",
    "f = open('models/hdbscan_param_grid.pickle', 'rb')\n",
    "param_grid_full = pickle.load(f)\n",
    "f.close()\n",
    "\n",
    "output = None\n",
    "f = open('models/hdbscan_param_grid_100000.pickle', 'rb')\n",
    "param_grid_100000 = pickle.load(f)\n",
    "f.close()\n",
    "\n",
    "evaluators = {\"silhouette_score\" : silhouette_score,\n",
    "              \"davies_bouldin_score\" : davies_bouldin_score,\n",
    "              \"dunn_fast\" : dunn_fast}\n",
    "\n",
    "ascending = [False,True, False]\n"
   ]
  },
  {
   "cell_type": "markdown",
   "metadata": {},
   "source": [
    "## Parameter tuning with 5000 subsample"
   ]
  },
  {
   "cell_type": "code",
   "execution_count": 5,
   "metadata": {},
   "outputs": [
    {
     "name": "stdout",
     "output_type": "stream",
     "text": [
      "Around 10% done.\n",
      "Around 20% done.\n",
      "Around 30% done.\n",
      "Around 40% done.\n",
      "Around 50% done.\n",
      "Around 60% done.\n",
      "Around 70% done.\n",
      "Around 80% done.\n",
      "Around 90% done.\n",
      "Around 100% done.\n",
      "Hyperpameter tuning is done and the best scores are:\n",
      "silhouette_score        0.580725\n",
      "davies_bouldin_score    0.328124\n",
      "dunn_fast                0.61852\n",
      "Name: 0, dtype: object\n",
      "with parameter: {'min_samples': 15, 'min_cluster_size': 10, 'cluster_selection_epsilon': 1.0, 'cluster_selection_method': 'eom'}\n",
      "Finish tuning in  14501.814065694809 seconds.\n"
     ]
    }
   ],
   "source": [
    "\n",
    "results = random_seach_optimization(dm6.X,hdbscan.HDBSCAN,evaluators=evaluators,param_grid=param_grid_full,ascending=ascending, subsampling=5000,max_evals=1000, num_iter=10)\n",
    "\n",
    "results.to_csv(\"models/cell_dyn_hdbscan_hyper_op_results_5000.csv\")"
   ]
  },
  {
   "cell_type": "markdown",
   "metadata": {},
   "source": [
    "## Parameter tuning with 20,000"
   ]
  },
  {
   "cell_type": "code",
   "execution_count": 3,
   "metadata": {},
   "outputs": [
    {
     "name": "stdout",
     "output_type": "stream",
     "text": [
      "Around 10% done.\n",
      "Around 20% done.\n",
      "Around 30% done.\n",
      "Around 40% done.\n",
      "Around 50% done.\n",
      "Around 60% done.\n",
      "Around 70% done.\n",
      "Around 80% done.\n",
      "Around 90% done.\n",
      "Around 100% done.\n",
      "Hyperpameter tuning is done and the best scores are:\n",
      "silhouette_score        0.603887\n",
      "davies_bouldin_score     0.31799\n",
      "dunn_fast               0.589469\n",
      "Name: 0, dtype: object\n",
      "with parameter: {'min_samples': 65, 'min_cluster_size': 30, 'cluster_selection_epsilon': 0.4, 'cluster_selection_method': 'eom'}\n",
      "Finish tuning in  98138.79568386078 seconds.\n"
     ]
    }
   ],
   "source": [
    "\n",
    "results = grid_seach_optimization(dm6.X,hdbscan.HDBSCAN,evaluators=evaluators,param_grid=param_grid_full,ascending=ascending, subsampling=20000, num_iter=10)\n",
    "\n",
    "results.to_csv(\"models/cell_dyn_hdbscan_hyper_op_results_20000.csv\")"
   ]
  }
 ],
 "metadata": {
  "kernelspec": {
   "display_name": "Python 3.10.4 ('CellDynCluster')",
   "language": "python",
   "name": "python3"
  },
  "language_info": {
   "codemirror_mode": {
    "name": "ipython",
    "version": 3
   },
   "file_extension": ".py",
   "mimetype": "text/x-python",
   "name": "python",
   "nbconvert_exporter": "python",
   "pygments_lexer": "ipython3",
   "version": "3.10.4"
  },
  "orig_nbformat": 4,
  "vscode": {
   "interpreter": {
    "hash": "5deb914aa631c094dbee2b245fe292bd804ba18ca3cb2d31e687d93fc90e2ee0"
   }
  }
 },
 "nbformat": 4,
 "nbformat_minor": 2
}
