{
 "cells": [
  {
   "cell_type": "code",
   "execution_count": 1,
   "metadata": {},
   "outputs": [],
   "source": [
    "import os\n",
    "os.chdir(\"T:/laupodteam/AIOS/Chontira/CellDynClustering\")\n",
    "from setup import *\n",
    "\n"
   ]
  },
  {
   "cell_type": "code",
   "execution_count": 4,
   "metadata": {},
   "outputs": [],
   "source": [
    "best_param_sub_sam_1 = {'min_samples': 5, \n",
    "                        'min_cluster_size': 5, \n",
    "                        'cluster_selection_epsilon': 0.1, \n",
    "                        'cluster_selection_method': 'eom', \n",
    "                        'metric': 'manhattan'}\n",
    "\n",
    "best_param_sub_sam_2 = {'min_samples': 5, \n",
    "                        'min_cluster_size': 5, \n",
    "                        'cluster_selection_epsilon': 0.2, \n",
    "                        'cluster_selection_method': 'eom', \n",
    "                        'metric': 'mahalanobis'}\n",
    "                    \n",
    "best_param_sub_sam_3 = {'min_samples': 5, \n",
    "                        'min_cluster_size': 5, \n",
    "                        'cluster_selection_epsilon': 1.0, \n",
    "                        'cluster_selection_method': 'leaf', \n",
    "                        'metric': 'euclidean'}\n",
    "\n",
    "\n",
    "best_param_1 = {'min_samples': 5, \n",
    "                        'min_cluster_size': 50, \n",
    "                        'cluster_selection_epsilon': 0.1, \n",
    "                        'cluster_selection_method': 'eom', \n",
    "                        'metric': 'manhattan'}\n",
    "\n",
    "best_param_2 = {'min_samples': 5, \n",
    "                        'min_cluster_size': 50, \n",
    "                        'cluster_selection_epsilon': 0.2, \n",
    "                        'cluster_selection_method': 'eom', \n",
    "                        'metric': 'mahalanobis'}\n",
    "                    \n",
    "best_param_3 = {'min_samples': 5, \n",
    "                        'min_cluster_size': 50, \n",
    "                        'cluster_selection_epsilon': 1.0, \n",
    "                        'cluster_selection_method': 'leaf', \n",
    "                        'metric': 'euclidean'}"
   ]
  },
  {
   "cell_type": "code",
   "execution_count": 3,
   "metadata": {},
   "outputs": [
    {
     "name": "stdout",
     "output_type": "stream",
     "text": [
      "Metric                                        Score\n",
      "---------------------------------------  ----------\n",
      "silhouette_score                         0.478685\n",
      "silhouette_score standard deviation      0.00206063\n",
      "davies_bouldin_score                     0.499054\n",
      "davies_bouldin_score standard deviation  0.251588\n",
      "dunn_fast                                0.249155\n",
      "dunn_fast standard deviation             0.211362\n",
      "\n",
      "\n",
      "Unique predicted labels 10\n",
      "Time taken 8.61 minutes\n",
      "Metric                                        Score\n",
      "---------------------------------------  ----------\n",
      "silhouette_score                         0.478369\n",
      "silhouette_score standard deviation      0.00156302\n",
      "davies_bouldin_score                     0.491701\n",
      "davies_bouldin_score standard deviation  0.224988\n",
      "dunn_fast                                0.397374\n",
      "dunn_fast standard deviation             0.151658\n",
      "\n",
      "\n",
      "Unique predicted labels 10\n",
      "Time taken 5.12 minutes\n",
      "Metric                                        Score\n",
      "---------------------------------------  ----------\n",
      "silhouette_score                         0.477564\n",
      "silhouette_score standard deviation      0.00248423\n",
      "davies_bouldin_score                     0.718518\n",
      "davies_bouldin_score standard deviation  0.398643\n",
      "dunn_fast                                0.120963\n",
      "dunn_fast standard deviation             0.184633\n",
      "\n",
      "\n",
      "Unique predicted labels 11\n",
      "Time taken 5.3 minutes\n"
     ]
    }
   ],
   "source": [
    "subsampling_evaluate_scores(dm6.df,hdbscan.HDBSCAN, best_param_sub_sam_2,evaluators, subsampling = 20000,num_iters = 10, remove_noise = False)\n",
    "subsampling_evaluate_scores(dm6.df,hdbscan.HDBSCAN, best_param_sub_sam_3,evaluators, subsampling = 20000,num_iters = 10, remove_noise = False)\n",
    "subsampling_evaluate_scores(dm6.df,hdbscan.HDBSCAN, best_param_sub_sam_1,evaluators, subsampling = 20000,num_iters = 10, remove_noise = False)\n"
   ]
  },
  {
   "cell_type": "code",
   "execution_count": 5,
   "metadata": {},
   "outputs": [],
   "source": [
    "model, labels=fit_predict_score(dm6.df, hdbscan.HDBSCAN, best_param_3,verbose=True, return_model_with_label = True, remove_noise = False)\n"
   ]
  }
 ],
 "metadata": {
  "kernelspec": {
   "display_name": "Python 3.10.4 ('CellDynCluster')",
   "language": "python",
   "name": "python3"
  },
  "language_info": {
   "codemirror_mode": {
    "name": "ipython",
    "version": 3
   },
   "file_extension": ".py",
   "mimetype": "text/x-python",
   "name": "python",
   "nbconvert_exporter": "python",
   "pygments_lexer": "ipython3",
   "version": "3.10.4"
  },
  "orig_nbformat": 4,
  "vscode": {
   "interpreter": {
    "hash": "5deb914aa631c094dbee2b245fe292bd804ba18ca3cb2d31e687d93fc90e2ee0"
   }
  }
 },
 "nbformat": 4,
 "nbformat_minor": 2
}
