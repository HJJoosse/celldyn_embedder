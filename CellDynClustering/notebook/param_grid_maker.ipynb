{
 "cells": [
  {
   "cell_type": "markdown",
   "metadata": {},
   "source": [
    "## Make parameter grids and store them as pickle object file under /models to be used later"
   ]
  },
  {
   "cell_type": "code",
   "execution_count": 3,
   "metadata": {},
   "outputs": [],
   "source": [
    "import pickle\n",
    "import os\n",
    "import numpy as np\n",
    "\n",
    "os.chdir(\"T:/laupodteam/AIOS/Chontira/CellDynClustering\")"
   ]
  },
  {
   "cell_type": "code",
   "execution_count": 6,
   "metadata": {},
   "outputs": [],
   "source": [
    "gmm_grid = {'n_components': list(range(2, 6, 1)),\n",
    "            'n_init': list(range(2, 20, 2)),\n",
    "            'covariance_type' : ('full', 'tied', 'diag', 'spherical'),\n",
    "            'init_params':('kmeans', 'k-means++', 'random', 'random_from_data')}\n",
    "\n",
    "with open(r\"models/GaussianMixtures_param_grid.pickle\", \"wb\") as output_file:\n",
    "    pickle.dump(gmm_grid, output_file) "
   ]
  },
  {
   "cell_type": "code",
   "execution_count": 13,
   "metadata": {},
   "outputs": [],
   "source": [
    "## HDBSCAN full paramter set for 20000 samples with outliers\n",
    "hdbscan_grid = {'min_samples': [5, 10, 15, 20, 25],\n",
    "            'min_cluster_size': [2,5,10,20],\n",
    "            'cluster_selection_epsilon' : [0,0.1,0.2,0.4, 0.6, 0.8, 1.0],\n",
    "            'cluster_selection_method':('eom' , 'leaf'),\n",
    "            'metric' : ( 'euclidean', 'manhattan','mahalanobis')}\n",
    "\n",
    "with open(r\"models/hdbscan_param_grid.pickle\", \"wb\") as output_file:\n",
    "    pickle.dump(hdbscan_grid, output_file) "
   ]
  },
  {
   "cell_type": "code",
   "execution_count": 4,
   "metadata": {},
   "outputs": [],
   "source": [
    "## HDBSCAN paramter subset for 20000 samples with outliers\n",
    "hdbscan_grid = {'min_samples': [5],\n",
    "            'min_cluster_size': [2,5],\n",
    "            'cluster_selection_epsilon' : [0.1,0.2,0.4, 0.6, 0.8, 1.0],\n",
    "            'cluster_selection_method':('eom' , 'leaf'),\n",
    "            'metric' : (  'manhattan','mahalanobis', 'euclidean')}\n",
    "\n",
    "with open(r\"models/hdbscan_param_grid_subset.pickle\", \"wb\") as output_file:\n",
    "    pickle.dump(hdbscan_grid, output_file) "
   ]
  },
  {
   "cell_type": "code",
   "execution_count": 19,
   "metadata": {},
   "outputs": [
    {
     "name": "stdout",
     "output_type": "stream",
     "text": [
      "[0.2, 0.4, 0.6000000000000001, 0.8, 1.0]\n"
     ]
    }
   ],
   "source": [
    "print(list(np.arange(0.2, 1.2, 0.2)))"
   ]
  },
  {
   "cell_type": "code",
   "execution_count": 19,
   "metadata": {},
   "outputs": [
    {
     "data": {
      "text/plain": [
       "dict_values([[5, 10, 15, 20, 25], [2, 5, 10, 20], [0, 0.1, 0.2, 0.4, 0.6, 0.8, 1.0], ('eom', 'leaf'), ('euclidean', 'manhattan', 'mahalanobis')])"
      ]
     },
     "execution_count": 19,
     "metadata": {},
     "output_type": "execute_result"
    }
   ],
   "source": [
    "hdbscan_grid.values()\n"
   ]
  }
 ],
 "metadata": {
  "kernelspec": {
   "display_name": "Python 3.10.4 ('CellDynCluster')",
   "language": "python",
   "name": "python3"
  },
  "language_info": {
   "codemirror_mode": {
    "name": "ipython",
    "version": 3
   },
   "file_extension": ".py",
   "mimetype": "text/x-python",
   "name": "python",
   "nbconvert_exporter": "python",
   "pygments_lexer": "ipython3",
   "version": "3.10.4"
  },
  "orig_nbformat": 4,
  "vscode": {
   "interpreter": {
    "hash": "5deb914aa631c094dbee2b245fe292bd804ba18ca3cb2d31e687d93fc90e2ee0"
   }
  }
 },
 "nbformat": 4,
 "nbformat_minor": 2
}
