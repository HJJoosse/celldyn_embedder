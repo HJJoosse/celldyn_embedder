{
 "cells": [
  {
   "cell_type": "code",
   "execution_count": 1,
   "metadata": {},
   "outputs": [
    {
     "name": "stderr",
     "output_type": "stream",
     "text": [
      "c:\\Users\\bes3\\VIRTUALENVS\\embedder\\lib\\site-packages\\tqdm\\auto.py:22: TqdmWarning: IProgress not found. Please update jupyter and ipywidgets. See https://ipywidgets.readthedocs.io/en/stable/user_install.html\n",
      "  from .autonotebook import tqdm as notebook_tqdm\n",
      "c:\\Users\\bes3\\VIRTUALENVS\\embedder\\lib\\site-packages\\torch\\_masked\\__init__.py:223: UserWarning: Failed to initialize NumPy: module compiled against API version 0xf but this version of numpy is 0xe (Triggered internally at  ..\\torch\\csrc\\utils\\tensor_numpy.cpp:68.)\n",
      "  example_input = torch.tensor([[-3, -2, -1], [0, 1, 2]])\n"
     ]
    }
   ],
   "source": [
    "%load_ext autoreload\n",
    "\n",
    "%autoreload 2\n",
    "\n",
    "%matplotlib inline\n",
    "\n",
    "import os\n",
    "import sys\n",
    "import os\n",
    "import pandas as pd\n",
    "import numpy as np\n",
    "\n",
    "import matplotlib.pyplot as plt\n",
    "import seaborn as sns\n",
    "\n",
    "#import pacmap\n",
    "import umap\n",
    "#import trimap\n",
    "#import ivis\n",
    "#import phate\n",
    "\n",
    "#from scipy.stats import chisquare, chi2_contingency, pearsonr\n",
    "#from scipy.stats import kendalltau,spearmanr, weightedtau, theilslopes, wilcoxon, ttest_rel\n",
    "#from scipy.spatial import distance\n",
    "#import dcor\n",
    "\n",
    "from sklearn.preprocessing import FunctionTransformer, StandardScaler\n",
    "from sklearn.compose import ColumnTransformer\n",
    "from sklearn.pipeline import Pipeline\n",
    "from sklearn.decomposition import PCA\n",
    "from sklearn.manifold import Isomap, MDS, SpectralEmbedding\n",
    "from sklearn.manifold import LocallyLinearEmbedding as LLE, TSNE, smacof, trustworthiness\n",
    "\n",
    "\n",
    "#from sklearn.metrics import rand_score, adjusted_mutual_info_score, adjusted_rand_score\n",
    "#from sklearn.metrics import calinski_harabasz_score, davies_bouldin_score\n",
    "#from sklearn.neighbors import KNeighborsClassifier as KNN\n",
    "#from sklearn.cluster import KMeans\n",
    "\n",
    "#import numpy.linalg as la\n",
    "#import torch \n",
    "\n",
    "#from numba import njit\n",
    "\n",
    "#import faiss\n",
    "\n",
    "from hembedder.utils import distance, hyperparameter_tuning, quality_metrics"
   ]
  },
  {
   "cell_type": "code",
   "execution_count": 2,
   "metadata": {},
   "outputs": [],
   "source": [
    "cwd = os.getcwd()"
   ]
  },
  {
   "attachments": {},
   "cell_type": "markdown",
   "metadata": {},
   "source": [
    "Potential Embeddings to test:\n",
    "* PCA (sklearn)\n",
    "* SMACOF (sklearn)\n",
    "* **LMDS** with exemplars for landmarking (local):\n",
    "* LMVU (local):\n",
    "* Sammon (local):\n",
    "* GPLVM: \n",
    "* RankVisu:\n",
    "* **UMAP**, [github](https://umap-learn.readthedocs.io/en/latest/index.html), [paper](https://arxiv.org/abs/1802.03426)\n",
    "* **Parametric UMAP**, [github](https://umap-learn.readthedocs.io/en/latest/parametric_umap.html), [paper](https://arxiv.org/abs/2009.12981)\n",
    "* **DenseMap**, part of UMAP library, [paper](https://www.biorxiv.org/content/10.1101/2020.05.12.077776v1)\n",
    "* **IVIS**, [github](https://github.com/beringresearch/ivis), [paper](https://www.nature.com/articles/s41598-019-45301-0)\n",
    "* **PHATE**, [github](https://phate.readthedocs.io/en/stable/), [paper](https://www.nature.com/articles/s41587-019-0336-3)\n",
    "* **PACMAP**, [github](https://github.com/YingfanWang/PaCMAP), [paper](https://jmlr.org/papers/v22/20-1061.html)\n",
    "* **TriMap**, [github](https://github.com/eamid/trimap), [paper](https://arxiv.org/abs/1910.00204)\n",
    "* HOPE, [github](https://github.com/palash1992/GEM), [paper](https://dl.acm.org/doi/abs/10.1145/2939672.2939751)\n",
    "* opt-SNE, [github](https://github.com/omiq-ai/Multicore-opt-SNE), [paper](https://www.biorxiv.org/content/10.1101/451690v3)\n",
    "* FactorizedEmbeddings,[github](https://github.com/TrofimovAssya/FactorizedEmbeddings), [paper](https://academic.oup.com/bioinformatics/article/36/Supplement_1/i417/5870511)\n",
    "* **MCML**, [github](https://github.com/pachterlab/MCML)\n",
    "\n",
    "Distances:\n",
    "* Manhattan\n",
    "* Poincare\n",
    "* Mahalanobis\n",
    "* Euclidean\n",
    "\n",
    "Data:\n",
    "* celldyn; 3 million samples, 100+ dimensions\n",
    "* RNA expression; 1200 samples; 40.000 dimensions\n",
    "* synthetic datasets\n",
    "\n",
    "Metrics:\n",
    "* **Distance correlation**\n",
    "* Rank preservation\n",
    "* **Jaccard-index** \n",
    "* Calinski-Harabasz\n",
    "* Davies-Bouldin\n",
    "* Adjusted Rand score\n",
    "* **Adjusted mutual information**\n",
    "* Trustworthiness\n",
    "* **random triplet score**: rank preservation among random triplets\n",
    "* **Overall rank preservation**\n",
    "\n",
    "Table with the embeddings, the quality metrics for \n",
    "* ```n_components```\n",
    "* ```n_neighbors```\n",
    "* ```n_samples```"
   ]
  },
  {
   "cell_type": "markdown",
   "metadata": {},
   "source": [
    "#### celldyn data"
   ]
  },
  {
   "cell_type": "code",
   "execution_count": 3,
   "metadata": {},
   "outputs": [],
   "source": [
    "celldyn_full = pd.read_feather(\"L:\\laupodteam\\AIOS\\Bram\\data\\CellDyn\\celldyn_FULL_transformed_df.feather\")\n",
    "meas_columns = [c for c in celldyn_full.columns if 'c_b' in c or 'COMBO_' in c]\n",
    "mode_columns = [c for c in celldyn_full.columns if 'c_m' in c]\n",
    "alrt_columns = [c for c in celldyn_full.columns if 'alrt' in c.lower()]\n",
    "c_s_columns = [c for c in celldyn_full.columns if 'c_s_' in c.lower()]\n",
    "demo_columns = ['gender', 'age']"
   ]
  },
  {
   "attachments": {},
   "cell_type": "markdown",
   "metadata": {},
   "source": [
    "## Test embedding"
   ]
  },
  {
   "cell_type": "code",
   "execution_count": 4,
   "metadata": {},
   "outputs": [],
   "source": [
    "embedder = umap.UMAP(n_components=6)\n",
    "X_org = celldyn_full.sample(1000)[meas_columns]\n",
    "X_emb = embedder.fit_transform(X_org)"
   ]
  },
  {
   "cell_type": "code",
   "execution_count": 5,
   "metadata": {},
   "outputs": [
    {
     "data": {
      "text/plain": [
       "(0.5755579738705427, 0.8644618602788745)"
      ]
     },
     "execution_count": 5,
     "metadata": {},
     "output_type": "execute_result"
    }
   ],
   "source": [
    "from scipy.spatial.distance import pdist\n",
    "import dcor\n",
    "\n",
    "dists_org = pdist(X_org.values, metric='euclidean')\n",
    "dists_emd = pdist(X_emb, metric='euclidean')\n",
    "dcor.distance_correlation(dists_org, dists_emd), dcor.distance_correlation(X_org, X_emb)"
   ]
  },
  {
   "cell_type": "code",
   "execution_count": 6,
   "metadata": {},
   "outputs": [],
   "source": [
    "d1list = []\n",
    "d2list = []\n",
    "for _ in range(20):\n",
    "    indcs = np.random.randint(0, 1000, 1000)\n",
    "    dists_org = pdist(X_org.values[indcs,:], metric='euclidean')\n",
    "    dists_emd = pdist(X_emb[indcs,:], metric='euclidean')\n",
    "    d1 = dcor.distance_correlation(dists_org, dists_emd)\n",
    "    d2 = dcor.distance_correlation(X_org.values[indcs,:], X_emb[indcs,:])\n",
    "    d1list.append(d1)\n",
    "    d2list.append(d2)\n"
   ]
  },
  {
   "cell_type": "code",
   "execution_count": 7,
   "metadata": {},
   "outputs": [
    {
     "data": {
      "text/plain": [
       "<matplotlib.lines.Line2D at 0x25f27ee89d0>"
      ]
     },
     "execution_count": 7,
     "metadata": {},
     "output_type": "execute_result"
    },
    {
     "data": {
      "image/png": "[encoded data removed]",
      "text/plain": [
       "<Figure size 640x480 with 1 Axes>"
      ]
     },
     "metadata": {},
     "output_type": "display_data"
    }
   ],
   "source": [
    "plt.hist(d1list, histtype='step');\n",
    "plt.hist(d2list, histtype='step');\n",
    "plt.axvline(0.64, color='black')\n",
    "plt.axvline(0.87, color='black')"
   ]
  },
  {
   "attachments": {},
   "cell_type": "markdown",
   "metadata": {},
   "source": [
    "## Parameter sweep definition"
   ]
  },
  {
   "cell_type": "code",
   "execution_count": 8,
   "metadata": {},
   "outputs": [],
   "source": [
    "samples = [80000]\n",
    "samples.reverse()\n",
    "\n",
    "param_grid = {    \n",
    "    'n_neighbors' : [5, 15, 30, 50, 100, 160]\n",
    "}\n",
    "components = [2, 4, 6, 8, 16, 32]\n",
    "\n",
    "distance_metric = 'manhattan' # cosine, euclidea n, manhattan, distance.poincarre_dist\n",
    "metric_chuck_size = 5000"
   ]
  },
  {
   "cell_type": "code",
   "execution_count": 9,
   "metadata": {},
   "outputs": [],
   "source": [
    "evaluate_n_n_default = quality_metrics.CDEmbeddingPerformance(dcor_level=2, n_neighbours=15, metric='manhattan')\n",
    "evaluate = quality_metrics.CDEmbeddingPerformance(dcor_level=1, n_neighbours=100, metric='manhattan')\n",
    "\n",
    "evaluators = {'Trustworthiness': evaluate._return_trustworthiness,\n",
    "              'Distance correlation': evaluate._return_distance_correlation,\n",
    "              'Distance correlation-correlation': evaluate_n_n_default._return_distance_correlation,\n",
    "              'Random_triplets' : evaluate.random_triplet_eval,\n",
    "              'neighbor_kept_ratio' : evaluate.neighbor_kept_ratio_eval,\n",
    "              'neighbor_kept_15' : evaluate_n_n_default.neighbor_kept_ratio_eval}"
   ]
  },
  {
   "attachments": {},
   "cell_type": "markdown",
   "metadata": {},
   "source": [
    "## Embedder invocation"
   ]
  },
  {
   "cell_type": "code",
   "execution_count": 10,
   "metadata": {},
   "outputs": [],
   "source": [
    "embedder = umap.UMAP\n",
    "kwargs = {  \n",
    "            'metric' : distance_metric, \n",
    "            'output_metric': distance_metric,\n",
    "            'n_jobs' : 8, \n",
    "            'n_epochs' : 500, \n",
    "            'init' : 'spectral', \n",
    "            'densmap': False,\n",
    "            'dens_lambda' : 0.1, \n",
    "            'dens_frac' : 0.1, \n",
    "            'repulsion_strength' : 1.1, \n",
    "            'negative_sample_rate' : 10, \n",
    "            'random_state' : 42,\n",
    "            'min_dist' : 0.0,\n",
    "            'low_memory' : False\n",
    "}"
   ]
  },
  {
   "attachments": {},
   "cell_type": "markdown",
   "metadata": {},
   "source": [
    "## Run sweep"
   ]
  },
  {
   "cell_type": "code",
   "execution_count": 12,
   "metadata": {},
   "outputs": [
    {
     "name": "stdout",
     "output_type": "stream",
     "text": [
      "Total number of embedding runs :  6 (combos)x10(iterations) with [320000] sample_size for the embedding. Exceptions will be raised, if sample  size is larger than data size which is 3093792\n"
     ]
    },
    {
     "name": "stderr",
     "output_type": "stream",
     "text": [
      "  0%|          | 0/5 [00:00<?, ?it/s]c:\\Users\\bes3\\VIRTUALENVS\\embedder\\lib\\site-packages\\sklearn\\manifold\\_spectral_embedding.py:260: UserWarning: Graph is not fully connected, spectral embedding may not work as expected.\n",
      "  warnings.warn(\n",
      "c:\\Users\\bes3\\VIRTUALENVS\\embedder\\lib\\site-packages\\sklearn\\manifold\\_spectral_embedding.py:260: UserWarning: Graph is not fully connected, spectral embedding may not work as expected.\n",
      "  warnings.warn(\n",
      "c:\\Users\\bes3\\VIRTUALENVS\\embedder\\lib\\site-packages\\sklearn\\manifold\\_spectral_embedding.py:260: UserWarning: Graph is not fully connected, spectral embedding may not work as expected.\n",
      "  warnings.warn(\n",
      "c:\\Users\\bes3\\VIRTUALENVS\\embedder\\lib\\site-packages\\sklearn\\manifold\\_spectral_embedding.py:260: UserWarning: Graph is not fully connected, spectral embedding may not work as expected.\n",
      "  warnings.warn(\n",
      "c:\\Users\\bes3\\VIRTUALENVS\\embedder\\lib\\site-packages\\sklearn\\manifold\\_spectral_embedding.py:260: UserWarning: Graph is not fully connected, spectral embedding may not work as expected.\n",
      "  warnings.warn(\n",
      "c:\\Users\\bes3\\VIRTUALENVS\\embedder\\lib\\site-packages\\sklearn\\manifold\\_spectral_embedding.py:260: UserWarning: Graph is not fully connected, spectral embedding may not work as expected.\n",
      "  warnings.warn(\n",
      "c:\\Users\\bes3\\VIRTUALENVS\\embedder\\lib\\site-packages\\sklearn\\manifold\\_spectral_embedding.py:260: UserWarning: Graph is not fully connected, spectral embedding may not work as expected.\n",
      "  warnings.warn(\n"
     ]
    }
   ],
   "source": [
    "for s in samples:\n",
    "    for nc in components:\n",
    "        kwargs['n_components'] = nc\n",
    "        tuning = hyperparameter_tuning.Hyperparameter_tuning(celldyn_full[meas_columns],\n",
    "                                                            embedder,\n",
    "                                                            evaluators=evaluators,param_grid=param_grid,\n",
    "                                                            ascending=False, \n",
    "                                                            file_name=os.path.join(cwd, f\"../artifacts/run_sweep_emb{s}_eval{metric_chuck_size}_{distance_metric}.csv\"),\n",
    "                                                            sample_size=s,\n",
    "                                                            standardised=False, \n",
    "                                                            num_iter=1,\n",
    "                                                            metric_chuck_size=metric_chuck_size,\n",
    "                                                            n_parjobs = 8, \n",
    "                                                            **kwargs)\n",
    "        _ = tuning.grid_search()"
   ]
  }
 ],
 "metadata": {
  "kernelspec": {
   "display_name": "base",
   "language": "python",
   "name": "python3"
  },
  "language_info": {
   "codemirror_mode": {
    "name": "ipython",
    "version": 3
   },
   "file_extension": ".py",
   "mimetype": "text/x-python",
   "name": "python",
   "nbconvert_exporter": "python",
   "pygments_lexer": "ipython3",
   "version": "3.10.4"
  },
  "orig_nbformat": 4,
  "vscode": {
   "interpreter": {
    "hash": "da1a1f9fee48aeb25414ae45b99f00113784206b411b315deabc951a0f32f6bd"
   }
  }
 },
 "nbformat": 4,
 "nbformat_minor": 2
}
