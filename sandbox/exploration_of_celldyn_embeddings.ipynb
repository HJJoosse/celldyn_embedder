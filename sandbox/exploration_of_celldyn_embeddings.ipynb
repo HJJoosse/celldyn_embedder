{
 "cells": [
  {
   "cell_type": "code",
   "execution_count": 1,
   "id": "5a87bc18",
   "metadata": {},
   "outputs": [
    {
     "name": "stderr",
     "output_type": "stream",
     "text": [
      "SyntaxWarning: assertion is always true, perhaps remove parentheses?\n"
     ]
    }
   ],
   "source": [
    "%load_ext autoreload\n",
    "%autoreload 1\n",
    "%matplotlib inline\n",
    "\n",
    "import datetime\n",
    "#import pandas as pd\n",
    "import modin.pandas as pd\n",
    "import numpy as np\n",
    "import scipy as sc\n",
    "import matplotlib.pyplot as plt\n",
    "import seaborn as sns\n",
    "import umap\n",
    "from tqdm import tqdm\n",
    "\n",
    "\n",
    "#from sklearnex import patch_sklearn\n",
    "#patch_sklearn()\n",
    "\n",
    "from sklearn.preprocessing import FunctionTransformer, StandardScaler\n",
    "from sklearn.compose import ColumnTransformer\n",
    "from sklearn.pipeline import Pipeline\n",
    "from sklearn.base import BaseEstimator, TransformerMixin\n",
    "\n",
    "import os\n",
    "import gc\n",
    "\n",
    "os.chdir(\"T:\\\\laupodteam\\\\AIOS\\\\Bram\\\\notebooks\\\\code_dev\\\\celldyn_embedder\\\\sandbox\")\n",
    "#os.chdir(\"/media/UMCU/notebooks/code_dev/celldyn_embedder/sandbox\")\n",
    "sns.set_style(\"whitegrid\")\n",
    "\n",
    "from celldyn_qc import QcControl\n",
    "from ctransformers import CellDynTrans\n",
    "\n",
    "write_to_disk = False\n",
    "read_from_disk = True"
   ]
  },
  {
   "cell_type": "code",
   "execution_count": 2,
   "id": "842b79dc",
   "metadata": {},
   "outputs": [
    {
     "name": "stderr",
     "output_type": "stream",
     "text": [
      "2022-08-16 22:29:05,560\tINFO services.py:1456 -- View the Ray dashboard at \u001b[1m\u001b[32mhttp://127.0.0.1:8265\u001b[39m\u001b[22m\n"
     ]
    },
    {
     "data": {
      "text/plain": [
       "RayContext(dashboard_url='127.0.0.1:8265', python_version='3.8.10', ray_version='1.12.1', ray_commit='4863e33856b54ccf8add5cbe75e41558850a1b75', address_info={'node_ip_address': '127.0.0.1', 'raylet_ip_address': '127.0.0.1', 'redis_address': None, 'object_store_address': 'tcp://127.0.0.1:61547', 'raylet_socket_name': 'tcp://127.0.0.1:61035', 'webui_url': '127.0.0.1:8265', 'session_dir': 'C:\\\\Users\\\\bes3\\\\AppData\\\\Local\\\\Temp\\\\ray\\\\session_2022-08-16_22-29-02_788569_22012', 'metrics_export_port': 63638, 'gcs_address': '127.0.0.1:62637', 'address': '127.0.0.1:62637', 'node_id': 'b48a15cc53ee427a79816949ae9ea8c7ce3c0fa7731a4fad8d1cbb32'})"
      ]
     },
     "execution_count": 2,
     "metadata": {},
     "output_type": "execute_result"
    }
   ],
   "source": [
    "import ray\n",
    "ray.init()"
   ]
  },
  {
   "cell_type": "markdown",
   "id": "50c05243",
   "metadata": {},
   "source": [
    "* filter based on group flags\n",
    "* filter based on suspect flags\n",
    "* filter based on range\n",
    "* apply scaling\n",
    "* correct for diurnal rythm\n",
    "* impute"
   ]
  },
  {
   "cell_type": "code",
   "execution_count": 3,
   "id": "c1e5eb56",
   "metadata": {},
   "outputs": [],
   "source": [
    "def sigmoid(x):\n",
    "    #return np.tanh(x)\n",
    "    return 1/(1+np.exp(-x))\n",
    "\n",
    "def sigmoid_log(x):\n",
    "    return sigmoid(np.log(x+1))"
   ]
  },
  {
   "cell_type": "markdown",
   "id": "c7c9fdc2",
   "metadata": {},
   "source": [
    "There are no special NaN-modes; the NaN's are the result of running in non-reti modus, the affected measurements are:\n",
    "\n",
    "`\n",
    "'c_b_retc',\n",
    "'c_b_pretc',\n",
    "'c_b_irf',\n",
    "'c_b_pHPO',\n",
    "'c_b_pHPR',\n",
    "'c_b_HDW',\n",
    "'c_b_MCVr',\n",
    "'c_b_MCHr',\n",
    "'c_b_MCHCr',\n",
    "'c_b_rbcimn',\n",
    "'c_b_rbcicv',\n",
    "'c_b_rbcfmn',\n",
    "'c_b_rbcfcv'\n",
    "`"
   ]
  },
  {
   "cell_type": "code",
   "execution_count": 4,
   "id": "7c7356c3",
   "metadata": {},
   "outputs": [],
   "source": [
    "celldyn = pd.read_feather(\"T:\\laupodteam\\AIOS\\Bram\\data\\CellDyn\\celldyn.feather\")\n",
    "celldyn.columns = celldyn.columns.str.lower()"
   ]
  },
  {
   "cell_type": "code",
   "execution_count": 5,
   "id": "7db74801",
   "metadata": {},
   "outputs": [
    {
     "data": {
      "text/plain": [
       "51"
      ]
     },
     "execution_count": 5,
     "metadata": {},
     "output_type": "execute_result"
    }
   ],
   "source": [
    "gc.collect()"
   ]
  },
  {
   "cell_type": "code",
   "execution_count": 6,
   "id": "e8076b26",
   "metadata": {},
   "outputs": [
    {
     "name": "stderr",
     "output_type": "stream",
     "text": [
      "UserWarning: `Series.<lambda>` defaulting to pandas implementation.\n",
      "Please refer to https://modin.readthedocs.io/en/stable/supported_apis/defaulting_to_pandas.html for explanation.\n",
      "UserWarning: Distributing <class 'pandas.core.series.Series'> object. This may take some time.\n",
      "FutureWarning: The series.append method is deprecated and will be removed from pandas in a future version. Use pandas.concat instead.\n",
      "FutureWarning: The series.append method is deprecated and will be removed from pandas in a future version. Use pandas.concat instead.\n"
     ]
    }
   ],
   "source": [
    "\n",
    "meta_cols = ['asp_dt', 'analyzer', 'studyId_Alle_celldyn', \n",
    "             'time_to_measurement', 'gender', 'age' , 'afname_dt',\n",
    "             'day_of_year', 'week_of_year', 'year', 'first_day',\n",
    "              'draw_hour', 'meas_hour']\n",
    "count_columns = [c for c in celldyn.columns if 'c_cnt' in c]\n",
    "meas_columns = [c for c in celldyn.columns if 'c_b' in c]+['plt']\n",
    "mode_columns = [c for c in celldyn.columns if 'c_m' in c]\n",
    "susp_columns = [c for c in celldyn.columns if 'c_s' in c]\n",
    "alert_columns = [c for c in celldyn.columns if 'alrt' in c]\n",
    "fail_columns = [c for c in celldyn.columns if 'fail' in c]\n",
    "all_cols  = meta_cols+meas_columns+mode_columns+susp_columns+alert_columns+count_columns+fail_columns\n",
    "other_cols = [c for c in celldyn.columns if c not in all_cols]\n",
    "\n",
    "celldyn['gender']= celldyn.gender.str.decode(encoding='latin1')\n",
    "celldyn['age'] = celldyn.age.astype(int)\n",
    "celldyn['meas_hour'] = celldyn['asp_dt'].dt.hour#   apply(lambda x: x.hour)\n",
    "celldyn['draw_hour'] = celldyn['afname_dt'].dt.hour # .apply(lambda x: x.hour)\n",
    "celldyn['time_to_measurement'] = (celldyn.asp_dt-celldyn.afname_dt).dt.total_seconds()\n",
    "celldyn['time_to_measurement'] = celldyn['time_to_measurement']//3600\n",
    "\n",
    "cond = (celldyn.time_to_measurement<10) & (celldyn.time_to_measurement>-4)\n",
    "celldyn = celldyn[cond]\n",
    "\n",
    "def next_weekday(d, weekday):\n",
    "    days_diff = weekday - d.weekday()\n",
    "    return (d + datetime.timedelta(days_diff))\\\n",
    "    .replace(hour=0, minute=0, second=0, microsecond=0)\n",
    "\n",
    "celldyn['day_of_year'] = np.nan\n",
    "celldyn['day_of_year'] = celldyn.loc[celldyn.c_mode_xlyse==0, 'asp_dt']\\\n",
    "                            .apply(lambda x: x.dayofyear)\n",
    "celldyn['week_of_year'] = celldyn.loc[celldyn.c_mode_xlyse==0, 'asp_dt']\\\n",
    "                            .apply(lambda x: x.weekofyear)\n",
    "\n",
    "celldyn['year'] = celldyn.loc[celldyn.c_mode_xlyse==0, 'asp_dt'].apply(lambda x: x.year)\n",
    "celldyn['first_day'] = celldyn.afname_dt.apply(lambda x: next_weekday(x, 0))"
   ]
  },
  {
   "cell_type": "code",
   "execution_count": 7,
   "id": "c2e5ff76",
   "metadata": {},
   "outputs": [
    {
     "name": "stderr",
     "output_type": "stream",
     "text": [
      "100%|██████████| 11/11 [00:50<00:00,  4.55s/it]\n"
     ]
    }
   ],
   "source": [
    "celldyn['mode_combos'] = celldyn[mode_columns]\\\n",
    "                        .apply(lambda x: \",\".join([str(_x) for _x in x]),\\\n",
    "                         axis=1)\n",
    "\n",
    "nan_modes = {}\n",
    "for c in tqdm(celldyn['mode_combos'].unique()):\n",
    "    condition = celldyn['mode_combos'] == c\n",
    "    meas_df=celldyn.loc[condition, meas_columns]\n",
    "    N = meas_df.shape[0]\n",
    "    named_c = \",\".join([f\"{mode_columns[i]}:{str(int(float(v)))}\"\n",
    "                 for i, v in enumerate(c.split(\",\"))])\n",
    "    nan_list = meas_df.columns[meas_df.isna().sum()/N>=0.8].tolist()\n",
    "    if len(nan_list)>0:\n",
    "        nan_modes[named_c] = nan_list\n",
    "        \n",
    "reti_mode_cols = list(set([_v for k,v in nan_modes.items() for _v in v if 'c_mode_rtc' in k]))"
   ]
  },
  {
   "cell_type": "code",
   "execution_count": 36,
   "id": "76bccde0",
   "metadata": {},
   "outputs": [
    {
     "ename": "NameError",
     "evalue": "name 'celldyn' is not defined",
     "output_type": "error",
     "traceback": [
      "\u001b[1;31m---------------------------------------------------------------------------\u001b[0m",
      "\u001b[1;31mNameError\u001b[0m                                 Traceback (most recent call last)",
      "\u001b[1;32m~\\AppData\\Local\\Temp/ipykernel_22012/3473931633.py\u001b[0m in \u001b[0;36m<module>\u001b[1;34m\u001b[0m\n\u001b[1;32m----> 1\u001b[1;33m \u001b[0mcelldyn\u001b[0m\u001b[1;33m.\u001b[0m\u001b[0mloc\u001b[0m\u001b[1;33m[\u001b[0m\u001b[0mcelldyn\u001b[0m\u001b[1;33m.\u001b[0m\u001b[0mc_mode_rtc\u001b[0m\u001b[1;33m==\u001b[0m\u001b[1;36m0\u001b[0m\u001b[1;33m,\u001b[0m \u001b[0mreti_mode_cols\u001b[0m\u001b[1;33m]\u001b[0m \u001b[1;33m=\u001b[0m \u001b[0mnp\u001b[0m\u001b[1;33m.\u001b[0m\u001b[0mnan\u001b[0m\u001b[1;33m\u001b[0m\u001b[1;33m\u001b[0m\u001b[0m\n\u001b[0m",
      "\u001b[1;31mNameError\u001b[0m: name 'celldyn' is not defined"
     ]
    }
   ],
   "source": [
    "celldyn.loc[celldyn.c_mode_rtc==0, reti_mode_cols] = np.nan"
   ]
  },
  {
   "cell_type": "markdown",
   "id": "f8974ca2",
   "metadata": {},
   "source": [
    "# Clean based on flags and limits"
   ]
  },
  {
   "cell_type": "code",
   "execution_count": 8,
   "id": "b895019e",
   "metadata": {},
   "outputs": [
    {
     "name": "stderr",
     "output_type": "stream",
     "text": [
      "UserWarning: `read_*` implementation has mismatches with pandas:\n",
      "Data types of partitions are different! Please refer to the troubleshooting section of the Modin documentation to fix this issue.\n",
      "UserWarning: `DataFrame.to_dict` defaulting to pandas implementation.\n",
      "UserWarning: Distributing <class 'numpy.ndarray'> object. This may take some time.\n",
      "UserWarning: `DataFrame.<lambda>` for empty DataFrame defaulting to pandas implementation.\n",
      "UserWarning: Distributing <class 'pandas.core.series.Series'> object. This may take some time.\n",
      "UserWarning: `Series.<lambda>` for empty DataFrame defaulting to pandas implementation.\n",
      "UserWarning: `DataFrame.<lambda>` for empty DataFrame defaulting to pandas implementation.\n",
      "UserWarning: Distributing <class 'pandas.core.series.Series'> object. This may take some time.\n",
      "UserWarning: `Series.<lambda>` for empty DataFrame defaulting to pandas implementation.\n",
      "UserWarning: `DataFrame.<lambda>` for empty DataFrame defaulting to pandas implementation.\n",
      "UserWarning: Distributing <class 'pandas.core.series.Series'> object. This may take some time.\n",
      "UserWarning: `Series.<lambda>` for empty DataFrame defaulting to pandas implementation.\n",
      "UserWarning: `DataFrame.<lambda>` for empty DataFrame defaulting to pandas implementation.\n",
      "UserWarning: Distributing <class 'pandas.core.series.Series'> object. This may take some time.\n",
      "UserWarning: `Series.<lambda>` for empty DataFrame defaulting to pandas implementation.\n",
      "UserWarning: `DataFrame.<lambda>` for empty DataFrame defaulting to pandas implementation.\n",
      "UserWarning: Distributing <class 'pandas.core.series.Series'> object. This may take some time.\n",
      "UserWarning: `Series.<lambda>` for empty DataFrame defaulting to pandas implementation.\n",
      "UserWarning: `DataFrame.<lambda>` for empty DataFrame defaulting to pandas implementation.\n",
      "UserWarning: Distributing <class 'pandas.core.series.Series'> object. This may take some time.\n",
      "UserWarning: `Series.<lambda>` for empty DataFrame defaulting to pandas implementation.\n",
      "UserWarning: `DataFrame.<lambda>` for empty DataFrame defaulting to pandas implementation.\n",
      "UserWarning: Distributing <class 'pandas.core.series.Series'> object. This may take some time.\n",
      "UserWarning: `Series.<lambda>` for empty DataFrame defaulting to pandas implementation.\n",
      "UserWarning: `DataFrame.<lambda>` for empty DataFrame defaulting to pandas implementation.\n",
      "UserWarning: Distributing <class 'pandas.core.series.Series'> object. This may take some time.\n",
      "UserWarning: `Series.<lambda>` for empty DataFrame defaulting to pandas implementation.\n",
      "UserWarning: `DataFrame.<lambda>` for empty DataFrame defaulting to pandas implementation.\n",
      "UserWarning: Distributing <class 'pandas.core.series.Series'> object. This may take some time.\n",
      "UserWarning: `Series.<lambda>` for empty DataFrame defaulting to pandas implementation.\n",
      "UserWarning: `DataFrame.<lambda>` for empty DataFrame defaulting to pandas implementation.\n",
      "UserWarning: Distributing <class 'pandas.core.series.Series'> object. This may take some time.\n",
      "UserWarning: `Series.<lambda>` for empty DataFrame defaulting to pandas implementation.\n",
      "UserWarning: `DataFrame.<lambda>` for empty DataFrame defaulting to pandas implementation.\n",
      "UserWarning: Distributing <class 'pandas.core.series.Series'> object. This may take some time.\n",
      "UserWarning: `Series.<lambda>` for empty DataFrame defaulting to pandas implementation.\n",
      "UserWarning: `DataFrame.<lambda>` for empty DataFrame defaulting to pandas implementation.\n",
      "UserWarning: Distributing <class 'pandas.core.series.Series'> object. This may take some time.\n",
      "UserWarning: `Series.<lambda>` for empty DataFrame defaulting to pandas implementation.\n",
      "UserWarning: `DataFrame.<lambda>` for empty DataFrame defaulting to pandas implementation.\n",
      "UserWarning: Distributing <class 'pandas.core.series.Series'> object. This may take some time.\n",
      "UserWarning: `Series.<lambda>` for empty DataFrame defaulting to pandas implementation.\n",
      "UserWarning: `DataFrame.<lambda>` for empty DataFrame defaulting to pandas implementation.\n",
      "UserWarning: Distributing <class 'pandas.core.series.Series'> object. This may take some time.\n",
      "UserWarning: `Series.<lambda>` for empty DataFrame defaulting to pandas implementation.\n",
      "UserWarning: `DataFrame.<lambda>` for empty DataFrame defaulting to pandas implementation.\n",
      "UserWarning: Distributing <class 'pandas.core.series.Series'> object. This may take some time.\n",
      "UserWarning: `Series.<lambda>` for empty DataFrame defaulting to pandas implementation.\n",
      "UserWarning: `DataFrame.<lambda>` for empty DataFrame defaulting to pandas implementation.\n",
      "UserWarning: Distributing <class 'pandas.core.series.Series'> object. This may take some time.\n",
      "UserWarning: `Series.<lambda>` for empty DataFrame defaulting to pandas implementation.\n",
      "UserWarning: `DataFrame.<lambda>` for empty DataFrame defaulting to pandas implementation.\n",
      "UserWarning: Distributing <class 'pandas.core.series.Series'> object. This may take some time.\n",
      "UserWarning: `Series.<lambda>` for empty DataFrame defaulting to pandas implementation.\n",
      "UserWarning: `DataFrame.<lambda>` for empty DataFrame defaulting to pandas implementation.\n",
      "UserWarning: Distributing <class 'pandas.core.series.Series'> object. This may take some time.\n",
      "UserWarning: `Series.<lambda>` for empty DataFrame defaulting to pandas implementation.\n",
      "UserWarning: `DataFrame.<lambda>` for empty DataFrame defaulting to pandas implementation.\n",
      "UserWarning: Distributing <class 'pandas.core.series.Series'> object. This may take some time.\n",
      "UserWarning: `Series.<lambda>` for empty DataFrame defaulting to pandas implementation.\n",
      "UserWarning: `DataFrame.<lambda>` for empty DataFrame defaulting to pandas implementation.\n",
      "UserWarning: Distributing <class 'pandas.core.series.Series'> object. This may take some time.\n",
      "UserWarning: `Series.<lambda>` for empty DataFrame defaulting to pandas implementation.\n"
     ]
    }
   ],
   "source": [
    "qc = QcControl(param_file=\"../external/CelldynParams.csv\", \n",
    "               reference_file=None) \n",
    "celldyn_cleaned = pd.DataFrame(data=qc.fit_transform(celldyn), columns=celldyn.columns)"
   ]
  },
  {
   "cell_type": "markdown",
   "id": "f6e3a499",
   "metadata": {},
   "source": [
    "# Scale celldyn measurements"
   ]
  },
  {
   "cell_type": "code",
   "execution_count": 9,
   "id": "fced905f",
   "metadata": {},
   "outputs": [
    {
     "name": "stderr",
     "output_type": "stream",
     "text": [
      "UserWarning: `Series.__array_wrap__` defaulting to pandas implementation.\n",
      "UserWarning: Distributing <class 'pandas.core.series.Series'> object. This may take some time.\n",
      "UserWarning: `Series.__array_wrap__` defaulting to pandas implementation.\n",
      "UserWarning: Distributing <class 'pandas.core.series.Series'> object. This may take some time.\n",
      "UserWarning: `Series.__array_wrap__` defaulting to pandas implementation.\n",
      "UserWarning: Distributing <class 'pandas.core.series.Series'> object. This may take some time.\n",
      "UserWarning: `Series.__array_wrap__` defaulting to pandas implementation.\n",
      "UserWarning: Distributing <class 'pandas.core.series.Series'> object. This may take some time.\n"
     ]
    }
   ],
   "source": [
    "CellDynTrans = CellDynTrans(log_scale=['c_b_seg', 'c_b_neu', 'c_b_wbc'])\n",
    "celldyn_cleaned_transformed = CellDynTrans.fit_transform(celldyn_cleaned)\n",
    "celldyn_cleaned_transformed.to_feather(\"T:\\laupodteam\\AIOS\\Bram\\data\\CellDyn\\celldyn_cleaned_transformed.feather\")\n",
    "celldyn_cleaned_transformed = celldyn_cleaned_transformed._to_pandas()"
   ]
  },
  {
   "cell_type": "markdown",
   "id": "6a5e5196",
   "metadata": {},
   "source": [
    "# Get full data frame"
   ]
  },
  {
   "cell_type": "code",
   "execution_count": null,
   "id": "4ef12ce1",
   "metadata": {},
   "outputs": [],
   "source": [
    "celldyn_cleaned_full_transformed = celldyn_cleaned_transformed.dropna(subset=meas_columns, axis=0)\n",
    "celldyn_cleaned_full_transformed.to_feather(\"T:\\laupodteam\\AIOS\\Bram\\data\\CellDyn\\celldyn_fullcase_cleaned_transformed.feather\")"
   ]
  },
  {
   "cell_type": "code",
   "execution_count": 10,
   "id": "24b341b1",
   "metadata": {},
   "outputs": [
    {
     "data": {
      "text/plain": [
       "21"
      ]
     },
     "execution_count": 10,
     "metadata": {},
     "output_type": "execute_result"
    }
   ],
   "source": [
    "del celldyn\n",
    "del celldyn_cleaned\n",
    "del celldyn_cleaned_full_transformed\n",
    "gc.collect()"
   ]
  },
  {
   "cell_type": "markdown",
   "id": "2125eee4",
   "metadata": {},
   "source": [
    "# Impute\n",
    "\n",
    "* [Fancy impute](https://pypi.org/project/fancyimpute/)\n",
    "* [Auto impute](https://pypi.org/project/autoimpute/)\n",
    "* [Skearn](https://scikit-learn.org/stable/modules/impute.html)\n",
    "* [Statsmodels](https://www.statsmodels.org/dev/generated/statsmodels.imputation.mice.MICE.html)\n",
    "* [Miceforest](https://miceforest.readthedocs.io/en/latest/)\n",
    "\n",
    "*  normalisatie --> KNN impute (hoeveel neighbors, wat voor distance..)\n",
    "* https://arxiv.org/pdf/0805.4471.pdf: in fancyimpute; NuclearNormMinimization\n",
    "* Iterative imputer met PMM : normalisation -> sklearn voor iterative imputer, autoimpute.imputations.series.pmm"
   ]
  },
  {
   "cell_type": "code",
   "execution_count": 13,
   "id": "5334862b",
   "metadata": {},
   "outputs": [],
   "source": [
    "# missing at random are the variables that are missing because we did not run in Reti modus\n",
    "not_reti_mode_cols = [c for c in meas_columns if c not in reti_mode_cols]\n",
    "\n",
    "idx_nreti = celldyn_cleaned_transformed[celldyn_cleaned_transformed.c_mode_rtc==0].index\n",
    "idx_reti = celldyn_cleaned_transformed[celldyn_cleaned_transformed.c_mode_rtc==1].index\n",
    "\n",
    "keep_fullcase = idx_nreti[celldyn_cleaned_transformed\\\n",
    "                            .loc[idx_nreti,\n",
    "                                 not_reti_mode_cols]\\\n",
    "                            .isna().sum(axis=1)==0]\n",
    "keep_reti_only_nans = idx_reti[celldyn_cleaned_transformed\\\n",
    "                            .loc[idx_reti,\n",
    "                                 meas_columns]\\\n",
    "                            .isna().sum(axis=1)==0]\n",
    "celldyn_fullcase_for_impute = celldyn_cleaned_transformed.loc[list(set(keep_fullcase).union(keep_reti_only_nans))]\n",
    "celldyn_fullcase_for_impute = celldyn_fullcase_for_impute._to_pandas()"
   ]
  },
  {
   "cell_type": "code",
   "execution_count": 24,
   "id": "bcd0f41a",
   "metadata": {},
   "outputs": [
    {
     "name": "stdout",
     "output_type": "stream",
     "text": [
      "Initialized logger with name mice 1-5\n",
      "Dataset 0\n",
      "1  | c_b_rtcfcv | c_b_rtcfmn | c_b_pmic | c_b_pmac | c_b_prp | c_b_pretc | c_b_rbcfcv | c_b_rbcfmn | c_b_rbcicv | c_b_rbcimn | c_b_mchr | c_b_mcvr | c_b_hdw | c_b_phpr | c_b_phpo | c_b_irf | c_b_retc | c_b_mchcr\n",
      "2  | c_b_rtcfcv | c_b_rtcfmn | c_b_pmic | c_b_pmac | c_b_prp | c_b_pretc | c_b_rbcfcv | c_b_rbcfmn | c_b_rbcicv | c_b_rbcimn | c_b_mchr | c_b_mcvr | c_b_hdw | c_b_phpr | c_b_phpo | c_b_irf | c_b_retc | c_b_mchcr\n",
      "3  | c_b_rtcfcv | c_b_rtcfmn | c_b_pmic | c_b_pmac | c_b_prp | c_b_pretc | c_b_rbcfcv | c_b_rbcfmn | c_b_rbcicv | c_b_rbcimn | c_b_mchr | c_b_mcvr | c_b_hdw | c_b_phpr | c_b_phpo | c_b_irf | c_b_retc | c_b_mchcr\n",
      "4  | c_b_rtcfcv | c_b_rtcfmn | c_b_pmic | c_b_pmac | c_b_prp | c_b_pretc | c_b_rbcfcv | c_b_rbcfmn | c_b_rbcicv | c_b_rbcimn | c_b_mchr | c_b_mcvr | c_b_hdw | c_b_phpr | c_b_phpo | c_b_irf | c_b_retc | c_b_mchcr\n",
      "5  | c_b_rtcfcv | c_b_rtcfmn | c_b_pmic | c_b_pmac | c_b_prp | c_b_pretc | c_b_rbcfcv | c_b_rbcfmn | c_b_rbcicv | c_b_rbcimn | c_b_mchr | c_b_mcvr | c_b_hdw | c_b_phpr | c_b_phpo | c_b_irf | c_b_retc | c_b_mchcr\n"
     ]
    },
    {
     "data": {
      "text/plain": [
       "47"
      ]
     },
     "execution_count": 24,
     "metadata": {},
     "output_type": "execute_result"
    }
   ],
   "source": [
    "from miceforest import ImputationKernel\n",
    "from miceforest import mean_match_default\n",
    "\n",
    "mean_match_default.set_mean_match_candidates(5)\n",
    "impute_clf = ImputationKernel(\n",
    "    celldyn_fullcase_for_impute[meas_columns],\n",
    "    save_all_iterations=False,\n",
    "    random_state=1283,\n",
    "    mean_match_scheme=mean_match_default\n",
    "    )\n",
    "impute_clf.mice(iterations=5, verbose=True, n_estimators=100)\n",
    "celldyn_fullcase_for_impute.loc[:, meas_columns] = impute_clf.complete_data()\n",
    "gc.collect()\n"
   ]
  },
  {
   "cell_type": "code",
   "execution_count": null,
   "id": "42db5859",
   "metadata": {},
   "outputs": [],
   "source": [
    "from miceforest import ImputationKernel\n",
    "from miceforest import mean_match_default\n",
    "\n",
    "mean_match_default.set_mean_match_candidates(5)\n",
    "impute_clf = ImputationKernel(\n",
    "    celldyn_cleaned_transformed[meas_columns],\n",
    "    save_all_iterations=False,\n",
    "    random_state=1283,\n",
    "    mean_match_scheme=mean_match_default\n",
    "    )\n",
    "impute_clf.mice(iterations=5, verbose=True, n_estimators=100)\n",
    "celldyn_cleaned_transformed.loc[:, meas_columns] = impute_clf.complete_data()\n",
    "gc.collect()\n",
    "\n",
    "# impute_clft can be put in pipe :))\n",
    "# [clean, scale, impute_clf]"
   ]
  },
  {
   "cell_type": "code",
   "execution_count": 38,
   "id": "8b4dd1ac",
   "metadata": {},
   "outputs": [],
   "source": [
    " # c_b_bnd: consider dropping -> sigmoid_log(v)\n",
    "# c_b_ig: consider dropping -> sigmoid_log(v)\n",
    "# c_b_vlym: consider dropping -> sigmoid_log(v)\n",
    "# c_b_blst: consider dropping -> sigmoid_log(v)\n",
    "# c_b_nrbc: consider dropping -> sigmoid_log(v)\n",
    "# c_b_pnrbc: consider dropping -> sigmoid_log(v)\n",
    "# c_b_pbnd: consider dropping -> sigmoid_log(v)\n",
    "# c_b_pig: consider dropping -> sigmoid_log(v)\n",
    "# c_b_pvlym: consider dropping -> sigmoid_log(v)\n",
    "# c_b_pnrbc: consider dropping -> sigmoid_log(v)\n",
    "# c_b_pblst: consider dropping -> sigmoid_log(v)\n"
   ]
  },
  {
   "cell_type": "code",
   "execution_count": 37,
   "id": "39cea4d8",
   "metadata": {},
   "outputs": [
    {
     "name": "stdout",
     "output_type": "stream",
     "text": [
      "We added 66 extra features\n"
     ]
    }
   ],
   "source": [
    "### ADD combinations after filtering and scaling\n",
    "# CD4/CD8 ratio\n",
    "# T-helper: CD4+\n",
    "# Cytotoxic: CD8+\n",
    "# T-inhibitor: CD4+, CD25+, FOXP3\n",
    "# T-memory\n",
    "\n",
    "\n",
    "combo_features = [(['mon','mone','blst'],['lym', 'lyme', 'vlym']), \n",
    "                  (['bas', 'eos', 'neu'], ['seg', 'bnd', 'mon', 'vlym',\n",
    "                                           'blst', 'lym', 'lyme', 'nrbc']),\n",
    "                (['pmon', 'pmone', 'pblst'], ['pvlym','plym','plyme']),\n",
    "                (['pneu', 'pbas', 'peos'], ['pseg', 'pbnd', 'pmon', \n",
    "                                            'pvlym', 'pblst', 'plyme','plym',\n",
    "                                            'pnrbc'])]\n",
    "extra_features = 0\n",
    "derived_columns = []\n",
    "for t in combo_features:\n",
    "    for left in t[0]:\n",
    "        for right in t[1]:\n",
    "            # add column with the ratios of the columns in the two lists\n",
    "            cell_imputed[left+':'+right] = cell_imputed['c_b_'+left]/cell_imputed['c_b_'+right]\n",
    "            derived_columns.append(left+':'+right)\n",
    "            extra_features += 1\n",
    "print(f\"We added {extra_features} extra features\")\n",
    "meas_columns = meas_columns+derived_columns\n",
    "meas_names = [\"_\".join(c.split(\"_\")[2:]) for c in meas_columns]"
   ]
  },
  {
   "cell_type": "code",
   "execution_count": 40,
   "id": "2fa191c3",
   "metadata": {},
   "outputs": [],
   "source": [
    " = "
   ]
  },
  {
   "cell_type": "code",
   "execution_count": null,
   "id": "875c08b1",
   "metadata": {},
   "outputs": [],
   "source": [
    "cell_imputed_all.to_feather(\"T:\\laupodteam\\AIOS\\Bram\\data\\CellDyn\\celldyn_cleaned_transformed_imputed_all.feather\")\n",
    "del cell_imputed_all \n",
    "gc.collect()\n",
    "\n",
    "cell_imputed.to_feather(\"T:\\laupodteam\\AIOS\\Bram\\data\\CellDyn\\celldyn_cleaned_transformed_imputed.feather\")\n",
    "# impute_clft can be put in pipe :))\n",
    "# [clean, scale, impute_clf]\n",
    "del cell_imputed\n",
    "gc.collect()"
   ]
  }
 ],
 "metadata": {
  "kernelspec": {
   "display_name": "Python 3.8.10 ('hema_embedder')",
   "language": "python",
   "name": "python3"
  },
  "language_info": {
   "codemirror_mode": {
    "name": "ipython",
    "version": 3
   },
   "file_extension": ".py",
   "mimetype": "text/x-python",
   "name": "python",
   "nbconvert_exporter": "python",
   "pygments_lexer": "ipython3",
   "version": "3.8.10"
  },
  "vscode": {
   "interpreter": {
    "hash": "97021fdb49701c8dba83120d3ec696bdd3605bb66aca1c2e774ee3b4259ef2da"
   }
  }
 },
 "nbformat": 4,
 "nbformat_minor": 5
}
