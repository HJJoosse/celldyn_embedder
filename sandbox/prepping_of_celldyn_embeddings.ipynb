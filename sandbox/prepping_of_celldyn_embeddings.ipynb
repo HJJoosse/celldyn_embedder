{
 "cells": [
  {
   "cell_type": "code",
   "execution_count": 1,
   "id": "5a87bc18",
   "metadata": {},
   "outputs": [],
   "source": [
    "%reload_ext autoreload\n",
    "#%load_ext autoreload\n",
    "%autoreload 2\n",
    "%matplotlib inline\n",
    "\n",
    "import datetime\n",
    "import pandas as pd\n",
    "#import modin.pandas as pd\n",
    "import numpy as np\n",
    "import scipy as sc\n",
    "import matplotlib.pyplot as plt\n",
    "import seaborn as sns\n",
    "import umap\n",
    "from tqdm import tqdm\n",
    "\n",
    "\n",
    "#from sklearnex import patch_sklearn\n",
    "#patch_sklearn()\n",
    "\n",
    "from sklearn.preprocessing import FunctionTransformer, StandardScaler, QuantileTransformer, PowerTransformer\n",
    "from sklearn.compose import ColumnTransformer, make_column_transformer\n",
    "from sklearn.pipeline import Pipeline\n",
    "from sklearn.base import BaseEstimator, TransformerMixin\n",
    "\n",
    "import os\n",
    "import gc\n",
    "import joblib\n",
    "import dill as pickle\n",
    "\n",
    "#os.chdir(\"T:\\\\laupodteam\\\\AIOS\\\\Bram\\\\notebooks\\\\code_dev\\\\celldyn_embedder\\\\sandbox\")\n",
    "#os.chdir(\"/media/UMCU/notebooks/code_dev/celldyn_embedder/sandbox\")\n",
    "sns.set_style(\"whitegrid\")\n",
    "\n",
    "\n",
    "# CUSTOM CLASSES\n",
    "from hembedder.prepping import quality\n",
    "from hembedder.prepping import transformer\n",
    "from hembedder.prepping import recombinator\n",
    "from hembedder.prepping import imputer\n",
    "\n",
    "write_to_disk = False\n",
    "read_from_disk = True\n",
    "get_ranges=False\n",
    "get_combos=True\n",
    "\n",
    "\n",
    "#import ray\n",
    "#ray.init()"
   ]
  },
  {
   "cell_type": "markdown",
   "id": "50c05243",
   "metadata": {},
   "source": [
    "* filter based on group flags\n",
    "* filter based on suspect flags\n",
    "* filter based on range\n",
    "* apply scaling\n",
    "* correct for diurnal rythm\n",
    "* impute"
   ]
  },
  {
   "cell_type": "markdown",
   "id": "c7c9fdc2",
   "metadata": {},
   "source": [
    "There are no special NaN-modes; the NaN's are the result of running in non-reti modus, the affected measurements are:\n",
    "\n",
    "`\n",
    "'c_b_retc',\n",
    "'c_b_pretc',\n",
    "'c_b_irf',\n",
    "'c_b_pHPO',\n",
    "'c_b_pHPR',\n",
    "'c_b_HDW',\n",
    "'c_b_MCVr',\n",
    "'c_b_MCHr',\n",
    "'c_b_MCHCr',\n",
    "'c_b_rbcimn',\n",
    "'c_b_rbcicv',\n",
    "'c_b_rbcfmn',\n",
    "'c_b_rbcfcv'\n",
    "`"
   ]
  },
  {
   "cell_type": "code",
   "execution_count": 2,
   "id": "bfeb4534",
   "metadata": {},
   "outputs": [],
   "source": [
    "# \"/media/UMCU/data/CellDyn/celldyn.feather\"\n",
    "current_directory = os.path.dirname(os.path.realpath(\".\"))\n",
    "os.chdir(\"T:\\\\laupodteam\\\\AIOS\\\\Bram\\\\data\\\\CellDyn\")"
   ]
  },
  {
   "cell_type": "code",
   "execution_count": 3,
   "id": "7c7356c3",
   "metadata": {},
   "outputs": [
    {
     "data": {
      "text/plain": [
       "67"
      ]
     },
     "execution_count": 3,
     "metadata": {},
     "output_type": "execute_result"
    }
   ],
   "source": [
    "celldyn = pd.read_feather(\"celldyn.feather\")\n",
    "celldyn.columns = celldyn.columns.str.lower()\n",
    "gc.collect()"
   ]
  },
  {
   "cell_type": "code",
   "execution_count": 4,
   "id": "1a14d94b",
   "metadata": {},
   "outputs": [],
   "source": [
    "celldyn = celldyn.query('c_b_ht>0.2 and c_b_hb>0.2 and c_b_rbco>0.1 and c_b_rbco<100 and c_b_hb<20')\n",
    "\n",
    "celldyn.drop(['c_b_pblst', 'c_b_pnrbc', 'c_b_pbnd', \n",
    "              'c_b_blst', 'c_b_vlym', 'c_b_nrbc', \n",
    "              'c_b_bnd', 'c_b_ig',\n",
    "              'c_b_pig', 'c_b_pvlym'], axis=1, inplace=True, errors='ignore')"
   ]
  },
  {
   "cell_type": "code",
   "execution_count": 5,
   "id": "e8076b26",
   "metadata": {},
   "outputs": [],
   "source": [
    "meta_cols = ['asp_dt', 'analyzer', 'studyid_alle_celldyn', \n",
    "             'time_to_measurement', 'gender', 'age' , 'afname_dt',\n",
    "             'day_of_year', 'week_of_year', 'year', 'first_day',\n",
    "              'draw_hour', 'meas_hour']\n",
    "count_columns = [c for c in celldyn.columns if 'c_cnt' in c]\n",
    "meas_columns = [c for c in celldyn.columns if 'c_b' in c]+['plt']\n",
    "mode_columns = [c for c in celldyn.columns if 'c_m' in c]\n",
    "susp_columns = [c for c in celldyn.columns if 'c_s' in c]\n",
    "alert_columns = [c for c in celldyn.columns if 'alrt' in c]\n",
    "fail_columns = [c for c in celldyn.columns if 'fail' in c]\n",
    "all_cols  = meta_cols+meas_columns+mode_columns+susp_columns+alert_columns+count_columns+fail_columns\n",
    "other_cols = [c for c in celldyn.columns if c not in all_cols]\n",
    "\n",
    "celldyn['gender']= celldyn.gender.str.decode(encoding='latin1')\n",
    "celldyn['age'] = celldyn.age.astype(int)\n",
    "celldyn['meas_hour'] = celldyn['asp_dt'].dt.hour#   apply(lambda x: x.hour)\n",
    "celldyn['draw_hour'] = celldyn['afname_dt'].dt.hour # .apply(lambda x: x.hour)\n",
    "celldyn['time_to_measurement'] = (celldyn.asp_dt-celldyn.afname_dt).dt.total_seconds()\n",
    "celldyn['time_to_measurement'] = celldyn['time_to_measurement']//3600\n",
    "\n",
    "cond = (celldyn.time_to_measurement<10) & (celldyn.time_to_measurement>-4)\n",
    "celldyn = celldyn[cond]\n",
    "\n",
    "def next_weekday(d, weekday):\n",
    "    days_diff = weekday - d.weekday()\n",
    "    return (d + datetime.timedelta(days_diff))\\\n",
    "    .replace(hour=0, minute=0, second=0, microsecond=0)\n",
    "\n",
    "celldyn['day_of_year'] = np.nan\n",
    "celldyn['day_of_year'] = celldyn.loc[celldyn.c_mode_xlyse==0, 'asp_dt']\\\n",
    "                            .apply(lambda x: x.dayofyear)\n",
    "celldyn['week_of_year'] = celldyn.loc[celldyn.c_mode_xlyse==0, 'asp_dt']\\\n",
    "                            .apply(lambda x: x.weekofyear)\n",
    "\n",
    "celldyn['year'] = celldyn.loc[celldyn.c_mode_xlyse==0, 'asp_dt'].apply(lambda x: x.year)\n",
    "celldyn['first_day'] = celldyn.afname_dt.apply(lambda x: next_weekday(x, 0))"
   ]
  },
  {
   "cell_type": "code",
   "execution_count": 6,
   "id": "cd2088c4",
   "metadata": {},
   "outputs": [],
   "source": [
    "all_meta_cols = meta_cols+meas_columns+mode_columns+susp_columns+alert_columns+fail_columns"
   ]
  },
  {
   "cell_type": "code",
   "execution_count": 7,
   "id": "897072d2",
   "metadata": {},
   "outputs": [],
   "source": [
    "# get (0.05, 0.25, 0.5, 0.75, 0.95) percentiles\n",
    "if get_ranges:\n",
    "    range_tuples = []\n",
    "    for c in tqdm(meas_columns):\n",
    "        percent01, percent025, percent25, percent50, percent75, percent975, percent99 = \\\n",
    "            celldyn[c].quantile([0.01, 0.025, 0.25, 0.5, 0.75, 0.975, 0.99])\n",
    "        range_tuples.append({'q01': percent01,\n",
    "                             'q025': percent025,\n",
    "                             'q25': percent25,\n",
    "                             'q50': percent50,\n",
    "                             'q75': percent75,\n",
    "                             'q975': percent975,\n",
    "                             'q99': percent99})\n",
    "    range_df = pd.DataFrame(data=range_tuples, index=meas_columns)\n",
    "    range_df.round(3).to_csv(\"/media/UMCU/data/CellDyn/ranges.csv\", sep=';')"
   ]
  },
  {
   "cell_type": "code",
   "execution_count": 8,
   "id": "c2e5ff76",
   "metadata": {},
   "outputs": [
    {
     "name": "stderr",
     "output_type": "stream",
     "text": [
      "100%|██████████| 11/11 [00:07<00:00,  1.44it/s]\n"
     ]
    }
   ],
   "source": [
    "if get_combos:\n",
    "  celldyn['mode_combos'] = celldyn[mode_columns]\\\n",
    "                          .apply(lambda x: \",\".join([str(_x) for _x in x]),\\\n",
    "                          axis=1)\n",
    "\n",
    "  nan_modes = {}\n",
    "  for c in tqdm(celldyn['mode_combos'].unique()):\n",
    "      condition = celldyn['mode_combos'] == c\n",
    "      meas_df=celldyn.loc[condition, meas_columns]\n",
    "      N = meas_df.shape[0]\n",
    "      named_c = \",\".join([f\"{mode_columns[i]}:{str(int(float(v)))}\"\n",
    "                  for i, v in enumerate(c.split(\",\"))])\n",
    "      nan_list = meas_df.columns[meas_df.isna().sum()/N>=0.8].tolist()\n",
    "      if len(nan_list)>0:\n",
    "          nan_modes[named_c] = nan_list\n",
    "          \n",
    "  reti_mode_cols = list(set([_v for k,v in nan_modes.items() \n",
    "                              for _v in v if 'c_mode_rtc' in k\n",
    "                            ]))\n",
    "  celldyn.loc[celldyn.c_mode_rtc==0, reti_mode_cols] = np.nan"
   ]
  },
  {
   "cell_type": "markdown",
   "id": "0653b65e",
   "metadata": {},
   "source": [
    "# Pipeline attempt"
   ]
  },
  {
   "cell_type": "code",
   "execution_count": 34,
   "id": "58426abd",
   "metadata": {},
   "outputs": [],
   "source": [
    "# get real current directory\n",
    "qc = quality.QcControl(param_file=os.path.join(current_directory, \"assets/CelldynParams.xlsx\"), \n",
    "                       cols_include=meas_columns)\n",
    "\n",
    "CellDynTransformer = transformer.CellDynTrans(log_scale=[],\n",
    "                                  ord_scale=[],\n",
    "                                  remove_original_columns=False)\n",
    "\n",
    "imputer_clf = imputer.Imputer(imputer='forest',\n",
    "                     backend='miceforest', \n",
    "                     meas_cols = meas_columns,\n",
    "                     iterations=5, \n",
    "                     num_estimators=100, \n",
    "                     num_match_candidates=7,\n",
    "                     save_all_iterations=False,\n",
    "                     data_subset=0.25,\n",
    "                     synthesize_working_data=True\n",
    "                     )\n",
    "\n",
    "recombiner = recombinator.CellDynRecombinator(scaler=None)"
   ]
  },
  {
   "cell_type": "code",
   "execution_count": 10,
   "id": "d4012748",
   "metadata": {},
   "outputs": [],
   "source": [
    "# missing at random are the variables that are missing because we did not run in Reti modus\n",
    "not_reti_mode_cols = [c for c in meas_columns if c not in reti_mode_cols]\n",
    "\n",
    "idx_nreti = celldyn[celldyn.c_mode_rtc==0].index\n",
    "idx_reti = celldyn[celldyn.c_mode_rtc==1].index\n",
    "\n",
    "keep_fullcase = idx_nreti[celldyn\\\n",
    "                            .loc[idx_nreti,\n",
    "                                 not_reti_mode_cols]\\\n",
    "                            .isna().sum(axis=1)==0]\n",
    "keep_reti_only_nans = idx_reti[celldyn\\\n",
    "                            .loc[idx_reti,\n",
    "                                 meas_columns]\\\n",
    "                            .isna().sum(axis=1)==0]\n",
    "celldyn_MAR= celldyn\\\n",
    "                    .loc[list(set(keep_fullcase)\\\n",
    "                    .union(keep_reti_only_nans))]\n",
    "celldyn_MAR = celldyn_MAR[meta_cols+meas_columns]\n",
    "celldyn= celldyn[meta_cols+meas_columns]"
   ]
  },
  {
   "cell_type": "code",
   "execution_count": 35,
   "id": "ad4e17bf",
   "metadata": {},
   "outputs": [
    {
     "name": "stdout",
     "output_type": "stream",
     "text": [
      "[Pipeline] ................ (step 1 of 5) Processing qc, total=   4.0s\n",
      "[Pipeline] ........... (step 2 of 5) Processing scaling, total=   2.5s\n",
      "[Pipeline] .......... (step 3 of 5) Processing imputer, total=150.0min\n",
      "[Pipeline] ........ (step 4 of 5) Processing recombiner, total= 1.3min\n",
      "[Pipeline] ... (step 5 of 5) Processing standardisation, total= 6.4min\n"
     ]
    },
    {
     "data": {
      "text/plain": [
       "188"
      ]
     },
     "execution_count": 35,
     "metadata": {},
     "output_type": "execute_result"
    }
   ],
   "source": [
    "CleanPipeMAR = Pipeline([('qc', qc),\n",
    "                      ('scaling', CellDynTransformer),\n",
    "                      ('imputer', imputer_clf),\n",
    "                      ('recombiner', recombiner), \n",
    "                      ('standardisation', PowerTransformer())\n",
    "                     ], verbose=True)\n",
    "\n",
    "\n",
    "celldyn_MAR_transformed = CleanPipeMAR.fit_transform(celldyn_MAR[meas_columns])\n",
    "celldyn_MAR_transformed_df = pd.DataFrame(data=celldyn_MAR_transformed, \n",
    "                                   index=celldyn_MAR.index,\n",
    "                                   columns=CleanPipeMAR.named_steps['recombiner'].out_columns)\n",
    "\n",
    "remainder_cols = [c for c in celldyn_MAR.columns if c not in celldyn_MAR_transformed_df.columns]\n",
    "celldyn_MAR_transformed_df = pd.concat([celldyn_MAR[meta_cols], celldyn_MAR_transformed_df], axis=1)\n",
    "celldyn_MAR_transformed_df.reset_index().to_feather(\"celldyn_MAR_transformed_df_updated.feather\")\n",
    "\n",
    "\n",
    "del celldyn_MAR_transformed_df, celldyn_MAR, celldyn_MAR_transformed\n",
    "gc.collect()\n"
   ]
  },
  {
   "cell_type": "code",
   "execution_count": 36,
   "id": "ffc733ab",
   "metadata": {},
   "outputs": [
    {
     "name": "stdout",
     "output_type": "stream",
     "text": [
      "[Pipeline] ................ (step 1 of 5) Processing qc, total=   4.0s\n",
      "[Pipeline] ........... (step 2 of 5) Processing scaling, total=   2.4s\n",
      "[Pipeline] .......... (step 3 of 5) Processing imputer, total=234.6min\n",
      "[Pipeline] ........ (step 4 of 5) Processing recombiner, total= 1.6min\n",
      "[Pipeline] ... (step 5 of 5) Processing standardisation, total= 8.3min\n"
     ]
    },
    {
     "data": {
      "text/plain": [
       "188"
      ]
     },
     "execution_count": 36,
     "metadata": {},
     "output_type": "execute_result"
    }
   ],
   "source": [
    "CleanPipeFULL = Pipeline([('qc', qc),\n",
    "                          ('scaling', CellDynTransformer),\n",
    "                          ('imputer', imputer_clf),\n",
    "                          ('recombiner', recombiner), \n",
    "                          ('standardisation', PowerTransformer())\n",
    "                        ], verbose=True)\n",
    "\n",
    "\n",
    "celldyn_FULL_transformed = CleanPipeFULL.fit_transform(celldyn[meas_columns])\n",
    "celldyn_FULL_transformed_df = pd.DataFrame(data=celldyn_FULL_transformed, \n",
    "                                   index=celldyn.index,\n",
    "                                   columns=CleanPipeFULL.named_steps['recombiner'].out_columns)\n",
    "\n",
    "remainder_cols = [c for c in celldyn.columns if c not in celldyn_FULL_transformed_df.columns]\n",
    "celldyn_FULL_transformed_df = pd.concat([celldyn[meta_cols], celldyn_FULL_transformed_df], axis=1)\n",
    "celldyn_FULL_transformed_df.reset_index().to_feather(\"celldyn_FULL_transformed_df_updated.feather\")\n",
    "\n",
    "del celldyn_FULL_transformed_df, celldyn_FULL_transformed\n",
    "gc.collect()"
   ]
  },
  {
   "cell_type": "code",
   "execution_count": 37,
   "id": "56cc661d",
   "metadata": {},
   "outputs": [],
   "source": [
    "toBePersisted = dict({\n",
    "    'model': CleanPipeMAR,\n",
    "    'meas_cols': meas_columns,\n",
    "    'metadata': {\n",
    "        'name': 'Cleaning pipeline for celldyn data including MAR imputation',\n",
    "        'author': 'Bram van Es, Huibert-Jan Joosse, Chontira Chumsaeng',\n",
    "        'date': '2023-03-23',\n",
    "        'source_code_version': '1.0.0',\n",
    "    }\n",
    "})\n",
    "pickle.dump(toBePersisted, open('CellDynCleanPipeMAR.pickle', 'wb'))"
   ]
  },
  {
   "cell_type": "code",
   "execution_count": 38,
   "id": "3994cc90",
   "metadata": {},
   "outputs": [],
   "source": [
    "toBePersisted = dict({\n",
    "    'model': CleanPipeFULL,\n",
    "    'meas_cols': meas_columns,\n",
    "    'metadata': {\n",
    "        'name': 'Cleaning pipeline for celldyn data including FULL imputation',\n",
    "        'author': 'Bram van Es, Huibert-Jan Joosse, Chontira Chumsaeng',\n",
    "        'date': '2023-03-23',\n",
    "        'source_code_version': '1.0.0',\n",
    "    }\n",
    "})\n",
    "pickle.dump(toBePersisted, open('CellDynCleanPipeFULL.pickle', 'wb'))"
   ]
  },
  {
   "cell_type": "code",
   "execution_count": 39,
   "id": "9fdb03d6",
   "metadata": {},
   "outputs": [
    {
     "data": {
      "text/plain": [
       "0"
      ]
     },
     "execution_count": 39,
     "metadata": {},
     "output_type": "execute_result"
    }
   ],
   "source": [
    "del toBePersisted\n",
    "gc.collect()"
   ]
  },
  {
   "cell_type": "code",
   "execution_count": 11,
   "id": "ed8d5d59",
   "metadata": {},
   "outputs": [
    {
     "name": "stdout",
     "output_type": "stream",
     "text": [
      "[Pipeline] ................ (step 1 of 5) Processing qc, total=   1.3s\n",
      "[Pipeline] ........... (step 2 of 5) Processing scaling, total=   0.0s\n",
      "[Pipeline] ........... (step 3 of 5) Processing imputer, total= 1.9min\n",
      "[Pipeline] ........ (step 4 of 5) Processing recombiner, total=   0.3s\n",
      "[Pipeline] ... (step 5 of 5) Processing standardisation, total=   0.8s\n"
     ]
    }
   ],
   "source": [
    "CleanPipeTEST= Pipeline([('qc', qc),\n",
    "                         ('scaling', CellDynTransformer),\n",
    "                         ('imputer', imputer_clf),\n",
    "                         ('recombiner', recombiner), \n",
    "                         ('standardisation', PowerTransformer())\n",
    "                     ], verbose=True)\n",
    "\n",
    "CleanPipeTEST.fit(celldyn.sample(5000)[meas_columns]);\n",
    "\n",
    "toBePersisted = dict({\n",
    "    'model': CleanPipeTEST,\n",
    "    'meas_cols': meas_columns,\n",
    "    'metadata': {\n",
    "        'name': 'Cleaning pipeline for celldyn data including imputation',\n",
    "        'author': 'Bram van Es, Huibert-Jan Joosse, Chontira Chumsaeng',\n",
    "        'date': '2022-11-22',\n",
    "        'source_code_version': '1.0.0',\n",
    "    }\n",
    "})\n",
    "pickle.dump(toBePersisted, open('CellDynCleanPipeTEST.pickle', 'wb'))"
   ]
  },
  {
   "cell_type": "code",
   "execution_count": 20,
   "id": "c0e703d0",
   "metadata": {},
   "outputs": [],
   "source": [
    "sample_df = celldyn.sample(5000)\n",
    "test = CleanPipeTEST.transform(sample_df[meas_columns])\n",
    "test_df = pd.DataFrame(data=test,\n",
    "                       index=sample_df.index, \n",
    "                       columns=CleanPipeTEST.named_steps['recombiner'].out_columns)\n",
    "test_df = pd.concat([sample_df[meta_cols], test_df], axis=1)"
   ]
  },
  {
   "cell_type": "code",
   "execution_count": 11,
   "id": "5993c231",
   "metadata": {},
   "outputs": [
    {
     "data": {
      "text/plain": [
       "(50, 99)"
      ]
     },
     "execution_count": 11,
     "metadata": {},
     "output_type": "execute_result"
    }
   ],
   "source": [
    "cleanpipe_test = pickle.load(open('CellDynCleanPipeTEST.pickle', 'rb'))\n",
    "cleanpipe_test['metadata']\n",
    "cleanpipe_test['model'].transform(celldyn.sample(50)[meas_columns])"
   ]
  },
  {
   "cell_type": "code",
   "execution_count": null,
   "id": "5e421430",
   "metadata": {},
   "outputs": [],
   "source": []
  }
 ],
 "metadata": {
  "kernelspec": {
   "display_name": "embedder",
   "language": "python",
   "name": "python3"
  },
  "language_info": {
   "codemirror_mode": {
    "name": "ipython",
    "version": 3
   },
   "file_extension": ".py",
   "mimetype": "text/x-python",
   "name": "python",
   "nbconvert_exporter": "python",
   "pygments_lexer": "ipython3",
   "version": "3.8.10"
  },
  "vscode": {
   "interpreter": {
    "hash": "51a0a984460df69ea8ef0d6fc0c7e856972b26960206abd6058f9a5bb0251c26"
   }
  }
 },
 "nbformat": 4,
 "nbformat_minor": 5
}
