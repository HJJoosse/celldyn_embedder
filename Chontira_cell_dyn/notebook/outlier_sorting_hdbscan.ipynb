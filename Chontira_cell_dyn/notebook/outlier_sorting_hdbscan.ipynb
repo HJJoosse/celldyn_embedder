{
 "cells": [
  {
   "cell_type": "code",
   "execution_count": 1,
   "metadata": {},
   "outputs": [],
   "source": [
    "from setup import *\n",
    "\n"
   ]
  },
  {
   "cell_type": "code",
   "execution_count": 2,
   "metadata": {},
   "outputs": [],
   "source": [
    "best_param_sub_sam_1 = {'min_samples': 5, \n",
    "                        'min_cluster_size': 5, \n",
    "                        'cluster_selection_epsilon': 0.6, \n",
    "                        'cluster_selection_method': 'eom', \n",
    "                        'metric': 'euclidean'}\n",
    "\n",
    "best_param_sub_sam_2 = {'min_samples': 5, \n",
    "                        'min_cluster_size': 5, \n",
    "                        'cluster_selection_epsilon': 0.6, \n",
    "                        'cluster_selection_method': 'eom', \n",
    "                        'metric': 'mahalanobis'}\n",
    "                    \n",
    "best_param_sub_sam_3 = {'min_samples': 5, \n",
    "                        'min_cluster_size': 5, \n",
    "                        'cluster_selection_epsilon': 1.0, \n",
    "                        'cluster_selection_method': 'leaf', \n",
    "                        'metric': 'euclidean'}\n",
    "\n"
   ]
  },
  {
   "cell_type": "code",
   "execution_count": 4,
   "metadata": {},
   "outputs": [
    {
     "name": "stdout",
     "output_type": "stream",
     "text": [
      "Metric                                        Score\n",
      "---------------------------------------  ----------\n",
      "silhouette_score                         0.477489\n",
      "silhouette_score standard deviation      0.00196276\n",
      "davies_bouldin_score                     0.596469\n",
      "davies_bouldin_score standard deviation  0.241793\n",
      "dunn_fast                                0.355372\n",
      "dunn_fast standard deviation             0.151272\n",
      "\n",
      "\n",
      "Unique predicted labels 10\n",
      "Time taken 4.24 minutes\n",
      "Metric                                        Score\n",
      "---------------------------------------  ----------\n",
      "silhouette_score                         0.480667\n",
      "silhouette_score standard deviation      0.00556419\n",
      "davies_bouldin_score                     0.412187\n",
      "davies_bouldin_score standard deviation  0.20607\n",
      "dunn_fast                                0.393291\n",
      "dunn_fast standard deviation             0.151648\n",
      "\n",
      "\n",
      "Unique predicted labels 10\n",
      "Time taken 7.69 minutes\n",
      "Metric                                        Score\n",
      "---------------------------------------  ----------\n",
      "silhouette_score                         0.479014\n",
      "silhouette_score standard deviation      0.00178553\n",
      "davies_bouldin_score                     0.636468\n",
      "davies_bouldin_score standard deviation  0.211511\n",
      "dunn_fast                                0.323144\n",
      "dunn_fast standard deviation             0.129366\n",
      "\n",
      "\n",
      "Unique predicted labels 10\n",
      "Time taken 4.24 minutes\n"
     ]
    }
   ],
   "source": [
    "subsampling_evaluate_scores(dm6.df,hdbscan.HDBSCAN, best_param_sub_sam_1,evaluators, subsampling = 20000,num_iters = 10, remove_noise = False)\n",
    "subsampling_evaluate_scores(dm6.df,hdbscan.HDBSCAN, best_param_sub_sam_2,evaluators, subsampling = 20000,num_iters = 10, remove_noise = False)\n",
    "subsampling_evaluate_scores(dm6.df,hdbscan.HDBSCAN, best_param_sub_sam_3,evaluators, subsampling = 20000,num_iters = 10, remove_noise = False)\n"
   ]
  },
  {
   "cell_type": "code",
   "execution_count": 7,
   "metadata": {},
   "outputs": [
    {
     "name": "stdout",
     "output_type": "stream",
     "text": [
      "Metric                   Score\n",
      "--------------------  --------\n",
      "silhouette_score      0.47693\n",
      "davies_bouldin_score  0.251559\n",
      "dunn_fast             0.592865\n",
      "\n",
      "\n",
      "Unique predicted labels [-1  0  1  2  3  4  5  6  7  8  9 10] with their amounts [    1     8    24    30     7    10    74    10    43    12    10 19771]\n",
      "Time taken 0.46 minutes\n"
     ]
    }
   ],
   "source": [
    "sampling = dm6.df.sample(20000)\n",
    "sampling.to_csv(\"data/20000_subsam_dm6.csv\")\n",
    "model_sampling, labels_sampling =fit_predict_score(sampling, hdbscan.HDBSCAN, best_param_sub_sam_1,verbose=True,evaluators=evaluators, return_model_with_label = True, remove_noise = False)\n",
    "sampling[\"Labels\"] = labels_sampling\n",
    "sampling.to_csv(\"data/20000_subsam_dm6_with_labels.csv\")"
   ]
  },
  {
   "cell_type": "code",
   "execution_count": 8,
   "metadata": {},
   "outputs": [],
   "source": [
    "best_param_1 = {'min_samples': 5, \n",
    "                        'min_cluster_size': 773, \n",
    "                        'cluster_selection_epsilon': 0.6, \n",
    "                        'cluster_selection_method': 'eom', \n",
    "                        'metric': 'euclidean'}\n",
    "                        \n",
    "model_full, labels_full=fit_predict_score(dm6.df, hdbscan.HDBSCAN, best_param_1,verbose=True,evaluators=db, return_model_with_label = True, remove_noise = False)\n",
    "dm6_df = dm6.df\n",
    "dm6_df[\"Labels\"] = labels_full\n",
    "dm6_df.to_csv(\"data/dm6_with_labels.csv\")\n"
   ]
  }
 ],
 "metadata": {
  "kernelspec": {
   "display_name": "Python 3.10.4 ('CellDynCluster')",
   "language": "python",
   "name": "python3"
  },
  "language_info": {
   "codemirror_mode": {
    "name": "ipython",
    "version": 3
   },
   "file_extension": ".py",
   "mimetype": "text/x-python",
   "name": "python",
   "nbconvert_exporter": "python",
   "pygments_lexer": "ipython3",
   "version": "3.10.4"
  },
  "orig_nbformat": 4,
  "vscode": {
   "interpreter": {
    "hash": "5deb914aa631c094dbee2b245fe292bd804ba18ca3cb2d31e687d93fc90e2ee0"
   }
  }
 },
 "nbformat": 4,
 "nbformat_minor": 2
}
