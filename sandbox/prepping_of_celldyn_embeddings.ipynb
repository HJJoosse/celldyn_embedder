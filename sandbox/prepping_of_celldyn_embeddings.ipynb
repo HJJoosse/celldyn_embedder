{
 "cells": [
  {
   "cell_type": "code",
   "execution_count": 3,
   "id": "5a87bc18",
   "metadata": {},
   "outputs": [],
   "source": [
    "%reload_ext autoreload\n",
    "#%load_ext autoreload\n",
    "%autoreload 2\n",
    "%matplotlib inline\n",
    "\n",
    "import datetime\n",
    "import pandas as pd\n",
    "#import modin.pandas as pd\n",
    "import numpy as np\n",
    "import scipy as sc\n",
    "import matplotlib.pyplot as plt\n",
    "import seaborn as sns\n",
    "import umap\n",
    "from tqdm import tqdm\n",
    "\n",
    "\n",
    "#from sklearnex import patch_sklearn\n",
    "#patch_sklearn()\n",
    "\n",
    "from sklearn.preprocessing import FunctionTransformer, StandardScaler\n",
    "from sklearn.compose import ColumnTransformer, make_column_transformer\n",
    "from sklearn.pipeline import Pipeline\n",
    "from sklearn.base import BaseEstimator, TransformerMixin\n",
    "\n",
    "import os\n",
    "import gc\n",
    "import joblib\n",
    "import dill as pickle\n",
    "\n",
    "#os.chdir(\"T:\\\\laupodteam\\\\AIOS\\\\Bram\\\\notebooks\\\\code_dev\\\\celldyn_embedder\\\\sandbox\")\n",
    "#os.chdir(\"/media/UMCU/notebooks/code_dev/celldyn_embedder/sandbox\")\n",
    "sns.set_style(\"whitegrid\")\n",
    "\n",
    "\n",
    "# CUSTOM CLASSES\n",
    "from hembedder.prepping import quality\n",
    "from hembedder.prepping import transformer\n",
    "from hembedder.prepping import recombinator\n",
    "from hembedder.prepping import imputer\n",
    "\n",
    "write_to_disk = False\n",
    "read_from_disk = True\n",
    "get_ranges=False\n",
    "get_combos=True\n",
    "\n",
    "\n",
    "#import ray\n",
    "#ray.init()"
   ]
  },
  {
   "cell_type": "markdown",
   "id": "50c05243",
   "metadata": {},
   "source": [
    "* filter based on group flags\n",
    "* filter based on suspect flags\n",
    "* filter based on range\n",
    "* apply scaling\n",
    "* correct for diurnal rythm\n",
    "* impute"
   ]
  },
  {
   "cell_type": "markdown",
   "id": "c7c9fdc2",
   "metadata": {},
   "source": [
    "There are no special NaN-modes; the NaN's are the result of running in non-reti modus, the affected measurements are:\n",
    "\n",
    "`\n",
    "'c_b_retc',\n",
    "'c_b_pretc',\n",
    "'c_b_irf',\n",
    "'c_b_pHPO',\n",
    "'c_b_pHPR',\n",
    "'c_b_HDW',\n",
    "'c_b_MCVr',\n",
    "'c_b_MCHr',\n",
    "'c_b_MCHCr',\n",
    "'c_b_rbcimn',\n",
    "'c_b_rbcicv',\n",
    "'c_b_rbcfmn',\n",
    "'c_b_rbcfcv'\n",
    "`"
   ]
  },
  {
   "cell_type": "code",
   "execution_count": 4,
   "id": "7c7356c3",
   "metadata": {},
   "outputs": [
    {
     "data": {
      "text/plain": [
       "18"
      ]
     },
     "execution_count": 4,
     "metadata": {},
     "output_type": "execute_result"
    }
   ],
   "source": [
    "celldyn = pd.read_feather(\"/media/UMCU/data/CellDyn/celldyn.feather\")\n",
    "#celldyn = pd.read_feather(\"T:\\laupodteam\\AIOS\\Bram\\data\\CellDyn\\celldyn.feather\")\n",
    "celldyn.columns = celldyn.columns.str.lower()\n",
    "gc.collect()"
   ]
  },
  {
   "cell_type": "code",
   "execution_count": 5,
   "id": "e8076b26",
   "metadata": {},
   "outputs": [],
   "source": [
    "celldyn.drop(['c_b_pblst', 'c_b_pnrbc', 'c_b_pbnd', \n",
    "              'c_b_blst', 'c_b_vlym', 'c_b_nrbc', \n",
    "              'c_b_bnd', 'c_b_ig',\n",
    "              'c_b_pig', 'c_b_pvlym'], axis=1, inplace=True, errors='ignore')\n",
    "\n",
    "meta_cols = ['asp_dt', 'analyzer', 'studyid_alle_celldyn', \n",
    "             'time_to_measurement', 'gender', 'age' , 'afname_dt',\n",
    "             'day_of_year', 'week_of_year', 'year', 'first_day',\n",
    "              'draw_hour', 'meas_hour']\n",
    "count_columns = [c for c in celldyn.columns if 'c_cnt' in c]\n",
    "meas_columns = [c for c in celldyn.columns if 'c_b' in c]+['plt']\n",
    "mode_columns = [c for c in celldyn.columns if 'c_m' in c]\n",
    "susp_columns = [c for c in celldyn.columns if 'c_s' in c]\n",
    "alert_columns = [c for c in celldyn.columns if 'alrt' in c]\n",
    "fail_columns = [c for c in celldyn.columns if 'fail' in c]\n",
    "all_cols  = meta_cols+meas_columns+mode_columns+susp_columns+alert_columns+count_columns+fail_columns\n",
    "other_cols = [c for c in celldyn.columns if c not in all_cols]\n",
    "\n",
    "celldyn['gender']= celldyn.gender.str.decode(encoding='latin1')\n",
    "celldyn['age'] = celldyn.age.astype(int)\n",
    "celldyn['meas_hour'] = celldyn['asp_dt'].dt.hour#   apply(lambda x: x.hour)\n",
    "celldyn['draw_hour'] = celldyn['afname_dt'].dt.hour # .apply(lambda x: x.hour)\n",
    "celldyn['time_to_measurement'] = (celldyn.asp_dt-celldyn.afname_dt).dt.total_seconds()\n",
    "celldyn['time_to_measurement'] = celldyn['time_to_measurement']//3600\n",
    "\n",
    "cond = (celldyn.time_to_measurement<10) & (celldyn.time_to_measurement>-4)\n",
    "celldyn = celldyn[cond]\n",
    "\n",
    "def next_weekday(d, weekday):\n",
    "    days_diff = weekday - d.weekday()\n",
    "    return (d + datetime.timedelta(days_diff))\\\n",
    "    .replace(hour=0, minute=0, second=0, microsecond=0)\n",
    "\n",
    "celldyn['day_of_year'] = np.nan\n",
    "celldyn['day_of_year'] = celldyn.loc[celldyn.c_mode_xlyse==0, 'asp_dt']\\\n",
    "                            .apply(lambda x: x.dayofyear)\n",
    "celldyn['week_of_year'] = celldyn.loc[celldyn.c_mode_xlyse==0, 'asp_dt']\\\n",
    "                            .apply(lambda x: x.weekofyear)\n",
    "\n",
    "celldyn['year'] = celldyn.loc[celldyn.c_mode_xlyse==0, 'asp_dt'].apply(lambda x: x.year)\n",
    "celldyn['first_day'] = celldyn.afname_dt.apply(lambda x: next_weekday(x, 0))"
   ]
  },
  {
   "cell_type": "code",
   "execution_count": 6,
   "id": "cd2088c4",
   "metadata": {},
   "outputs": [],
   "source": [
    "all_meta_cols = meta_cols+meas_columns+mode_columns+susp_columns+alert_columns+fail_columns"
   ]
  },
  {
   "cell_type": "code",
   "execution_count": 7,
   "id": "897072d2",
   "metadata": {},
   "outputs": [],
   "source": [
    "# get (0.05, 0.25, 0.5, 0.75, 0.95) percentiles\n",
    "if get_ranges:\n",
    "    range_tuples = []\n",
    "    for c in tqdm(meas_columns):\n",
    "        percent01, percent025, percent25, percent50, percent75, percent975, percent99 = \\\n",
    "            celldyn[c].quantile([0.01, 0.025, 0.25, 0.5, 0.75, 0.975, 0.99])\n",
    "        range_tuples.append({'q01': percent01,\n",
    "                             'q025': percent025,\n",
    "                             'q25': percent25,\n",
    "                             'q50': percent50,\n",
    "                             'q75': percent75,\n",
    "                             'q975': percent975,\n",
    "                             'q99': percent99})\n",
    "    range_df = pd.DataFrame(data=range_tuples, index=meas_columns)\n",
    "    range_df.round(3).to_csv(\"/media/UMCU/data/CellDyn/ranges.csv\", sep=';')"
   ]
  },
  {
   "cell_type": "code",
   "execution_count": 8,
   "id": "c2e5ff76",
   "metadata": {},
   "outputs": [
    {
     "name": "stderr",
     "output_type": "stream",
     "text": [
      "100%|██████████| 11/11 [00:07<00:00,  1.40it/s]\n"
     ]
    }
   ],
   "source": [
    "if get_combos:\n",
    "  celldyn['mode_combos'] = celldyn[mode_columns]\\\n",
    "                          .apply(lambda x: \",\".join([str(_x) for _x in x]),\\\n",
    "                          axis=1)\n",
    "\n",
    "  nan_modes = {}\n",
    "  for c in tqdm(celldyn['mode_combos'].unique()):\n",
    "      condition = celldyn['mode_combos'] == c\n",
    "      meas_df=celldyn.loc[condition, meas_columns]\n",
    "      N = meas_df.shape[0]\n",
    "      named_c = \",\".join([f\"{mode_columns[i]}:{str(int(float(v)))}\"\n",
    "                  for i, v in enumerate(c.split(\",\"))])\n",
    "      nan_list = meas_df.columns[meas_df.isna().sum()/N>=0.8].tolist()\n",
    "      if len(nan_list)>0:\n",
    "          nan_modes[named_c] = nan_list\n",
    "          \n",
    "  reti_mode_cols = list(set([_v for k,v in nan_modes.items() \n",
    "                              for _v in v if 'c_mode_rtc' in k\n",
    "                            ]))\n",
    "  celldyn.loc[celldyn.c_mode_rtc==0, reti_mode_cols] = np.nan"
   ]
  },
  {
   "cell_type": "markdown",
   "id": "0653b65e",
   "metadata": {},
   "source": [
    "# Pipeline attempt"
   ]
  },
  {
   "cell_type": "code",
   "execution_count": 19,
   "id": "58426abd",
   "metadata": {},
   "outputs": [],
   "source": [
    "qc = quality.QcControl(param_file=\"../assets/CelldynParams.xlsx\") \n",
    "\n",
    "CellDynTransformer = transformer.CellDynTrans(log_scale=['c_b_seg', 'c_b_neu', 'c_b_wbc'],\n",
    "                                  ord_scale=[],\n",
    "                                  remove_original_columns=False)\n",
    "imputer_clf = imputer.Imputer(imputer='forest',\n",
    "                     backend='miceforest', \n",
    "                     meas_cols = meas_columns,\n",
    "                     iterations=3, \n",
    "                     num_estimators=25, \n",
    "                     num_match_candidates=5,\n",
    "                     save_all_iterations=False,\n",
    "                     data_subset=0.1\n",
    "                     )\n",
    "\n",
    "recombiner = recombinator.CellDynRecombinator(scaler=StandardScaler)"
   ]
  },
  {
   "cell_type": "code",
   "execution_count": 15,
   "id": "d4012748",
   "metadata": {},
   "outputs": [],
   "source": [
    "# missing at random are the variables that are missing because we did not run in Reti modus\n",
    "not_reti_mode_cols = [c for c in meas_columns if c not in reti_mode_cols]\n",
    "\n",
    "idx_nreti = celldyn[celldyn.c_mode_rtc==0].index\n",
    "idx_reti = celldyn[celldyn.c_mode_rtc==1].index\n",
    "\n",
    "keep_fullcase = idx_nreti[celldyn\\\n",
    "                            .loc[idx_nreti,\n",
    "                                 not_reti_mode_cols]\\\n",
    "                            .isna().sum(axis=1)==0]\n",
    "keep_reti_only_nans = idx_reti[celldyn\\\n",
    "                            .loc[idx_reti,\n",
    "                                 meas_columns]\\\n",
    "                            .isna().sum(axis=1)==0]\n",
    "celldyn_MAR= celldyn\\\n",
    "                    .loc[list(set(keep_fullcase)\\\n",
    "                    .union(keep_reti_only_nans))]\n",
    "celldyn_MAR = celldyn_MAR[meta_cols+meas_columns]\n",
    "celldyn= celldyn[meta_cols+meas_columns]"
   ]
  },
  {
   "cell_type": "code",
   "execution_count": 133,
   "id": "ad4e17bf",
   "metadata": {},
   "outputs": [
    {
     "name": "stdout",
     "output_type": "stream",
     "text": [
      "[Pipeline] ................ (step 1 of 5) Processing qc, total=   2.2s\n",
      "[Pipeline] ........... (step 2 of 5) Processing scaling, total=   1.4s\n",
      "[Pipeline] ........... (step 3 of 5) Processing imputer, total= 9.0min\n",
      "[Pipeline] ........ (step 4 of 5) Processing recombiner, total=   5.9s\n",
      "[Pipeline] ... (step 5 of 5) Processing standardisation, total=   3.3s\n"
     ]
    },
    {
     "data": {
      "text/plain": [
       "69688"
      ]
     },
     "execution_count": 133,
     "metadata": {},
     "output_type": "execute_result"
    }
   ],
   "source": [
    "CleanPipeMAR = Pipeline([('qc', qc),\n",
    "                      ('scaling', CellDynTransformer),\n",
    "                      ('imputer', imputer_clf),\n",
    "                      ('recombiner', recombiner), \n",
    "                      ('standardisation', StandardScaler())\n",
    "                     ], verbose=True)\n",
    "\n",
    "\n",
    "celldyn_MAR_transformed = CleanPipeMAR.fit_transform(celldyn_MAR[meas_columns])\n",
    "celldyn_MAR_transformed_df = pd.DataFrame(data=celldyn_MAR_transformed, \n",
    "                                   index=celldyn_MAR.index,\n",
    "                                   columns=CleanPipeMAR.named_steps['recombiner'].out_columns)\n",
    "\n",
    "remainder_cols = [c for c in celldyn_MAR.columns if c not in celldyn_MAR_transformed_df.columns]\n",
    "celldyn_MAR_transformed_df = pd.concat([celldyn_MAR[meta_cols], celldyn_MAR_transformed_df], axis=1)\n",
    "\n",
    "\n",
    "celldyn_MAR_transformed_df.reset_index().to_feather(\"/media/UMCU/data/CellDyn/celldyn_MAR_transformed_df.feather\")\n",
    "\n",
    "\n",
    "del celldyn_MAR_transformed_df, celldyn_MAR, celldyn_MAR_transformed\n",
    "gc.collect()\n"
   ]
  },
  {
   "cell_type": "code",
   "execution_count": 134,
   "id": "ffc733ab",
   "metadata": {},
   "outputs": [
    {
     "name": "stdout",
     "output_type": "stream",
     "text": [
      "[Pipeline] ................ (step 1 of 5) Processing qc, total=   2.8s\n",
      "[Pipeline] ........... (step 2 of 5) Processing scaling, total=   1.8s\n"
     ]
    }
   ],
   "source": [
    "CleanPipeFULL = Pipeline([('qc', qc),\n",
    "                          ('scaling', CellDynTransformer),\n",
    "                          ('imputer', imputer_clf),\n",
    "                          ('recombiner', recombiner), \n",
    "                          ('standardisation', StandardScaler())\n",
    "                        ], verbose=True)\n",
    "\n",
    "\n",
    "celldyn_FULL_transformed = CleanPipeFULL.fit_transform(celldyn[meas_columns])\n",
    "celldyn_FULL_transformed_df = pd.DataFrame(data=celldyn_FULL_transformed, \n",
    "                                   index=celldyn.index,\n",
    "                                   columns=CleanPipeFULL.named_steps['recombiner'].out_columns)\n",
    "\n",
    "remainder_cols = [c for c in celldyn.columns if c not in celldyn_FULL_transformed_df.columns]\n",
    "celldyn_FULL_transformed_df = pd.concat([celldyn[meta_cols], celldyn_FULL_transformed_df], axis=1)\n",
    "\n",
    "celldyn_FULL_transformed_df.reset_index().to_feather(\"/media/UMCU/data/CellDyn/celldyn_FULL_transformed_df.feather\")\n",
    "\n",
    "del celldyn_FULL_transformed_df, celldyn_FULL_transformed\n",
    "gc.collect()"
   ]
  },
  {
   "cell_type": "code",
   "execution_count": null,
   "id": "56cc661d",
   "metadata": {},
   "outputs": [],
   "source": [
    "toBePersisted = dict({\n",
    "    'model': CleanPipeMAR,\n",
    "    'meas_cols': meas_columns,\n",
    "    'metadata': {\n",
    "        'name': 'Cleaning pipeline for celldyn data including MAR imputation',\n",
    "        'author': 'Bram van Es, Huibert-Jan Joosse, Chontira',\n",
    "        'date': '2022-11-22',\n",
    "        'source_code_version': '1.0.0',\n",
    "    }\n",
    "})\n",
    "pickle.dump(toBePersisted, open('/media/UMCU/data/CellDyn/CellDynCleanPipeMAR.pickle', 'wb'))"
   ]
  },
  {
   "cell_type": "code",
   "execution_count": null,
   "id": "3994cc90",
   "metadata": {},
   "outputs": [],
   "source": [
    "toBePersisted = dict({\n",
    "    'model': CleanPipeFULL,\n",
    "    'meas_cols': meas_columns,\n",
    "    'metadata': {\n",
    "        'name': 'Cleaning pipeline for celldyn data including imputation',\n",
    "        'author': 'Bram van Es, Huibert-Jan Joosse, Chontira',\n",
    "        'date': '2022-11-22',\n",
    "        'source_code_version': '1.0.0',\n",
    "    }\n",
    "})\n",
    "pickle.dump(toBePersisted, open('/media/UMCU/data/CellDyn/CellDynCleanPipeFULL.pickle', 'wb'))"
   ]
  },
  {
   "cell_type": "code",
   "execution_count": 22,
   "id": "ed8d5d59",
   "metadata": {},
   "outputs": [
    {
     "ename": "ParserError",
     "evalue": "Error tokenizing data. C error: Expected 1 fields in line 7, saw 2\n",
     "output_type": "error",
     "traceback": [
      "\u001b[0;31m---------------------------------------------------------------------------\u001b[0m",
      "\u001b[0;31mParserError\u001b[0m                               Traceback (most recent call last)",
      "\u001b[1;32m/media/koekiemonster/home/bramiozo/DEV/GIT/UPOD/celldyn_embedder/sandbox/prepping_of_celldyn_embeddings.ipynb Cell 16\u001b[0m in \u001b[0;36m<cell line: 8>\u001b[0;34m()\u001b[0m\n\u001b[1;32m      <a href='vscode-notebook-cell:/media/koekiemonster/home/bramiozo/DEV/GIT/UPOD/celldyn_embedder/sandbox/prepping_of_celldyn_embeddings.ipynb#X21sZmlsZQ%3D%3D?line=0'>1</a>\u001b[0m CleanPipeTEST\u001b[39m=\u001b[39m Pipeline([(\u001b[39m'\u001b[39m\u001b[39mqc\u001b[39m\u001b[39m'\u001b[39m, qc),\n\u001b[1;32m      <a href='vscode-notebook-cell:/media/koekiemonster/home/bramiozo/DEV/GIT/UPOD/celldyn_embedder/sandbox/prepping_of_celldyn_embeddings.ipynb#X21sZmlsZQ%3D%3D?line=1'>2</a>\u001b[0m                          (\u001b[39m'\u001b[39m\u001b[39mscaling\u001b[39m\u001b[39m'\u001b[39m, CellDynTransformer),\n\u001b[1;32m      <a href='vscode-notebook-cell:/media/koekiemonster/home/bramiozo/DEV/GIT/UPOD/celldyn_embedder/sandbox/prepping_of_celldyn_embeddings.ipynb#X21sZmlsZQ%3D%3D?line=2'>3</a>\u001b[0m                          (\u001b[39m'\u001b[39m\u001b[39mimputer\u001b[39m\u001b[39m'\u001b[39m, imputer_clf),\n\u001b[1;32m      <a href='vscode-notebook-cell:/media/koekiemonster/home/bramiozo/DEV/GIT/UPOD/celldyn_embedder/sandbox/prepping_of_celldyn_embeddings.ipynb#X21sZmlsZQ%3D%3D?line=3'>4</a>\u001b[0m                          (\u001b[39m'\u001b[39m\u001b[39mrecombiner\u001b[39m\u001b[39m'\u001b[39m, recombiner), \n\u001b[1;32m      <a href='vscode-notebook-cell:/media/koekiemonster/home/bramiozo/DEV/GIT/UPOD/celldyn_embedder/sandbox/prepping_of_celldyn_embeddings.ipynb#X21sZmlsZQ%3D%3D?line=4'>5</a>\u001b[0m                          (\u001b[39m'\u001b[39m\u001b[39mstandardisation\u001b[39m\u001b[39m'\u001b[39m, StandardScaler())\n\u001b[1;32m      <a href='vscode-notebook-cell:/media/koekiemonster/home/bramiozo/DEV/GIT/UPOD/celldyn_embedder/sandbox/prepping_of_celldyn_embeddings.ipynb#X21sZmlsZQ%3D%3D?line=5'>6</a>\u001b[0m                      ], verbose\u001b[39m=\u001b[39m\u001b[39mTrue\u001b[39;00m)\n\u001b[0;32m----> <a href='vscode-notebook-cell:/media/koekiemonster/home/bramiozo/DEV/GIT/UPOD/celldyn_embedder/sandbox/prepping_of_celldyn_embeddings.ipynb#X21sZmlsZQ%3D%3D?line=7'>8</a>\u001b[0m CleanPipeTEST\u001b[39m.\u001b[39;49mfit(celldyn\u001b[39m.\u001b[39;49msample(\u001b[39m1000\u001b[39;49m)[meas_columns]);\n\u001b[1;32m     <a href='vscode-notebook-cell:/media/koekiemonster/home/bramiozo/DEV/GIT/UPOD/celldyn_embedder/sandbox/prepping_of_celldyn_embeddings.ipynb#X21sZmlsZQ%3D%3D?line=9'>10</a>\u001b[0m toBePersisted \u001b[39m=\u001b[39m \u001b[39mdict\u001b[39m({\n\u001b[1;32m     <a href='vscode-notebook-cell:/media/koekiemonster/home/bramiozo/DEV/GIT/UPOD/celldyn_embedder/sandbox/prepping_of_celldyn_embeddings.ipynb#X21sZmlsZQ%3D%3D?line=10'>11</a>\u001b[0m     \u001b[39m'\u001b[39m\u001b[39mmodel\u001b[39m\u001b[39m'\u001b[39m: CleanPipeTEST,\n\u001b[1;32m     <a href='vscode-notebook-cell:/media/koekiemonster/home/bramiozo/DEV/GIT/UPOD/celldyn_embedder/sandbox/prepping_of_celldyn_embeddings.ipynb#X21sZmlsZQ%3D%3D?line=11'>12</a>\u001b[0m     \u001b[39m'\u001b[39m\u001b[39mmeas_cols\u001b[39m\u001b[39m'\u001b[39m: meas_columns,\n\u001b[0;32m   (...)\u001b[0m\n\u001b[1;32m     <a href='vscode-notebook-cell:/media/koekiemonster/home/bramiozo/DEV/GIT/UPOD/celldyn_embedder/sandbox/prepping_of_celldyn_embeddings.ipynb#X21sZmlsZQ%3D%3D?line=17'>18</a>\u001b[0m     }\n\u001b[1;32m     <a href='vscode-notebook-cell:/media/koekiemonster/home/bramiozo/DEV/GIT/UPOD/celldyn_embedder/sandbox/prepping_of_celldyn_embeddings.ipynb#X21sZmlsZQ%3D%3D?line=18'>19</a>\u001b[0m })\n\u001b[1;32m     <a href='vscode-notebook-cell:/media/koekiemonster/home/bramiozo/DEV/GIT/UPOD/celldyn_embedder/sandbox/prepping_of_celldyn_embeddings.ipynb#X21sZmlsZQ%3D%3D?line=19'>20</a>\u001b[0m pickle\u001b[39m.\u001b[39mdump(toBePersisted, \u001b[39mopen\u001b[39m(\u001b[39m'\u001b[39m\u001b[39m/media/koekiemonster/DATA-FAST/tmp/CellDynCleanPipeTEST.pickle\u001b[39m\u001b[39m'\u001b[39m, \u001b[39m'\u001b[39m\u001b[39mwb\u001b[39m\u001b[39m'\u001b[39m))\n",
      "File \u001b[0;32m/media/koekiemonster/home/bramiozo/VIRTUALENVS/embedder_3912/lib/python3.8/site-packages/sklearn/pipeline.py:378\u001b[0m, in \u001b[0;36mPipeline.fit\u001b[0;34m(self, X, y, **fit_params)\u001b[0m\n\u001b[1;32m    352\u001b[0m \u001b[39m\"\"\"Fit the model.\u001b[39;00m\n\u001b[1;32m    353\u001b[0m \n\u001b[1;32m    354\u001b[0m \u001b[39mFit all the transformers one after the other and transform the\u001b[39;00m\n\u001b[0;32m   (...)\u001b[0m\n\u001b[1;32m    375\u001b[0m \u001b[39m    Pipeline with fitted steps.\u001b[39;00m\n\u001b[1;32m    376\u001b[0m \u001b[39m\"\"\"\u001b[39;00m\n\u001b[1;32m    377\u001b[0m fit_params_steps \u001b[39m=\u001b[39m \u001b[39mself\u001b[39m\u001b[39m.\u001b[39m_check_fit_params(\u001b[39m*\u001b[39m\u001b[39m*\u001b[39mfit_params)\n\u001b[0;32m--> 378\u001b[0m Xt \u001b[39m=\u001b[39m \u001b[39mself\u001b[39;49m\u001b[39m.\u001b[39;49m_fit(X, y, \u001b[39m*\u001b[39;49m\u001b[39m*\u001b[39;49mfit_params_steps)\n\u001b[1;32m    379\u001b[0m \u001b[39mwith\u001b[39;00m _print_elapsed_time(\u001b[39m\"\u001b[39m\u001b[39mPipeline\u001b[39m\u001b[39m\"\u001b[39m, \u001b[39mself\u001b[39m\u001b[39m.\u001b[39m_log_message(\u001b[39mlen\u001b[39m(\u001b[39mself\u001b[39m\u001b[39m.\u001b[39msteps) \u001b[39m-\u001b[39m \u001b[39m1\u001b[39m)):\n\u001b[1;32m    380\u001b[0m     \u001b[39mif\u001b[39;00m \u001b[39mself\u001b[39m\u001b[39m.\u001b[39m_final_estimator \u001b[39m!=\u001b[39m \u001b[39m\"\u001b[39m\u001b[39mpassthrough\u001b[39m\u001b[39m\"\u001b[39m:\n",
      "File \u001b[0;32m/media/koekiemonster/home/bramiozo/VIRTUALENVS/embedder_3912/lib/python3.8/site-packages/sklearn/pipeline.py:336\u001b[0m, in \u001b[0;36mPipeline._fit\u001b[0;34m(self, X, y, **fit_params_steps)\u001b[0m\n\u001b[1;32m    334\u001b[0m     cloned_transformer \u001b[39m=\u001b[39m clone(transformer)\n\u001b[1;32m    335\u001b[0m \u001b[39m# Fit or load from cache the current transformer\u001b[39;00m\n\u001b[0;32m--> 336\u001b[0m X, fitted_transformer \u001b[39m=\u001b[39m fit_transform_one_cached(\n\u001b[1;32m    337\u001b[0m     cloned_transformer,\n\u001b[1;32m    338\u001b[0m     X,\n\u001b[1;32m    339\u001b[0m     y,\n\u001b[1;32m    340\u001b[0m     \u001b[39mNone\u001b[39;49;00m,\n\u001b[1;32m    341\u001b[0m     message_clsname\u001b[39m=\u001b[39;49m\u001b[39m\"\u001b[39;49m\u001b[39mPipeline\u001b[39;49m\u001b[39m\"\u001b[39;49m,\n\u001b[1;32m    342\u001b[0m     message\u001b[39m=\u001b[39;49m\u001b[39mself\u001b[39;49m\u001b[39m.\u001b[39;49m_log_message(step_idx),\n\u001b[1;32m    343\u001b[0m     \u001b[39m*\u001b[39;49m\u001b[39m*\u001b[39;49mfit_params_steps[name],\n\u001b[1;32m    344\u001b[0m )\n\u001b[1;32m    345\u001b[0m \u001b[39m# Replace the transformer of the step with the fitted\u001b[39;00m\n\u001b[1;32m    346\u001b[0m \u001b[39m# transformer. This is necessary when loading the transformer\u001b[39;00m\n\u001b[1;32m    347\u001b[0m \u001b[39m# from the cache.\u001b[39;00m\n\u001b[1;32m    348\u001b[0m \u001b[39mself\u001b[39m\u001b[39m.\u001b[39msteps[step_idx] \u001b[39m=\u001b[39m (name, fitted_transformer)\n",
      "File \u001b[0;32m/media/koekiemonster/home/bramiozo/VIRTUALENVS/embedder_3912/lib/python3.8/site-packages/joblib/memory.py:349\u001b[0m, in \u001b[0;36mNotMemorizedFunc.__call__\u001b[0;34m(self, *args, **kwargs)\u001b[0m\n\u001b[1;32m    348\u001b[0m \u001b[39mdef\u001b[39;00m \u001b[39m__call__\u001b[39m(\u001b[39mself\u001b[39m, \u001b[39m*\u001b[39margs, \u001b[39m*\u001b[39m\u001b[39m*\u001b[39mkwargs):\n\u001b[0;32m--> 349\u001b[0m     \u001b[39mreturn\u001b[39;00m \u001b[39mself\u001b[39;49m\u001b[39m.\u001b[39;49mfunc(\u001b[39m*\u001b[39;49margs, \u001b[39m*\u001b[39;49m\u001b[39m*\u001b[39;49mkwargs)\n",
      "File \u001b[0;32m/media/koekiemonster/home/bramiozo/VIRTUALENVS/embedder_3912/lib/python3.8/site-packages/sklearn/pipeline.py:870\u001b[0m, in \u001b[0;36m_fit_transform_one\u001b[0;34m(transformer, X, y, weight, message_clsname, message, **fit_params)\u001b[0m\n\u001b[1;32m    868\u001b[0m \u001b[39mwith\u001b[39;00m _print_elapsed_time(message_clsname, message):\n\u001b[1;32m    869\u001b[0m     \u001b[39mif\u001b[39;00m \u001b[39mhasattr\u001b[39m(transformer, \u001b[39m\"\u001b[39m\u001b[39mfit_transform\u001b[39m\u001b[39m\"\u001b[39m):\n\u001b[0;32m--> 870\u001b[0m         res \u001b[39m=\u001b[39m transformer\u001b[39m.\u001b[39;49mfit_transform(X, y, \u001b[39m*\u001b[39;49m\u001b[39m*\u001b[39;49mfit_params)\n\u001b[1;32m    871\u001b[0m     \u001b[39melse\u001b[39;00m:\n\u001b[1;32m    872\u001b[0m         res \u001b[39m=\u001b[39m transformer\u001b[39m.\u001b[39mfit(X, y, \u001b[39m*\u001b[39m\u001b[39m*\u001b[39mfit_params)\u001b[39m.\u001b[39mtransform(X)\n",
      "File \u001b[0;32m/media/koekiemonster/home/bramiozo/VIRTUALENVS/embedder_3912/lib/python3.8/site-packages/sklearn/base.py:867\u001b[0m, in \u001b[0;36mTransformerMixin.fit_transform\u001b[0;34m(self, X, y, **fit_params)\u001b[0m\n\u001b[1;32m    863\u001b[0m \u001b[39m# non-optimized default implementation; override when a better\u001b[39;00m\n\u001b[1;32m    864\u001b[0m \u001b[39m# method is possible for a given clustering algorithm\u001b[39;00m\n\u001b[1;32m    865\u001b[0m \u001b[39mif\u001b[39;00m y \u001b[39mis\u001b[39;00m \u001b[39mNone\u001b[39;00m:\n\u001b[1;32m    866\u001b[0m     \u001b[39m# fit method of arity 1 (unsupervised transformation)\u001b[39;00m\n\u001b[0;32m--> 867\u001b[0m     \u001b[39mreturn\u001b[39;00m \u001b[39mself\u001b[39;49m\u001b[39m.\u001b[39;49mfit(X, \u001b[39m*\u001b[39;49m\u001b[39m*\u001b[39;49mfit_params)\u001b[39m.\u001b[39;49mtransform(X)\n\u001b[1;32m    868\u001b[0m \u001b[39melse\u001b[39;00m:\n\u001b[1;32m    869\u001b[0m     \u001b[39m# fit method of arity 2 (supervised transformation)\u001b[39;00m\n\u001b[1;32m    870\u001b[0m     \u001b[39mreturn\u001b[39;00m \u001b[39mself\u001b[39m\u001b[39m.\u001b[39mfit(X, y, \u001b[39m*\u001b[39m\u001b[39m*\u001b[39mfit_params)\u001b[39m.\u001b[39mtransform(X)\n",
      "File \u001b[0;32m/media/koekiemonster/home/bramiozo/VIRTUALENVS/embedder_3912/lib/python3.8/site-packages/hembedder/prepping/quality.py:380\u001b[0m, in \u001b[0;36mQcControl.transform\u001b[0;34m(self, X, y)\u001b[0m\n\u001b[1;32m    378\u001b[0m \u001b[39mfor\u001b[39;00m k, filter_fun \u001b[39min\u001b[39;00m \u001b[39mself\u001b[39m\u001b[39m.\u001b[39mfilters\u001b[39m.\u001b[39mitems():\n\u001b[1;32m    379\u001b[0m     logger\u001b[39m.\u001b[39mdebug(\u001b[39mf\u001b[39m\u001b[39m\"\u001b[39m\u001b[39mStart filtering: \u001b[39m\u001b[39m{\u001b[39;00mk\u001b[39m}\u001b[39;00m\u001b[39m\"\u001b[39m)\n\u001b[0;32m--> 380\u001b[0m     _X \u001b[39m=\u001b[39m filter_fun(_X\u001b[39m.\u001b[39;49mcopy())\n\u001b[1;32m    381\u001b[0m     logger\u001b[39m.\u001b[39mdebug(\u001b[39mf\u001b[39m\u001b[39m\"\u001b[39m\u001b[39mCompleted filtering: \u001b[39m\u001b[39m{\u001b[39;00mk\u001b[39m}\u001b[39;00m\u001b[39m\"\u001b[39m)\n\u001b[1;32m    383\u001b[0m \u001b[39mreturn\u001b[39;00m _X\n",
      "File \u001b[0;32m/media/koekiemonster/home/bramiozo/VIRTUALENVS/embedder_3912/lib/python3.8/site-packages/hembedder/prepping/quality.py:304\u001b[0m, in \u001b[0;36mQcControl.qc_plausible_range_filter\u001b[0;34m(self, df)\u001b[0m\n\u001b[1;32m    303\u001b[0m \u001b[39mdef\u001b[39;00m \u001b[39mqc_plausible_range_filter\u001b[39m(\u001b[39mself\u001b[39m, df: pd\u001b[39m.\u001b[39mDataFrame):\n\u001b[0;32m--> 304\u001b[0m     cut_offs \u001b[39m=\u001b[39m pd\u001b[39m.\u001b[39;49mread_csv(\u001b[39mself\u001b[39;49m\u001b[39m.\u001b[39;49mparam_file, sep\u001b[39m=\u001b[39;49m\u001b[39m\"\u001b[39;49m\u001b[39m;\u001b[39;49m\u001b[39m\"\u001b[39;49m, encoding\u001b[39m=\u001b[39;49m\u001b[39m\"\u001b[39;49m\u001b[39mlatin1\u001b[39;49m\u001b[39m\"\u001b[39;49m)\n\u001b[1;32m    305\u001b[0m     col_names \u001b[39m=\u001b[39m cut_offs\u001b[39m.\u001b[39mcolumns\n\u001b[1;32m    306\u001b[0m     cut_offs \u001b[39m=\u001b[39m pd\u001b[39m.\u001b[39mDataFrame(\n\u001b[1;32m    307\u001b[0m         np\u001b[39m.\u001b[39mwhere(cut_offs \u001b[39m==\u001b[39m \u001b[39m\"\u001b[39m\u001b[39m-\u001b[39m\u001b[39m\"\u001b[39m, np\u001b[39m.\u001b[39mnan, cut_offs), columns\u001b[39m=\u001b[39mcol_names\n\u001b[1;32m    308\u001b[0m     )\n",
      "File \u001b[0;32m/media/koekiemonster/home/bramiozo/VIRTUALENVS/embedder_3912/lib/python3.8/site-packages/pandas/util/_decorators.py:311\u001b[0m, in \u001b[0;36mdeprecate_nonkeyword_arguments.<locals>.decorate.<locals>.wrapper\u001b[0;34m(*args, **kwargs)\u001b[0m\n\u001b[1;32m    305\u001b[0m \u001b[39mif\u001b[39;00m \u001b[39mlen\u001b[39m(args) \u001b[39m>\u001b[39m num_allow_args:\n\u001b[1;32m    306\u001b[0m     warnings\u001b[39m.\u001b[39mwarn(\n\u001b[1;32m    307\u001b[0m         msg\u001b[39m.\u001b[39mformat(arguments\u001b[39m=\u001b[39marguments),\n\u001b[1;32m    308\u001b[0m         \u001b[39mFutureWarning\u001b[39;00m,\n\u001b[1;32m    309\u001b[0m         stacklevel\u001b[39m=\u001b[39mstacklevel,\n\u001b[1;32m    310\u001b[0m     )\n\u001b[0;32m--> 311\u001b[0m \u001b[39mreturn\u001b[39;00m func(\u001b[39m*\u001b[39;49margs, \u001b[39m*\u001b[39;49m\u001b[39m*\u001b[39;49mkwargs)\n",
      "File \u001b[0;32m/media/koekiemonster/home/bramiozo/VIRTUALENVS/embedder_3912/lib/python3.8/site-packages/pandas/io/parsers/readers.py:586\u001b[0m, in \u001b[0;36mread_csv\u001b[0;34m(filepath_or_buffer, sep, delimiter, header, names, index_col, usecols, squeeze, prefix, mangle_dupe_cols, dtype, engine, converters, true_values, false_values, skipinitialspace, skiprows, skipfooter, nrows, na_values, keep_default_na, na_filter, verbose, skip_blank_lines, parse_dates, infer_datetime_format, keep_date_col, date_parser, dayfirst, cache_dates, iterator, chunksize, compression, thousands, decimal, lineterminator, quotechar, quoting, doublequote, escapechar, comment, encoding, encoding_errors, dialect, error_bad_lines, warn_bad_lines, on_bad_lines, delim_whitespace, low_memory, memory_map, float_precision, storage_options)\u001b[0m\n\u001b[1;32m    571\u001b[0m kwds_defaults \u001b[39m=\u001b[39m _refine_defaults_read(\n\u001b[1;32m    572\u001b[0m     dialect,\n\u001b[1;32m    573\u001b[0m     delimiter,\n\u001b[0;32m   (...)\u001b[0m\n\u001b[1;32m    582\u001b[0m     defaults\u001b[39m=\u001b[39m{\u001b[39m\"\u001b[39m\u001b[39mdelimiter\u001b[39m\u001b[39m\"\u001b[39m: \u001b[39m\"\u001b[39m\u001b[39m,\u001b[39m\u001b[39m\"\u001b[39m},\n\u001b[1;32m    583\u001b[0m )\n\u001b[1;32m    584\u001b[0m kwds\u001b[39m.\u001b[39mupdate(kwds_defaults)\n\u001b[0;32m--> 586\u001b[0m \u001b[39mreturn\u001b[39;00m _read(filepath_or_buffer, kwds)\n",
      "File \u001b[0;32m/media/koekiemonster/home/bramiozo/VIRTUALENVS/embedder_3912/lib/python3.8/site-packages/pandas/io/parsers/readers.py:488\u001b[0m, in \u001b[0;36m_read\u001b[0;34m(filepath_or_buffer, kwds)\u001b[0m\n\u001b[1;32m    485\u001b[0m     \u001b[39mreturn\u001b[39;00m parser\n\u001b[1;32m    487\u001b[0m \u001b[39mwith\u001b[39;00m parser:\n\u001b[0;32m--> 488\u001b[0m     \u001b[39mreturn\u001b[39;00m parser\u001b[39m.\u001b[39;49mread(nrows)\n",
      "File \u001b[0;32m/media/koekiemonster/home/bramiozo/VIRTUALENVS/embedder_3912/lib/python3.8/site-packages/pandas/io/parsers/readers.py:1047\u001b[0m, in \u001b[0;36mTextFileReader.read\u001b[0;34m(self, nrows)\u001b[0m\n\u001b[1;32m   1045\u001b[0m \u001b[39mdef\u001b[39;00m \u001b[39mread\u001b[39m(\u001b[39mself\u001b[39m, nrows\u001b[39m=\u001b[39m\u001b[39mNone\u001b[39;00m):\n\u001b[1;32m   1046\u001b[0m     nrows \u001b[39m=\u001b[39m validate_integer(\u001b[39m\"\u001b[39m\u001b[39mnrows\u001b[39m\u001b[39m\"\u001b[39m, nrows)\n\u001b[0;32m-> 1047\u001b[0m     index, columns, col_dict \u001b[39m=\u001b[39m \u001b[39mself\u001b[39;49m\u001b[39m.\u001b[39;49m_engine\u001b[39m.\u001b[39;49mread(nrows)\n\u001b[1;32m   1049\u001b[0m     \u001b[39mif\u001b[39;00m index \u001b[39mis\u001b[39;00m \u001b[39mNone\u001b[39;00m:\n\u001b[1;32m   1050\u001b[0m         \u001b[39mif\u001b[39;00m col_dict:\n\u001b[1;32m   1051\u001b[0m             \u001b[39m# Any column is actually fine:\u001b[39;00m\n",
      "File \u001b[0;32m/media/koekiemonster/home/bramiozo/VIRTUALENVS/embedder_3912/lib/python3.8/site-packages/pandas/io/parsers/c_parser_wrapper.py:224\u001b[0m, in \u001b[0;36mCParserWrapper.read\u001b[0;34m(self, nrows)\u001b[0m\n\u001b[1;32m    222\u001b[0m \u001b[39mtry\u001b[39;00m:\n\u001b[1;32m    223\u001b[0m     \u001b[39mif\u001b[39;00m \u001b[39mself\u001b[39m\u001b[39m.\u001b[39mlow_memory:\n\u001b[0;32m--> 224\u001b[0m         chunks \u001b[39m=\u001b[39m \u001b[39mself\u001b[39;49m\u001b[39m.\u001b[39;49m_reader\u001b[39m.\u001b[39;49mread_low_memory(nrows)\n\u001b[1;32m    225\u001b[0m         \u001b[39m# destructive to chunks\u001b[39;00m\n\u001b[1;32m    226\u001b[0m         data \u001b[39m=\u001b[39m _concatenate_chunks(chunks)\n",
      "File \u001b[0;32m/media/koekiemonster/home/bramiozo/VIRTUALENVS/embedder_3912/lib/python3.8/site-packages/pandas/_libs/parsers.pyx:801\u001b[0m, in \u001b[0;36mpandas._libs.parsers.TextReader.read_low_memory\u001b[0;34m()\u001b[0m\n",
      "File \u001b[0;32m/media/koekiemonster/home/bramiozo/VIRTUALENVS/embedder_3912/lib/python3.8/site-packages/pandas/_libs/parsers.pyx:857\u001b[0m, in \u001b[0;36mpandas._libs.parsers.TextReader._read_rows\u001b[0;34m()\u001b[0m\n",
      "File \u001b[0;32m/media/koekiemonster/home/bramiozo/VIRTUALENVS/embedder_3912/lib/python3.8/site-packages/pandas/_libs/parsers.pyx:843\u001b[0m, in \u001b[0;36mpandas._libs.parsers.TextReader._tokenize_rows\u001b[0;34m()\u001b[0m\n",
      "File \u001b[0;32m/media/koekiemonster/home/bramiozo/VIRTUALENVS/embedder_3912/lib/python3.8/site-packages/pandas/_libs/parsers.pyx:1925\u001b[0m, in \u001b[0;36mpandas._libs.parsers.raise_parser_error\u001b[0;34m()\u001b[0m\n",
      "\u001b[0;31mParserError\u001b[0m: Error tokenizing data. C error: Expected 1 fields in line 7, saw 2\n"
     ]
    }
   ],
   "source": [
    "CleanPipeTEST= Pipeline([('qc', qc),\n",
    "                         ('scaling', CellDynTransformer),\n",
    "                         ('imputer', imputer_clf),\n",
    "                         ('recombiner', recombiner), \n",
    "                         ('standardisation', StandardScaler())\n",
    "                     ], verbose=True)\n",
    "\n",
    "CleanPipeTEST.fit(celldyn.sample(1000)[meas_columns]);\n",
    "\n",
    "toBePersisted = dict({\n",
    "    'model': CleanPipeTEST,\n",
    "    'meas_cols': meas_columns,\n",
    "    'metadata': {\n",
    "        'name': 'Cleaning pipeline for celldyn data including imputation',\n",
    "        'author': 'Bram van Es, Huibert-Jan Joosse, Chontira',\n",
    "        'date': '2022-11-22',\n",
    "        'source_code_version': '1.0.0',\n",
    "    }\n",
    "})\n",
    "pickle.dump(toBePersisted, open('/media/UMCU/data/CellDyn/CellDynCleanPipeTEST.pickle', 'wb'))"
   ]
  },
  {
   "cell_type": "code",
   "execution_count": 132,
   "id": "5993c231",
   "metadata": {},
   "outputs": [
    {
     "data": {
      "text/plain": [
       "(50, 99)"
      ]
     },
     "execution_count": 132,
     "metadata": {},
     "output_type": "execute_result"
    }
   ],
   "source": [
    "cleanpipe_test = pickle.load(open('/media/UMCU/data/CellDyn/CellDynCleanPipeTEST.pickle', 'rb'))\n",
    "cleanpipe_test['metadata']\n",
    "cleanpipe_test['model'].transform(celldyn.sample(50)[meas_columns]).shape"
   ]
  }
 ],
 "metadata": {
  "kernelspec": {
   "display_name": "Python 3.8.10 ('embedder_3912')",
   "language": "python",
   "name": "python3"
  },
  "language_info": {
   "codemirror_mode": {
    "name": "ipython",
    "version": 3
   },
   "file_extension": ".py",
   "mimetype": "text/x-python",
   "name": "python",
   "nbconvert_exporter": "python",
   "pygments_lexer": "ipython3",
   "version": "3.8.10"
  },
  "vscode": {
   "interpreter": {
    "hash": "bc82f4d44717c3f14757ff803e712b59ee0f6188bd5f91972d0fede0822bb95e"
   }
  }
 },
 "nbformat": 4,
 "nbformat_minor": 5
}
