{
 "cells": [
  {
   "cell_type": "code",
   "execution_count": 1,
   "metadata": {},
   "outputs": [],
   "source": [
    "using DataFrames, Arrow, UMAP, StatsBase, MLJ"
   ]
  },
  {
   "cell_type": "markdown",
   "metadata": {},
   "source": [
    "### data loading"
   ]
  },
  {
   "cell_type": "code",
   "execution_count": 2,
   "metadata": {},
   "outputs": [],
   "source": [
    "celldyn = DataFrame(Arrow.Table(\"L:/laupodteam/AIOS/Bram/data/CellDyn/celldyn_FULL_transformed_df.feather\"));"
   ]
  },
  {
   "cell_type": "code",
   "execution_count": 3,
   "metadata": {},
   "outputs": [],
   "source": [
    "meas_cols = names(celldyn)[contains.(names(celldyn),r\"c_b_|COMBO\")];\n",
    "suspect_cols = names(celldyn)[contains.(names(celldyn),r\"^(c_)?s_\")];\n",
    "mode_cols = names(celldyn)[contains.(names(celldyn),\"mode\")];\n",
    "alrt_cols = names(celldyn)[contains.(names(celldyn),\"Alrt\")];\n",
    "other_c_cols = names(celldyn)[contains.(names(celldyn),r\"^c_\")];\n",
    "usual_cols = unique(vcat(meas_cols,suspect_cols,mode_cols,alrt_cols,other_c_cols));"
   ]
  },
  {
   "cell_type": "markdown",
   "metadata": {},
   "source": [
    "### select independent variables and age"
   ]
  },
  {
   "cell_type": "code",
   "execution_count": 4,
   "metadata": {},
   "outputs": [],
   "source": [
    "X = celldyn[:,meas_cols]\n",
    "y = celldyn.gender;\n",
    "\n",
    "X = dropmissing(X)\n",
    "y = coerce(collect(skipmissing(y)),autotype(y));\n"
   ]
  },
  {
   "cell_type": "code",
   "execution_count": 5,
   "metadata": {},
   "outputs": [],
   "source": [
    "using Random"
   ]
  },
  {
   "cell_type": "code",
   "execution_count": 17,
   "metadata": {},
   "outputs": [],
   "source": [
    "idx = rand(1:size(X)[1],20000);\n",
    "X_sample = X[idx,:];\n",
    "y_sample = y[idx];\n"
   ]
  },
  {
   "cell_type": "code",
   "execution_count": 18,
   "metadata": {},
   "outputs": [
    {
     "name": "stderr",
     "output_type": "stream",
     "text": [
      "┌ Info: Training machine(UnsupervisedPipeline(f = #3, …), …).\n",
      "└ @ MLJBase C:\\Users\\hjoosse3\\.julia\\packages\\MLJBase\\6ooqv\\src\\machines.jl:496\n",
      "┌ Info: Training machine(Standardizer(features = Symbol[], …), …).\n",
      "└ @ MLJBase C:\\Users\\hjoosse3\\.julia\\packages\\MLJBase\\6ooqv\\src\\machines.jl:496\n"
     ]
    },
    {
     "data": {
      "text/plain": [
       "trained Machine; caches model-specific representations of data\n",
       "  model: UnsupervisedPipeline(f = #3, …)\n",
       "  args: \n",
       "    1:\tSource @750 ⏎ Table{AbstractVector{Continuous}}\n"
      ]
     },
     "execution_count": 18,
     "metadata": {},
     "output_type": "execute_result"
    }
   ],
   "source": [
    "pipe = (X -> coerce(X, autotype(X))) |> Standardizer()\n",
    "pipe_mach = machine(pipe,X_sample)\n",
    "fit!(pipe_mach)"
   ]
  },
  {
   "cell_type": "code",
   "execution_count": 56,
   "metadata": {},
   "outputs": [],
   "source": [
    "using Distances"
   ]
  },
  {
   "cell_type": "code",
   "execution_count": 70,
   "metadata": {},
   "outputs": [
    {
     "data": {
      "text/plain": [
       "6×20000 Matrix{Float64}:\n",
       " -2.17979    -1.92809   -1.00595   …  -1.59084    -1.50595    -2.09578\n",
       " -1.73072    -2.97287    2.03381      -0.398578   -1.3174     -2.17657\n",
       "  1.17996     2.90354   -0.696916      0.0568828   0.0960614   0.697902\n",
       "  1.06055     0.945624   0.344112      0.711543    0.786759    1.00545\n",
       "  0.0580881  -0.722419  -0.121642     -0.0778758   1.51413     0.590818\n",
       " -4.5099     -3.84674   -2.43788   …  -3.91734    -3.47689    -3.83299"
      ]
     },
     "execution_count": 70,
     "metadata": {},
     "output_type": "execute_result"
    }
   ],
   "source": [
    "X_scaled = MLJ.transform(pipe_mach, X_sample);\n",
    "X_emb = umap(transpose(Matrix(X_scaled)),6;n_neighbors=15,min_dist = 0.1,metric = Cityblock())"
   ]
  },
  {
   "cell_type": "code",
   "execution_count": 71,
   "metadata": {},
   "outputs": [
    {
     "name": "stderr",
     "output_type": "stream",
     "text": [
      "┌ Info: For silent loading, specify `verbosity=0`. \n",
      "└ @ Main C:\\Users\\hjoosse3\\.julia\\packages\\MLJModels\\K5pPR\\src\\loading.jl:159\n"
     ]
    },
    {
     "ename": "LoadError",
     "evalue": "ArgumentError: There is no model named \"UMAP\" in the registry. \n Run `models()` to view all registered models, or `models(needle)` to restrict search to models with string `needle` in their name or documentation. ",
     "output_type": "error",
     "traceback": [
      "ArgumentError: There is no model named \"UMAP\" in the registry. \n Run `models()` to view all registered models, or `models(needle)` to restrict search to models with string `needle` in their name or documentation. ",
      "",
      "Stacktrace:",
      " [1] handle(name::String; pkg::String, interactive::Bool)",
      "   @ MLJModels C:\\Users\\hjoosse3\\.julia\\packages\\MLJModels\\K5pPR\\src\\model_search.jl:98",
      " [2] info(name::String; kwargs::Base.Pairs{Symbol, Any, Tuple{Symbol, Symbol}, NamedTuple{(:pkg, :interactive), Tuple{String, Bool}}})",
      "   @ MLJModels C:\\Users\\hjoosse3\\.julia\\packages\\MLJModels\\K5pPR\\src\\model_search.jl:154",
      " [3] top-level scope",
      "   @ C:\\Users\\hjoosse3\\.julia\\packages\\MLJModels\\K5pPR\\src\\loading.jl:160",
      " [4] eval",
      "   @ .\\boot.jl:368 [inlined]",
      " [5] include_string(mapexpr::typeof(REPL.softscope), mod::Module, code::String, filename::String)",
      "   @ Base .\\loading.jl:1428"
     ]
    }
   ],
   "source": [
    "X_scaled = MLJ.transform(pipe_mach, X_sample);\n",
    "\n",
    "PCA = @load UMAP pkg=\"MultivariateStats\"\n",
    "pca = machine(PCA(maxoutdim = 6),X_scaled)\n",
    "\n",
    "fit!(pca)\n",
    "\n",
    "X_emb = MLJ.transform(pca,X_scaled);"
   ]
  },
  {
   "cell_type": "code",
   "execution_count": 9,
   "metadata": {},
   "outputs": [
    {
     "data": {
      "text/plain": [
       "Plots.PyPlotBackend()"
      ]
     },
     "execution_count": 9,
     "metadata": {},
     "output_type": "execute_result"
    }
   ],
   "source": [
    "using Plots\n",
    "pyplot()"
   ]
  },
  {
   "cell_type": "code",
   "execution_count": 86,
   "metadata": {},
   "outputs": [
    {
     "data": {
      "text/plain": [
       "20000-element CategoricalArray{Union{Missing, String},1,UInt32}:\n",
       " \"Q3: [20.0, 33.0)\"\n",
       " \"Q4: [33.0, 43.0)\"\n",
       " \"Q2: [5.0, 20.0)\"\n",
       " \"Q6: [51.0, 57.0)\"\n",
       " \"Q7: [57.0, 63.0)\"\n",
       " \"Q9: [68.0, 75.0)\"\n",
       " \"Q10: [75.0, 99.0]\"\n",
       " \"Q1: [0.0, 5.0)\"\n",
       " \"Q3: [20.0, 33.0)\"\n",
       " \"Q8: [63.0, 68.0)\"\n",
       " \"Q6: [51.0, 57.0)\"\n",
       " \"Q4: [33.0, 43.0)\"\n",
       " \"Q2: [5.0, 20.0)\"\n",
       " ⋮\n",
       " \"Q7: [57.0, 63.0)\"\n",
       " \"Q2: [5.0, 20.0)\"\n",
       " \"Q5: [43.0, 51.0)\"\n",
       " \"Q10: [75.0, 99.0]\"\n",
       " \"Q7: [57.0, 63.0)\"\n",
       " \"Q4: [33.0, 43.0)\"\n",
       " \"Q3: [20.0, 33.0)\"\n",
       " \"Q7: [57.0, 63.0)\"\n",
       " \"Q10: [75.0, 99.0]\"\n",
       " \"Q7: [57.0, 63.0)\"\n",
       " \"Q9: [68.0, 75.0)\"\n",
       " \"Q4: [33.0, 43.0)\""
      ]
     },
     "execution_count": 86,
     "metadata": {},
     "output_type": "execute_result"
    }
   ],
   "source": [
    "using CategoricalArrays\n",
    "cut(celldyn[idx,\"age\"],10)"
   ]
  },
  {
   "cell_type": "markdown",
   "metadata": {},
   "source": [
    "### Transform independent variables to normality"
   ]
  },
  {
   "cell_type": "code",
   "execution_count": 115,
   "metadata": {},
   "outputs": [],
   "source": [
    "LR = (@load LogisticClassifier pkg=MLJLinearModels verbosity=0)\n",
    "lr = LR()\n",
    "XGB = (@load XGBoostClassifier pkg=XGBoost verbosity = 0)\n",
    "xgb = XGB();\n"
   ]
  },
  {
   "cell_type": "code",
   "execution_count": 139,
   "metadata": {},
   "outputs": [],
   "source": [
    "X = dropmissing(X)\n",
    "y = [x == \"M\" ? \"M\" : \"F\" for x in y];\n",
    "y = coerce(collect(skipmissing(y)),autotype(y));\n"
   ]
  },
  {
   "cell_type": "code",
   "execution_count": 140,
   "metadata": {},
   "outputs": [
    {
     "data": {
      "text/plain": [
       "ProbabilisticPipeline(\n",
       "  f = var\"#17#18\"(), \n",
       "  standardizer = Standardizer(\n",
       "        features = Symbol[], \n",
       "        ignore = false, \n",
       "        ordered_factor = false, \n",
       "        count = false), \n",
       "  logistic_classifier = LogisticClassifier(\n",
       "        lambda = 1.0, \n",
       "        gamma = 0.0, \n",
       "        penalty = :l2, \n",
       "        fit_intercept = true, \n",
       "        penalize_intercept = false, \n",
       "        scale_penalty_with_samples = true, \n",
       "        solver = nothing), \n",
       "  cache = true)"
      ]
     },
     "execution_count": 140,
     "metadata": {},
     "output_type": "execute_result"
    }
   ],
   "source": [
    "pipe = (X -> coerce(X, autotype(X))) |> Standardizer() |> lr"
   ]
  },
  {
   "cell_type": "code",
   "execution_count": 141,
   "metadata": {},
   "outputs": [
    {
     "data": {
      "text/plain": [
       "untrained Machine; does not cache data\n",
       "  model: ProbabilisticTunedModel(model = ProbabilisticPipeline(f = #17, …), …)\n",
       "  args: \n",
       "    1:\tSource @498 ⏎ Table{AbstractVector{Continuous}}\n",
       "    2:\tSource @691 ⏎ AbstractVector{Multiclass{2}}\n"
      ]
     },
     "execution_count": 141,
     "metadata": {},
     "output_type": "execute_result"
    }
   ],
   "source": [
    "range_lr = range(pipe,:(logistic_classifier.lambda);lower =0.001, upper = 10, scale = :log10)\n",
    "tm_lr = TunedModel(\n",
    "    model = pipe,\n",
    "    range = range_lr,\n",
    "    resampling = CV(nfolds = 10),\n",
    "    measures=[Accuracy(),AUC()]\n",
    ")\n",
    "m = machine(tm_lr,X,y)"
   ]
  },
  {
   "cell_type": "code",
   "execution_count": 142,
   "metadata": {},
   "outputs": [],
   "source": [
    "e = evaluate!(m,resampling = CV(nfolds = 5),measures = [Accuracy(),AUC()])"
   ]
  }
 ],
 "metadata": {
  "kernelspec": {
   "display_name": "Julia 1.8.0",
   "language": "julia",
   "name": "julia-1.8"
  },
  "language_info": {
   "file_extension": ".jl",
   "mimetype": "application/julia",
   "name": "julia",
   "version": "1.8.0"
  },
  "orig_nbformat": 4
 },
 "nbformat": 4,
 "nbformat_minor": 2
}
