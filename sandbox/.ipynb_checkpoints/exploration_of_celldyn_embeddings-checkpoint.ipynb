{
 "cells": [
  {
   "cell_type": "code",
   "execution_count": null,
   "id": "cd575d38",
   "metadata": {},
   "outputs": [],
   "source": [
    "import pandas as pd\n",
    "import numpy as np\n",
    "import scipy as sc\n",
    "import matplotlib.pyplot as plt\n",
    "import seaborn as sns\n",
    "import umap\n",
    "\n",
    "from sklearn.preprocessing import FunctionTransformer, StandardScaler\n",
    "from sklearn.compose import ColumnTransformer\n",
    "from sklearn.pipeline import Pipeline\n",
    "import os\n",
    "import gc"
   ]
  },
  {
   "cell_type": "code",
   "execution_count": null,
   "id": "9fd941e4",
   "metadata": {},
   "outputs": [],
   "source": [
    "os.chdir(\"Z:/lab_research/RES-Folder-UPOD/Celldynclustering\")"
   ]
  },
  {
   "cell_type": "code",
   "execution_count": null,
   "id": "bc4f995f",
   "metadata": {},
   "outputs": [],
   "source": [
    "celldyn = pd.read_sas(\"E_ResearchData/2_ResearchData/celldyn.sas7bdat\")"
   ]
  },
  {
   "cell_type": "code",
   "execution_count": null,
   "id": "248c9014",
   "metadata": {},
   "outputs": [],
   "source": [
    "meas_columns = [c for c in celldyn.columns if 'c_b' in c]\n",
    "mode_columns = [c for c in celldyn.columns if 'c_m' in c]\n",
    "celldyn = celldyn[meas_columns+mode_columns]\n",
    "celldyn_full = celldyn[celldyn[meas_columns].isna().sum(axis=1)==0] # c_mode_cbc & c_mode_rtc are flagged"
   ]
  },
  {
   "cell_type": "markdown",
   "id": "8630e7e9",
   "metadata": {},
   "source": [
    "## Full case"
   ]
  },
  {
   "cell_type": "markdown",
   "id": "2cf8fc28",
   "metadata": {},
   "source": [
    "## No scaling, No feature selection, No feature recombinations"
   ]
  },
  {
   "cell_type": "code",
   "execution_count": null,
   "id": "73140f44",
   "metadata": {},
   "outputs": [],
   "source": [
    "sample_df  = celldyn_full.sample(100000)\n",
    "reduce_dim = 6\n",
    "embedder_full = umap.UMAP(n_components=reduce_dim, n_neighbors=51)\n",
    "embedder_full.fit(sample_df[meas_columns])\n",
    "\n",
    "plot_df = pd.DataFrame(data=embedder_full.embedding_, columns=['d_0', 'd_1', 'd_2',\n",
    "                                                               'd_3', 'd_4', 'd_5'], index=sample_df.index)\n",
    "plot_df = plot_df.join(sample_df[mode_columns])\n",
    "\n",
    "reduce_dim = min([6, reduce_dim])\n",
    "num_rows = int(np.ceil((reduce_dim)**2/3))\n",
    "fig, ax = plt.subplots(ncols=3, nrows=num_rows, figsize=(18, 5*num_rows))\n",
    "k = 0\n",
    "for ki in range(reduce_dim):\n",
    "    for kj in range(reduce_dim): \n",
    "        i = int(k/3)\n",
    "        j = k%3\n",
    "        if num_rows > 1:\n",
    "            sns.scatterplot(data=plot_df.sample(2500), x='d_'+str(ki), y='d_'+str(kj), ax=ax[i,j], \n",
    "                            hue='c_mode_xLyse', alpha=0.5)\n",
    "        else:\n",
    "            sns.scatterplot(data=plot_df.sample(2500), x='d_'+str(ki), y='d_'+str(kj), ax=ax[k], \n",
    "                            hue='c_mode_xLyse', alpha=0.5)\n",
    "        k += 1"
   ]
  },
  {
   "cell_type": "code",
   "execution_count": null,
   "id": "66bf782c",
   "metadata": {},
   "outputs": [],
   "source": [
    "gc.collect()"
   ]
  },
  {
   "cell_type": "markdown",
   "id": "dc7e70fe",
   "metadata": {},
   "source": [
    "## With scaling, With manual feature selection, No feature recombinations"
   ]
  },
  {
   "cell_type": "code",
   "execution_count": 669,
   "id": "d0f9b607",
   "metadata": {},
   "outputs": [],
   "source": [
    "sample_df  = celldyn_full.sample(1000000)"
   ]
  },
  {
   "cell_type": "code",
   "execution_count": 670,
   "id": "8f13d446",
   "metadata": {},
   "outputs": [
    {
     "data": {
      "text/plain": [
       "(1427.13, 1.65561, 76.51446060000994, 'c_b_lyme')"
      ]
     },
     "execution_count": 670,
     "metadata": {},
     "output_type": "execute_result"
    }
   ],
   "source": [
    "num = 7\n",
    "sample_df.iloc[:, num].max(), sample_df.iloc[:, num].median(), sample_df.iloc[:, num].quantile(0.999), sample_df.columns[num]"
   ]
  },
  {
   "cell_type": "code",
   "execution_count": 671,
   "id": "ca451be0",
   "metadata": {},
   "outputs": [],
   "source": [
    "def sigmoid(x):\n",
    "    #return np.tanh(x)\n",
    "    return 1/(1+np.exp(-x))\n",
    "\n",
    "def sigmoid_log(x):\n",
    "    return sigmoid(np.log(x))"
   ]
  },
  {
   "cell_type": "code",
   "execution_count": 672,
   "id": "ab59335a",
   "metadata": {},
   "outputs": [],
   "source": [
    "# c_b_wvf: consider dropping -> np.maximum(0.90,(np.minimum(1, v)))\n",
    "# c_b_bnd: consider dropping -> sigmoid_log(v)\n",
    "# c_b_ig: consider dropping -> sigmoid_log(v)\n",
    "# c_b_vlym: consider dropping -> sigmoid_log(v)\n",
    "# c_b_blst: consider dropping -> sigmoid_log(v)\n",
    "# c_b_nrbc: consider dropping -> sigmoid_log(v)\n",
    "# c_b_pbnd: consider dropping -> sigmoid_log(v)\n",
    "# c_b_pig: consider dropping -> sigmoid_log(v)\n",
    "# c_b_pvlym: consider dropping -> sigmoid_log(v)\n",
    "# c_b_pnrbc: consider dropping -> sigmoid_log(v)\n",
    "# c_b_pblst: consider dropping -> sigmoid_log(v)\n",
    "\n",
    "# c_b_wbc: np.maximum(0.,(np.minimum(40,..\n",
    "# c_b_neu: np.maximum(0.,(np.minimum(30,..\n",
    "# c_b_seg: np.minimum(40, celldyn['c_b_seg'])\n",
    "# c_b_lym: np.minimum(10, celldyn['c_b_lym'])\n",
    "# c_b_lyme: np.minimum(10, celldyn['c_b_lyme'])\n",
    "\n",
    "# c_b_mon: np.minimum(5, celldyn['c_b_mon'])\n",
    "# c_b_mone: np.minimum(5, celldyn['c_b_mone'])\n",
    "# c_b_eos: np.minimum(5, celldyn['c_b_eos'])\n",
    "# c_b_bas: np.minimum(0.25, celldyn['c_b_bas'])\n",
    "# c_b_pmon: np.minimum(40, celldyn['c_b_pmon'])\n",
    "# c_b_pmone: np.minimum(40, celldyn['c_b_pmone'])\n",
    "# c_b_peos: np.minimum(15, celldyn['c_b_peos'])\n",
    "# c_b_pbas: np.minimum(2, celldyn['c_b_pbas'])\n",
    "# c_b_rdw: np.minimum(30, celldyn['c_b_rdw'])\n",
    "# c_b_pMIC: np.minimum(13, celldyn['c_b_pMIC'])\n",
    "# c_b_pMAC: np.minimum(25, celldyn['c_b_pMAC'])\n",
    "# c_b_mch_Usa: np.minimum(50, celldyn['c_b_mch_Usa'])\n",
    "# c_b_mchc_usa: np.minimum(50, celldyn['c_b_mchc_usa'])\n",
    "# c_b_ht: np.minimum(60, celldyn['c_b_ht'])\n",
    "# c_b_plto: np.minimum(800, celldyn['c_b_plto'])\n",
    "# c_b_plti: np.minimum(800, celldyn['c_b_plti'])\n",
    "# c_b_mpv: np.minimum(15, celldyn['c_b_mpv'])\n",
    "# c_b_pct: np.minimum(0.7, celldyn['c_b_pct'])\n",
    "\n",
    "# c_b_pdw: np.maximum(12,(np.minimum(20..\n",
    "# c_b_retc: np.maximum(0,(np.minimum(300..\n",
    "# c_b_pretc: np.maximum(0,(np.minimum(8..\n",
    "# c_b_irf: np.maximum(0,(np.minimum(0.8..\n",
    "# c_b_pHPO: np.maximum(0,(np.minimum(40..\n",
    "# c_b_pHPR: np.maximum(0,(np.minimum(1..\n",
    "# c_b_HDW: np.maximum(4,(np.minimum(15..\n",
    "# c_b_MCVr: np.maximum(60,(np.minimum(140..\n",
    "# c_b_MCHr: np.maximum(15,(np.minimum(40..\n",
    "# c_b_MCHCr: np.maximum(22,(np.minimum(36..\n",
    "# c_b_prP: np.maximum(0,(np.minimum(15..\n",
    "# c_b_namn: np.maximum(120,(np.minimum(200,..\n",
    "# c_b_nacv: np.maximum(0,(np.minimum(5,..\n",
    "# c_b_nimn: np.maximum(100,(np.minimum(170,..\n",
    "# c_b_nicv: np.maximum(0,(np.minimum(7,..\n",
    "# c_b_npmn: np.maximum(50,(np.minimum(175,..\n",
    "# c_b_npcv: np.maximum(0,(np.minimum(16,..\n",
    "# c_b_ndmn: np.maximum(5,(np.minimum(45,..\n",
    "# c_b_nfmn: np.maximum(60,(np.minimum(100,..\n",
    "# c_b_nfcv: np.maximum(v001,(np.minimum(v999,..\n",
    "# c_b_Lamn: np.maximum(v001,(np.minimum(v999,..\n",
    "# c_b_Lacv: np.maximum(v001,(np.minimum(v999,...\n",
    "# c_b_Limn: np.maximum(v001,(np.minimum(v999,...\n",
    "# c_b_Licv: np.maximum(0,(np.minimum(10,..\n",
    "# c_b_Pimn: np.maximum(v001,(np.minimum(v999,..\n",
    "# c_b_Picv: np.maximum(12,(np.minimum(24,..\n",
    "# c_b_Ppmn: np.maximum(105,(np.minimum(140,..\n",
    "# c_b_Ppcv: np.maximum(10,(np.minimum(25,..\n",
    "# c_b_rbcimn: np.maximum(v001,(np.minimum(v999,..\n",
    "# c_b_rbcicv: np.maximum(v001,(np.minimum(v999,..\n",
    "# c_b_rbcfmn: np.maximum(v001,(np.minimum(v999,..\n",
    "# c_b_rbcfcv: np.maximum(5,(np.minimum(23,..\n",
    "# c_b_rtcfmn: np.maximum(v001,(np.minimum(v999,..\n",
    "# c_b_rtcfcv: np.maximum(v001,(np.minimum(v999,..\n",
    "# c_b_hb: np.maximum(v001,(np.minimum(v999,..\n",
    "# c_b_mch: np.maximum(v001,(np.minimum(v999,..\n",
    "# c_b_mchc: np.maximum(0.17,(np.minimum(0.25,..\n",
    "\n",
    "# c_b_pneu: fine as is?\n",
    "# c_b_pseg: fine as is?\n",
    "# c_b_plym: fine as is?\n",
    "# c_b_plyme: fine as is?\n",
    "# c_b_rbci: fine as is?\n",
    "# c_b_rbco: fine as is?\n",
    "# c_b_hgb_usa: fine as is?\n",
    "# c_b_mcv: fine as is?\n",
    "\n",
    "droplist = ['c_b_wvf', 'c_b_bnd', 'c_b_ig', 'c_b_vlym', 'c_b_blst', 'c_b_pblst',\n",
    "            'c_b_nrbc', 'c_b_pbnd', 'c_b_pig', 'c_b_pvlym', 'c_b_pnrbc']\n",
    "sl_list = ['c_b_bnd', 'c_b_ig', 'c_b_vlym', 'c_b_blst', 'c_b_pblst',\n",
    "            'c_b_nrbc', 'c_b_pbnd', 'c_b_pig', 'c_b_pvlym', 'c_b_pnrbc']\n",
    "\n",
    "final_columns = list(set(meas_columns)-set(droplist))\n",
    "\n",
    "q_scaler = FunctionTransformer(func=lambda x: np.maximum(np.quantile(x,0.001), np.minimum(np.quantile(x, 0.999), x)))\n",
    "sl_scaler = FunctionTransformer(func=sigmoid_log)\n",
    "wvf_scaler = FunctionTransformer(func=lambda x: np.maximum(0.90,(np.minimum(1, x))))\n",
    "\n",
    "transformer_list = [('wvf_scaler', wvf_scaler, ['c_b_wvf']),\n",
    "                    ('q_scaler', q_scaler, final_columns),\n",
    "                    ('sl_scaler', sl_scaler, sl_list)]\n",
    "\n",
    "pre_transformer = ColumnTransformer(transformer_list, remainder='drop')"
   ]
  },
  {
   "cell_type": "code",
   "execution_count": null,
   "id": "bc337be8",
   "metadata": {},
   "outputs": [],
   "source": [
    "reduce_dim = 3\n",
    "embedder_full = umap.UMAP(n_components=reduce_dim, n_neighbors=51)\n",
    "le_pipe = Pipeline([('scaler_1', pre_transformer),                    \n",
    "                    ('scaler_2', StandardScaler()),\n",
    "                    ('embedder', embedder_full)])\n",
    "\n",
    "le_pipe.fit(sample_df[meas_columns]) # final_columns"
   ]
  },
  {
   "cell_type": "code",
   "execution_count": null,
   "id": "0dbe0044",
   "metadata": {},
   "outputs": [],
   "source": [
    "color_col = 'c_mode_xLyse'"
   ]
  },
  {
   "cell_type": "code",
   "execution_count": null,
   "id": "bfbc1b42",
   "metadata": {},
   "outputs": [],
   "source": [
    "plot_df = pd.DataFrame(data=le_pipe.named_steps['embedder'].embedding_,\n",
    "                       columns=['d_'+str(i) for i in range(reduce_dim)], \n",
    "                       index=sample_df.index)\n",
    "plot_df = plot_df.join(sample_df[mode_columns+droplist])\n",
    "\n",
    "reduce_dim = min([6, reduce_dim])\n",
    "num_rows = int(np.ceil((reduce_dim)**2/3))\n",
    "fig, ax = plt.subplots(ncols=3, nrows=num_rows, figsize=(18, 5*num_rows))\n",
    "k = 0\n",
    "for ki in range(reduce_dim):\n",
    "    for kj in range(reduce_dim): \n",
    "        i = int(k/3)\n",
    "        j = k%3\n",
    "        if num_rows > 1:\n",
    "            sns.scatterplot(data=plot_df.sample(2500), x='d_'+str(ki), y='d_'+str(kj), ax=ax[i,j], \n",
    "                            hue=color_col, alpha=0.5)\n",
    "        else:\n",
    "            sns.scatterplot(data=plot_df.sample(2500), x='d_'+str(ki), y='d_'+str(kj), ax=ax[k], \n",
    "                            hue=color_col, alpha=0.5)\n",
    "        k += 1"
   ]
  },
  {
   "cell_type": "markdown",
   "id": "e8226689",
   "metadata": {},
   "source": [
    "# Imputed"
   ]
  },
  {
   "cell_type": "code",
   "execution_count": 668,
   "id": "46783e04",
   "metadata": {},
   "outputs": [],
   "source": [
    "# QuantileTransform -> impute -> inverse transform"
   ]
  }
 ],
 "metadata": {
  "kernelspec": {
   "display_name": "base",
   "language": "python",
   "name": "base"
  },
  "language_info": {
   "codemirror_mode": {
    "name": "ipython",
    "version": 3
   },
   "file_extension": ".py",
   "mimetype": "text/x-python",
   "name": "python",
   "nbconvert_exporter": "python",
   "pygments_lexer": "ipython3",
   "version": "3.8.10"
  }
 },
 "nbformat": 4,
 "nbformat_minor": 5
}
